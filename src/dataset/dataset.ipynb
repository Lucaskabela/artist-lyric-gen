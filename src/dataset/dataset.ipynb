{
 "cells": [
  {
   "cell_type": "markdown",
   "metadata": {},
   "source": [
    "# Inits"
   ]
  },
  {
   "cell_type": "markdown",
   "metadata": {},
   "source": [
    "## imports"
   ]
  },
  {
   "cell_type": "code",
   "execution_count": 1,
   "metadata": {
    "collapsed": true
   },
   "outputs": [],
   "source": [
    "import json\n",
    "import pprint\n",
    "from matplotlib import pyplot\n",
    "import pandas as pd\n",
    "import numpy as np"
   ]
  },
  {
   "cell_type": "markdown",
   "metadata": {},
   "source": [
    "## Vars"
   ]
  },
  {
   "cell_type": "code",
   "execution_count": 2,
   "metadata": {
    "collapsed": true
   },
   "outputs": [],
   "source": [
    "pp = pprint.PrettyPrinter(indent=2)"
   ]
  },
  {
   "cell_type": "markdown",
   "metadata": {},
   "source": [
    "# Getting songs from artists list"
   ]
  },
  {
   "cell_type": "code",
   "execution_count": 1,
   "metadata": {
    "collapsed": true
   },
   "outputs": [],
   "source": [
    "from get_songs import get_songs"
   ]
  },
  {
   "cell_type": "code",
   "execution_count": 2,
   "metadata": {},
   "outputs": [
    {
     "name": "stderr",
     "output_type": "stream",
     "text": [
      "\r",
      "  0%|          | 0/1 [00:00<?, ?it/s]"
     ]
    },
    {
     "name": "stdout",
     "output_type": "stream",
     "text": [
      "\n",
      " Getting lyrics for all artists in get_artists.csv\n",
      "Searching for songs by Method Man...\n",
      "\n",
      "\"All I Need (Remix)\" is not valid. Skipping.\n",
      "Song 1: \"Bring the Pain\"\n",
      "Song 2: \"All I Need\"\n",
      "\"Built for This (Remix)\" is not valid. Skipping.\n",
      "\"Gonna Love Me (Remix)\" is not valid. Skipping.\n",
      "\"Killer Tape Skit\" is not valid. Skipping.\n",
      "Song 3: \"What’s Happenin’\"\n",
      "\"Back In The Game (Phoniks Remix)\" is not valid. Skipping.\n",
      "Song 4: \"Built for This\"\n",
      "\"Runaway Love (Remix)\" is not valid. Skipping.\n",
      "Song 5: \"Release Yo’ Delf\"\n",
      "Song 6: \"Tical\"\n",
      "Song 7: \"What the Blood Clot!?!\"\n",
      "Song 8: \"I’ll Be There For You/You’re All I Need To Get By (Razor Sharp Mix)\"\n",
      "Song 9: \"P.L.O. Style\"\n",
      "Song 10: \"Meth Vs. Chef\"\n",
      "\"Simon Says (Remix)\" is not valid. Skipping.\n",
      "Song 11: \"Break Ups 2 Make Ups\"\n",
      "Song 12: \"Say\"\n",
      "Song 13: \"Straight Gutta\"\n",
      "Song 14: \"If Time Is Money (Fly Navigation)\"\n",
      "Song 15: \"Mr. Sandman\"\n",
      "\"Anything (Old Skool Radio Version)\" is not valid. Skipping.\n",
      "Song 16: \"Built For This (2018 Mix)\"\n",
      "Song 17: \"Biscuits\"\n",
      "\"Method Man & Black Thought Sway In The Morning Freestyle\" is not valid. Skipping.\n",
      "Song 18: \"Judgement Day\"\n",
      "Song 19: \"Got to Have It\"\n",
      "Song 20: \"Sweet Love\"\n",
      "Song 21: \"G’d Up\"\n",
      "\"Round & Round (Remix)\" is not valid. Skipping.\n",
      "Song 22: \"Uh Huh\"\n",
      "Song 23: \"The Purple Tape\"\n",
      "Song 24: \"Dirty Mef\"\n",
      "\"Method Man (Remix)\" is not valid. Skipping.\n",
      "Song 25: \"The Meth Lab\"\n",
      "Song 26: \"We Some Dogs\"\n",
      "Song 27: \"Sub Crazy\"\n",
      "Song 28: \"The Rock’s Theme - ‘Know Your Role’\"\n",
      "\"U Remind Me (Remix)\" is not valid. Skipping.\n",
      "Song 29: \"I Get My Thang in Action\"\n",
      "\"I’ll Be There For You/You’re All I Need To Get By (Puffy Daddy Remix)\" is not valid. Skipping.\n",
      "Song 30: \"Hood Go Bang!\"\n",
      "\"Tim Westwood freestyle\" is not valid. Skipping.\n",
      "Song 31: \"Is It Me\"\n",
      "Song 32: \"4:20\"\n",
      "\"How High (Remix)\" is not valid. Skipping.\n",
      "Song 33: \"Yonkers\"\n",
      "\"Intro (Shaolin Finger Jab)/Chamber Music\" is not valid. Skipping.\n",
      "Song 34: \"All I Need (Razor Sharp Mix)\"\n",
      "Song 35: \"Eastside\"\n",
      "Song 36: \"Cradle Rock\"\n",
      "Song 37: \"Stimulation\"\n",
      "Song 38: \"The Riddler\"\n",
      "Song 39: \"Presidential M.C.\"\n",
      "Song 40: \"Perfect World\"\n",
      "Song 41: \"Step By Step\"\n",
      "Song 42: \"Grand Prix\"\n",
      "Song 43: \"Take The Heat\"\n",
      "Song 44: \"Baby Come On\"\n",
      "Song 45: \"Torture\"\n",
      "Song 46: \"The Motto\"\n",
      "Song 47: \"Dangerous Grounds\"\n",
      "\"A Special Joint (Intro)\" is not valid. Skipping.\n",
      "\"Evil Streets (Remix)\" is not valid. Skipping.\n",
      "Song 48: \"Talk Dirty\"\n",
      "\"Smooth Sailing (Remix)\" is not valid. Skipping.\n",
      "Song 49: \"They Say\"\n",
      "\"Na Na Na Na (Remix)\" is not valid. Skipping.\n",
      "\"N 2 Gether Now - All in Together Now (The Neptunes Remix)\" is not valid. Skipping.\n",
      "\"Bad Name (Remix)\" is not valid. Skipping.\n",
      "Song 50: \"The Show\"\n",
      "Song 51: \"Wild Cats\"\n",
      "Song 52: \"Even If\"\n",
      "Song 53: \"2 Minutes of Your Time\"\n",
      "Song 54: \"Spazzola\"\n",
      "Song 55: \"Konichiwa Bitches\"\n",
      "Song 56: \"Intelligent Meth\"\n",
      "\"Never Before Seen: LL Cool J, Method Man, Redman, & DMX Raw and Uncut Interview\" is not valid. Skipping.\n",
      "Song 57: \"Killing the Game\"\n",
      "Song 58: \"Two More Mins\"\n",
      "Song 59: \"The Oath\"\n",
      "Song 60: \"Afterparty\"\n",
      "\"Bulworth (They Talk About It While We Live It)\" is not valid. Skipping.\n",
      "Song 61: \"The Turn\"\n",
      "Song 62: \"Play IV Keeps\"\n",
      "\"Radioactive (Four Assassins)\" is not valid. Skipping.\n",
      "Song 63: \"Water\"\n",
      "Song 64: \"Know Your Role [The Rock Theme]\"\n",
      "\"Ghostface Killah & Method Man - Freestyle (Stretch and Bobbito, 1994)\" is not valid. Skipping.\n",
      "\"Projects International Remix\" is not valid. Skipping.\n",
      "Song 65: \"Killin’ Fields\"\n",
      "\"BET Rapcity Freestyle\" is not valid. Skipping.\n",
      "\"Shaolin What (Skit)\" is not valid. Skipping.\n",
      "Song 66: \"Suspect Chin Music\"\n",
      "\"Release Yo’ Delf (Prodigy Remix)\" is not valid. Skipping.\n",
      "Song 67: \"World Gone Sour\"\n",
      "Song 68: \"Bang Zoom\"\n",
      "Song 69: \"Problem\"\n",
      "Song 70: \"Somebody Done Fucked Up\"\n",
      "\"Good Times (Remix)\" is not valid. Skipping.\n",
      "Song 71: \"New York\"\n",
      "Song 72: \"Fall Out\"\n",
      "Song 73: \"Rodeo\"\n",
      "Song 74: \"Ya’meen\"\n",
      "Song 75: \"Win Some Lose Some (It’s In The Game)\"\n",
      "\"Tim Westwood Freestyle\" is not valid. Skipping.\n",
      "Song 76: \"50 Shots\"\n",
      "\"4, 3, 2, 1 (E-Dub Remix)\" is not valid. Skipping.\n",
      "Song 77: \"Grid Iron Rap\"\n",
      "Song 78: \"Say What\"\n",
      "Song 79: \"Let’s Ride\"\n",
      "Song 80: \"I’ll Be There For You / You’re All I Need to Get By (Keep It Tight Mix)\"\n",
      "Song 81: \"The Prequel\"\n",
      "Song 82: \"M.E.F.\"\n",
      "\"Redman & Method Man - Freestyle\" is not valid. Skipping.\n",
      "\"Method Man Freestyle (Staten Island)\" is not valid. Skipping.\n",
      "Song 83: \"Worldwide\"\n",
      "\"Dialate (Xero Demo)\" is not valid. Skipping.\n",
      "Song 84: \"Everything\"\n",
      "\"Round & Round (Extended Remix)\" is not valid. Skipping.\n",
      "Song 85: \"Never Hold Back\"\n",
      "\"Pearl Harbor (Remix)\" is not valid. Skipping.\n",
      "Song 86: \"Symphony\"\n",
      "Song 87: \"Kill Different\"\n",
      "Song 88: \"The Lab\"\n",
      "Song 89: \"Retro Godfather\"\n",
      "Song 90: \"The What\"\n",
      "\"Live Niguz\" is not valid. Skipping.\n",
      "\"I’ll Be There For You / You’re All I Need to Get By (Soul Inside Edit)\" is not valid. Skipping.\n",
      "Song 91: \"Drunk Tunes\"\n",
      "\"Where We At (Interlude)\" is not valid. Skipping.\n",
      "Song 92: \"Elements\"\n",
      "Song 93: \"Crooked Letter I\"\n",
      "Song 94: \"Walk On\"\n",
      "\"Intro\" is not valid. Skipping.\n",
      "Song 95: \"The Glide\"\n",
      "\"Donald Trump (Skit)\" is not valid. Skipping.\n",
      "Song 96: \"Party Crasher\"\n",
      "\"BO2 (Intro)\" is not valid. Skipping.\n",
      "Song 97: \"4 Ever\"\n",
      "Song 98: \"Tease\"\n",
      "Song 99: \"Method Man\"\n",
      "Song 100: \"Who I’m Iz\"\n",
      "Song 101: \"Y.O.U.\"\n",
      "Song 102: \"How High\"\n",
      "\"Se Acabo (Remix)\" is not valid. Skipping.\n",
      "Song 103: \"Back Blockz\"\n",
      "Song 104: \"Bridge Boys\"\n",
      "\"P.L.O. (Remix)\" is not valid. Skipping.\n",
      "Song 105: \"Half Man Half Amazin’\"\n",
      "\"Yo! MTV Raps (Final Episode Freestyle)\" is not valid. Skipping.\n",
      "Song 106: \"Rain All Day\"\n",
      "Song 107: \"SI Vs. Everybody\"\n",
      "Song 108: \"Commerical Break (Impractical Jokers ”Torture”)\"\n",
      "Song 109: \"Ice Cream Man\"\n",
      "\"Dirty & Stinkin’ (Remix)\" is not valid. Skipping.\n",
      "Song 110: \"Ronins\"\n",
      "Song 111: \"Soundcheck\"\n",
      "Song 112: \"Who Ya Rollin Wit\"\n",
      "\"Hood Go Bang! (Remix)\" is not valid. Skipping.\n",
      "Song 113: \"So Staten\"\n",
      "\"You Play Too Much (Skit)\" is not valid. Skipping.\n",
      "Song 114: \"Act Right\"\n",
      "Song 115: \"Lithium\"\n",
      "Song 116: \"What You Getting Into\"\n",
      "Song 117: \"Big Sky\"\n",
      "\"Intro (Tical 0)\" is not valid. Skipping.\n",
      "Song 118: \"Another Winter\"\n",
      "Song 119: \"I’ll Be There For You / You’re All I Need To Get By (Puff Daddy Mix)\"\n",
      "\"Hardcore (Freestyle Skyrock / Radio Edit)\" is not valid. Skipping.\n",
      "Song 120: \"Off The Wu-Headbanger\"\n",
      "Song 121: \"Blackout!\"\n",
      "\"Where’s Method Man? (skit)\" is not valid. Skipping.\n",
      "Song 122: \"Commercial Break (Thotti Gotti)\"\n",
      "Song 123: \"Party & Bullshit\"\n",
      "Song 124: \"Commercial Break (Impractical Jokers Pranks)\"\n",
      "\"The Pilot - Intro\" is not valid. Skipping.\n",
      "\"Wu-Gambinos (Shaolin remix)\" is not valid. Skipping.\n",
      "Song 125: \"Boom “PLL Anthem”\"\n",
      "Song 126: \"Yo\"\n",
      "\"Get it Up (Remix)\" is not valid. Skipping.\n",
      "\"We Pop (Remix)\" is not valid. Skipping.\n",
      "Song 127: \"N.Y.C. Everything\"\n",
      "Song 128: \"Pussy Pop\"\n",
      "Song 129: \"’88 Coupes\"\n",
      "Song 130: \"O.D.\"\n",
      "Song 131: \"It’s in the Game\"\n",
      "\"The W (Credits)\" is not valid. Skipping.\n",
      "Song 132: \"Mrs. International\"\n",
      "Song 133: \"A Bitch Is a Bitch\"\n",
      "\"Sweet Love (Skit)\" is not valid. Skipping.\n",
      "\"La Rhumba (Remix)\" is not valid. Skipping.\n",
      "\"Ridin’ for Outro\" is not valid. Skipping.\n",
      "Song 134: \"Se Acabo\"\n",
      "Song 135: \"1, 2, 1, 2\"\n",
      "\"Judgement Day (Intro)\" is not valid. Skipping.\n",
      "Song 136: \"Mi Casa\"\n",
      "Song 137: \"Tical Album Cover\"\n",
      "Song 138: \"Release Yo’ Delf 2\"\n",
      "Song 139: \"Play 4 keeps\"\n",
      "Song 140: \"Emergency Forecast (Thotti Gotti Weather Report)\"\n",
      "\"Outro (Meth Lab Season 2)\" is not valid. Skipping.\n",
      "\"Intro (The Meth Lab)\" is not valid. Skipping.\n",
      "Song 141: \"Meth vs. Chef (original version)\"\n",
      "Song 142: \"Commercial Break (Thotto Gotti ”Pussy On Soundcloud”)\"\n",
      "\"C.E.O.utro\" is not valid. Skipping.\n",
      "\"Fire (DJ Green Lantern Remix)\" is not valid. Skipping.\n",
      "Song 143: \"City Lights\"\n",
      "\"Message from Penny (Skit)\" is not valid. Skipping.\n",
      "Song 144: \"All That I Need\"\n",
      "Song 145: \"Dangerous Ground\"\n",
      "Song 146: \"Double Deuces\"\n",
      "\"New Generation (Remix)\" is not valid. Skipping.\n",
      "Song 147: \"Serious\"\n",
      "Song 148: \"Fire Ina Hole\"\n",
      "Song 149: \"I’m a G\"\n",
      "Song 150: \"Kane’s Theme\"\n",
      "Song 151: \"Sucker Mc’s\"\n",
      "\"Where We At (Skit)\" is not valid. Skipping.\n",
      "\"Outro\" is not valid. Skipping.\n",
      "Song 152: \"Buck 50\"\n",
      "Song 153: \"True\"\n",
      "\"Check Writer (Skit)\" is not valid. Skipping.\n",
      "Song 154: \"No Hooks\"\n",
      "\"Method Man - PLO Style (REMIX)\" is not valid. Skipping.\n",
      "\"Kids (Skit)\" is not valid. Skipping.\n",
      "Song 155: \"Dat’s Dat Shit\"\n",
      "\"Redman Freestyle\" is not valid. Skipping.\n",
      "\"Ya Moms (Skit)\" is not valid. Skipping.\n",
      "\"Bust Shots (Remix)\" is not valid. Skipping.\n",
      "\"The Setup (2004 Tim Westwood Freestyle)\" is not valid. Skipping.\n"
     ]
    },
    {
     "name": "stdout",
     "output_type": "stream",
     "text": [
      "\"A Special Joint (Intro)\" is not valid. Skipping.\n",
      "\"Dooney Boy (Skit)\" is not valid. Skipping.\n",
      "Song 156: \"All I Need (Bad Boy mix)\"\n",
      "Song 157: \"Meth V.S. Chef Part II\"\n",
      "\"I’ll Be There For You/ You’re All I Need To Get By - Razor Sharp Instrumental\" is not valid. Skipping.\n",
      "\"Call a Cab (Interlude)\" is not valid. Skipping.\n",
      "\"Pimpin’ (Skit)\" is not valid. Skipping.\n",
      "\"Hot Damn (Remix)\" is not valid. Skipping.\n",
      "\"Say (radio)\" is not valid. Skipping.\n",
      "Song 158: \"Reporting From The Slums\"\n",
      "Song 159: \"Hey Zulu\"\n",
      "\"Mrs. International (Skit)\" is not valid. Skipping.\n",
      "Song 160: \"How Bout Dat\"\n",
      "Song 161: \"All I Need (LP version)\"\n",
      "\"Say (instrumental)\" is not valid. Skipping.\n",
      "Song 162: \"Konichiwa Bi**ches\"\n",
      "\"Uh Huh (remix) (produced by J-Love)\" is not valid. Skipping.\n",
      "Song 163: \"Got My Mind Made Up\"\n",
      "\"Danny Myers vs. Tink Da Demon\" is not valid. Skipping.\n",
      "\"Lock down (skit)\" is not valid. Skipping.\n",
      "\"Intro (Tical 0: The Prequel )\" is not valid. Skipping.\n",
      "Song 164: \"Say (main)\"\n",
      "Song 165: \"Where’s Method Man?\"\n",
      "Song 166: \"Dirty Dancin\"\n",
      "\"Method Man (Crazy C. Remix)\" is not valid. Skipping.\n",
      "Song 167: \"Say (Call Out)\"\n",
      "\"Uh Huh (Remix)\" is not valid. Skipping.\n",
      "\"Judgement Day (Super Jupiter Remix)\" is not valid. Skipping.\n",
      "\"Poison Ring Chamber (Outro)\" is not valid. Skipping.\n",
      "\"Tim Westwood Yonkers Freestyle\" is not valid. Skipping.\n",
      "\"Shaolin Soldier (Skit)\" is not valid. Skipping.\n",
      "\"Judgement Day (Tricky Remix)\" is not valid. Skipping.\n",
      "\"Bring the Pain (Remix)\" is not valid. Skipping.\n",
      "Song 168: \"Release Yo’ Delf (New Blood Mix)\"\n",
      "\"WNYU 89.1FM Freestyle ’94\" is not valid. Skipping.\n",
      "\"Bring the Pain (Chemical Brothers Remix)\" is not valid. Skipping.\n",
      "\"Judgement Day (Roni Size Dub Remix)\" is not valid. Skipping.\n",
      "\"Judgement Day (Roni Size Remix)\" is not valid. Skipping.\n",
      "\"Still Trill (Instrumental)\" is not valid. Skipping.\n"
     ]
    },
    {
     "name": "stderr",
     "output_type": "stream",
     "text": [
      "\n",
      "  0%|          | 0/168 [00:00<?, ?it/s]\u001b[A\n",
      "100%|██████████| 168/168 [00:00<00:00, 1372.98it/s]\u001b[A\n",
      "100%|██████████| 1/1 [22:29<00:00, 1349.86s/it]"
     ]
    },
    {
     "name": "stdout",
     "output_type": "stream",
     "text": [
      "\"Method Man + Ghostface Freestyle (Remix)\" is not valid. Skipping.\n",
      "\"Method Man + Ghostface Freestyle\" is not valid. Skipping.\n",
      "Done. Found 168 songs.\n",
      "0:00:00.125593 for 168 Song\n",
      "0:22:29.878421 for 1 Artist\n"
     ]
    },
    {
     "name": "stderr",
     "output_type": "stream",
     "text": [
      "\n"
     ]
    }
   ],
   "source": [
    "get_songs(csv='get_artists.csv')"
   ]
  },
  {
   "cell_type": "markdown",
   "metadata": {},
   "source": [
    "# Clean raw lyrics"
   ]
  },
  {
   "cell_type": "code",
   "execution_count": 1,
   "metadata": {
    "collapsed": true
   },
   "outputs": [],
   "source": [
    "from clean_lyrics import clean_song, cleaned_songs_dir"
   ]
  },
  {
   "cell_type": "code",
   "execution_count": 2,
   "metadata": {},
   "outputs": [
    {
     "name": "stderr",
     "output_type": "stream",
     "text": [
      "100%|██████████| 24878/24878 [00:25<00:00, 981.14it/s] "
     ]
    },
    {
     "name": "stdout",
     "output_type": "stream",
     "text": [
      "0:00:25.374370 for 24878 Song\n"
     ]
    },
    {
     "name": "stderr",
     "output_type": "stream",
     "text": [
      "\n"
     ]
    }
   ],
   "source": [
    "clean_song('RAW_SONGS_DONT_DELETE/_LIST', cleaned_songs_dir)"
   ]
  },
  {
   "cell_type": "markdown",
   "metadata": {},
   "source": [
    "# Raw json songs to Verse split songs"
   ]
  },
  {
   "cell_type": "code",
   "execution_count": 3,
   "metadata": {
    "collapsed": true
   },
   "outputs": [],
   "source": [
    "from raw_song_to_verse_split_song_files import raw_songs_to_verse_split_songs, verse_split_songs_dir"
   ]
  },
  {
   "cell_type": "code",
   "execution_count": 4,
   "metadata": {
    "scrolled": true
   },
   "outputs": [
    {
     "name": "stderr",
     "output_type": "stream",
     "text": [
      "100%|██████████| 24878/24878 [00:35<00:00, 697.40it/s]"
     ]
    },
    {
     "name": "stdout",
     "output_type": "stream",
     "text": [
      "0:00:35.674185 for 24878 Song\n"
     ]
    },
    {
     "name": "stderr",
     "output_type": "stream",
     "text": [
      "\n"
     ]
    }
   ],
   "source": [
    "raw_songs_to_verse_split_songs('cleaned_raw_lyrics/_LIST', verse_split_songs_dir)"
   ]
  },
  {
   "cell_type": "markdown",
   "metadata": {},
   "source": [
    "# Filter songs"
   ]
  },
  {
   "cell_type": "code",
   "execution_count": 3,
   "metadata": {
    "collapsed": true
   },
   "outputs": [],
   "source": [
    "from filter_songs import filter_songs, filtered_songs_dir"
   ]
  },
  {
   "cell_type": "code",
   "execution_count": 4,
   "metadata": {},
   "outputs": [
    {
     "name": "stderr",
     "output_type": "stream",
     "text": [
      "  0%|          | 21/24878 [00:00<1:19:32,  5.21it/s]"
     ]
    },
    {
     "name": "stdout",
     "output_type": "stream",
     "text": [
      "---- Can’t Stay Away Too many words in a line\n",
      "---- Shaolin Rebel Too many words in a line\n"
     ]
    },
    {
     "name": "stderr",
     "output_type": "stream",
     "text": [
      "  0%|          | 61/24878 [00:01<22:27, 18.42it/s]  "
     ]
    },
    {
     "name": "stdout",
     "output_type": "stream",
     "text": [
      "---- Who Run It Too many words in a line\n",
      "XXXX Dolla Signs has no verses\n"
     ]
    },
    {
     "name": "stderr",
     "output_type": "stream",
     "text": [
      "  0%|          | 94/24878 [00:01<10:17, 40.12it/s]"
     ]
    },
    {
     "name": "stdout",
     "output_type": "stream",
     "text": [
      "XXXX Hood has no verses\n",
      "---- Gone Too many words in a line\n",
      "XXXX Rec Room (blend) has no verses\n"
     ]
    },
    {
     "name": "stderr",
     "output_type": "stream",
     "text": [
      "  0%|          | 124/24878 [00:01<06:27, 63.92it/s]"
     ]
    },
    {
     "name": "stdout",
     "output_type": "stream",
     "text": [
      "---- Multiply Too many words in a line\n",
      "---- Brand New Guy Too many words in a line\n"
     ]
    },
    {
     "name": "stderr",
     "output_type": "stream",
     "text": [
      "  1%|          | 154/24878 [00:01<05:10, 79.72it/s]"
     ]
    },
    {
     "name": "stdout",
     "output_type": "stream",
     "text": [
      "---- Keep It G Too many words in a line\n"
     ]
    },
    {
     "name": "stderr",
     "output_type": "stream",
     "text": [
      "  1%|          | 208/24878 [00:02<04:05, 100.32it/s]"
     ]
    },
    {
     "name": "stdout",
     "output_type": "stream",
     "text": [
      "XXXX Quick Ain’t Fair (Adidas Commercial) has no verses\n",
      "XXXX Apology to Jason Collins has no verses\n"
     ]
    },
    {
     "name": "stderr",
     "output_type": "stream",
     "text": [
      "  1%|          | 232/24878 [00:02<03:51, 106.48it/s]"
     ]
    },
    {
     "name": "stdout",
     "output_type": "stream",
     "text": [
      "XXXX Lord Pretty Flacko Joyde 3 (LPFJ III)* has no verses\n",
      "XXXX 143rd has no verses\n",
      "XXXX Heroin* has no verses\n",
      "XXXX Awgeshit has no verses\n",
      "XXXX It’s So Easy has no verses\n"
     ]
    },
    {
     "name": "stderr",
     "output_type": "stream",
     "text": [
      "                                                    "
     ]
    },
    {
     "name": "stdout",
     "output_type": "stream",
     "text": [
      "XXXX Freestylin 101 has no verses\n",
      "XXXX Acid* has no verses\n",
      "XXXX Nana Castro Cypher 2010 has no verses\n",
      "XXXX Opposition* has no verses\n",
      "XXXX Heaven* has no verses\n",
      "XXXX Flacko Season has no verses\n",
      "XXXX Diorboyz has no verses\n",
      "XXXX Pretty Boy has no verses\n",
      "XXXX On a Cloud* has no verses\n",
      "XXXX Encore has no verses\n",
      "XXXX N.W.O has no verses\n",
      "XXXX NMC (No More Clones) has no verses\n",
      "XXXX Trunk Missing has no verses\n",
      "XXXX Rave has no verses\n",
      "XXXX Flipside has no verses\n",
      "OOOO Mind Your Business has it\n",
      "XXXX Globetrotters has no verses\n",
      "XXXX ​srLO* has no verses\n",
      "XXXX Forgotten has no verses\n",
      "XXXX Coast Boys has no verses\n",
      "XXXX Lenox Avenue has no verses\n",
      "XXXX Where the Wild Things Are has no verses\n",
      "XXXX Look has no verses\n",
      "XXXX Thank You for Nothing has no verses\n",
      "XXXX Immodesty has no verses\n",
      "XXXX Wizardry Ponder has no verses\n",
      "XXXX Reflex has no verses\n"
     ]
    },
    {
     "name": "stderr",
     "output_type": "stream",
     "text": [
      "  1%|          | 296/24878 [00:03<02:57, 138.51it/s]"
     ]
    },
    {
     "name": "stdout",
     "output_type": "stream",
     "text": [
      "XXXX Hola has no verses\n",
      "XXXX Smash N Grab has no verses\n",
      "XXXX Dark dog has no verses\n",
      "XXXX Clouds has no verses\n",
      "XXXX The Getaway has no verses\n",
      "XXXX Du has no verses\n",
      "XXXX Let Go has no verses\n",
      "XXXX This is what it sounds like has no verses\n",
      "XXXX Music has no verses\n",
      "XXXX Vad jag vill has no verses\n",
      "XXXX Babylon has no verses\n",
      "XXXX Hang it up has no verses\n",
      "XXXX Dumb! has no verses\n",
      "XXXX Rest of your life has no verses\n",
      "XXXX Piece of the pie has no verses\n",
      "XXXX You has no verses\n",
      "XXXX Flight mode has no verses\n",
      "XXXX Slow down has no verses\n",
      "XXXX Apologize has no verses\n",
      "XXXX For a day has no verses\n",
      "XXXX Stand strong has no verses\n",
      "XXXX Blessed has no verses\n"
     ]
    },
    {
     "name": "stderr",
     "output_type": "stream",
     "text": [
      "  1%|▏         | 335/24878 [00:03<02:50, 144.11it/s]"
     ]
    },
    {
     "name": "stdout",
     "output_type": "stream",
     "text": [
      "OOOO Pelkkää lovee has fi\n",
      "XXXX If you with that has no verses\n",
      "XXXX Off your chest has no verses\n",
      "XXXX Better man has no verses\n",
      "XXXX Hold me back has no verses\n",
      "XXXX Way you see it has no verses\n",
      "XXXX A Day at a time has no verses\n",
      "XXXX Good woman has no verses\n",
      "XXXX Kill it with hip hop has no verses\n",
      "XXXX Right here has no verses\n",
      "XXXX Today just ain’t the day has no verses\n",
      "XXXX Everyday soundtrack has no verses\n",
      "XXXX Raindrops has no verses\n",
      "XXXX F.R.E.E. has no verses\n",
      "XXXX Knuckleheadz has no verses\n",
      "XXXX Now has no verses\n",
      "XXXX Turn Around has no verses\n",
      "XXXX Those days has no verses\n",
      "XXXX Underestimators has no verses\n",
      "XXXX Let me go has no verses\n",
      "XXXX Rise has no verses\n",
      "XXXX Average assholes has no verses\n",
      "XXXX List of things to do has no verses\n",
      "XXXX Real has no verses\n",
      "XXXX Move it along has no verses\n",
      "XXXX Devil has no verses\n",
      "XXXX #WeOk! has no verses\n",
      "---- Fal$e Teacher$ Too many words in a line\n"
     ]
    },
    {
     "name": "stderr",
     "output_type": "stream",
     "text": [
      "  1%|▏         | 351/24878 [00:03<03:27, 118.34it/s]"
     ]
    },
    {
     "name": "stdout",
     "output_type": "stream",
     "text": [
      "---- Ichabod Too many words in a line\n",
      "---- Greatest Story Ever Told Too many words in a line\n",
      "XXXX Mission Accomplished has no verses\n"
     ]
    },
    {
     "name": "stderr",
     "output_type": "stream",
     "text": [
      "  2%|▏         | 378/24878 [00:03<03:42, 110.10it/s]"
     ]
    },
    {
     "name": "stdout",
     "output_type": "stream",
     "text": [
      "---- All-Consuming Fire Too many words in a line\n",
      "XXXX The Perfection of Beauty has no verses\n",
      "---- Our Father in Heaven Too many words in a line\n",
      "XXXX Lord of Patience has no verses\n",
      "---- Washer Warning Too many words in a line\n",
      "XXXX Random Thoughts has no verses\n",
      "XXXX Taste and See has no verses\n",
      "XXXX My Portion has no verses\n",
      "---- In Adam All Die Too many words in a line\n",
      "XXXX Triune Praise has no verses\n"
     ]
    },
    {
     "name": "stderr",
     "output_type": "stream",
     "text": [
      "  2%|▏         | 390/24878 [00:04<03:47, 107.63it/s]"
     ]
    },
    {
     "name": "stdout",
     "output_type": "stream",
     "text": [
      "XXXX Faithful God has no verses\n",
      "XXXX Mercy and Grace (feat. Timothy Brindle) has no verses\n",
      "---- Letter from the Grave Too many words in a line\n",
      "XXXX Come Lord Jesus, Come has too many verses\n",
      "XXXX Throne Of Grace has no verses\n",
      "XXXX Testify has no verses\n",
      "XXXX Judge of All the Earth has no verses\n",
      "XXXX Were You There? has no verses\n",
      "XXXX Spurgeon has no verses\n",
      "XXXX High Priest has no verses\n",
      "XXXX Exalted (psalm 110) [feat. joint heirs] has no verses\n"
     ]
    },
    {
     "name": "stderr",
     "output_type": "stream",
     "text": [
      "  2%|▏         | 413/24878 [00:04<04:16, 95.25it/s] "
     ]
    },
    {
     "name": "stdout",
     "output_type": "stream",
     "text": [
      "XXXX The Holiness of God (reprise) has no verses\n",
      "XXXX Through My Eyes has no verses\n",
      "XXXX More Random Thoughts has no verses\n",
      "XXXX Dark Night of the Soul has no verses\n",
      "XXXX School Daze has no verses\n",
      "---- Passover Too many words in a line\n",
      "XXXX Work It Out has no verses\n",
      "XXXX Light and Heat has no verses\n"
     ]
    },
    {
     "name": "stderr",
     "output_type": "stream",
     "text": [
      "  2%|▏         | 437/24878 [00:04<03:54, 104.32it/s]"
     ]
    },
    {
     "name": "stdout",
     "output_type": "stream",
     "text": [
      "XXXX Wake Up Revealed has no verses\n",
      "XXXX Alone Foreshadowed has no verses\n",
      "XXXX The Gospel has no verses\n",
      "XXXX Atonement Selah has no verses\n",
      "---- Whoa Too many words in a line\n",
      "---- Burgundy Too many words in a line\n"
     ]
    },
    {
     "name": "stderr",
     "output_type": "stream",
     "text": [
      "  2%|▏         | 484/24878 [00:04<03:41, 110.16it/s]"
     ]
    },
    {
     "name": "stdout",
     "output_type": "stream",
     "text": [
      "---- December 24 Too many words in a line\n",
      "XXXX 523 has no verses\n"
     ]
    },
    {
     "name": "stderr",
     "output_type": "stream",
     "text": [
      "  2%|▏         | 509/24878 [00:05<03:30, 116.03it/s]"
     ]
    },
    {
     "name": "stdout",
     "output_type": "stream",
     "text": [
      "XXXX Riot! has no verses\n",
      "XXXX I’ll Fuck You Up has no verses\n"
     ]
    },
    {
     "name": "stderr",
     "output_type": "stream",
     "text": [
      "  2%|▏         | 537/24878 [00:05<03:14, 125.04it/s]"
     ]
    },
    {
     "name": "stdout",
     "output_type": "stream",
     "text": [
      "XXXX High 6am rambling at the 5th has no verses\n",
      "XXXX ​bary has no verses\n",
      "XXXX Untitled has no verses\n",
      "XXXX SKRT SKRT has no verses\n",
      "XXXX Pelicula has no verses\n",
      "XXXX Number 18 has no verses\n",
      "XXXX The Lost Battles has no verses\n"
     ]
    },
    {
     "name": "stderr",
     "output_type": "stream",
     "text": [
      "  2%|▏         | 569/24878 [00:05<02:57, 136.79it/s]"
     ]
    },
    {
     "name": "stdout",
     "output_type": "stream",
     "text": [
      "XXXX Unreleased (Day n Night) has no verses\n",
      "XXXX Freddy Krueger has no verses\n",
      "XXXX Run For Your Life has no verses\n",
      "XXXX Underworld* has no verses\n",
      "XXXX Unreleased (Day and Night) has no verses\n",
      "XXXX Seedy Motherfucker has no verses\n",
      "XXXX Untitled (Santa Ana at The Observatory) has no verses\n",
      "XXXX Untitled (Santa Ana Observatory + FYF) has no verses\n",
      "XXXX Rats (Full Version) has no verses\n",
      "XXXX Unknown has no verses\n",
      "XXXX Wind In My Sails (OG) has no verses\n",
      "XXXX Chamber has no verses\n",
      "XXXX Wearld Tour Dates has no verses\n",
      "---- Earl Sweatshirt Unreleased - (Chamber) Too many words in a line\n",
      "XXXX Fall 2013 Tour Dates has no verses\n",
      "XXXX Treason has no verses\n"
     ]
    },
    {
     "name": "stderr",
     "output_type": "stream",
     "text": [
      "  3%|▎         | 668/24878 [00:06<03:48, 105.74it/s]"
     ]
    },
    {
     "name": "stdout",
     "output_type": "stream",
     "text": [
      "XXXX Two Times has no verses\n",
      "XXXX Yo El Ray has no verses\n"
     ]
    },
    {
     "name": "stderr",
     "output_type": "stream",
     "text": [
      "  3%|▎         | 704/24878 [00:06<03:04, 131.31it/s]"
     ]
    },
    {
     "name": "stdout",
     "output_type": "stream",
     "text": [
      "XXXX Three Day Weekend* has no verses\n",
      "XXXX Stupid People has no verses\n",
      "XXXX Look At Me Now has no verses\n",
      "XXXX Bad Things* has no verses\n",
      "XXXX Devilish Women* has no verses\n",
      "XXXX Like You Mean It* has no verses\n",
      "XXXX Drip Bitch* has no verses\n",
      "XXXX VIBE* has no verses\n",
      "XXXX I Know has no verses\n",
      "XXXX Same Shit (Let Me Down)* has no verses\n",
      "XXXX Home Town Hatred has no verses\n",
      "XXXX Lost In The Moment* has no verses\n",
      "XXXX Day 3 Miami has no verses\n",
      "XXXX N.Y.E. (New Year’s Eve) has no verses\n",
      "XXXX Not My Favorite has no verses\n",
      "XXXX Iggy Azalea -  From a House Cleaner to a Famous Rapper has no verses\n",
      "XXXX Cry. has no verses\n",
      "XXXX MS. International has no verses\n"
     ]
    },
    {
     "name": "stderr",
     "output_type": "stream",
     "text": [
      "  3%|▎         | 719/24878 [00:06<03:11, 126.13it/s]"
     ]
    },
    {
     "name": "stdout",
     "output_type": "stream",
     "text": [
      "XXXX Nothing Like Me has no verses\n",
      "XXXX Wake Up* has no verses\n",
      "XXXX Scream. has no verses\n",
      "XXXX Laugh has no verses\n",
      "XXXX TBA (feat. Ivorian Doll) has no verses\n",
      "XXXX Make Me Sick has no verses\n",
      "XXXX Powerpuff girls song* has no verses\n",
      "XXXX High Maintenance (Previously PowerPuff) has no verses\n"
     ]
    },
    {
     "name": "stderr",
     "output_type": "stream",
     "text": [
      "  3%|▎         | 782/24878 [00:07<03:43, 107.79it/s]"
     ]
    },
    {
     "name": "stdout",
     "output_type": "stream",
     "text": [
      "XXXX Everydays Halloween has no verses\n"
     ]
    },
    {
     "name": "stderr",
     "output_type": "stream",
     "text": [
      "  3%|▎         | 815/24878 [00:07<04:00, 100.14it/s]"
     ]
    },
    {
     "name": "stdout",
     "output_type": "stream",
     "text": [
      "---- Obama Too many words in a line\n"
     ]
    },
    {
     "name": "stderr",
     "output_type": "stream",
     "text": [
      "  4%|▍         | 1094/24878 [00:10<03:52, 102.14it/s]"
     ]
    },
    {
     "name": "stdout",
     "output_type": "stream",
     "text": [
      "---- Adam and Eve Too many words in a line\n"
     ]
    },
    {
     "name": "stderr",
     "output_type": "stream",
     "text": [
      "  5%|▍         | 1140/24878 [00:10<03:43, 106.02it/s]"
     ]
    },
    {
     "name": "stdout",
     "output_type": "stream",
     "text": [
      "XXXX Rolls has no verses\n"
     ]
    },
    {
     "name": "stderr",
     "output_type": "stream",
     "text": [
      "  5%|▍         | 1197/24878 [00:11<03:43, 105.86it/s]"
     ]
    },
    {
     "name": "stdout",
     "output_type": "stream",
     "text": [
      "XXXX Rocket Power Gang has no verses\n",
      "XXXX Now has no verses\n"
     ]
    },
    {
     "name": "stderr",
     "output_type": "stream",
     "text": [
      "  5%|▍         | 1230/24878 [00:11<03:50, 102.68it/s]"
     ]
    },
    {
     "name": "stdout",
     "output_type": "stream",
     "text": [
      "---- Let Me Know Too many words in a line\n",
      "OOOO No Bap has tl\n"
     ]
    },
    {
     "name": "stderr",
     "output_type": "stream",
     "text": [
      "  5%|▌         | 1275/24878 [00:12<04:02, 97.25it/s] "
     ]
    },
    {
     "name": "stdout",
     "output_type": "stream",
     "text": [
      "OOOO Un Un has fr\n"
     ]
    },
    {
     "name": "stderr",
     "output_type": "stream",
     "text": [
      "  5%|▌         | 1295/24878 [00:12<04:21, 90.27it/s]"
     ]
    },
    {
     "name": "stdout",
     "output_type": "stream",
     "text": [
      "XXXX Straight to the Bank has no verses\n",
      "XXXX You Suck Dick has no verses\n",
      "---- Scream Too many words in a line\n",
      "XXXX Shawdy has no verses\n"
     ]
    },
    {
     "name": "stderr",
     "output_type": "stream",
     "text": [
      "  5%|▌         | 1361/24878 [00:13<04:00, 97.76it/s]"
     ]
    },
    {
     "name": "stdout",
     "output_type": "stream",
     "text": [
      "XXXX Hang With Me has no verses\n",
      "XXXX House Bitch has no verses\n"
     ]
    },
    {
     "name": "stderr",
     "output_type": "stream",
     "text": [
      "  6%|▌         | 1384/24878 [00:13<03:57, 98.98it/s] "
     ]
    },
    {
     "name": "stdout",
     "output_type": "stream",
     "text": [
      "XXXX Can’t Wait (REMAKE) has no verses\n",
      "OOOO Lil Nigga has af\n",
      "XXXX 10-4 has no verses\n",
      "XXXX Helped my semi has no verses\n"
     ]
    },
    {
     "name": "stderr",
     "output_type": "stream",
     "text": [
      "  6%|▌         | 1405/24878 [00:13<04:07, 94.86it/s]"
     ]
    },
    {
     "name": "stdout",
     "output_type": "stream",
     "text": [
      "XXXX Dolce & Gabbana has no verses\n",
      "XXXX Go Get has no verses\n",
      "XXXX Rocks off in My Pocket has no verses\n",
      "XXXX Safety has no verses\n"
     ]
    },
    {
     "name": "stderr",
     "output_type": "stream",
     "text": [
      "  6%|▌         | 1425/24878 [00:13<04:23, 89.07it/s]"
     ]
    },
    {
     "name": "stdout",
     "output_type": "stream",
     "text": [
      "XXXX Bragging Rights has no verses\n",
      "XXXX Violence has no verses\n"
     ]
    },
    {
     "name": "stderr",
     "output_type": "stream",
     "text": [
      "                                                    \r"
     ]
    },
    {
     "name": "stdout",
     "output_type": "stream",
     "text": [
      "XXXX Failure has no verses\n",
      "XXXX Ballin No NBA 2 has no verses\n",
      "XXXX Tatted like amigos has no verses\n",
      "XXXX That Is Not has no verses\n",
      "XXXX Leafy Swag has no verses\n"
     ]
    },
    {
     "name": "stderr",
     "output_type": "stream",
     "text": [
      "  6%|▌         | 1461/24878 [00:14<05:55, 65.79it/s]"
     ]
    },
    {
     "name": "stdout",
     "output_type": "stream",
     "text": [
      "OOOO No Guap has tl\n",
      "OOOO Dun Dun Dun has id\n",
      "XXXX Highway has no verses\n",
      "XXXX Cap Flow* has no verses\n",
      "XXXX Stacks on Stacks has no verses\n",
      "XXXX Kamikaze has no verses\n"
     ]
    },
    {
     "name": "stderr",
     "output_type": "stream",
     "text": [
      "  6%|▌         | 1482/24878 [00:14<04:53, 79.66it/s]"
     ]
    },
    {
     "name": "stdout",
     "output_type": "stream",
     "text": [
      "XXXX Rock Your Block has no verses\n",
      "XXXX H.U.R.T. has no verses\n",
      "XXXX Destiny has no verses\n",
      "XXXX What I Like has no verses\n",
      "XXXX Hit The Floor has no verses\n",
      "XXXX Amen* has no verses\n",
      "XXXX On My Way has no verses\n",
      "XXXX Niggas Mad has no verses\n",
      "XXXX Fast Cash has no verses\n"
     ]
    },
    {
     "name": "stderr",
     "output_type": "stream",
     "text": [
      "  6%|▌         | 1506/24878 [00:15<04:09, 93.86it/s]"
     ]
    },
    {
     "name": "stdout",
     "output_type": "stream",
     "text": [
      "OOOO Wrestlemania has tl\n",
      "XXXX Aye has no verses\n",
      "XXXX Dracula has no verses\n",
      "XXXX Texaco has no verses\n",
      "XXXX DELETE THIS PLEASE has no verses\n",
      "XXXX Fast Cars has no verses\n",
      "XXXX Mix Match has no verses\n",
      "XXXX Tags has no verses\n",
      "XXXX This Chicago has no verses\n",
      "---- Yeah yeah yeah Too many words in a line\n",
      "XXXX Stunt has no verses\n",
      "XXXX Tears Of Joy has no verses\n",
      "XXXX Mo Money has no verses\n",
      "XXXX Rockstar Drip has no verses\n",
      "XXXX Spliff has no verses\n"
     ]
    },
    {
     "name": "stderr",
     "output_type": "stream",
     "text": [
      "  6%|▌         | 1538/24878 [00:15<03:18, 117.39it/s]"
     ]
    },
    {
     "name": "stdout",
     "output_type": "stream",
     "text": [
      "XXXX Gross* has no verses\n",
      "XXXX Ice has no verses\n",
      "XXXX 3 Bitches has no verses\n",
      "XXXX Hoodini has no verses\n",
      "XXXX On Da Set has no verses\n",
      "XXXX Hippo has no verses\n",
      "XXXX Send That Check has no verses\n",
      "XXXX Heaven has no verses\n",
      "XXXX 2 RNB (Keep Going Up) has no verses\n",
      "XXXX I Got Bandz has no verses\n",
      "XXXX 149 N 55 has no verses\n",
      "XXXX Rari Pass has no verses\n",
      "XXXX Highs Turned To Lows has no verses\n",
      "XXXX Extra GLO has no verses\n",
      "XXXX Say You Swear has no verses\n",
      "XXXX What It Look Like has no verses\n",
      "XXXX A Lot Of Nerve* has no verses\n",
      "XXXX FortNite has no verses\n",
      "XXXX Wockstar has no verses\n",
      "XXXX Are self has no verses\n"
     ]
    },
    {
     "name": "stderr",
     "output_type": "stream",
     "text": [
      "  6%|▋         | 1570/24878 [00:15<02:57, 131.24it/s]"
     ]
    },
    {
     "name": "stdout",
     "output_type": "stream",
     "text": [
      "---- DJ Hustlenomics Speaks Too many words in a line\n",
      "XXXX Who’s Concerned has no verses\n",
      "XXXX Logan has no verses\n",
      "XXXX Tunrt up has no verses\n",
      "XXXX Noah has no verses\n",
      "OOOO C-Notes* has ca\n",
      "XXXX Rich has no verses\n",
      "XXXX Glosace has no verses\n",
      "XXXX Task (its a bet) has no verses\n",
      "XXXX Picking Big Sean Up has no verses\n",
      "XXXX Shhhh has no verses\n",
      "XXXX Ballin’ Part 2 has no verses\n",
      "XXXX So What has no verses\n"
     ]
    },
    {
     "name": "stderr",
     "output_type": "stream",
     "text": [
      "  6%|▋         | 1598/24878 [00:15<03:03, 126.95it/s]"
     ]
    },
    {
     "name": "stdout",
     "output_type": "stream",
     "text": [
      "OOOO OBlock has sk\n",
      "XXXX Want War 488 has no verses\n",
      "XXXX Who Cares has no verses\n",
      "XXXX Gang Wit Me has no verses\n",
      "XXXX Yea has no verses\n",
      "XXXX Plenty has no verses\n",
      "XXXX My Bad (unreleased) has no verses\n",
      "XXXX 3 Deep has no verses\n",
      "XXXX Its Up has no verses\n",
      "XXXX Hold Me Back has no verses\n"
     ]
    },
    {
     "name": "stderr",
     "output_type": "stream",
     "text": [
      "  7%|▋         | 1632/24878 [00:15<02:45, 140.48it/s]"
     ]
    },
    {
     "name": "stdout",
     "output_type": "stream",
     "text": [
      "XXXX Smoke has no verses\n",
      "XXXX Stop It Hoe has no verses\n",
      "XXXX Pursuit Of Liberty has no verses\n",
      "XXXX Law Abiding Citizen has no verses\n",
      "XXXX #hot16challenge2 has no verses\n",
      "XXXX Don’t Slip has no verses\n",
      "XXXX Task has no verses\n",
      "XXXX Loud has no verses\n",
      "OOOO I Fucked Yo Ho has cy\n",
      "XXXX Time has no verses\n",
      "XXXX Bulldog has no verses\n",
      "XXXX Usually has no verses\n",
      "XXXX Yeaaa has no verses\n",
      "XXXX Shoe Fitting has no verses\n",
      "XXXX I Got Cable Tho has no verses\n",
      "XXXX Get Ya has no verses\n",
      "XXXX In this bitch original has no verses\n"
     ]
    },
    {
     "name": "stderr",
     "output_type": "stream",
     "text": [
      "  7%|▋         | 1647/24878 [00:16<03:07, 124.16it/s]"
     ]
    },
    {
     "name": "stdout",
     "output_type": "stream",
     "text": [
      "---- Multiply Too many words in a line\n",
      "---- Brand New Guy Too many words in a line\n"
     ]
    },
    {
     "name": "stderr",
     "output_type": "stream",
     "text": [
      "  7%|▋         | 1686/24878 [00:16<03:39, 105.49it/s]"
     ]
    },
    {
     "name": "stdout",
     "output_type": "stream",
     "text": [
      "---- Keep It G Too many words in a line\n"
     ]
    },
    {
     "name": "stderr",
     "output_type": "stream",
     "text": [
      "  7%|▋         | 1735/24878 [00:16<03:30, 110.07it/s]"
     ]
    },
    {
     "name": "stdout",
     "output_type": "stream",
     "text": [
      "XXXX Quick Ain’t Fair (Adidas Commercial) has no verses\n",
      "XXXX Apology to Jason Collins has no verses\n"
     ]
    },
    {
     "name": "stderr",
     "output_type": "stream",
     "text": [
      "  7%|▋         | 1759/24878 [00:17<03:24, 113.18it/s]"
     ]
    },
    {
     "name": "stdout",
     "output_type": "stream",
     "text": [
      "XXXX Lord Pretty Flacko Joyde 3 (LPFJ III)* has no verses\n",
      "XXXX 143rd has no verses\n",
      "XXXX Heroin* has no verses\n",
      "XXXX Awgeshit has no verses\n",
      "XXXX It’s So Easy has no verses\n",
      "XXXX Freestylin 101 has no verses\n"
     ]
    },
    {
     "name": "stderr",
     "output_type": "stream",
     "text": [
      "  7%|▋         | 1798/24878 [00:17<02:42, 142.13it/s]"
     ]
    },
    {
     "name": "stdout",
     "output_type": "stream",
     "text": [
      "XXXX Acid* has no verses\n",
      "XXXX Nana Castro Cypher 2010 has no verses\n",
      "XXXX Opposition* has no verses\n",
      "XXXX Heaven* has no verses\n",
      "XXXX Flacko Season has no verses\n",
      "XXXX Diorboyz has no verses\n",
      "XXXX Pretty Boy has no verses\n",
      "XXXX On a Cloud* has no verses\n",
      "XXXX Encore has no verses\n",
      "XXXX N.W.O has no verses\n",
      "XXXX NMC (No More Clones) has no verses\n",
      "XXXX Trunk Missing has no verses\n",
      "XXXX Rave has no verses\n",
      "XXXX Flipside has no verses\n",
      "OOOO Mind Your Business has it\n",
      "XXXX Globetrotters has no verses\n",
      "XXXX ​srLO* has no verses\n",
      "XXXX Forgotten has no verses\n",
      "XXXX Coast Boys has no verses\n",
      "XXXX Lenox Avenue has no verses\n",
      "XXXX Where the Wild Things Are has no verses\n",
      "XXXX Look has no verses\n",
      "XXXX Thank You for Nothing has no verses\n",
      "XXXX Immodesty has no verses\n",
      "XXXX Wizardry Ponder has no verses\n",
      "XXXX Reflex has no verses\n",
      "XXXX Hola has no verses\n",
      "XXXX Smash N Grab has no verses\n"
     ]
    },
    {
     "name": "stderr",
     "output_type": "stream",
     "text": [
      "  7%|▋         | 1834/24878 [00:17<02:29, 154.15it/s]"
     ]
    },
    {
     "name": "stdout",
     "output_type": "stream",
     "text": [
      "XXXX Dark dog has no verses\n",
      "XXXX Helsinki-shangri-la has no verses\n",
      "OOOO Talonomistaja has fi\n",
      "XXXX Saapuu elokuun yö has no verses\n",
      "OOOO Aakkosmurha has fi\n",
      "XXXX Mull’ on lupa has no verses\n",
      "XXXX Miten historiaa luetaan? has no verses\n",
      "XXXX Syntyny rellestää has no verses\n",
      "XXXX Käsi iskee has no verses\n",
      "XXXX Colgate Soulmate has no verses\n",
      "XXXX Merkit has no verses\n",
      "XXXX Kalpeaakin Kalpeempaa has no verses\n",
      "XXXX Back To Square One has no verses\n",
      "XXXX Maan tapa has no verses\n",
      "XXXX Ikivanhat tekosyyt (kadotettujen mantra) has no verses\n",
      "XXXX Riisto räppääjä has no verses\n",
      "XXXX Verta, hikeä ja kyybeleitä has no verses\n",
      "XXXX The Ultimate Jedi Mind Trick - Episode IV has no verses\n",
      "XXXX Muista! has no verses\n",
      "XXXX Leijonakypärät has no verses\n",
      "XXXX Sammuva Soihtu has no verses\n",
      "XXXX Karavaani Kulkee has no verses\n",
      "XXXX Patinoitunu runomies has no verses\n",
      "XXXX Keep Hope A Lie has no verses\n",
      "XXXX Kaivon luona has no verses\n",
      "XXXX Maximize the prophet has no verses\n",
      "XXXX Helsinki-Joensuu-Shangri-La has no verses\n",
      "XXXX Perspirantti Antti has no verses\n",
      "XXXX Hip Hoppii Englantii has no verses\n",
      "XXXX Imperatiivi has no verses\n",
      "XXXX Back to square one - dirty original has no verses\n",
      "XXXX Miten historia luetaan has no verses\n",
      "XXXX Link’s Arousing has no verses\n"
     ]
    },
    {
     "name": "stderr",
     "output_type": "stream",
     "text": [
      "  8%|▊         | 1883/24878 [00:18<03:38, 105.42it/s]"
     ]
    },
    {
     "name": "stdout",
     "output_type": "stream",
     "text": [
      "---- Unfair Too many words in a line\n",
      "---- Strangeulation Vol. II Cypher II Too many words in a line\n",
      "---- Wither Too many words in a line\n",
      "---- Strangeulation Vol. II Cypher I Too many words in a line\n"
     ]
    },
    {
     "name": "stderr",
     "output_type": "stream",
     "text": [
      "  8%|▊         | 1936/24878 [00:18<04:39, 82.07it/s] "
     ]
    },
    {
     "name": "stdout",
     "output_type": "stream",
     "text": [
      "---- Strangeulation Cypher (All Parts) Too many words in a line\n",
      "---- Thizzles Too many words in a line\n",
      "---- Last Sad Song Too many words in a line\n",
      "---- How I’m Feelin’ Too many words in a line\n",
      "---- Slacker Too many words in a line\n"
     ]
    },
    {
     "name": "stderr",
     "output_type": "stream",
     "text": [
      "  8%|▊         | 1975/24878 [00:19<04:46, 79.98it/s]"
     ]
    },
    {
     "name": "stdout",
     "output_type": "stream",
     "text": [
      "---- Blur Too many words in a line\n"
     ]
    },
    {
     "name": "stderr",
     "output_type": "stream",
     "text": [
      "  8%|▊         | 2020/24878 [00:19<04:37, 82.28it/s]"
     ]
    },
    {
     "name": "stdout",
     "output_type": "stream",
     "text": [
      "---- Hope for a Higher Power Too many words in a line\n",
      "XXXX Strangeland has too many verses\n"
     ]
    },
    {
     "name": "stderr",
     "output_type": "stream",
     "text": [
      "  8%|▊         | 2048/24878 [00:20<04:26, 85.70it/s]"
     ]
    },
    {
     "name": "stdout",
     "output_type": "stream",
     "text": [
      "---- Overtime Too many words in a line\n",
      "---- Wifi (WeeFee) Too many words in a line\n"
     ]
    },
    {
     "name": "stderr",
     "output_type": "stream",
     "text": [
      "  8%|▊         | 2068/24878 [00:20<04:21, 87.21it/s]"
     ]
    },
    {
     "name": "stdout",
     "output_type": "stream",
     "text": [
      "---- That Box Too many words in a line\n",
      "XXXX Hitting On All Sevens has no verses\n",
      "---- Sad Circus Too many words in a line\n",
      "---- The Pledge Too many words in a line\n",
      "XXXX She Devil has too many verses\n"
     ]
    },
    {
     "name": "stderr",
     "output_type": "stream",
     "text": [
      "  8%|▊         | 2096/24878 [00:20<04:24, 86.13it/s]"
     ]
    },
    {
     "name": "stdout",
     "output_type": "stream",
     "text": [
      "---- Chilly Rub Too many words in a line\n",
      "---- Fired Too many words in a line\n"
     ]
    },
    {
     "name": "stderr",
     "output_type": "stream",
     "text": [
      "  9%|▊         | 2132/24878 [00:21<04:27, 85.12it/s]"
     ]
    },
    {
     "name": "stdout",
     "output_type": "stream",
     "text": [
      "---- Tell Me If I’m Trippin’ Too many words in a line\n",
      "---- No Gun Control Too many words in a line\n"
     ]
    },
    {
     "name": "stderr",
     "output_type": "stream",
     "text": [
      "  9%|▊         | 2159/24878 [00:21<04:50, 78.09it/s]"
     ]
    },
    {
     "name": "stdout",
     "output_type": "stream",
     "text": [
      "---- It Was An Accident Too many words in a line\n",
      "---- Beef Too many words in a line\n"
     ]
    },
    {
     "name": "stderr",
     "output_type": "stream",
     "text": [
      "  9%|▉         | 2185/24878 [00:21<04:37, 81.72it/s]"
     ]
    },
    {
     "name": "stdout",
     "output_type": "stream",
     "text": [
      "---- Anti Too many words in a line\n",
      "---- Here I Come Too many words in a line\n"
     ]
    },
    {
     "name": "stderr",
     "output_type": "stream",
     "text": [
      "  9%|▉         | 2203/24878 [00:21<04:29, 84.29it/s]"
     ]
    },
    {
     "name": "stdout",
     "output_type": "stream",
     "text": [
      "---- That Owl Too many words in a line\n",
      "XXXX SMB has no verses\n"
     ]
    },
    {
     "name": "stderr",
     "output_type": "stream",
     "text": [
      "  9%|▉         | 2230/24878 [00:22<04:35, 82.30it/s]"
     ]
    },
    {
     "name": "stdout",
     "output_type": "stream",
     "text": [
      "---- Muah Too many words in a line\n",
      "---- 2 Piece Too many words in a line\n",
      "---- Monster Too many words in a line\n"
     ]
    },
    {
     "name": "stderr",
     "output_type": "stream",
     "text": [
      "  9%|▉         | 2257/24878 [00:22<04:32, 82.88it/s]"
     ]
    },
    {
     "name": "stdout",
     "output_type": "stream",
     "text": [
      "---- F.U.N. (Fuck U Niggas) Too many words in a line\n",
      "---- Enter Everready/B.L.E.S.T. Too many words in a line\n",
      "XXXX I Can Feel It has no verses\n",
      "---- Red Necro Too many words in a line\n"
     ]
    },
    {
     "name": "stderr",
     "output_type": "stream",
     "text": [
      "  9%|▉         | 2302/24878 [00:23<04:37, 81.46it/s]"
     ]
    },
    {
     "name": "stdout",
     "output_type": "stream",
     "text": [
      "XXXX Something Else Cover has no verses\n",
      "---- Keep It One Hunit Too many words in a line\n"
     ]
    },
    {
     "name": "stderr",
     "output_type": "stream",
     "text": [
      "  9%|▉         | 2319/24878 [00:23<05:18, 70.92it/s]"
     ]
    },
    {
     "name": "stdout",
     "output_type": "stream",
     "text": [
      "XXXX Hellevator has no verses\n",
      "XXXX Purgatory has no verses\n"
     ]
    },
    {
     "name": "stderr",
     "output_type": "stream",
     "text": [
      "  9%|▉         | 2335/24878 [00:23<05:14, 71.61it/s]"
     ]
    },
    {
     "name": "stdout",
     "output_type": "stream",
     "text": [
      "---- Fucked Up Day Too many words in a line\n",
      "---- One Night Stand Too many words in a line\n"
     ]
    },
    {
     "name": "stderr",
     "output_type": "stream",
     "text": [
      "  9%|▉         | 2352/24878 [00:23<05:01, 74.67it/s]"
     ]
    },
    {
     "name": "stdout",
     "output_type": "stream",
     "text": [
      "XXXX Freaky Lil’ Things has no verses\n",
      "---- Hellbound Too many words in a line\n",
      "XXXX Heaven has no verses\n",
      "---- Mind of a Killer Too many words in a line\n",
      "---- Lost Lair Of B’zle Too many words in a line\n",
      "XXXX Killer Cover has no verses\n",
      "XXXX O Face has no verses\n"
     ]
    },
    {
     "name": "stderr",
     "output_type": "stream",
     "text": [
      " 10%|▉         | 2389/24878 [00:24<04:29, 83.34it/s]"
     ]
    },
    {
     "name": "stdout",
     "output_type": "stream",
     "text": [
      "---- Choking from It Too many words in a line\n",
      "XXXX Twist of Fate has no verses\n",
      "XXXX Call Girlz has too many verses\n",
      "XXXX Never On Mine has no verses\n",
      "XXXX Can’t Quit Now has no verses\n",
      "XXXX Sofa King has no verses\n",
      "XXXX Space has no verses\n",
      "XXXX Blank Zone 2 has no verses\n"
     ]
    },
    {
     "name": "stderr",
     "output_type": "stream",
     "text": [
      " 10%|▉         | 2399/24878 [00:24<04:17, 87.44it/s]"
     ]
    },
    {
     "name": "stdout",
     "output_type": "stream",
     "text": [
      "---- Monstrosity (Unfinished Track) Too many words in a line\n"
     ]
    },
    {
     "name": "stderr",
     "output_type": "stream",
     "text": [
      " 10%|▉         | 2445/24878 [00:25<04:26, 84.19it/s]"
     ]
    },
    {
     "name": "stdout",
     "output_type": "stream",
     "text": [
      "---- Return of the Don Too many words in a line\n",
      "---- It’s a Shame (Da Butcher’s Mix) Too many words in a line\n",
      "XXXX Loyalty has no verses\n"
     ]
    },
    {
     "name": "stderr",
     "output_type": "stream",
     "text": [
      " 10%|▉         | 2466/24878 [00:25<04:02, 92.23it/s]"
     ]
    },
    {
     "name": "stdout",
     "output_type": "stream",
     "text": [
      "XXXX Daddy Figure has no verses\n",
      "XXXX Ill Street Blues (Illest Version) has no verses\n"
     ]
    },
    {
     "name": "stderr",
     "output_type": "stream",
     "text": [
      " 10%|▉         | 2486/24878 [00:25<03:54, 95.42it/s]"
     ]
    },
    {
     "name": "stdout",
     "output_type": "stream",
     "text": [
      "XXXX Hey Mister has no verses\n",
      "XXXX Get A Grip, Take A Sip has no verses\n",
      "XXXX God has no verses\n",
      "---- Hoe Cakes Too many words in a line\n"
     ]
    },
    {
     "name": "stderr",
     "output_type": "stream",
     "text": [
      " 10%|█         | 2516/24878 [00:25<03:59, 93.31it/s]"
     ]
    },
    {
     "name": "stdout",
     "output_type": "stream",
     "text": [
      "---- Kon Queso Too many words in a line\n",
      "---- Guinnesses Too many words in a line\n"
     ]
    },
    {
     "name": "stderr",
     "output_type": "stream",
     "text": [
      " 10%|█         | 2541/24878 [00:25<03:37, 102.90it/s]"
     ]
    },
    {
     "name": "stdout",
     "output_type": "stream",
     "text": [
      "XXXX I Hear Voices Pt.1 has no verses\n",
      "XXXX Fig Leaf Bi-Carbonate has no verses\n",
      "XXXX Gumbo has no verses\n",
      "XXXX Fillet-O-Rapper has no verses\n",
      "XXXX The Time We Faced Doom has too many verses\n",
      "XXXX Coco Mango has no verses\n",
      "XXXX Bells of Doom has no verses\n",
      "---- The Hands of Doom Too many words in a line\n",
      "XXXX Hooks is Extra has no verses\n",
      "---- Doom, Are You Awake? Too many words in a line\n",
      "XXXX Operation: Doomsday Album Covers has no verses\n"
     ]
    },
    {
     "name": "stderr",
     "output_type": "stream",
     "text": [
      " 10%|█         | 2566/24878 [00:26<03:26, 108.06it/s]"
     ]
    },
    {
     "name": "stdout",
     "output_type": "stream",
     "text": [
      "XXXX Bookhead has no verses\n",
      "XXXX Coffin Nails has no verses\n",
      "XXXX Pennyroyal has no verses\n",
      "XXXX Lavender Buds has no verses\n",
      "OOOO Thank Ya has fi\n",
      "XXXX Arrow Root has no verses\n",
      "XXXX Licorice has no verses\n",
      "XXXX Hydrochloric Acid has no verses\n",
      "XXXX Saffron has no verses\n",
      "XXXX Datura Stramonium has no verses\n",
      "XXXX Lemon Grass has no verses\n",
      "XXXX Styrax Gum has no verses\n",
      "XXXX Burdock Root has no verses\n",
      "XXXX White Willow Bark has no verses\n",
      "XXXX Sarsaparilla has no verses\n",
      "XXXX Charnsuka has no verses\n",
      "XXXX Benzoin Gum has no verses\n",
      "XXXX Agrimony has no verses\n"
     ]
    },
    {
     "name": "stderr",
     "output_type": "stream",
     "text": [
      "                                                     \r"
     ]
    },
    {
     "name": "stdout",
     "output_type": "stream",
     "text": [
      "XXXX Eucalyptus has no verses\n",
      "XXXX Mandrake has no verses\n",
      "XXXX Zatar has no verses\n",
      "XXXX Vervain has no verses\n",
      "XXXX Monosodium Glutamate has no verses\n",
      "XXXX Safed Musli has no verses\n",
      "XXXX Dragon’s Blood has no verses\n",
      "XXXX Valerian Root has no verses\n",
      "XXXX Emblica Officinalis has no verses\n",
      "XXXX Arabic Gum has no verses\n",
      "XXXX REIGN.. IN THE SUBWAY has no verses\n",
      "XXXX Vinca Rosea has no verses\n",
      "XXXX Fenugreek has no verses\n",
      "XXXX Jasmine Blossoms has no verses\n",
      "XXXX Kava Kava Root has no verses\n",
      "XXXX Elder Blossoms has no verses\n",
      "XXXX Red #40 has no verses\n",
      "XXXX Bergamot Wild has no verses\n",
      "XXXX Mugwort has no verses\n",
      "XXXX Camphor has no verses\n",
      "XXXX Podina has no verses\n",
      "XXXX Myrrh has no verses\n",
      "XXXX Orris Root Powder has no verses"
     ]
    },
    {
     "name": "stderr",
     "output_type": "stream",
     "text": [
      " 11%|█         | 2627/24878 [00:26<02:48, 132.35it/s]"
     ]
    },
    {
     "name": "stdout",
     "output_type": "stream",
     "text": [
      "\n",
      "XXXX Galangal Root has no verses\n",
      "XXXX Lovage has no verses\n",
      "XXXX Blood Root has no verses\n",
      "XXXX Coriander has no verses\n",
      "XXXX Nettle Leaves has no verses\n",
      "XXXX Calamus has no verses\n",
      "XXXX Star Anis has no verses\n",
      "XXXX Mullein has no verses\n",
      "XXXX Chrysanthemum Flowers has no verses\n",
      "XXXX Buckeyes has no verses\n",
      "XXXX Devil’s Shoestring has no verses\n",
      "XXXX Four Thieves Vinegar has no verses\n",
      "XXXX All Spice has no verses\n",
      "XXXX High John has no verses\n",
      "XXXX Patchouly Leaves has no verses\n",
      "XXXX Orange Blossoms has no verses\n",
      "XXXX Sumac Berries has no verses\n",
      "XXXX Dragon’s Blood - Resin has no verses\n",
      "XXXX Black Snake Root has no verses\n",
      "XXXX What a Nigga Know? has no verses\n",
      "XXXX Calamus Root has no verses\n",
      "XXXX Shallots has no verses\n",
      "XXXX Fo Ti has no verses\n"
     ]
    },
    {
     "name": "stderr",
     "output_type": "stream",
     "text": [
      " 11%|█         | 2641/24878 [00:26<03:09, 117.60it/s]"
     ]
    },
    {
     "name": "stdout",
     "output_type": "stream",
     "text": [
      "XXXX Viktor Vaughn has no verses\n",
      "XXXX Peach Extract has no verses\n",
      "XXXX Act 1 has no verses\n",
      "XXXX Cedar has no verses\n",
      "XXXX Coltsfoot Leaf has no verses\n",
      "XXXX Coca Leaf has no verses\n",
      "XXXX Horehound has no verses\n",
      "XXXX Yellow Dock has no verses\n",
      "XXXX Who Me? has no verses\n",
      "XXXX Myrtle Leaf has no verses\n",
      "XXXX Smokin’ That Shit! has no verses\n",
      "XXXX Hyssop has no verses\n",
      "XXXX Wormwood has no verses\n",
      "XXXX Confusion has no verses\n",
      "XXXX Hoe Cakes (Beatboxappella) has no verses\n",
      "XXXX Humrush has no verses\n",
      "XXXX Spikenard has no verses\n",
      "XXXX Garbage Day #3 has no verses\n",
      "XXXX Passion Flower has no verses\n",
      "XXXX Plumskinzz has no verses\n",
      "XXXX Intermission has no verses\n"
     ]
    },
    {
     "name": "stderr",
     "output_type": "stream",
     "text": [
      " 11%|█         | 2671/24878 [00:27<03:17, 112.27it/s]"
     ]
    },
    {
     "name": "stdout",
     "output_type": "stream",
     "text": [
      "XXXX Contact Blitt has no verses\n",
      "XXXX Act 2 has no verses\n",
      "XXXX Latoya (MF Doom Special Blend) has no verses\n",
      "OOOO Kat-Girl-Real-Time has fi\n",
      "XXXX Want Not Need has no verses\n",
      "XXXX It Sounded Like a Roc! has no verses\n",
      "XXXX Get-U-Now has no verses\n",
      "XXXX Get.the.Feta has no verses\n",
      "XXXX Cinquefoil has no verses\n",
      "XXXX Constipated Monkey has no verses\n",
      "XXXX Doomed has no verses\n",
      "XXXX Bergamot has no verses\n",
      "XXXX Bark has no verses\n"
     ]
    },
    {
     "name": "stderr",
     "output_type": "stream",
     "text": [
      " 11%|█         | 2695/24878 [00:27<04:30, 82.03it/s] "
     ]
    },
    {
     "name": "stdout",
     "output_type": "stream",
     "text": [
      "---- Die Too many words in a line\n",
      "---- Offshore Too many words in a line\n"
     ]
    },
    {
     "name": "stderr",
     "output_type": "stream",
     "text": [
      " 11%|█         | 2753/24878 [00:28<04:44, 77.74it/s]"
     ]
    },
    {
     "name": "stdout",
     "output_type": "stream",
     "text": [
      "XXXX I Don’t Like has no verses\n",
      "XXXX Champion has no verses\n",
      "XXXX Y’all Ready Know Single Cover has no verses\n",
      "---- God Forgive Us Too many words in a line\n",
      "XXXX Who The Fuck Are You? has no verses\n",
      "XXXX Feeining for Glory has no verses\n",
      "XXXX Don’t You Know? has no verses\n",
      "XXXX The Best has no verses\n",
      "XXXX This is the Army (monologue) has no verses\n",
      "XXXX Bitter has no verses\n",
      "XXXX Mr. Rapper has no verses\n",
      "XXXX Some Things has no verses\n",
      "XXXX Rap Mogle has no verses\n",
      "XXXX Fade to Black has no verses\n",
      "XXXX The Best of Times has no verses\n"
     ]
    },
    {
     "name": "stderr",
     "output_type": "stream",
     "text": [
      " 11%|█         | 2786/24878 [00:28<04:08, 88.86it/s]"
     ]
    },
    {
     "name": "stdout",
     "output_type": "stream",
     "text": [
      "XXXX Climb Trees has no verses\n",
      "XXXX Gunz Yo has no verses\n",
      "XXXX Broken Wings has no verses\n",
      "XXXX Different has no verses\n",
      "XXXX Hopeless has no verses\n",
      "XXXX Going Back To Rehab has no verses\n",
      "XXXX Sun vs Moon has no verses\n",
      "XXXX Agony in her Body has no verses\n",
      "XXXX Water Line has no verses\n",
      "XXXX Message Sent has no verses\n",
      "XXXX Civil Disobedience has no verses\n"
     ]
    },
    {
     "name": "stderr",
     "output_type": "stream",
     "text": [
      " 11%|█▏        | 2808/24878 [00:28<04:02, 91.06it/s]"
     ]
    },
    {
     "name": "stdout",
     "output_type": "stream",
     "text": [
      "XXXX UBUNTU has no verses\n",
      "XXXX Specialist has no verses\n",
      "XXXX Mermaids are Seasluts has no verses\n",
      "XXXX Personal Journalist has no verses\n",
      "XXXX Crumble has no verses\n",
      "XXXX I Was Zero has no verses\n",
      "XXXX Diamonds and Pearls has no verses\n",
      "XXXX Threewrite has no verses\n",
      "XXXX Call Me Francois has no verses\n",
      "XXXX Rewrite has no verses\n",
      "XXXX Narcissist has no verses\n"
     ]
    },
    {
     "name": "stderr",
     "output_type": "stream",
     "text": [
      " 11%|█▏        | 2832/24878 [00:29<03:39, 100.28it/s]"
     ]
    },
    {
     "name": "stdout",
     "output_type": "stream",
     "text": [
      "XXXX Eviction Notice has no verses\n",
      "XXXX Good Fashion has no verses\n",
      "XXXX Jah Didn’t Kill Johnny has no verses\n",
      "XXXX Cup of Tea has no verses\n",
      "XXXX Black Sweatshirt has no verses\n",
      "XXXX Product Placement has no verses\n",
      "XXXX Lie Detector Test has no verses\n",
      "XXXX 16 Years has no verses\n",
      "XXXX Hey Bobby has no verses\n",
      "XXXX My Name is Strange has no verses\n",
      "XXXX Pitchers of silence has no verses\n",
      "XXXX Buckets of Silence has no verses\n",
      "XXXX Strange Famous Spoken Word has no verses\n",
      "XXXX Slow Man has no verses\n"
     ]
    },
    {
     "name": "stderr",
     "output_type": "stream",
     "text": [
      " 11%|█▏        | 2854/24878 [00:29<03:42, 99.04it/s] "
     ]
    },
    {
     "name": "stdout",
     "output_type": "stream",
     "text": [
      "XXXX Cafe Girl has no verses\n",
      "XXXX Mourning Aftermath has no verses\n",
      "XXXX Mullet has no verses\n",
      "XXXX The Write has no verses\n",
      "XXXX I Apologize has no verses\n",
      "XXXX All Word No Play has no verses\n",
      "XXXX Slow Down Ghandi has no verses\n",
      "XXXX Life is What Distracts You From Death has no verses\n",
      "XXXX Damage has no verses\n",
      "XXXX Emperor’s New Clothing has no verses\n",
      "XXXX Whore Monger has no verses\n",
      "XXXX Killing Time has no verses\n",
      "XXXX Hang Time (Boogie Bang Boogie) has no verses\n",
      "XXXX The Strange Famous Mullet Remover has no verses\n",
      "XXXX Inner Conflict has no verses\n",
      "---- I Trusted You Too many words in a line\n",
      "XXXX Rewrite (50 Ways) has no verses\n"
     ]
    },
    {
     "name": "stderr",
     "output_type": "stream",
     "text": [
      " 12%|█▏        | 2884/24878 [00:29<03:04, 119.38it/s]"
     ]
    },
    {
     "name": "stdout",
     "output_type": "stream",
     "text": [
      "XXXX Vital Signs has no verses\n",
      "XXXX Doomage has no verses\n",
      "XXXX Tree of Knowledge has no verses\n",
      "XXXX Who’s Crying has no verses\n",
      "---- Broccilude Too many words in a line\n",
      "XXXX I Keep Calling has no verses\n",
      "---- Gimme Dat Too many words in a line\n",
      "XXXX House of Bees has no verses\n",
      "XXXX Not What I Am has no verses\n",
      "XXXX Bounce has no verses\n",
      "XXXX Garden Gnomes has no verses\n",
      "XXXX Eye Of The Tiger has no verses\n",
      "XXXX Days Grow Old has no verses\n",
      "XXXX Dirty Mac has no verses\n",
      "XXXX There Is a Better Way has no verses\n",
      "XXXX The Masters Are Back (Non-Prophets) has no verses\n",
      "XXXX Tree of Knowledge (spoken word) has no verses\n",
      "XXXX Bridle Extended (SOS 05) has no verses\n",
      "XXXX Testimony has no verses\n",
      "XXXX Threewrite (Non-Prophets) has no verses\n",
      "XXXX Ubuntu (Water Into Wine) has no verses\n",
      "XXXX Copper Gone Tour Press Conference (Spoof) has too many verses\n",
      "XXXX Origin To Descent has no verses\n",
      "XXXX Jaw of Steel has no verses\n",
      "XXXX Strange Famous has no verses\n",
      "XXXX Strange Fame has no verses\n"
     ]
    },
    {
     "name": "stderr",
     "output_type": "stream",
     "text": [
      " 12%|█▏        | 2913/24878 [00:29<03:09, 115.62it/s]"
     ]
    },
    {
     "name": "stdout",
     "output_type": "stream",
     "text": [
      "XXXX Stuck (f. Slug) has no verses\n",
      "XXXX Flashback (1996) has no verses\n",
      "XXXX Broccoli Break has no verses\n",
      "XXXX Kiddie Litter has no verses\n",
      "XXXX Next Testament (Gimme Fund 04) has no verses\n",
      "OOOO Souvenier (Non-Prophets) has fr\n",
      "XXXX Flashback 96 has no verses\n",
      "XXXX Makeshift Patriot (Gruvis Malt 03) has no verses\n",
      "XXXX Jesus In A Bowl Of Germs has no verses\n",
      "XXXX The Pastor Sleeps Fine has no verses\n",
      "XXXX Specialist (Gruvis Malt 03) has no verses\n",
      "XXXX Broken Wings (Gruvis Malt 03) has no verses\n",
      "XXXX Needle has no verses\n",
      "XXXX Her Schlag has no verses\n",
      "XXXX Runaways (Gruvis Malt 03) has no verses\n",
      "XXXX Apathy And Sage On Tone Capone’s Show (90.3 WRIU) has no verses\n"
     ]
    },
    {
     "name": "stderr",
     "output_type": "stream",
     "text": [
      " 12%|█▏        | 2938/24878 [00:29<03:27, 105.82it/s]"
     ]
    },
    {
     "name": "stdout",
     "output_type": "stream",
     "text": [
      "XXXX Conflict has no verses\n",
      "XXXX Slow Down Gandhi (album version) has no verses\n",
      "XXXX Underbite Ben Finds God has no verses\n",
      "XXXX The Weak Link has no verses\n",
      "XXXX Slow Down Gandhi (a cappella explicit) has no verses\n",
      "XXXX Hey Bobby (a cappella explicit) has no verses\n",
      "XXXX S.A.G.E. Bastard has no verses\n",
      "XXXX Slow Down Gandhi (clean version) has no verses\n",
      "XXXX Slow Down Gandhi (a cappella clean) has no verses\n",
      "---- ALIENated Too many words in a line\n"
     ]
    },
    {
     "name": "stderr",
     "output_type": "stream",
     "text": [
      " 12%|█▏        | 3005/24878 [00:30<03:32, 103.14it/s]"
     ]
    },
    {
     "name": "stdout",
     "output_type": "stream",
     "text": [
      "XXXX Like This has no verses\n",
      "XXXX Over Wit has no verses\n",
      "---- EarlyBird Nightowl Too many words in a line\n",
      "XXXX The Recap has no verses\n",
      "XXXX Checkmate has no verses\n",
      "XXXX The Great has no verses\n",
      "---- End of Days Too many words in a line\n",
      "---- You Can’t Be Neutral On a Moving Train Too many words in a line\n"
     ]
    },
    {
     "name": "stderr",
     "output_type": "stream",
     "text": [
      " 12%|█▏        | 3027/24878 [00:30<03:47, 96.08it/s] "
     ]
    },
    {
     "name": "stdout",
     "output_type": "stream",
     "text": [
      "---- Slum Chemist Too many words in a line\n"
     ]
    },
    {
     "name": "stderr",
     "output_type": "stream",
     "text": [
      " 12%|█▏        | 3048/24878 [00:31<03:43, 97.87it/s]"
     ]
    },
    {
     "name": "stdout",
     "output_type": "stream",
     "text": [
      "---- Kill ’em All Too many words in a line\n",
      "---- Jake LaMotta Too many words in a line\n",
      "---- Washed in the Blood of the Lamb Too many words in a line\n",
      "---- 7 Fires of Prophecy Too many words in a line\n"
     ]
    },
    {
     "name": "stderr",
     "output_type": "stream",
     "text": [
      " 12%|█▏        | 3069/24878 [00:31<03:41, 98.52it/s]"
     ]
    },
    {
     "name": "stdout",
     "output_type": "stream",
     "text": [
      "---- A Power Governments Cannot Suppress Too many words in a line\n",
      "---- Crime Wave Tehran Too many words in a line\n",
      "---- Hashem on a Pentagram Too many words in a line\n"
     ]
    },
    {
     "name": "stderr",
     "output_type": "stream",
     "text": [
      " 13%|█▎        | 3125/24878 [00:31<03:25, 105.61it/s]"
     ]
    },
    {
     "name": "stdout",
     "output_type": "stream",
     "text": [
      "---- True Lies Too many words in a line\n",
      "XXXX Raw is War has no verses\n",
      "---- Folklore Too many words in a line\n",
      "XXXX Power of Music (Promo) has no verses\n"
     ]
    },
    {
     "name": "stderr",
     "output_type": "stream",
     "text": [
      " 13%|█▎        | 3147/24878 [00:32<03:45, 96.19it/s] "
     ]
    },
    {
     "name": "stdout",
     "output_type": "stream",
     "text": [
      "XXXX Terrorizer has no verses\n",
      "OOOO Uncommon valor has it\n"
     ]
    },
    {
     "name": "stderr",
     "output_type": "stream",
     "text": [
      " 13%|█▎        | 3167/24878 [00:32<04:09, 87.18it/s]"
     ]
    },
    {
     "name": "stdout",
     "output_type": "stream",
     "text": [
      "XXXX Sam Peckinpah has too many verses\n"
     ]
    },
    {
     "name": "stderr",
     "output_type": "stream",
     "text": [
      " 13%|█▎        | 3185/24878 [00:32<04:32, 79.50it/s]"
     ]
    },
    {
     "name": "stdout",
     "output_type": "stream",
     "text": [
      "---- Who Do We Trust? Too many words in a line\n"
     ]
    },
    {
     "name": "stderr",
     "output_type": "stream",
     "text": [
      " 13%|█▎        | 3203/24878 [00:32<04:25, 81.67it/s]"
     ]
    },
    {
     "name": "stdout",
     "output_type": "stream",
     "text": [
      "XXXX Uncommon Valor (R.A. the Rugged Man’s Verse Only) has no verses\n",
      "---- The Big Snatch Too many words in a line\n",
      "XXXX Sam Pecknpah has no verses\n"
     ]
    },
    {
     "name": "stderr",
     "output_type": "stream",
     "text": [
      " 13%|█▎        | 3232/24878 [00:33<04:08, 87.15it/s]"
     ]
    },
    {
     "name": "stdout",
     "output_type": "stream",
     "text": [
      "XXXX Break Down The Walls [Chris Jericho Theme] has no verses\n"
     ]
    },
    {
     "name": "stderr",
     "output_type": "stream",
     "text": [
      " 13%|█▎        | 3251/24878 [00:33<04:14, 84.94it/s]"
     ]
    },
    {
     "name": "stdout",
     "output_type": "stream",
     "text": [
      "---- Every Record Label Sux Dikk Pt. 2 Too many words in a line\n",
      "XXXX Razor Gloves (feat. R.A. the Rugged Man) has no verses\n",
      "---- Clarity Too many words in a line\n"
     ]
    },
    {
     "name": "stderr",
     "output_type": "stream",
     "text": [
      " 13%|█▎        | 3292/24878 [00:33<03:53, 92.48it/s]"
     ]
    },
    {
     "name": "stdout",
     "output_type": "stream",
     "text": [
      "---- Anxiety Too many words in a line\n",
      "OOOO David’s Roof has es\n"
     ]
    },
    {
     "name": "stderr",
     "output_type": "stream",
     "text": [
      " 13%|█▎        | 3335/24878 [00:34<03:31, 101.79it/s]"
     ]
    },
    {
     "name": "stdout",
     "output_type": "stream",
     "text": [
      "---- I ain’t done (Beam Version).aif Too many words in a line\n",
      "---- Hands High Too many words in a line\n",
      "---- 12 Days of Christmas Too many words in a line\n",
      "---- Sword Fight Too many words in a line\n",
      "---- Podcast-Clip-1.wav Too many words in a line\n",
      "---- The Cross Too many words in a line\n",
      "---- Podcast-Clip-3.wav Too many words in a line\n",
      "---- Night of the Living Dead Too many words in a line\n"
     ]
    },
    {
     "name": "stderr",
     "output_type": "stream",
     "text": [
      " 14%|█▎        | 3364/24878 [00:34<03:03, 117.21it/s]"
     ]
    },
    {
     "name": "stdout",
     "output_type": "stream",
     "text": [
      "---- Washed Too many words in a line\n",
      "---- Podcast-Clip-4.wav Too many words in a line\n",
      "---- Podcast-Clip-8.wav Too many words in a line\n",
      "---- Sermon Jam 1 (Ravi Zacharias & Rich Perez) Too many words in a line\n",
      "---- Podcast-Clip-7.wav Too many words in a line\n",
      "---- Podcast-Clip-5.wav Too many words in a line\n",
      "---- Podcast-Clip-10.wav Too many words in a line\n",
      "---- Podcast-Clip-9.wav Too many words in a line\n",
      "XXXX They Don’t Want the Smoke* has no verses\n",
      "XXXX Pulpit has no verses\n",
      "XXXX When You Know has no verses\n",
      "XXXX Shoot Your Shot has no verses\n",
      "XXXX Wait Too Long has no verses\n",
      "XXXX Somehow has no verses\n",
      "XXXX Funeral has no verses\n"
     ]
    },
    {
     "name": "stderr",
     "output_type": "stream",
     "text": [
      " 14%|█▎        | 3388/24878 [00:34<03:42, 96.41it/s] "
     ]
    },
    {
     "name": "stdout",
     "output_type": "stream",
     "text": [
      "---- The Wormhole Too many words in a line\n",
      "---- The Proud Too many words in a line\n",
      "XXXX Love Language has no verses\n",
      "XXXX It Only Gets Better has no verses\n"
     ]
    },
    {
     "name": "stderr",
     "output_type": "stream",
     "text": [
      " 14%|█▎        | 3420/24878 [00:35<03:46, 94.89it/s]"
     ]
    },
    {
     "name": "stdout",
     "output_type": "stream",
     "text": [
      "XXXX Hell has no verses\n",
      "XXXX Ready Set Go has no verses\n",
      "---- Inner Monologue Too many words in a line\n",
      "XXXX Talib Kweli’s Top 100 Hip Hop Albums has no verses\n",
      "---- Gratitude Too many words in a line\n"
     ]
    },
    {
     "name": "stderr",
     "output_type": "stream",
     "text": [
      " 14%|█▍        | 3472/24878 [00:35<03:44, 95.30it/s]"
     ]
    },
    {
     "name": "stdout",
     "output_type": "stream",
     "text": [
      "XXXX On Being Surveilled and Detained by the FBI and CIA has no verses\n",
      "XXXX The Manifesto has no verses\n",
      "---- Lord Of The Light Too many words in a line\n",
      "XXXX Nelson Mandela has no verses\n"
     ]
    },
    {
     "name": "stderr",
     "output_type": "stream",
     "text": [
      " 14%|█▍        | 3492/24878 [00:35<03:51, 92.42it/s]"
     ]
    },
    {
     "name": "stdout",
     "output_type": "stream",
     "text": [
      "XXXX “Know your enemy, know yourself, that’s the politic.” (Dead Prez) has no verses\n",
      "XXXX Talib Kweli’s Top 100 Songs has no verses\n",
      "---- Peace of Mind Too many words in a line\n",
      "XXXX Distractions has no verses\n",
      "XXXX After the Rain has too many verses\n"
     ]
    },
    {
     "name": "stderr",
     "output_type": "stream",
     "text": [
      " 14%|█▍        | 3512/24878 [00:36<03:51, 92.39it/s]"
     ]
    },
    {
     "name": "stdout",
     "output_type": "stream",
     "text": [
      "---- Nice Things Too many words in a line\n",
      "---- Some Kind of Wonderful Too many words in a line\n",
      "XXXX City Playgrounds has no verses\n",
      "XXXX Open letter to President Barack Obama (2008) has no verses\n"
     ]
    },
    {
     "name": "stderr",
     "output_type": "stream",
     "text": [
      " 14%|█▍        | 3545/24878 [00:36<03:30, 101.53it/s]"
     ]
    },
    {
     "name": "stdout",
     "output_type": "stream",
     "text": [
      "XXXX Lunchroom Classics has too many verses\n",
      "XXXX In This World has no verses\n",
      "XXXX Got Work has no verses\n",
      "XXXX My Life has no verses\n",
      "XXXX Bushonomics has no verses\n",
      "XXXX Midnight Hour has no verses\n",
      "XXXX Strangers [paranoid] - feat. bun b has no verses\n"
     ]
    },
    {
     "name": "stderr",
     "output_type": "stream",
     "text": [
      " 14%|█▍        | 3568/24878 [00:36<03:23, 104.48it/s]"
     ]
    },
    {
     "name": "stdout",
     "output_type": "stream",
     "text": [
      "XXXX Down For The Count has no verses\n",
      "---- Young Man Too many words in a line\n",
      "XXXX Get By (clean) has no verses\n",
      "XXXX Name Of The Game has no verses\n",
      "XXXX Where Do We Go (Dedicated to Weldon Irvine) has no verses\n",
      "XXXX In The Red has no verses\n",
      "OOOO Abra Cadabra has id\n",
      "XXXX What I Feel has no verses\n",
      "XXXX Get By (dirty) has no verses\n",
      "XXXX Long Hot Summer has no verses\n",
      "XXXX Lifting Off has no verses\n"
     ]
    },
    {
     "name": "stderr",
     "output_type": "stream",
     "text": [
      " 14%|█▍        | 3597/24878 [00:36<02:59, 118.26it/s]"
     ]
    },
    {
     "name": "stdout",
     "output_type": "stream",
     "text": [
      "XXXX Get Back, Pt. 2 has no verses\n",
      "XXXX Only Gets Better has no verses\n",
      "XXXX Go Now has no verses\n",
      "XXXX The Bridge has no verses\n",
      "---- Turn Down For What? Turn Up For The Dream Defenders Too many words in a line\n",
      "XXXX What They May Seem has too many verses\n",
      "XXXX Here We Go has no verses\n",
      "XXXX Theme From Hi Tek has no verses\n",
      "---- Mos Def Speaks Too many words in a line\n",
      "---- Hi-Tek Tone Too many words in a line\n",
      "XXXX Here We Go (A Cappella) has no verses\n",
      "XXXX Say Something (album version) has no verses\n",
      "XXXX Get By (a cappella) has no verses\n",
      "XXXX Say Something (a cappella) has no verses\n"
     ]
    },
    {
     "name": "stderr",
     "output_type": "stream",
     "text": [
      " 15%|█▍        | 3644/24878 [00:37<03:37, 97.75it/s] "
     ]
    },
    {
     "name": "stdout",
     "output_type": "stream",
     "text": [
      "XXXX Garlic Mashed Potatoes has no verses\n",
      "---- Riverdale Rd Too many words in a line\n"
     ]
    },
    {
     "name": "stderr",
     "output_type": "stream",
     "text": [
      " 15%|█▍        | 3674/24878 [00:37<03:43, 94.86it/s]"
     ]
    },
    {
     "name": "stdout",
     "output_type": "stream",
     "text": [
      "---- Trap Back Too many words in a line\n"
     ]
    },
    {
     "name": "stderr",
     "output_type": "stream",
     "text": [
      " 15%|█▍        | 3705/24878 [00:37<03:41, 95.49it/s]"
     ]
    },
    {
     "name": "stdout",
     "output_type": "stream",
     "text": [
      "---- Burglar Bars Too many words in a line\n",
      "---- I Feel Like Too many words in a line\n"
     ]
    },
    {
     "name": "stderr",
     "output_type": "stream",
     "text": [
      " 15%|█▍        | 3726/24878 [00:38<03:36, 97.62it/s]"
     ]
    },
    {
     "name": "stdout",
     "output_type": "stream",
     "text": [
      "---- Ghetto Too many words in a line\n",
      "---- Get Out the Bed Too many words in a line\n",
      "---- Here We Go Again Too many words in a line\n",
      "---- LAMBORGHINI TRUCK (ATLANTA SHIT) Too many words in a line\n"
     ]
    },
    {
     "name": "stderr",
     "output_type": "stream",
     "text": [
      " 15%|█▌        | 3758/24878 [00:38<03:27, 101.97it/s]"
     ]
    },
    {
     "name": "stdout",
     "output_type": "stream",
     "text": [
      "---- Don’t Do It Too many words in a line\n"
     ]
    },
    {
     "name": "stderr",
     "output_type": "stream",
     "text": [
      " 15%|█▌        | 3781/24878 [00:38<03:20, 105.03it/s]"
     ]
    },
    {
     "name": "stdout",
     "output_type": "stream",
     "text": [
      "XXXX Crab Cakes With Mango Salsa has no verses\n",
      "XXXX Sautéed Asparagus / “Me Time” Sauce has no verses\n",
      "XXXX Fried Chicken has no verses\n",
      "XXXX Garlicky Green Beans / Smoky Kale Greens has no verses\n",
      "XXXX Shrimp & Grits has no verses\n",
      "XXXX Teriyaki Salmon has no verses\n",
      "XXXX Problem has no verses\n",
      "XXXX Chicken Marsala has no verses\n"
     ]
    },
    {
     "name": "stderr",
     "output_type": "stream",
     "text": [
      " 15%|█▌        | 3809/24878 [00:38<03:02, 115.66it/s]"
     ]
    },
    {
     "name": "stdout",
     "output_type": "stream",
     "text": [
      "XXXX 2 of Everything has no verses\n",
      "XXXX Im Winning has no verses\n",
      "XXXX Shrimp Scampi has no verses\n",
      "XXXX Herb-Crusted Lamb Rib Chops / Beer-Steamed Snow Crab Legs has no verses\n",
      "---- Supafly Too many words in a line\n",
      "XXXX Rich As F#ck has no verses\n",
      "XXXX U.o.e.n.o has no verses\n",
      "XXXX Dey Know has no verses\n",
      "---- Money Makin Mission Too many words in a line\n",
      "XXXX Spend It (Ridin Round & Gettin It) has no verses\n",
      "XXXX Infatuated has no verses\n",
      "XXXX I am different has no verses\n",
      "XXXX Pan-Seared Sea Bass With Heirloom Tomato Salsa has no verses\n"
     ]
    },
    {
     "name": "stderr",
     "output_type": "stream",
     "text": [
      " 15%|█▌        | 3837/24878 [00:39<02:46, 126.19it/s]"
     ]
    },
    {
     "name": "stdout",
     "output_type": "stream",
     "text": [
      "XXXX Snitches Aint has no verses\n",
      "XXXX Ball Ring has no verses\n",
      "XXXX All i Do is Me has no verses\n",
      "XXXX Mixed Seafood Grill Kebabs has no verses\n",
      "XXXX I’m Wit It (feat. 2 Chainz) has no verses\n",
      "---- Zipped Up Too many words in a line\n",
      "XXXX Leggo has no verses\n",
      "XXXX Hoodrich Anthem has no verses\n",
      "XXXX Do My Dance by 2 Chainz has no verses\n",
      "XXXX Drug Lord has no verses\n",
      "XXXX Get It Back has no verses\n",
      "XXXX Dope Boy has no verses\n"
     ]
    },
    {
     "name": "stderr",
     "output_type": "stream",
     "text": [
      " 16%|█▌        | 3864/24878 [00:39<02:49, 124.05it/s]"
     ]
    },
    {
     "name": "stdout",
     "output_type": "stream",
     "text": [
      "XXXX Charades has no verses\n",
      "XXXX Where U Been? Single Art has no verses\n",
      "XXXX Sweetest joy has no verses\n",
      "XXXX Niggaz has no verses\n",
      "XXXX Dope Came With A Lighter has no verses\n",
      "XXXX Don’t bring me down - ex amnesia has no verses\n",
      "XXXX News for you has no verses\n",
      "XXXX Yuck! - Chopped Not Slopped has no verses\n",
      "XXXX Stop me now - chopped not slopped has no verses\n",
      "---- DJ Drama Checks In Too many words in a line\n",
      "XXXX Extremely blessed - chopped not slopped has no verses\n",
      "XXXX B ft king von has no verses\n"
     ]
    },
    {
     "name": "stderr",
     "output_type": "stream",
     "text": [
      " 16%|█▌        | 3910/24878 [00:39<03:50, 90.82it/s] "
     ]
    },
    {
     "name": "stdout",
     "output_type": "stream",
     "text": [
      "---- Bigger Than Me Too many words in a line\n",
      "---- Nothing Is Stopping You Too many words in a line\n"
     ]
    },
    {
     "name": "stderr",
     "output_type": "stream",
     "text": [
      " 16%|█▌        | 3951/24878 [00:40<04:02, 86.44it/s]"
     ]
    },
    {
     "name": "stdout",
     "output_type": "stream",
     "text": [
      "---- Platinum and Wood Too many words in a line\n"
     ]
    },
    {
     "name": "stderr",
     "output_type": "stream",
     "text": [
      " 16%|█▌        | 3979/24878 [00:40<03:50, 90.55it/s]"
     ]
    },
    {
     "name": "stdout",
     "output_type": "stream",
     "text": [
      "XXXX Freaky has no verses\n",
      "XXXX High Rise has no verses\n"
     ]
    },
    {
     "name": "stderr",
     "output_type": "stream",
     "text": [
      " 16%|█▌        | 4001/24878 [00:40<03:34, 97.36it/s]"
     ]
    },
    {
     "name": "stdout",
     "output_type": "stream",
     "text": [
      "XXXX Say You Will has no verses\n",
      "XXXX Love Story has no verses\n",
      "XXXX Five Bucks has no verses\n"
     ]
    },
    {
     "name": "stderr",
     "output_type": "stream",
     "text": [
      " 16%|█▌        | 4024/24878 [00:41<03:36, 96.55it/s] "
     ]
    },
    {
     "name": "stdout",
     "output_type": "stream",
     "text": [
      "---- Story by Snoop Lion Too many words in a line\n",
      "---- Story by Common Too many words in a line\n",
      "XXXX Rollin’ has no verses\n",
      "---- Story by Young Jeezy Too many words in a line\n",
      "---- Story to Tell Too many words in a line\n"
     ]
    },
    {
     "name": "stderr",
     "output_type": "stream",
     "text": [
      " 16%|█▋        | 4047/24878 [00:41<03:24, 101.63it/s]"
     ]
    },
    {
     "name": "stdout",
     "output_type": "stream",
     "text": [
      "XXXX Deep (CyHi the Prynce Verse) has no verses\n",
      "---- Last For Life Too many words in a line\n",
      "XXXX Focus has no verses\n",
      "XXXX Not Good Enough has no verses\n",
      "XXXX I Don’t Think They Want It has no verses\n"
     ]
    },
    {
     "name": "stderr",
     "output_type": "stream",
     "text": [
      "                                                     "
     ]
    },
    {
     "name": "stdout",
     "output_type": "stream",
     "text": [
      "---- Studio Love Too many words in a line\n",
      "XXXX Outti has no verses\n",
      "XXXX Take Me Away has no verses\n",
      "XXXX Blog has no verses\n"
     ]
    },
    {
     "name": "stderr",
     "output_type": "stream",
     "text": [
      " 16%|█▋        | 4092/24878 [00:41<03:42, 93.26it/s] "
     ]
    },
    {
     "name": "stdout",
     "output_type": "stream",
     "text": [
      "XXXX What U Doin ‘Bull$#!@ing’ has no verses\n",
      "---- Boblo Boat Too many words in a line\n"
     ]
    },
    {
     "name": "stderr",
     "output_type": "stream",
     "text": [
      " 16%|█▋        | 4102/24878 [00:41<04:19, 80.14it/s]"
     ]
    },
    {
     "name": "stdout",
     "output_type": "stream",
     "text": [
      "---- Layers Too many words in a line\n"
     ]
    },
    {
     "name": "stderr",
     "output_type": "stream",
     "text": [
      " 17%|█▋        | 4119/24878 [00:42<04:51, 71.10it/s]"
     ]
    },
    {
     "name": "stdout",
     "output_type": "stream",
     "text": [
      "---- Pendulum Too many words in a line\n",
      "---- N My Zone : Mask Off Too many words in a line\n",
      "---- Field Negro Too many words in a line\n",
      "---- Gottaknow Too many words in a line\n"
     ]
    },
    {
     "name": "stderr",
     "output_type": "stream",
     "text": [
      " 17%|█▋        | 4146/24878 [00:42<04:24, 78.43it/s]"
     ]
    },
    {
     "name": "stdout",
     "output_type": "stream",
     "text": [
      "---- Pray Too many words in a line\n",
      "---- C. Delores Too many words in a line\n"
     ]
    },
    {
     "name": "stderr",
     "output_type": "stream",
     "text": [
      " 17%|█▋        | 4165/24878 [00:42<04:11, 82.40it/s]"
     ]
    },
    {
     "name": "stdout",
     "output_type": "stream",
     "text": [
      "---- Combat Too many words in a line\n",
      "---- Nickle-9ne-Alooya Too many words in a line\n"
     ]
    },
    {
     "name": "stderr",
     "output_type": "stream",
     "text": [
      " 17%|█▋        | 4194/24878 [00:43<04:01, 85.79it/s]"
     ]
    },
    {
     "name": "stdout",
     "output_type": "stream",
     "text": [
      "---- Misses Too many words in a line\n",
      "---- Layers (The Bar Exam 4) Too many words in a line\n"
     ]
    },
    {
     "name": "stderr",
     "output_type": "stream",
     "text": [
      " 17%|█▋        | 4215/24878 [00:43<03:45, 91.45it/s]"
     ]
    },
    {
     "name": "stdout",
     "output_type": "stream",
     "text": [
      "XXXX Acapella has no verses\n",
      "XXXX Slaughter has no verses\n"
     ]
    },
    {
     "name": "stderr",
     "output_type": "stream",
     "text": [
      " 17%|█▋        | 4245/24878 [00:43<03:39, 94.03it/s]"
     ]
    },
    {
     "name": "stdout",
     "output_type": "stream",
     "text": [
      "---- Most Wanted Too many words in a line\n",
      "---- It’s Tuesday Too many words in a line\n"
     ]
    },
    {
     "name": "stderr",
     "output_type": "stream",
     "text": [
      " 17%|█▋        | 4287/24878 [00:44<03:27, 99.43it/s]"
     ]
    },
    {
     "name": "stdout",
     "output_type": "stream",
     "text": [
      "XXXX Malcom X has no verses\n",
      "---- On the Run Too many words in a line\n",
      "XXXX New Money has too many verses\n",
      "XXXX Can’t Nobody Stop Me has too many verses\n"
     ]
    },
    {
     "name": "stderr",
     "output_type": "stream",
     "text": [
      " 17%|█▋        | 4309/24878 [00:44<03:31, 97.20it/s] "
     ]
    },
    {
     "name": "stdout",
     "output_type": "stream",
     "text": [
      "XXXX Jockin’ My Fresh has no verses\n",
      "XXXX I Owe You has no verses\n",
      "---- Independent’s Day Too many words in a line\n"
     ]
    },
    {
     "name": "stderr",
     "output_type": "stream",
     "text": [
      " 17%|█▋        | 4331/24878 [00:44<03:26, 99.38it/s]"
     ]
    },
    {
     "name": "stdout",
     "output_type": "stream",
     "text": [
      "XXXX Make This Run has too many verses\n"
     ]
    },
    {
     "name": "stderr",
     "output_type": "stream",
     "text": [
      " 17%|█▋        | 4353/24878 [00:44<03:19, 102.99it/s]"
     ]
    },
    {
     "name": "stdout",
     "output_type": "stream",
     "text": [
      "XXXX Back In The Days has no verses\n",
      "XXXX D-Elite has no verses\n",
      "XXXX I’m Strapped has no verses\n",
      "XXXX D-Elite Part 2 has no verses\n"
     ]
    },
    {
     "name": "stderr",
     "output_type": "stream",
     "text": [
      " 18%|█▊        | 4375/24878 [00:44<03:24, 100.08it/s]"
     ]
    },
    {
     "name": "stdout",
     "output_type": "stream",
     "text": [
      "---- 8-11 Too many words in a line\n",
      "XXXX Apologize has no verses\n",
      "XXXX You Can Make It has no verses\n",
      "XXXX 2 Of A Kind has no verses\n"
     ]
    },
    {
     "name": "stderr",
     "output_type": "stream",
     "text": [
      " 18%|█▊        | 4399/24878 [00:45<03:40, 92.86it/s] "
     ]
    },
    {
     "name": "stdout",
     "output_type": "stream",
     "text": [
      "XXXX Go Back has no verses\n",
      "XXXX Extra Ordinary has no verses\n",
      "XXXX Detroit has no verses\n",
      "---- Idols Become Rivals Too many words in a line\n"
     ]
    },
    {
     "name": "stderr",
     "output_type": "stream",
     "text": [
      " 18%|█▊        | 4419/24878 [00:45<03:41, 92.51it/s]"
     ]
    },
    {
     "name": "stdout",
     "output_type": "stream",
     "text": [
      "---- Nobody Too many words in a line\n",
      "---- War Ready Too many words in a line\n",
      "---- Box Chevy Too many words in a line\n",
      "---- Drug Dealer’s Dream Too many words in a line\n"
     ]
    },
    {
     "name": "stderr",
     "output_type": "stream",
     "text": [
      " 18%|█▊        | 4440/24878 [00:45<03:30, 96.91it/s]"
     ]
    },
    {
     "name": "stdout",
     "output_type": "stream",
     "text": [
      "---- Ten Jesus Pieces Too many words in a line\n",
      "---- Tears of Joy Too many words in a line\n",
      "---- High Definition Too many words in a line\n",
      "---- Foreclosures Too many words in a line\n"
     ]
    },
    {
     "name": "stderr",
     "output_type": "stream",
     "text": [
      " 18%|█▊        | 4490/24878 [00:46<03:41, 92.13it/s]"
     ]
    },
    {
     "name": "stdout",
     "output_type": "stream",
     "text": [
      "---- You Know I Got It (Reprise) Too many words in a line\n"
     ]
    },
    {
     "name": "stderr",
     "output_type": "stream",
     "text": [
      " 18%|█▊        | 4520/24878 [00:46<03:48, 88.94it/s]"
     ]
    },
    {
     "name": "stdout",
     "output_type": "stream",
     "text": [
      "---- Triple Platinum Too many words in a line\n",
      "---- Trap Luv Too many words in a line\n"
     ]
    },
    {
     "name": "stderr",
     "output_type": "stream",
     "text": [
      " 18%|█▊        | 4541/24878 [00:46<03:37, 93.48it/s]"
     ]
    },
    {
     "name": "stdout",
     "output_type": "stream",
     "text": [
      "XXXX Shots Fired has no verses\n",
      "---- I Still Pray Too many words in a line\n"
     ]
    },
    {
     "name": "stderr",
     "output_type": "stream",
     "text": [
      " 18%|█▊        | 4571/24878 [00:47<03:40, 92.10it/s]"
     ]
    },
    {
     "name": "stdout",
     "output_type": "stream",
     "text": [
      "---- We Gon Make It Too many words in a line\n"
     ]
    },
    {
     "name": "stderr",
     "output_type": "stream",
     "text": [
      " 19%|█▊        | 4646/24878 [00:47<03:24, 98.94it/s]"
     ]
    },
    {
     "name": "stdout",
     "output_type": "stream",
     "text": [
      "XXXX Gone To The Moon has no verses\n",
      "XXXX Buried in the Streets has no verses\n",
      "---- Chuck D Speaks / Devil In A New Dress Too many words in a line\n"
     ]
    },
    {
     "name": "stderr",
     "output_type": "stream",
     "text": [
      " 19%|█▉        | 4668/24878 [00:48<03:22, 99.56it/s]"
     ]
    },
    {
     "name": "stdout",
     "output_type": "stream",
     "text": [
      "XXXX Push Em Over has no verses\n",
      "---- Short-Pissing Addict Too many words in a line\n",
      "XXXX Push It Rmx has no verses\n",
      "XXXX Super Cindy has no verses\n",
      "XXXX I’m So High has no verses\n"
     ]
    },
    {
     "name": "stderr",
     "output_type": "stream",
     "text": [
      " 19%|█▉        | 4706/24878 [00:48<03:01, 111.13it/s]"
     ]
    },
    {
     "name": "stdout",
     "output_type": "stream",
     "text": [
      "XXXX Party Heart has no verses\n",
      "XXXX Rick Ross’ Tattoos has no verses\n",
      "XXXX Yeah ok has no verses\n",
      "XXXX Maybach Music 2 (album clean) has no verses\n",
      "---- Dirty White Speaks / Make Em Say Huh Too many words in a line\n",
      "XXXX Soft has no verses\n",
      "XXXX Kush has no verses\n",
      "XXXX I got has no verses\n",
      "XXXX Big homie has no verses\n"
     ]
    },
    {
     "name": "stderr",
     "output_type": "stream",
     "text": [
      " 19%|█▉        | 4719/24878 [00:48<02:53, 116.16it/s]"
     ]
    },
    {
     "name": "stdout",
     "output_type": "stream",
     "text": [
      "XXXX Ballin’ has no verses\n",
      "XXXX King Boss has no verses\n",
      "XXXX Made N*GGAZ has no verses\n",
      "---- Been Too many words in a line\n",
      "XXXX Untitled has no verses\n",
      "XXXX Grippin grain has no verses\n",
      "XXXX Hold on I’ll eat it all has no verses\n",
      "XXXX Paid The Cost has no verses\n",
      "XXXX Woahhh has no verses\n",
      "XXXX I Get It In has no verses\n"
     ]
    },
    {
     "name": "stderr",
     "output_type": "stream",
     "text": [
      " 19%|█▉        | 4754/24878 [00:48<02:32, 131.85it/s]"
     ]
    },
    {
     "name": "stdout",
     "output_type": "stream",
     "text": [
      "XXXX Money right has no verses\n",
      "XXXX Im A Dog has no verses\n",
      "XXXX Killswitch has no verses\n",
      "XXXX Boss Smokers has no verses\n",
      "XXXX Keep Doin’ That (Rich Chick) has no verses\n",
      "XXXX On T-Pain’s Frank Ocean Comments has no verses\n",
      "XXXX Skdkdk has no verses\n",
      "XXXX Midnight Hoes has no verses\n",
      "XXXX Finest Hour has no verses\n",
      "XXXX Lonely Road has no verses\n",
      "XXXX I Really Want has no verses\n",
      "XXXX Untitled Benny The Butcher collaboration has no verses\n",
      "XXXX Snitch has too many verses\n"
     ]
    },
    {
     "name": "stderr",
     "output_type": "stream",
     "text": [
      " 19%|█▉        | 4793/24878 [00:49<03:05, 108.37it/s]"
     ]
    },
    {
     "name": "stdout",
     "output_type": "stream",
     "text": [
      "XXXX Jamaican Girl has too many verses\n",
      "---- Truth to Power Too many words in a line\n",
      "XXXX Truth 2 Power has no verses\n",
      "XXXX Heartless has no verses\n"
     ]
    },
    {
     "name": "stderr",
     "output_type": "stream",
     "text": [
      " 19%|█▉        | 4829/24878 [00:49<02:58, 112.03it/s]"
     ]
    },
    {
     "name": "stdout",
     "output_type": "stream",
     "text": [
      "---- I’m Home Too many words in a line\n",
      "XXXX Anymore has no verses\n"
     ]
    },
    {
     "name": "stderr",
     "output_type": "stream",
     "text": [
      " 20%|█▉        | 4853/24878 [00:49<02:56, 113.51it/s]"
     ]
    },
    {
     "name": "stdout",
     "output_type": "stream",
     "text": [
      "XXXX They Wanna Kill Me has no verses\n",
      "XXXX Shady Baby has no verses\n",
      "XXXX One by One (1x1) has too many verses\n",
      "XXXX Obie’s Tidal has no verses\n",
      "XXXX Got some teeth (censored) has no verses\n",
      "---- Stuntin’ Too many words in a line\n",
      "XXXX Back Packer has no verses\n",
      "---- Dum Too many words in a line\n",
      "---- Hood Is Wild Too many words in a line\n"
     ]
    },
    {
     "name": "stderr",
     "output_type": "stream",
     "text": [
      " 20%|█▉        | 4889/24878 [00:49<03:12, 103.91it/s]"
     ]
    },
    {
     "name": "stdout",
     "output_type": "stream",
     "text": [
      "---- Situationships Too many words in a line\n",
      "---- Goyard Bag Too many words in a line\n"
     ]
    },
    {
     "name": "stderr",
     "output_type": "stream",
     "text": [
      " 20%|█▉        | 4941/24878 [00:50<03:26, 96.62it/s] "
     ]
    },
    {
     "name": "stdout",
     "output_type": "stream",
     "text": [
      "---- Motivation Too many words in a line\n",
      "---- Ashanti Too many words in a line\n"
     ]
    },
    {
     "name": "stderr",
     "output_type": "stream",
     "text": [
      " 20%|██        | 4997/24878 [00:51<03:14, 102.23it/s]"
     ]
    },
    {
     "name": "stdout",
     "output_type": "stream",
     "text": [
      "---- Suicide Too many words in a line\n",
      "---- Ah Man Too many words in a line\n"
     ]
    },
    {
     "name": "stderr",
     "output_type": "stream",
     "text": [
      " 20%|██        | 5031/24878 [00:51<03:10, 104.29it/s]"
     ]
    },
    {
     "name": "stdout",
     "output_type": "stream",
     "text": [
      "XXXX A Milli has no verses\n",
      "XXXX Oh Lets Do It (There Is No Competition 2) has no verses\n",
      "XXXX Into You (feat. Tamia) - Main Mix has no verses\n",
      "XXXX Call Me has no verses\n"
     ]
    },
    {
     "name": "stderr",
     "output_type": "stream",
     "text": [
      " 20%|██        | 5056/24878 [00:51<02:59, 110.33it/s]"
     ]
    },
    {
     "name": "stdout",
     "output_type": "stream",
     "text": [
      "---- The Bad Guy Too many words in a line\n",
      "XXXX Never Duplicated has no verses\n",
      "---- It’s Going Down Too many words in a line\n",
      "XXXX I’ma Boss has no verses\n",
      "XXXX There He Go has no verses\n",
      "XXXX Into You [Main Mix feat. Tamia] has no verses\n",
      "XXXX Bad Bitch has no verses\n",
      "XXXX Computer Love has no verses\n",
      "XXXX A Toast to the Good Life has no verses\n"
     ]
    },
    {
     "name": "stderr",
     "output_type": "stream",
     "text": [
      " 20%|██        | 5094/24878 [00:51<02:57, 111.29it/s]"
     ]
    },
    {
     "name": "stdout",
     "output_type": "stream",
     "text": [
      "XXXX Funeral Service Music has no verses\n",
      "XXXX Back To Do The Damn Thing has no verses\n",
      "XXXX Diamonds On My Damn Chain has no verses\n",
      "---- I Came for the Money Too many words in a line\n",
      "XXXX Why Wouldn’t I has too many verses\n"
     ]
    },
    {
     "name": "stderr",
     "output_type": "stream",
     "text": [
      " 21%|██        | 5118/24878 [00:52<03:02, 108.47it/s]"
     ]
    },
    {
     "name": "stdout",
     "output_type": "stream",
     "text": [
      "XXXX If They Want It (Bonus Track) has no verses\n",
      "XXXX Welcome to My Workplace has no verses\n",
      "XXXX Pay Back Music has no verses\n",
      "XXXX Exodus has no verses\n",
      "XXXX Young’n (Holla Back) has no verses\n",
      "XXXX B.K. Style has no verses\n"
     ]
    },
    {
     "name": "stderr",
     "output_type": "stream",
     "text": [
      "                                                     "
     ]
    },
    {
     "name": "stdout",
     "output_type": "stream",
     "text": [
      "XXXX Paperman has no verses\n",
      "XXXX Who Do You Love has no verses\n",
      "XXXX City lights (feat. fabolous) has no verses\n",
      "XXXX Fabolous-Brooklyn we go hard has no verses\n",
      "XXXX Fast Like A Nascar has no verses\n"
     ]
    },
    {
     "name": "stderr",
     "output_type": "stream",
     "text": [
      " 21%|██        | 5170/24878 [00:52<02:43, 120.77it/s]"
     ]
    },
    {
     "name": "stdout",
     "output_type": "stream",
     "text": [
      "XXXX Do the Damn Thing has no verses\n",
      "XXXX Trade it all (feat. jagged edge) has no verses\n",
      "XXXX Get Yo Money has no verses\n",
      "XXXX Like This has no verses\n",
      "XXXX It’s Me Snitches has no verses\n",
      "XXXX Trade It All (Part II) has no verses\n",
      "XXXX It’s Gangsta has no verses\n",
      "XXXX Sacrifces has no verses\n",
      "XXXX Its Goin’ Down has no verses\n"
     ]
    },
    {
     "name": "stderr",
     "output_type": "stream",
     "text": [
      " 21%|██        | 5183/24878 [00:52<02:43, 120.80it/s]"
     ]
    },
    {
     "name": "stdout",
     "output_type": "stream",
     "text": [
      "XXXX In my hood - amended has no verses\n",
      "XXXX Tell yo friends about it has no verses\n",
      "---- Uncommon Valor: A Vietnam Story Too many words in a line\n",
      "---- Speech Cobras Too many words in a line\n"
     ]
    },
    {
     "name": "stderr",
     "output_type": "stream",
     "text": [
      " 21%|██        | 5230/24878 [00:53<03:05, 105.67it/s]"
     ]
    },
    {
     "name": "stdout",
     "output_type": "stream",
     "text": [
      "---- Books of Blood: The Coming of Tan Too many words in a line\n",
      "XXXX Untitled has too many verses\n"
     ]
    },
    {
     "name": "stderr",
     "output_type": "stream",
     "text": [
      " 21%|██▏       | 5298/24878 [00:53<03:03, 106.88it/s]"
     ]
    },
    {
     "name": "stdout",
     "output_type": "stream",
     "text": [
      "---- Army of the Pharaohs: War Ensemble Too many words in a line\n",
      "---- Al Bid-Aya Too many words in a line\n",
      "XXXX Certified Dope has no verses\n",
      "---- Terror Too many words in a line\n"
     ]
    },
    {
     "name": "stderr",
     "output_type": "stream",
     "text": [
      " 21%|██▏       | 5324/24878 [00:54<02:53, 112.88it/s]"
     ]
    },
    {
     "name": "stdout",
     "output_type": "stream",
     "text": [
      "XXXX Bust ’Em In has no verses\n",
      "XXXX Blood Runs Cold (dirty) has no verses\n",
      "XXXX Gengis khan has no verses\n",
      "---- Dead Shall Rise Too many words in a line\n",
      "XXXX Animal Rap (Micky Ward dirty mix) has no verses\n",
      "XXXX Ll tuo vizio e una stanza chiusa e has no verses\n",
      "XXXX Animal Rap (Arturo Gatti clean mix) has no verses\n",
      "XXXX Words from Mr. Len Part Two has no verses\n",
      "XXXX Incanatrix has no verses\n",
      "XXXX Animal Rap (Arturo Gatti dirty mix) has no verses\n",
      "XXXX Blood Runs Cold (clean) has no verses\n",
      "XXXX Animal Rap (Micky Ward clean mix) has no verses\n",
      "XXXX La Montana del Dio Cannibale has no verses\n"
     ]
    },
    {
     "name": "stderr",
     "output_type": "stream",
     "text": [
      " 22%|██▏       | 5349/24878 [00:54<03:04, 105.97it/s]"
     ]
    },
    {
     "name": "stdout",
     "output_type": "stream",
     "text": [
      "XXXX Animal Rap (Arturo Gatti a cappella mix) has no verses\n"
     ]
    },
    {
     "name": "stderr",
     "output_type": "stream",
     "text": [
      " 22%|██▏       | 5446/24878 [00:55<03:11, 101.61it/s]"
     ]
    },
    {
     "name": "stdout",
     "output_type": "stream",
     "text": [
      "---- Respect Too many words in a line\n"
     ]
    },
    {
     "name": "stderr",
     "output_type": "stream",
     "text": [
      " 22%|██▏       | 5470/24878 [00:55<03:01, 106.90it/s]"
     ]
    },
    {
     "name": "stdout",
     "output_type": "stream",
     "text": [
      "---- Move On Too many words in a line\n",
      "---- So High Too many words in a line\n"
     ]
    },
    {
     "name": "stderr",
     "output_type": "stream",
     "text": [
      " 22%|██▏       | 5504/24878 [00:55<03:06, 104.00it/s]"
     ]
    },
    {
     "name": "stdout",
     "output_type": "stream",
     "text": [
      "---- So Much Too many words in a line\n",
      "---- Ziplocc (Weedmix) Too many words in a line\n"
     ]
    },
    {
     "name": "stderr",
     "output_type": "stream",
     "text": [
      " 22%|██▏       | 5530/24878 [00:56<02:50, 113.23it/s]"
     ]
    },
    {
     "name": "stdout",
     "output_type": "stream",
     "text": [
      "XXXX Damn It Feels Good To Be a Taylor has no verses\n",
      "---- Fucc Day Too many words in a line\n",
      "XXXX Top Floor has no verses\n"
     ]
    },
    {
     "name": "stderr",
     "output_type": "stream",
     "text": [
      " 23%|██▎       | 5652/24878 [00:57<02:49, 113.42it/s]"
     ]
    },
    {
     "name": "stdout",
     "output_type": "stream",
     "text": [
      "---- Wit The Kids Too many words in a line\n",
      "XXXX Take a Ride has no verses\n"
     ]
    },
    {
     "name": "stderr",
     "output_type": "stream",
     "text": [
      " 23%|██▎       | 5676/24878 [00:57<02:46, 115.09it/s]"
     ]
    },
    {
     "name": "stdout",
     "output_type": "stream",
     "text": [
      "XXXX Flickn’ Ashes has no verses\n",
      "XXXX Rich People has no verses\n",
      "XXXX Somebody Else has no verses\n"
     ]
    },
    {
     "name": "stderr",
     "output_type": "stream",
     "text": [
      " 23%|██▎       | 5738/24878 [00:57<02:41, 118.57it/s]"
     ]
    },
    {
     "name": "stdout",
     "output_type": "stream",
     "text": [
      "XXXX Exit Row has no verses\n",
      "XXXX One Night has no verses\n",
      "XXXX Your Gonna Love Me has no verses\n"
     ]
    },
    {
     "name": "stderr",
     "output_type": "stream",
     "text": [
      " 23%|██▎       | 5774/24878 [00:58<02:51, 111.57it/s]"
     ]
    },
    {
     "name": "stdout",
     "output_type": "stream",
     "text": [
      "XXXX Never Too Late has no verses\n",
      "XXXX My Life has no verses\n"
     ]
    },
    {
     "name": "stderr",
     "output_type": "stream",
     "text": [
      " 23%|██▎       | 5800/24878 [00:58<02:45, 115.33it/s]"
     ]
    },
    {
     "name": "stdout",
     "output_type": "stream",
     "text": [
      "XXXX Just Wanna Be Famous has no verses\n",
      "XXXX Hey Girl has no verses\n",
      "XXXX Pull UP yeet has no verses\n",
      "XXXX Roll One Up has no verses\n",
      "XXXX Good Life has no verses\n",
      "XXXX Rich Kids has no verses\n",
      "XXXX Floating away has no verses\n",
      "XXXX Swag So Official has no verses\n"
     ]
    },
    {
     "name": "stderr",
     "output_type": "stream",
     "text": [
      " 23%|██▎       | 5825/24878 [00:58<02:49, 112.62it/s]"
     ]
    },
    {
     "name": "stdout",
     "output_type": "stream",
     "text": [
      "XXXX Do It Again has no verses\n",
      "XXXX Neighbors has no verses\n",
      "XXXX Speech ( O.N.I.F.C 4 Year Aniversary) has no verses\n",
      "XXXX Kleenex has no verses\n",
      "XXXX Hangover has no verses\n",
      "XXXX That Good has no verses\n"
     ]
    },
    {
     "name": "stderr",
     "output_type": "stream",
     "text": [
      " 24%|██▎       | 5855/24878 [00:58<02:27, 128.92it/s]"
     ]
    },
    {
     "name": "stdout",
     "output_type": "stream",
     "text": [
      "XXXX Bad Guy has no verses\n",
      "XXXX Do Sumtin has no verses\n",
      "XXXX Mean Girls has no verses\n",
      "XXXX Im on has no verses\n",
      "XXXX I Know has no verses\n",
      "XXXX Super high has no verses\n",
      "XXXX Stacking has no verses\n",
      "XXXX LEGENDARY has no verses\n",
      "XXXX You gonna love me has no verses\n",
      "XXXX Best Night Of My Life has no verses\n",
      "XXXX Locked & Loaded has no verses\n",
      "XXXX Knowledge And Wisdom has no verses\n",
      "---- Right Now Too many words in a line\n",
      "XXXX Syppin’ On The Curv has no verses\n",
      "XXXX Mary has no verses\n",
      "XXXX Extreme has no verses\n"
     ]
    },
    {
     "name": "stderr",
     "output_type": "stream",
     "text": [
      " 24%|██▎       | 5885/24878 [00:59<02:19, 136.40it/s]"
     ]
    },
    {
     "name": "stdout",
     "output_type": "stream",
     "text": [
      "XXXX Jones has no verses\n",
      "XXXX Sub Bass has no verses\n",
      "XXXX Get The Paper has no verses\n",
      "XXXX Through The Fall has no verses\n",
      "XXXX Ziplocc has no verses\n",
      "XXXX The world has no verses\n",
      "XXXX Gotta Be A Star has no verses\n",
      "XXXX Shake Em Off has no verses\n",
      "XXXX King of Everything versión español has no verses\n",
      "XXXX Drink Poured Up has no verses\n"
     ]
    },
    {
     "name": "stderr",
     "output_type": "stream",
     "text": [
      " 24%|██▍       | 5914/24878 [00:59<02:17, 138.04it/s]"
     ]
    },
    {
     "name": "stdout",
     "output_type": "stream",
     "text": [
      "XXXX Gangster Roll has no verses\n",
      "XXXX Getting it has no verses\n",
      "XXXX See Those has no verses\n",
      "XXXX Say Aah has no verses\n",
      "---- Walk Wit Me Too many words in a line\n",
      "XXXX Ain’t Coming Home has no verses\n",
      "XXXX Car Collection has no verses\n",
      "XXXX Everything taylor gang ! has no verses\n",
      "XXXX Money gang has no verses\n",
      "XXXX Sunrise has no verses\n",
      "XXXX Fans Takin Pictures has no verses\n",
      "XXXX D.A.F. has no verses\n",
      "XXXX Doubt It has no verses\n",
      "XXXX Night Life has no verses\n",
      "XXXX Bachata has no verses\n",
      "XXXX Say Yeah (a cappella) has no verses\n",
      "---- Just me and you Too many words in a line\n",
      "XXXX I Need More has no verses\n",
      "XXXX I’m Never Gone has no verses\n",
      "XXXX Bongs & Bombay has no verses\n",
      "XXXX We Want More has no verses\n",
      "XXXX New Layers has no verses\n",
      "XXXX Wizdiculous has no verses\n"
     ]
    },
    {
     "name": "stderr",
     "output_type": "stream",
     "text": [
      " 24%|██▍       | 5978/24878 [00:59<03:10, 99.43it/s] "
     ]
    },
    {
     "name": "stdout",
     "output_type": "stream",
     "text": [
      "---- Ready for Whatever Too many words in a line\n",
      "---- We Will Not Too many words in a line\n",
      "---- Wraith Too many words in a line\n"
     ]
    },
    {
     "name": "stderr",
     "output_type": "stream",
     "text": [
      " 24%|██▍       | 6010/24878 [01:00<03:32, 88.92it/s]"
     ]
    },
    {
     "name": "stdout",
     "output_type": "stream",
     "text": [
      "---- Pledge Allegiance To The Swag Too many words in a line\n"
     ]
    },
    {
     "name": "stderr",
     "output_type": "stream",
     "text": [
      " 24%|██▍       | 6049/24878 [01:00<03:34, 87.82it/s]"
     ]
    },
    {
     "name": "stdout",
     "output_type": "stream",
     "text": [
      "---- Da Dopeman Too many words in a line\n",
      "---- Ain’t Gonna See It Coming Too many words in a line\n",
      "---- Be There Too many words in a line\n"
     ]
    },
    {
     "name": "stderr",
     "output_type": "stream",
     "text": [
      " 24%|██▍       | 6088/24878 [01:01<03:31, 88.73it/s]"
     ]
    },
    {
     "name": "stdout",
     "output_type": "stream",
     "text": [
      "---- Lazy Too many words in a line\n",
      "---- Ah No No Too many words in a line\n"
     ]
    },
    {
     "name": "stderr",
     "output_type": "stream",
     "text": [
      " 25%|██▍       | 6125/24878 [01:01<03:33, 87.90it/s]"
     ]
    },
    {
     "name": "stdout",
     "output_type": "stream",
     "text": [
      "XXXX Act III: T.I. vs T.I.P.: The Confrontation has too many verses\n"
     ]
    },
    {
     "name": "stderr",
     "output_type": "stream",
     "text": [
      " 25%|██▍       | 6144/24878 [01:01<03:26, 90.67it/s]"
     ]
    },
    {
     "name": "stdout",
     "output_type": "stream",
     "text": [
      "---- Drug Related Too many words in a line\n",
      "XXXX Once Upon a Time has no verses\n"
     ]
    },
    {
     "name": "stderr",
     "output_type": "stream",
     "text": [
      " 25%|██▍       | 6164/24878 [01:02<03:23, 91.91it/s]"
     ]
    },
    {
     "name": "stdout",
     "output_type": "stream",
     "text": [
      "XXXX We Don’t Get Down Like Y’all has no verses\n",
      "XXXX Fightin Words has no verses\n"
     ]
    },
    {
     "name": "stderr",
     "output_type": "stream",
     "text": [
      " 25%|██▍       | 6199/24878 [01:02<03:00, 103.74it/s]"
     ]
    },
    {
     "name": "stdout",
     "output_type": "stream",
     "text": [
      "---- Deyjah’s Conclusion Too many words in a line\n",
      "XXXX King and Queen has no verses\n",
      "XXXX The Way You Want It has no verses\n",
      "XXXX Let ’Em Talk has no verses\n",
      "XXXX Don’t tell em has no verses\n",
      "XXXX Follow Your Dreams has no verses\n",
      "XXXX Do You Really Want Me? has no verses\n"
     ]
    },
    {
     "name": "stderr",
     "output_type": "stream",
     "text": [
      " 25%|██▌       | 6222/24878 [01:02<02:51, 108.58it/s]"
     ]
    },
    {
     "name": "stdout",
     "output_type": "stream",
     "text": [
      "XXXX No Worries has no verses\n",
      "XXXX Trap Back Jumpin’ has no verses\n",
      "XXXX Doe B Eulogy has no verses\n",
      "XXXX What You Know (Clean) has no verses\n",
      "XXXX Celebration has no verses\n",
      "XXXX The Breakup has no verses\n"
     ]
    },
    {
     "name": "stderr",
     "output_type": "stream",
     "text": [
      " 25%|██▌       | 6253/24878 [01:02<02:29, 124.68it/s]"
     ]
    },
    {
     "name": "stdout",
     "output_type": "stream",
     "text": [
      "XXXX If it anit about the money has no verses\n",
      "XXXX Bugatti 2013 has no verses\n",
      "XXXX Warrior’s Theme has no verses\n",
      "XXXX Walk This Way has no verses\n",
      "XXXX F*cks has no verses\n",
      "XXXX Only Atlanta has no verses\n",
      "XXXX Bugatti - g-mix has no verses\n",
      "XXXX Bread Up has no verses\n",
      "---- No Competition Too many words in a line\n",
      "XXXX The Hottest has no verses\n",
      "---- At It All Night Too many words in a line\n",
      "XXXX The Champ Is Here has no verses\n",
      "XXXX In my mind has no verses\n",
      "XXXX King Sh*t has no verses\n",
      "XXXX Get Yo Girl has no verses\n",
      "---- Ready Set Go Too many words in a line\n"
     ]
    },
    {
     "name": "stderr",
     "output_type": "stream",
     "text": [
      " 25%|██▌       | 6287/24878 [01:02<02:12, 140.79it/s]"
     ]
    },
    {
     "name": "stdout",
     "output_type": "stream",
     "text": [
      "XXXX Harry Potter has no verses\n",
      "XXXX Danny glover has no verses\n",
      "XXXX Turn It (Japan Bonus) has no verses\n",
      "XXXX Lick It! has no verses\n",
      "XXXX Magic has no verses\n",
      "XXXX I ain’t goin has no verses\n",
      "XXXX Trap Me Up has no verses\n",
      "XXXX Tik Tik Boom has no verses\n",
      "XXXX Good God Almighty has no verses\n",
      "XXXX Whatcha saying tip has no verses\n",
      "XXXX Celebrate has no verses\n",
      "XXXX Swervin has no verses\n",
      "XXXX Welcome back to the track has no verses\n",
      "XXXX Round Here has no verses\n",
      "XXXX End Of The Road has no verses\n",
      "XXXX For you and for me has no verses\n",
      "XXXX Jeezy Speaks has no verses\n",
      "XXXX PBJ penut butter jelly time has no verses\n",
      "XXXX Fighting Words has no verses\n"
     ]
    },
    {
     "name": "stderr",
     "output_type": "stream",
     "text": [
      " 25%|██▌       | 6306/24878 [01:03<02:04, 148.73it/s]"
     ]
    },
    {
     "name": "stdout",
     "output_type": "stream",
     "text": [
      "XXXX Kaythenum Weaklings has no verses\n",
      "XXXX I just got started has no verses\n",
      "XXXX I;m flxing has no verses\n",
      "XXXX The Hottest [feat. Mac Boney] - Explicit Non Album Track has no verses\n",
      "XXXX G.D.O.D (feat. Big Kuntry & Doe B) has no verses\n",
      "XXXX Gold B.B.S.S has no verses\n",
      "XXXX Jungle has no verses\n",
      "XXXX Go Time has no verses\n",
      "---- Scarface Phone Convo #3 Too many words in a line\n",
      "XXXX Hj has no verses\n",
      "XXXX Statement on Kanye West Visiting Trump at the White House has no verses\n",
      "XXXX OOF has no verses\n",
      "XXXX Party People has no verses\n",
      "XXXX New Track has no verses\n"
     ]
    },
    {
     "name": "stderr",
     "output_type": "stream",
     "text": [
      " 25%|██▌       | 6336/24878 [01:03<02:37, 117.40it/s]"
     ]
    },
    {
     "name": "stdout",
     "output_type": "stream",
     "text": [
      "---- Objectum Sexuality Too many words in a line\n"
     ]
    },
    {
     "name": "stderr",
     "output_type": "stream",
     "text": [
      " 26%|██▌       | 6362/24878 [01:03<02:43, 113.57it/s]"
     ]
    },
    {
     "name": "stdout",
     "output_type": "stream",
     "text": [
      "---- Be Still Too many words in a line\n",
      "---- Made Man Too many words in a line\n",
      "XXXX Back Up Plan has too many verses\n",
      "XXXX Bowtie (Postlude) has no verses\n",
      "XXXX Ascending has no verses\n"
     ]
    },
    {
     "name": "stderr",
     "output_type": "stream",
     "text": [
      " 26%|██▌       | 6385/24878 [01:03<03:09, 97.67it/s] "
     ]
    },
    {
     "name": "stdout",
     "output_type": "stream",
     "text": [
      "XXXX Shutterbug has no verses\n",
      "XXXX Sumthin’s Gotta Give has no verses\n",
      "XXXX Run Th3 World has no verses\n",
      "XXXX King Sh!t has no verses\n",
      "XXXX Damaged World has no verses\n",
      "XXXX She said ok - single version has no verses\n",
      "XXXX Runnin’ Away has no verses\n"
     ]
    },
    {
     "name": "stderr",
     "output_type": "stream",
     "text": [
      " 26%|██▌       | 6405/24878 [01:04<04:23, 70.21it/s]"
     ]
    },
    {
     "name": "stdout",
     "output_type": "stream",
     "text": [
      "---- Kick in the Door Too many words in a line\n",
      "---- I Got a Story to Tell Too many words in a line\n"
     ]
    },
    {
     "name": "stderr",
     "output_type": "stream",
     "text": [
      " 26%|██▌       | 6447/24878 [01:04<04:06, 74.82it/s]"
     ]
    },
    {
     "name": "stdout",
     "output_type": "stream",
     "text": [
      "---- Real Niggaz Too many words in a line\n",
      "XXXX Can I Get Witcha has too many verses\n"
     ]
    },
    {
     "name": "stderr",
     "output_type": "stream",
     "text": [
      " 26%|██▌       | 6465/24878 [01:05<03:48, 80.45it/s]"
     ]
    },
    {
     "name": "stdout",
     "output_type": "stream",
     "text": [
      "---- Mumbling & Whispering Too many words in a line\n",
      "---- House of Pain Too many words in a line\n",
      "---- Grab My Gun Too many words in a line\n",
      "XXXX Juicy Clean Version for my class use has no verses\n",
      "---- Long Kiss Goodnight (Original) Too many words in a line\n"
     ]
    },
    {
     "name": "stderr",
     "output_type": "stream",
     "text": [
      " 26%|██▌       | 6496/24878 [01:05<03:18, 92.55it/s]"
     ]
    },
    {
     "name": "stdout",
     "output_type": "stream",
     "text": [
      "---- Message To Young Rappers Too many words in a line\n",
      "XXXX Juicy (clean version) - only some verses has no verses\n",
      "---- Diary Of A Madman (Dead Wrong) Too many words in a line\n",
      "---- It’s Not A Game Too many words in a line\n"
     ]
    },
    {
     "name": "stderr",
     "output_type": "stream",
     "text": [
      " 26%|██▌       | 6517/24878 [01:05<03:10, 96.22it/s]"
     ]
    },
    {
     "name": "stdout",
     "output_type": "stream",
     "text": [
      "XXXX Why do some people hate Notorious (2009) so much? has no verses\n",
      "XXXX Temptations has no verses\n",
      "XXXX N/A has no verses\n",
      "XXXX Ligaya has no verses\n",
      "XXXX Satan has no verses\n",
      "---- Mona Lisa Too many words in a line\n"
     ]
    },
    {
     "name": "stderr",
     "output_type": "stream",
     "text": [
      " 26%|██▋       | 6537/24878 [01:05<03:29, 87.60it/s]"
     ]
    },
    {
     "name": "stdout",
     "output_type": "stream",
     "text": [
      "---- Dedicate Too many words in a line\n",
      "XXXX Lollipop has too many verses\n"
     ]
    },
    {
     "name": "stderr",
     "output_type": "stream",
     "text": [
      " 26%|██▋       | 6564/24878 [01:06<03:34, 85.55it/s]"
     ]
    },
    {
     "name": "stdout",
     "output_type": "stream",
     "text": [
      "---- Open Letter Too many words in a line\n",
      "---- Green Ranger Too many words in a line\n"
     ]
    },
    {
     "name": "stderr",
     "output_type": "stream",
     "text": [
      " 27%|██▋       | 6617/24878 [01:06<03:44, 81.48it/s]"
     ]
    },
    {
     "name": "stdout",
     "output_type": "stream",
     "text": [
      "---- Dontgetit Too many words in a line\n",
      "---- Dr. Carter Too many words in a line\n"
     ]
    },
    {
     "name": "stderr",
     "output_type": "stream",
     "text": [
      " 27%|██▋       | 6653/24878 [01:07<03:37, 83.67it/s]"
     ]
    },
    {
     "name": "stdout",
     "output_type": "stream",
     "text": [
      "---- Hittas Too many words in a line\n",
      "XXXX I Don’t Like has no verses\n"
     ]
    },
    {
     "name": "stderr",
     "output_type": "stream",
     "text": [
      " 27%|██▋       | 6671/24878 [01:07<03:39, 82.89it/s]"
     ]
    },
    {
     "name": "stdout",
     "output_type": "stream",
     "text": [
      "---- For Nothing Too many words in a line\n"
     ]
    },
    {
     "name": "stderr",
     "output_type": "stream",
     "text": [
      " 27%|██▋       | 6734/24878 [01:08<03:37, 83.40it/s]"
     ]
    },
    {
     "name": "stdout",
     "output_type": "stream",
     "text": [
      "---- Back from the 80's Too many words in a line\n",
      "XXXX 10,000 Bars has too many verses\n"
     ]
    },
    {
     "name": "stderr",
     "output_type": "stream",
     "text": [
      " 27%|██▋       | 6753/24878 [01:08<03:28, 86.80it/s]"
     ]
    },
    {
     "name": "stdout",
     "output_type": "stream",
     "text": [
      "---- Thought It Was a Drought Too many words in a line\n"
     ]
    },
    {
     "name": "stderr",
     "output_type": "stream",
     "text": [
      " 27%|██▋       | 6789/24878 [01:08<03:32, 85.10it/s]"
     ]
    },
    {
     "name": "stdout",
     "output_type": "stream",
     "text": [
      "XXXX Lil Wayne’s Tattoos has no verses\n",
      "---- Go Brazy Too many words in a line\n"
     ]
    },
    {
     "name": "stderr",
     "output_type": "stream",
     "text": [
      " 27%|██▋       | 6816/24878 [01:09<03:34, 84.02it/s]"
     ]
    },
    {
     "name": "stdout",
     "output_type": "stream",
     "text": [
      "XXXX That’s My Nigga has too many verses\n",
      "---- Sick Too many words in a line\n",
      "---- Abracadabra Too many words in a line\n"
     ]
    },
    {
     "name": "stderr",
     "output_type": "stream",
     "text": [
      " 28%|██▊       | 6855/24878 [01:09<03:25, 87.86it/s]"
     ]
    },
    {
     "name": "stdout",
     "output_type": "stream",
     "text": [
      "---- Freaky Side Too many words in a line\n",
      "---- Back to Sleep Too many words in a line\n"
     ]
    },
    {
     "name": "stderr",
     "output_type": "stream",
     "text": [
      " 28%|██▊       | 6885/24878 [01:09<03:29, 85.94it/s]"
     ]
    },
    {
     "name": "stdout",
     "output_type": "stream",
     "text": [
      "XXXX The Rapper Eater has no verses\n",
      "---- Weezy N Madonna Too many words in a line\n",
      "---- Used To Too many words in a line\n",
      "XXXX Hot Revolver has no verses\n"
     ]
    },
    {
     "name": "stderr",
     "output_type": "stream",
     "text": [
      " 28%|██▊       | 6911/24878 [01:10<03:53, 76.97it/s]"
     ]
    },
    {
     "name": "stdout",
     "output_type": "stream",
     "text": [
      "---- Drowning Too many words in a line\n",
      "---- 2 Hot for TV Too many words in a line\n",
      "---- BET Cypher 2016 Too many words in a line\n",
      "XXXX How Dedicated has no verses\n"
     ]
    },
    {
     "name": "stderr",
     "output_type": "stream",
     "text": [
      " 28%|██▊       | 6938/24878 [01:10<03:36, 82.89it/s]"
     ]
    },
    {
     "name": "stdout",
     "output_type": "stream",
     "text": [
      "---- Light Years Too many words in a line\n",
      "XXXX Emmett Till Apology has no verses\n",
      "XXXX Crazy has no verses\n",
      "---- Don’t Shoot Em Too many words in a line\n"
     ]
    },
    {
     "name": "stderr",
     "output_type": "stream",
     "text": [
      " 28%|██▊       | 6987/24878 [01:11<03:19, 89.76it/s]"
     ]
    },
    {
     "name": "stdout",
     "output_type": "stream",
     "text": [
      "XXXX Stilettos has no verses\n",
      "XXXX Do It Again has no verses\n",
      "XXXX U Gon Love Me has no verses\n",
      "XXXX Drama : Weezy has no verses\n"
     ]
    },
    {
     "name": "stderr",
     "output_type": "stream",
     "text": [
      " 28%|██▊       | 7007/24878 [01:11<03:18, 90.25it/s]"
     ]
    },
    {
     "name": "stdout",
     "output_type": "stream",
     "text": [
      "XXXX Shot to the Heart (feat. Rick Ross) has no verses\n",
      "XXXX Luv has no verses\n",
      "XXXX PMW (Pussy, Money, Weed) has no verses\n",
      "XXXX Apology for Stepping on the American Flag has no verses\n",
      "XXXX IDK has no verses\n"
     ]
    },
    {
     "name": "stderr",
     "output_type": "stream",
     "text": [
      " 28%|██▊       | 7058/24878 [01:12<03:18, 90.00it/s]"
     ]
    },
    {
     "name": "stdout",
     "output_type": "stream",
     "text": [
      "---- Weak Too many words in a line\n",
      "XXXX What U Kno has no verses\n"
     ]
    },
    {
     "name": "stderr",
     "output_type": "stream",
     "text": [
      " 28%|██▊       | 7087/24878 [01:12<03:35, 82.38it/s]"
     ]
    },
    {
     "name": "stdout",
     "output_type": "stream",
     "text": [
      "XXXX Baseball Sex has no verses\n",
      "XXXX Swagger Like Us (Alternate Verse) has no verses\n",
      "XXXX Blacka Blacka has no verses\n"
     ]
    },
    {
     "name": "stderr",
     "output_type": "stream",
     "text": [
      " 29%|██▊       | 7106/24878 [01:12<03:32, 83.46it/s]"
     ]
    },
    {
     "name": "stdout",
     "output_type": "stream",
     "text": [
      "XXXX Hawaii 5.0 has no verses\n",
      "XXXX Reppin Time has no verses\n",
      "---- Pussy Niggaz Too many words in a line\n",
      "XXXX Can’t Miss has no verses\n"
     ]
    },
    {
     "name": "stderr",
     "output_type": "stream",
     "text": [
      " 29%|██▊       | 7133/24878 [01:12<03:39, 81.01it/s]"
     ]
    },
    {
     "name": "stdout",
     "output_type": "stream",
     "text": [
      "XXXX Put Me In The Game has no verses\n",
      "---- Fuck A Nigga Thoughts Too many words in a line\n",
      "XXXX You Nasty has no verses\n"
     ]
    },
    {
     "name": "stderr",
     "output_type": "stream",
     "text": [
      " 29%|██▉       | 7154/24878 [01:13<03:23, 86.93it/s]"
     ]
    },
    {
     "name": "stdout",
     "output_type": "stream",
     "text": [
      "XXXX Dedicated has no verses\n",
      "---- Ay Man Too many words in a line\n",
      "XXXX Upgrade You has no verses\n",
      "XXXX Put The Light On Me has no verses\n",
      "---- Do’s & Don’ts Of Young Money Too many words in a line\n"
     ]
    },
    {
     "name": "stderr",
     "output_type": "stream",
     "text": [
      " 29%|██▉       | 7181/24878 [01:13<03:35, 82.01it/s]"
     ]
    },
    {
     "name": "stdout",
     "output_type": "stream",
     "text": [
      "XXXX Da Drought has no verses\n",
      "XXXX Lil’ One has too many verses\n",
      "XXXX I Know the Future (feat. Mack Maine) has no verses\n",
      "XXXX Redbone Girl has no verses\n"
     ]
    },
    {
     "name": "stderr",
     "output_type": "stream",
     "text": [
      " 29%|██▉       | 7199/24878 [01:13<03:32, 83.01it/s]"
     ]
    },
    {
     "name": "stdout",
     "output_type": "stream",
     "text": [
      "XXXX Weezy F. Baby (Dedication) has no verses\n",
      "XXXX Rock Star has no verses\n",
      "XXXX THROW SOME D’S FREESTLYE has no verses\n",
      "---- You Love Me, I Hate You Too many words in a line\n",
      "---- Got Em Too many words in a line\n"
     ]
    },
    {
     "name": "stderr",
     "output_type": "stream",
     "text": [
      " 29%|██▉       | 7216/24878 [01:14<04:11, 70.27it/s]"
     ]
    },
    {
     "name": "stdout",
     "output_type": "stream",
     "text": [
      "XXXX G-Code has no verses\n",
      "XXXX The Martian has no verses\n"
     ]
    },
    {
     "name": "stderr",
     "output_type": "stream",
     "text": [
      " 29%|██▉       | 7235/24878 [01:14<03:40, 80.00it/s]"
     ]
    },
    {
     "name": "stdout",
     "output_type": "stream",
     "text": [
      "XXXX Project Bitch has no verses\n",
      "XXXX She Feelin Me has too many verses\n",
      "XXXX HitMan has no verses\n",
      "XXXX Ready for the World has no verses\n",
      "---- Come On Too many words in a line\n",
      "XXXX C.O.L.O.U.R.S. has no verses\n",
      "XXXX Cascades has no verses\n"
     ]
    },
    {
     "name": "stderr",
     "output_type": "stream",
     "text": [
      " 29%|██▉       | 7254/24878 [01:14<03:26, 85.32it/s]"
     ]
    },
    {
     "name": "stdout",
     "output_type": "stream",
     "text": [
      "XXXX 42 Bars has no verses\n",
      "XXXX What Else Is There to Do has no verses\n",
      "XXXX The Bad, The Sad & The Hated has no verses\n",
      "XXXX On the Block #1 has no verses\n",
      "XXXX The Lost Carter IV Song has no verses\n",
      "XXXX Gone ’Til November (Excerpt) has no verses\n"
     ]
    },
    {
     "name": "stderr",
     "output_type": "stream",
     "text": [
      " 29%|██▉       | 7275/24878 [01:14<03:19, 88.08it/s]"
     ]
    },
    {
     "name": "stdout",
     "output_type": "stream",
     "text": [
      "---- Lovely Too many words in a line\n",
      "XXXX Yeahhh has no verses\n",
      "XXXX Fuck yo feelings has no verses\n",
      "XXXX Give Head has no verses\n",
      "XXXX Get Out has too many verses\n",
      "XXXX Rude Boy has no verses\n",
      "---- Dedication 4?????????? Too many words in a line\n"
     ]
    },
    {
     "name": "stderr",
     "output_type": "stream",
     "text": [
      " 29%|██▉       | 7295/24878 [01:14<03:15, 89.72it/s]"
     ]
    },
    {
     "name": "stdout",
     "output_type": "stream",
     "text": [
      "XXXX Red Bandana has no verses\n",
      "XXXX Private Dancer has no verses\n",
      "XXXX Weezy on Retirement has no verses\n",
      "---- How To Love Spanish Too many words in a line\n",
      "XXXX My Name Is Leak Jones has no verses\n",
      "XXXX St. Louis has no verses\n",
      "XXXX So Many Places has no verses\n",
      "XXXX Fly Talkin’ has no verses\n"
     ]
    },
    {
     "name": "stderr",
     "output_type": "stream",
     "text": [
      " 29%|██▉       | 7314/24878 [01:15<03:31, 83.00it/s]"
     ]
    },
    {
     "name": "stdout",
     "output_type": "stream",
     "text": [
      "XXXX B.M. J.R. II has no verses\n",
      "XXXX Clear The Scene has no verses\n",
      "XXXX Pop That has no verses\n"
     ]
    },
    {
     "name": "stderr",
     "output_type": "stream",
     "text": [
      " 29%|██▉       | 7332/24878 [01:15<03:43, 78.42it/s]"
     ]
    },
    {
     "name": "stdout",
     "output_type": "stream",
     "text": [
      "XXXX Me & You (feat. Trina) has no verses\n",
      "XXXX I’m From The South has no verses\n",
      "XXXX Imagine has no verses\n",
      "---- When I Go Too many words in a line\n",
      "XXXX Walk It Out has no verses\n",
      "XXXX Kiss Me Baby has no verses\n",
      "XXXX On the Block #2 has no verses\n"
     ]
    },
    {
     "name": "stderr",
     "output_type": "stream",
     "text": [
      " 30%|██▉       | 7353/24878 [01:15<03:21, 87.05it/s]"
     ]
    },
    {
     "name": "stdout",
     "output_type": "stream",
     "text": [
      "XXXX Brad Pitt* has no verses\n",
      "XXXX Uh Oh (feat. Ja Rule) has no verses\n",
      "XXXX The prayer has no verses\n",
      "XXXX Wayne Explains His Deal has no verses\n",
      "XXXX Amazing Love has no verses\n",
      "XXXX Strange Clouds has no verses\n"
     ]
    },
    {
     "name": "stderr",
     "output_type": "stream",
     "text": [
      " 30%|██▉       | 7376/24878 [01:15<03:00, 96.94it/s]"
     ]
    },
    {
     "name": "stdout",
     "output_type": "stream",
     "text": [
      "XXXX Studio has no verses\n",
      "XXXX Lyrical Homicide has no verses\n",
      "XXXX Sweat has no verses\n",
      "XXXX She Wants Me has no verses\n",
      "XXXX New Orleans Presidential Shit has no verses\n",
      "XXXX I Got My has no verses\n",
      "---- Wayne Convos Too many words in a line\n",
      "XXXX No lie has no verses\n",
      "XXXX Need Some Quiet Time has no verses\n",
      "XXXX Get Off Me has no verses\n",
      "XXXX Money, Drugs, Bitches, Liquor has no verses\n",
      "XXXX Wife Beater has no verses\n",
      "XXXX Moment Of Clarity has no verses\n"
     ]
    },
    {
     "name": "stderr",
     "output_type": "stream",
     "text": [
      "                                                     \r"
     ]
    },
    {
     "name": "stdout",
     "output_type": "stream",
     "text": [
      "XXXX Su Woo has no verses\n",
      "XXXX Girls All Around has no verses\n",
      "XXXX Done It has no verses\n",
      "XXXX Murda (C5)* has no verses\n",
      "XXXX Oh I has no verses\n",
      "XXXX Weezy on the Streetz of N.O. has no verses\n",
      "XXXX The Only Reason has no verses\n",
      "XXXX Hello World has no verses\n",
      "XXXX Roger That has no verses\n",
      "XXXX What Does Life Mean To Me has no verses\n",
      "XXXX Lover has no verses\n",
      "XXXX Girls on Girls has no verses\n",
      "XXXX F*** You has no verses"
     ]
    },
    {
     "name": "stderr",
     "output_type": "stream",
     "text": [
      " 30%|██▉       | 7424/24878 [01:16<02:43, 106.88it/s]"
     ]
    },
    {
     "name": "stdout",
     "output_type": "stream",
     "text": [
      "\n",
      "XXXX In A Cage has no verses\n",
      "XXXX So Fly (feat. Chop) has no verses\n",
      "XXXX Dedication After Disaster has no verses\n",
      "XXXX Real Talk has no verses\n",
      "XXXX We Stay High has no verses\n",
      "XXXX Outta Here has no verses\n",
      "XXXX Not a Game has no verses\n",
      "XXXX Mano Y Mano* has no verses\n",
      "XXXX I’m A Rocker has no verses\n",
      "XXXX That Was Easy! has no verses\n"
     ]
    },
    {
     "name": "stderr",
     "output_type": "stream",
     "text": [
      " 30%|██▉       | 7448/24878 [01:16<02:37, 110.71it/s]"
     ]
    },
    {
     "name": "stdout",
     "output_type": "stream",
     "text": [
      "XXXX Loal has no verses\n",
      "XXXX High As A Kite has no verses\n",
      "XXXX Talk That Shit has no verses\n",
      "XXXX Love Affair has no verses\n",
      "---- Papercuts Too many words in a line\n",
      "XXXX Treasure has no verses\n",
      "XXXX Roman Reloaded has no verses\n",
      "XXXX Wtf has no verses\n",
      "XXXX Just Fine has no verses\n",
      "XXXX Jungle has no verses\n"
     ]
    },
    {
     "name": "stderr",
     "output_type": "stream",
     "text": [
      " 30%|███       | 7473/24878 [01:16<02:42, 107.34it/s]"
     ]
    },
    {
     "name": "stdout",
     "output_type": "stream",
     "text": [
      "XXXX Sex In The Lounge has no verses\n",
      "XXXX Switch has no verses\n",
      "XXXX She Got A Man* has no verses\n",
      "XXXX Hot Revolver (Extended Version) has no verses\n",
      "XXXX Money Over Here has no verses\n",
      "XXXX You Ain’t Know (feat. Collie Buddz) has no verses\n",
      "XXXX The Boss has no verses\n",
      "XXXX James and the giant peach has no verses\n",
      "XXXX Skull Gang has no verses\n",
      "XXXX Hoes Sing has no verses\n",
      "XXXX Gunshot has no verses\n",
      "XXXX Rock N Roll has no verses\n"
     ]
    },
    {
     "name": "stderr",
     "output_type": "stream",
     "text": [
      " 30%|███       | 7497/24878 [01:16<02:39, 109.23it/s]"
     ]
    },
    {
     "name": "stdout",
     "output_type": "stream",
     "text": [
      "XXXX How You Like Me Now has no verses\n",
      "XXXX Get It On Wit Yall has no verses\n",
      "XXXX Pop That Pussy (feat. Cassidy) has no verses\n",
      "XXXX Twerk Season has no verses\n",
      "XXXX Lousianimal has no verses\n",
      "XXXX The Leak has no verses\n",
      "XXXX Operate on Me (feat. Wyclef Jean) has no verses\n",
      "XXXX March It Out has no verses\n",
      "XXXX Most Wanted Rockstar has no verses\n",
      "XXXX I Got That Gangsta has no verses\n",
      "XXXX Sweet home hollygrove has no verses\n",
      "XXXX Mic Check has no verses\n",
      "XXXX Ghetto Rich has no verses\n",
      "XXXX Runnin circles has no verses\n",
      "XXXX She Tried has no verses\n"
     ]
    },
    {
     "name": "stderr",
     "output_type": "stream",
     "text": [
      " 30%|███       | 7509/24878 [01:17<02:50, 101.73it/s]"
     ]
    },
    {
     "name": "stdout",
     "output_type": "stream",
     "text": [
      "XXXX Southside has no verses\n",
      "XXXX On The Wall has no verses\n",
      "---- Rep My Hood (E-V mix) Too many words in a line\n",
      "XXXX I Hate That I Love You has no verses\n",
      "XXXX Get It Shawty has no verses\n",
      "XXXX Streets Raised has no verses\n",
      "XXXX I Like It (feat. Boo & Mack Maine) has no verses\n",
      "XXXX Miami Vice has no verses\n",
      "XXXX New Orleans Magic has no verses\n",
      "XXXX Lets Chill has no verses\n",
      "XXXX A Dedication (D3) has no verses\n",
      "XXXX Want This Forever has no verses\n",
      "XXXX Lift It Up has no verses\n",
      "XXXX Like This has no verses\n"
     ]
    },
    {
     "name": "stderr",
     "output_type": "stream",
     "text": [
      " 30%|███       | 7534/24878 [01:17<02:37, 110.07it/s]"
     ]
    },
    {
     "name": "stdout",
     "output_type": "stream",
     "text": [
      "XXXX Money Cars Clothes (feat. Swizz Beatz) has no verses\n",
      "XXXX Why Stop Now has no verses\n",
      "XXXX Me & You has no verses\n",
      "XXXX Nightmares of the Bottom (My Version) has no verses\n",
      "XXXX Phoenix has no verses\n",
      "XXXX Upsong has no verses\n",
      "XXXX Dynamic has no verses\n",
      "XXXX Megamen has no verses\n",
      "XXXX Walk It Out (Chalk It Out) has no verses\n",
      "XXXX Cold Blooded has no verses\n",
      "XXXX Lengendary Characters has no verses\n",
      "XXXX Never Let It has no verses\n",
      "XXXX Tragedy has no verses\n",
      "XXXX For the Sport has no verses\n",
      "XXXX Hit The Lights has no verses\n",
      "XXXX I Got It has no verses\n",
      "XXXX New song 2014 has no verses\n",
      "XXXX Jnnu has no verses\n"
     ]
    },
    {
     "name": "stderr",
     "output_type": "stream",
     "text": [
      "                                                     \r"
     ]
    },
    {
     "name": "stdout",
     "output_type": "stream",
     "text": [
      "---- Lil Wayne Speaks Too many words in a line\n",
      "XXXX Give Head (feat. Currency) has no verses\n",
      "XXXX Sex Faces has no verses\n",
      "XXXX Ops has no verses\n",
      "XXXX Iris is awesome has no verses\n",
      "XXXX Mano Y Mano (ft. Gudda Gudda) has no verses\n",
      "---- Tell Me You Need Me Too many words in a line\n",
      "XXXX Invasion has no verses\n",
      "XXXX Carter Talk (Part 1) has no verses\n",
      "XXXX Speedin’ has no verses\n",
      "XXXX My Moment has no verses\n",
      "XXXX N/A (ft. Fre$h Jay) has no verses\n",
      "XXXX Sebastian how to love has no verses\n",
      "XXXX MARKED FOR DELETION has no verses\n",
      "XXXX Nigga Money Hoes has no verses\n"
     ]
    },
    {
     "name": "stderr",
     "output_type": "stream",
     "text": [
      " 31%|███       | 7598/24878 [01:17<02:03, 139.54it/s]"
     ]
    },
    {
     "name": "stdout",
     "output_type": "stream",
     "text": [
      "XXXX Haaan part 2 has no verses\n",
      "XXXX N/A (ft. Vice Versa) has no verses\n",
      "XXXX Sippin’ has no verses\n",
      "XXXX Long week has no verses\n",
      "XXXX She Said Better Get ’Em* has no verses\n",
      "XXXX No worries - 145349 has no verses\n",
      "XXXX Make has no verses\n",
      "XXXX Watch Them People has no verses\n",
      "XXXX How to kiss has no verses\n",
      "XXXX Haaaan has no verses\n",
      "XXXX Yapboz has no verses\n",
      "XXXX Get It On has no verses\n",
      "XXXX Jades has no verses\n",
      "XXXX Lil Wayne: “I want off this label” has no verses\n",
      "XXXX Lantern has no verses\n",
      "XXXX How many Sins. has no verses\n",
      "XXXX N/A (ft. Raekwon) has no verses\n",
      "XXXX Red Rover has no verses\n",
      "OOOO Tout va mieux has fr\n",
      "XXXX Iim so over you has no verses\n",
      "XXXX Fink all has no verses\n",
      "XXXX Round Table Beats has no verses\n",
      "XXXX My Phone has no verses\n",
      "XXXX Los Angeles Girls has no verses\n"
     ]
    },
    {
     "name": "stderr",
     "output_type": "stream",
     "text": [
      " 31%|███       | 7690/24878 [01:18<03:00, 95.48it/s] "
     ]
    },
    {
     "name": "stdout",
     "output_type": "stream",
     "text": [
      "---- Freaky Gurl (Wanna Minaj?) Too many words in a line\n"
     ]
    },
    {
     "name": "stderr",
     "output_type": "stream",
     "text": [
      " 31%|███       | 7723/24878 [01:19<02:50, 100.49it/s]"
     ]
    },
    {
     "name": "stdout",
     "output_type": "stream",
     "text": [
      "XXXX Tragedy has no verses\n",
      "---- Doin’ It Well Too many words in a line\n",
      "---- Mind On My Money Too many words in a line\n",
      "XXXX Press Conference has too many verses\n"
     ]
    },
    {
     "name": "stderr",
     "output_type": "stream",
     "text": [
      " 31%|███       | 7770/24878 [01:19<02:36, 109.63it/s]"
     ]
    },
    {
     "name": "stdout",
     "output_type": "stream",
     "text": [
      "XXXX Nicki Minaj Alter Egos has no verses\n",
      "XXXX 25 Things You Don’t Know About Me has no verses\n",
      "XXXX Bossed Up, Pickle Juice has no verses\n",
      "XXXX Untitled Ms Banks Collaboration* has no verses\n",
      "---- Dilly Dally Too many words in a line\n",
      "XXXX Monsé* has no verses\n"
     ]
    },
    {
     "name": "stderr",
     "output_type": "stream",
     "text": [
      " 31%|███▏      | 7794/24878 [01:19<02:38, 107.59it/s]"
     ]
    },
    {
     "name": "stdout",
     "output_type": "stream",
     "text": [
      "XXXX Swish Swish (Rap Version) has no verses\n",
      "---- Jumpoff / Jump-off Too many words in a line\n",
      "XXXX Getting Cake has no verses\n",
      "XXXX Nicki Minaj’s First Rap Song has no verses\n",
      "XXXX Batman has no verses\n",
      "XXXX Put It On Ya has no verses\n",
      "---- Tay- Fire Burns Too many words in a line\n",
      "XXXX Get It All has no verses\n"
     ]
    },
    {
     "name": "stderr",
     "output_type": "stream",
     "text": [
      " 31%|███▏      | 7826/24878 [01:19<02:15, 125.81it/s]"
     ]
    },
    {
     "name": "stdout",
     "output_type": "stream",
     "text": [
      "XXXX Naked has no verses\n",
      "XXXX Never Let It Go has no verses\n",
      "XXXX Nicki Minaj Speaks #2 has no verses\n",
      "XXXX Nicki Minaj Speaks #3 has no verses\n",
      "XXXX Memories has no verses\n",
      "XXXX Funhouse* has no verses\n",
      "XXXX Take It Off has no verses\n",
      "XXXX Knockout has no verses\n",
      "XXXX Miss Independent has no verses\n",
      "XXXX Barbie Whip has no verses\n",
      "XXXX Bring Me Down has no verses\n",
      "XXXX Rise of a Superstar (Part 1) - Nicki Minaj has no verses\n",
      "XXXX Can’t Stop Thinking About You has no verses\n",
      "XXXX I do it* has no verses\n",
      "XXXX Hundred Million Dollaz has no verses\n"
     ]
    },
    {
     "name": "stderr",
     "output_type": "stream",
     "text": [
      " 32%|███▏      | 7864/24878 [01:20<02:00, 141.51it/s]"
     ]
    },
    {
     "name": "stdout",
     "output_type": "stream",
     "text": [
      "XXXX Four door aventador - target version has no verses\n",
      "XXXX What Did I Do has no verses\n",
      "XXXX Brief & Beautiful has no verses\n",
      "XXXX Haterade has no verses\n",
      "XXXX 5IVE has no verses\n",
      "XXXX Streets Is Watchin has no verses\n",
      "XXXX How To Break A Heart has no verses\n",
      "XXXX You Won’t See Me Cry has no verses\n",
      "XXXX I’m Staying Right Here has no verses\n",
      "XXXX My Addiction has no verses\n",
      "XXXX Failed Again has no verses\n",
      "XXXX Pound the Alarm (music video) has no verses\n",
      "XXXX Fortune has no verses\n",
      "XXXX Underground* has no verses\n",
      "XXXX Mi Casa has no verses\n",
      "XXXX L’Ultimo Bicchiere has no verses\n",
      "XXXX Dirty Money (first and second part) has no verses\n",
      "XXXX Inconsolable has no verses\n",
      "XXXX Lolli has no verses\n",
      "XXXX Jailbird* has no verses\n",
      "XXXX Pound the Alarm (Jelfa mix) has no verses\n",
      "XXXX Roman’s Rebirth has no verses\n",
      "XXXX Little Boy has no verses\n",
      "XXXX Pound the Alarm (Nicole Chen mix) has no verses\n",
      "XXXX Heartstrings has no verses\n",
      "XXXX Tagliati I Capelli has no verses\n",
      "XXXX Misinformation has no verses\n",
      "XXXX Nicki Minaj Speaks (Jae Millz) has no verses\n",
      "XXXX Pound the Alarm (Nick Lees mix) has no verses\n"
     ]
    },
    {
     "name": "stderr",
     "output_type": "stream",
     "text": [
      " 32%|███▏      | 7881/24878 [01:20<01:59, 141.69it/s]"
     ]
    },
    {
     "name": "stdout",
     "output_type": "stream",
     "text": [
      "XXXX Go Off has no verses\n",
      "XXXX My Heart 2 You has no verses\n",
      "XXXX Talking that  stuff has no verses\n",
      "XXXX Pound the Alarm (Liam Keegan mix) has no verses\n",
      "XXXX Nigga Please has no verses\n",
      "XXXX Money Hungry has no verses\n",
      "XXXX New Born has no verses\n",
      "XXXX Pound the Alarm (Kitz Looper mix) has no verses\n",
      "XXXX OZ has no verses\n",
      "XXXX Throw Your Hands Up In The Air has no verses\n"
     ]
    },
    {
     "name": "stderr",
     "output_type": "stream",
     "text": [
      " 32%|███▏      | 7910/24878 [01:20<02:53, 97.59it/s] "
     ]
    },
    {
     "name": "stdout",
     "output_type": "stream",
     "text": [
      "XXXX The Rose That Grew from Concrete (Autobiographical) has no verses\n",
      "---- Bomb First (My Second Reply) Too many words in a line\n",
      "XXXX Jada has no verses\n"
     ]
    },
    {
     "name": "stderr",
     "output_type": "stream",
     "text": [
      " 32%|███▏      | 7933/24878 [01:20<03:17, 86.01it/s]"
     ]
    },
    {
     "name": "stdout",
     "output_type": "stream",
     "text": [
      "XXXX If I Fail (Poem) has no verses\n",
      "---- White Man’z World Too many words in a line\n",
      "XXXX 2Pac’s Tattoos has no verses\n"
     ]
    },
    {
     "name": "stderr",
     "output_type": "stream",
     "text": [
      " 32%|███▏      | 7952/24878 [01:21<03:32, 79.49it/s]"
     ]
    },
    {
     "name": "stdout",
     "output_type": "stream",
     "text": [
      "XXXX Sometimes I Cry (Poem) has no verses\n",
      "XXXX And Still I Love U has no verses\n"
     ]
    },
    {
     "name": "stderr",
     "output_type": "stream",
     "text": [
      " 32%|███▏      | 7970/24878 [01:21<03:39, 77.07it/s]"
     ]
    },
    {
     "name": "stdout",
     "output_type": "stream",
     "text": [
      "---- When Thugz Cry Too many words in a line\n",
      "XXXX In the Depths of Solitude: Dedicated 2 Me has no verses\n",
      "---- Young Niggaz Too many words in a line\n",
      "XXXX In The Event of my Demise (Poem) has no verses\n"
     ]
    },
    {
     "name": "stderr",
     "output_type": "stream",
     "text": [
      " 32%|███▏      | 7986/24878 [01:21<03:44, 75.32it/s]"
     ]
    },
    {
     "name": "stdout",
     "output_type": "stream",
     "text": [
      "XXXX Ain’t Hard 2 Find has too many verses\n"
     ]
    },
    {
     "name": "stderr",
     "output_type": "stream",
     "text": [
      " 32%|███▏      | 8004/24878 [01:21<03:35, 78.17it/s]"
     ]
    },
    {
     "name": "stdout",
     "output_type": "stream",
     "text": [
      "XXXX Life Through My Eyes (Poem) has no verses\n",
      "XXXX Close my eyes has no verses\n"
     ]
    },
    {
     "name": "stderr",
     "output_type": "stream",
     "text": [
      " 32%|███▏      | 8020/24878 [01:22<03:42, 75.90it/s]"
     ]
    },
    {
     "name": "stdout",
     "output_type": "stream",
     "text": [
      "XXXX God (Poem) has no verses\n",
      "---- Reincarnation Too many words in a line\n",
      "XXXX My Dearest One!! has no verses\n",
      "XXXX The Tears in Cupid’s Eyes (4 Jada) has no verses\n"
     ]
    },
    {
     "name": "stderr",
     "output_type": "stream",
     "text": [
      " 32%|███▏      | 8048/24878 [01:22<03:19, 84.29it/s]"
     ]
    },
    {
     "name": "stdout",
     "output_type": "stream",
     "text": [
      "XXXX When Ure Heart Turns Cold: 2 Kristen & My Other Friends Who Wonder has no verses\n",
      "XXXX A Love Unspoken has no verses\n",
      "XXXX If There Be Pain... (Poem) has no verses\n",
      "XXXX The Fear in the Heart of a Man (Dedicated 2 My Heart) has no verses\n",
      "---- Speech to Malcolm X Grassroots Movement Too many words in a line\n",
      "XXXX Under the Skies Above: After the Miscarriage has no verses\n",
      "XXXX Forever And Today has no verses\n",
      "XXXX Love Is Just Complicated has no verses\n",
      "XXXX The Eternal Lament (Poem) has no verses\n",
      "XXXX Let Em Have It has too many verses\n",
      "XXXX So I Say GOODBYE (Nov 20) has no verses\n",
      "XXXX Liberty Needs Glasses has no verses\n"
     ]
    },
    {
     "name": "stderr",
     "output_type": "stream",
     "text": [
      " 32%|███▏      | 8069/24878 [01:22<03:07, 89.55it/s]"
     ]
    },
    {
     "name": "stdout",
     "output_type": "stream",
     "text": [
      "XXXX And 2morrow (Poem) has no verses\n",
      "XXXX What is it That I Search 4 has no verses\n",
      "XXXX Untitled has no verses\n",
      "XXXX The Shining Star Within! (Dedicated 2 Marilyn Monroe) has no verses\n",
      "XXXX Nothing Can Come Between Us: 4 John has no verses\n",
      "XXXX The Power of a Smile has no verses\n",
      "XXXX Just a Breath of Freedom (4 Nelson Mandela) has no verses\n"
     ]
    },
    {
     "name": "stderr",
     "output_type": "stream",
     "text": [
      " 33%|███▎      | 8088/24878 [01:22<03:10, 88.21it/s]"
     ]
    },
    {
     "name": "stdout",
     "output_type": "stream",
     "text": [
      "XXXX Starry Night (Dedicated in Memory of Vincent van Gogh) has no verses\n",
      "XXXX What Can I Offer Her? has no verses\n",
      "XXXX Things That Make Hearts Break has no verses\n",
      "XXXX Only 4 the Righteous (Poem) has no verses\n",
      "XXXX When I Do Kiss U has no verses\n",
      "XXXX Family Tree (Poem) has no verses\n"
     ]
    },
    {
     "name": "stderr",
     "output_type": "stream",
     "text": [
      " 33%|███▎      | 8107/24878 [01:23<03:06, 90.13it/s]"
     ]
    },
    {
     "name": "stdout",
     "output_type": "stream",
     "text": [
      "XXXX The Sun and The Moon (Poem) has no verses\n",
      "XXXX Wife 4 Life: Dedicated 2 April has no verses\n",
      "XXXX A River That Flows Forever (Poem) has no verses\n",
      "XXXX When Ure Hero Falls: 4 My Hero (My Mother) has no verses\n",
      "XXXX The Power of a Smile (4 Renée) has no verses\n",
      "XXXX Black Woman: 4 Marquita has no verses\n"
     ]
    },
    {
     "name": "stderr",
     "output_type": "stream",
     "text": [
      " 33%|███▎      | 8126/24878 [01:23<03:14, 86.32it/s]"
     ]
    },
    {
     "name": "stdout",
     "output_type": "stream",
     "text": [
      "XXXX The Mutual Heartache? has no verses\n",
      "XXXX The Promise has no verses\n",
      "XXXX What of Fame? (Poem) has no verses\n",
      "XXXX Where There Is a Will.... (Poem) has no verses\n",
      "XXXX Why Must U Be Unfaithful (4 Women) has no verses\n",
      "XXXX 1st Impressions: 4 Irene has no verses\n",
      "XXXX I Know My Heart Has Lied Before has no verses\n"
     ]
    },
    {
     "name": "stderr",
     "output_type": "stream",
     "text": [
      " 33%|███▎      | 8148/24878 [01:23<03:02, 91.53it/s]"
     ]
    },
    {
     "name": "stdout",
     "output_type": "stream",
     "text": [
      "XXXX Ride or Die [NOT 2PAC VOICE] has no verses\n",
      "XXXX Genesis (The Rebirth of My Heart): Dedicated 2 Renee Ross has no verses\n",
      "XXXX What I See! has no verses\n",
      "XXXX 2 People with 1 Wish has no verses\n",
      "XXXX 1 for April has no verses\n",
      "XXXX Love Within a Storm (4 Elizabeth) has no verses\n",
      "XXXX Nightmares (Dedicated 2 Those Curious) has no verses\n",
      "---- Dayz Of A Criminal (Original Version) Too many words in a line\n"
     ]
    },
    {
     "name": "stderr",
     "output_type": "stream",
     "text": [
      " 33%|███▎      | 8169/24878 [01:23<02:57, 94.03it/s]"
     ]
    },
    {
     "name": "stdout",
     "output_type": "stream",
     "text": [
      "XXXX Can You See The Pride In The Panther has no verses\n",
      "XXXX Tupac: Resurrection; THUG LIFE has no verses\n",
      "XXXX Cupid’s Smile II has no verses\n",
      "XXXX Tears from a Star: 4 Me & April has no verses\n",
      "XXXX For Mrs. Hawkins (In Memory of Yusef Hawkins) has no verses\n",
      "XXXX How Can We Be Free has no verses\n",
      "XXXX Tupac’s Letter to Sister Souljah has no verses\n",
      "XXXX Hours Pass By has no verses\n",
      "XXXX Let’s Fight (Jawz Tight) has too many verses\n",
      "XXXX Untitled #2 has no verses\n",
      "XXXX Ambition Over Adversity has no verses\n"
     ]
    },
    {
     "name": "stderr",
     "output_type": "stream",
     "text": [
      " 33%|███▎      | 8193/24878 [01:24<02:58, 93.61it/s] "
     ]
    },
    {
     "name": "stdout",
     "output_type": "stream",
     "text": [
      "XXXX In the Midst of Passion has no verses\n",
      "XXXX March 1st - The Day After April (Dedicated 2 the Divorce of Me & April) has no verses\n",
      "XXXX U R Ripping Us Apart !!! (Dedicated 2 Crack) has no verses\n",
      "XXXX Fallen Star (4 Huey P. Newton) has no verses\n",
      "XXXX Elizabeth: A Different Love (From B.S.A.) has no verses\n"
     ]
    },
    {
     "name": "stderr",
     "output_type": "stream",
     "text": [
      " 33%|███▎      | 8213/24878 [01:24<03:03, 90.87it/s]"
     ]
    },
    {
     "name": "stdout",
     "output_type": "stream",
     "text": [
      "XXXX When I Get Free III has too many verses\n",
      "XXXX Untitled #3 has no verses\n",
      "XXXX If I Fail has too many verses\n",
      "XXXX No-Win (Dream poem) has no verses\n",
      "XXXX Carmencita of the Bronx! (Dedicated to Carmen) has no verses\n",
      "XXXX The Unanswerable? has no verses\n",
      "---- War Zone Too many words in a line\n",
      "XXXX From First Glance (4 Michelle From Zap’s: Feb 1, 1990) has no verses\n"
     ]
    },
    {
     "name": "stderr",
     "output_type": "stream",
     "text": [
      " 33%|███▎      | 8234/24878 [01:24<03:10, 87.20it/s]"
     ]
    },
    {
     "name": "stdout",
     "output_type": "stream",
     "text": [
      "XXXX Just Watching has too many verses\n",
      "XXXX Tears of a Teenage Mother (Poem) has no verses\n",
      "---- In His Own Words Too many words in a line\n",
      "---- Menace 2 Society Too many words in a line\n"
     ]
    },
    {
     "name": "stderr",
     "output_type": "stream",
     "text": [
      " 33%|███▎      | 8252/24878 [01:24<03:19, 83.37it/s]"
     ]
    },
    {
     "name": "stdout",
     "output_type": "stream",
     "text": [
      "XXXX Or My Soul (Dedicated 2 Moms, Dedicated 2 the Powers That B) has no verses\n",
      "XXXX Code Of THUG LIFE has no verses\n",
      "XXXX Can U C the Pride in the Panther has no verses\n",
      "XXXX Letter to Beethoven has no verses\n",
      "XXXX Government Assistance or My Soul has no verses\n"
     ]
    },
    {
     "name": "stderr",
     "output_type": "stream",
     "text": [
      " 33%|███▎      | 8279/24878 [01:25<03:21, 82.36it/s]"
     ]
    },
    {
     "name": "stdout",
     "output_type": "stream",
     "text": [
      "XXXX Last Legends has no verses\n",
      "XXXX A Day in the Life has no verses\n"
     ]
    },
    {
     "name": "stderr",
     "output_type": "stream",
     "text": [
      " 33%|███▎      | 8306/24878 [01:25<03:38, 75.89it/s]"
     ]
    },
    {
     "name": "stdout",
     "output_type": "stream",
     "text": [
      "---- Fantasy Too many words in a line\n",
      "XXXX When Ur Hero Falls has no verses\n"
     ]
    },
    {
     "name": "stderr",
     "output_type": "stream",
     "text": [
      "                                                    \r"
     ]
    },
    {
     "name": "stdout",
     "output_type": "stream",
     "text": [
      "XXXX God Emcees has no verses\n",
      "XXXX World Wide Mob Figgaz (Original Version) has too many verses\n"
     ]
    },
    {
     "name": "stderr",
     "output_type": "stream",
     "text": [
      "                                                    \r"
     ]
    },
    {
     "name": "stdout",
     "output_type": "stream",
     "text": [
      "XXXX Slippin’ into Darkness has no verses\n"
     ]
    },
    {
     "name": "stderr",
     "output_type": "stream",
     "text": [
      " 34%|███▎      | 8359/24878 [01:26<03:27, 79.70it/s]"
     ]
    },
    {
     "name": "stdout",
     "output_type": "stream",
     "text": [
      "---- Tupac & Monster Kody Phone Conversation October 18, 1995 Too many words in a line\n",
      "XXXX 1995 Police Station Testimony has no verses\n",
      "XXXX KILL ME (SABIMIXX) has no verses\n",
      "XXXX Whatz Your Phone Number has too many verses\n",
      "XXXX Dear Lord has no verses\n"
     ]
    },
    {
     "name": "stderr",
     "output_type": "stream",
     "text": [
      " 34%|███▎      | 8379/24878 [01:26<03:13, 85.30it/s]"
     ]
    },
    {
     "name": "stdout",
     "output_type": "stream",
     "text": [
      "XXXX 1st impression has no verses\n",
      "XXXX Tell Mamma Don’t Cry has no verses\n",
      "XXXX The Call has no verses\n",
      "XXXX The Case of the Misplaced Mic II has no verses\n",
      "XXXX Picture My Pain has no verses\n",
      "XXXX One night stand has no verses\n",
      "XXXX I’m Thuggin’ has no verses\n"
     ]
    },
    {
     "name": "stderr",
     "output_type": "stream",
     "text": [
      " 34%|███▍      | 8397/24878 [01:26<03:18, 83.11it/s]"
     ]
    },
    {
     "name": "stdout",
     "output_type": "stream",
     "text": [
      "XXXX A Different Love has no verses\n",
      "XXXX Letter Regarding an OutKast, E-40, Smif-n-Wessun and Scarface Collaboration - One Nation has no verses\n",
      "XXXX Conspiracies revolving around Tupacs death has no verses\n",
      "XXXX 2pac’s letter to Big Lock has no verses\n",
      "XXXX TS11* has no verses\n"
     ]
    },
    {
     "name": "stderr",
     "output_type": "stream",
     "text": [
      " 34%|███▍      | 8416/24878 [01:26<03:13, 85.11it/s]"
     ]
    },
    {
     "name": "stdout",
     "output_type": "stream",
     "text": [
      "XXXX Bow Down has no verses\n",
      "XXXX Shed so many tears has no verses\n",
      "XXXX A3pac rap has no verses\n",
      "XXXX The Rape Case has no verses\n",
      "XXXX I’ve Seen Your Soul Before. has no verses\n",
      "XXXX Evolution Of A Thug (Davey D) has no verses\n",
      "XXXX The Last Days (Davey D) has no verses\n"
     ]
    },
    {
     "name": "stderr",
     "output_type": "stream",
     "text": [
      " 34%|███▍      | 8435/24878 [01:26<03:18, 82.86it/s]"
     ]
    },
    {
     "name": "stdout",
     "output_type": "stream",
     "text": [
      "XXXX Trouble Followed (Davey D) has no verses\n",
      "---- Revenge of a Soulja Too many words in a line\n",
      "XXXX Outlawz has no verses\n",
      "XXXX Mad Trouble (Davey D) has no verses\n",
      "OOOO MARKED FOR DELETION has cy\n",
      "XXXX Days like this has no verses\n"
     ]
    },
    {
     "name": "stderr",
     "output_type": "stream",
     "text": [
      " 34%|███▍      | 8460/24878 [01:27<02:51, 95.72it/s]"
     ]
    },
    {
     "name": "stdout",
     "output_type": "stream",
     "text": [
      "XXXX The Rose That Grew From Concrete - Focus Group1 has no verses\n",
      "XXXX Letter to Nina Bhadreshwar has no verses\n",
      "XXXX So I Say GOODBYE has no verses\n",
      "XXXX Music has no verses\n",
      "XXXX Where To Find Me has no verses\n",
      "XXXX Help me has no verses\n",
      "XXXX Neva be Peace has no verses\n",
      "XXXX Escape to heaven has no verses\n",
      "XXXX The Rose That Grew By Concrete has no verses\n",
      "XXXX Ghanges has no verses\n",
      "XXXX Guess whos beck has no verses\n",
      "XXXX No Surprises has no verses\n"
     ]
    },
    {
     "name": "stderr",
     "output_type": "stream",
     "text": [
      " 34%|███▍      | 8501/24878 [01:27<03:07, 87.52it/s]"
     ]
    },
    {
     "name": "stdout",
     "output_type": "stream",
     "text": [
      "XXXX Louis XIII has too many verses\n",
      "---- Been a Long Time Too many words in a line\n"
     ]
    },
    {
     "name": "stderr",
     "output_type": "stream",
     "text": [
      " 34%|███▍      | 8529/24878 [01:27<03:08, 86.66it/s]"
     ]
    },
    {
     "name": "stdout",
     "output_type": "stream",
     "text": [
      "XXXX Bitch Ass Niggaz has no verses\n"
     ]
    },
    {
     "name": "stderr",
     "output_type": "stream",
     "text": [
      " 34%|███▍      | 8548/24878 [01:28<03:01, 89.81it/s]"
     ]
    },
    {
     "name": "stdout",
     "output_type": "stream",
     "text": [
      "---- Handle Your Business Too many words in a line\n",
      "XXXX Scandalous Bitches has no verses\n",
      "XXXX Hit & Run (Part II) has too many verses\n",
      "---- Nobody Sound Like Me Too many words in a line\n"
     ]
    },
    {
     "name": "stderr",
     "output_type": "stream",
     "text": [
      " 34%|███▍      | 8568/24878 [01:28<03:01, 89.62it/s]"
     ]
    },
    {
     "name": "stdout",
     "output_type": "stream",
     "text": [
      "XXXX Legends Never Die has no verses\n",
      "XXXX Missin’ U has no verses\n",
      "XXXX Choke Me, Spank Me has no verses\n"
     ]
    },
    {
     "name": "stderr",
     "output_type": "stream",
     "text": [
      " 35%|███▍      | 8588/24878 [01:28<02:54, 93.41it/s]"
     ]
    },
    {
     "name": "stdout",
     "output_type": "stream",
     "text": [
      "XXXX Bitch Please has no verses\n",
      "---- State Of The Union Too many words in a line\n",
      "XXXX Fucking You Right has no verses\n",
      "XXXX Down For The Count has too many verses\n"
     ]
    },
    {
     "name": "stderr",
     "output_type": "stream",
     "text": [
      " 35%|███▍      | 8614/24878 [01:28<02:31, 107.57it/s]"
     ]
    },
    {
     "name": "stdout",
     "output_type": "stream",
     "text": [
      "XXXX Muthafucka - xplicit album version has no verses\n",
      "XXXX Loaded has no verses\n",
      "XXXX Fanatic has no verses\n",
      "XXXX Step Up has no verses\n",
      "XXXX E Lucean Le Stelle (A New Style of Living) has no verses\n",
      "XXXX Symphony X Major has too many verses\n",
      "XXXX Hurt locker - main has no verses\n",
      "XXXX Prime Time has no verses\n",
      "XXXX Crazy ho - xplicit album version has no verses\n",
      "XXXX Judgement day - xplicit album version has no verses\n",
      "---- State of the union - xplicit album version Too many words in a line\n",
      "XXXX Scent of a woman - xplicit album version has no verses\n",
      "---- So What Too many words in a line\n",
      "XXXX Cold world - xplicit album version has no verses\n"
     ]
    },
    {
     "name": "stderr",
     "output_type": "stream",
     "text": [
      " 35%|███▍      | 8647/24878 [01:29<02:55, 92.26it/s] "
     ]
    },
    {
     "name": "stdout",
     "output_type": "stream",
     "text": [
      "---- Night Light Too many words in a line\n",
      "---- Crows 1 Too many words in a line\n",
      "XXXX Labor has no verses\n"
     ]
    },
    {
     "name": "stderr",
     "output_type": "stream",
     "text": [
      " 35%|███▍      | 8667/24878 [01:29<02:55, 92.17it/s]"
     ]
    },
    {
     "name": "stdout",
     "output_type": "stream",
     "text": [
      "---- Racing Stripes Too many words in a line\n",
      "XXXX Ruby ’81 has no verses\n",
      "XXXX 1,000 O’ Clock has no verses\n",
      "---- Hot Dogs Too many words in a line\n",
      "---- One of Four (Thank You) Too many words in a line\n",
      "XXXX Bent Life has no verses\n",
      "XXXX Saturn Missiles has no verses\n"
     ]
    },
    {
     "name": "stderr",
     "output_type": "stream",
     "text": [
      " 35%|███▍      | 8695/24878 [01:29<03:04, 87.63it/s]"
     ]
    },
    {
     "name": "stdout",
     "output_type": "stream",
     "text": [
      "---- We’re Famous Too many words in a line\n",
      "XXXX The Tugboat Complex Pt. 3 has no verses\n",
      "XXXX No Jumper Cables has no verses\n",
      "XXXX Bazooka Tooth has no verses\n",
      "XXXX Facemelter has no verses\n",
      "XXXX Babies with Guns has no verses\n"
     ]
    },
    {
     "name": "stderr",
     "output_type": "stream",
     "text": [
      " 35%|███▌      | 8714/24878 [01:29<03:00, 89.42it/s]"
     ]
    },
    {
     "name": "stdout",
     "output_type": "stream",
     "text": [
      "XXXX Basic Cable has no verses\n",
      "XXXX The Tugboat Complex has no verses\n",
      "XXXX Cook it Up has no verses\n",
      "XXXX Rogue Wave has no verses\n",
      "XXXX Rickety Rackety has too many verses\n"
     ]
    },
    {
     "name": "stderr",
     "output_type": "stream",
     "text": [
      " 35%|███▌      | 8733/24878 [01:30<03:08, 85.51it/s]"
     ]
    },
    {
     "name": "stdout",
     "output_type": "stream",
     "text": [
      "XXXX Mars Attacks has no verses\n",
      "XXXX 6B Panorama has no verses\n",
      "XXXX Dryspell has no verses\n",
      "XXXX Frijoles has no verses\n"
     ]
    },
    {
     "name": "stderr",
     "output_type": "stream",
     "text": [
      " 35%|███▌      | 8753/24878 [01:30<03:12, 83.65it/s]"
     ]
    },
    {
     "name": "stdout",
     "output_type": "stream",
     "text": [
      "---- Kill the Messenger Too many words in a line\n",
      "XXXX Same Space (The Tugboat Complex pt. 2) has no verses\n",
      "XXXX Merit has no verses\n",
      "XXXX Fishtales has no verses\n"
     ]
    },
    {
     "name": "stderr",
     "output_type": "stream",
     "text": [
      " 35%|███▌      | 8781/24878 [01:30<02:43, 98.42it/s]"
     ]
    },
    {
     "name": "stdout",
     "output_type": "stream",
     "text": [
      "XXXX All Day: Nike+ Original Run has no verses\n",
      "XXXX Numb (to the Guns) has no verses\n",
      "XXXX Coffee (Main) has no verses\n",
      "XXXX Dead Pan has no verses\n",
      "XXXX Ace Rocks has no verses\n",
      "XXXX Forest Crunk has no verses\n",
      "XXXX Freeze has no verses\n",
      "XXXX Breakfast With Blockhead has no verses\n",
      "XXXX The Active Element has no verses\n",
      "XXXX One Of Four has no verses\n",
      "XXXX Junkyard has no verses\n",
      "XXXX All In All has no verses\n",
      "XXXX Lunch with Blockhead has no verses\n",
      "XXXX Dinner With Blockhead has no verses\n",
      "XXXX Hello From The Spirit World has no verses\n",
      "XXXX Shere Kahn has no verses\n",
      "XXXX Rat Skull has no verses\n",
      "XXXX Sniff Glue has no verses\n",
      "XXXX The Tugboat Complex, Part 3 has no verses\n",
      "XXXX Frozen Caveman has no verses\n",
      "XXXX Snowmobile has no verses\n",
      "XXXX Twice Fried has no verses\n",
      "XXXX For The Whole Family has no verses\n",
      "XXXX Button Masher has no verses\n"
     ]
    },
    {
     "name": "stderr",
     "output_type": "stream",
     "text": [
      " 35%|███▌      | 8822/24878 [01:30<02:01, 131.90it/s]"
     ]
    },
    {
     "name": "stdout",
     "output_type": "stream",
     "text": [
      "XXXX Zero Dark Thirty Single Art has no verses\n",
      "XXXX Home Again has no verses\n",
      "XXXX The Blob has too many verses\n",
      "XXXX Dog at the Door has no verses\n",
      "XXXX 1 To 10 has no verses\n",
      "XXXX Corner Store has no verses\n",
      "XXXX Salt has no verses\n",
      "XXXX Crystal Sword has no verses\n",
      "XXXX The Four Winds has no verses\n",
      "XXXX Holy Waterfall has no verses\n",
      "XXXX Jumping Coffin has no verses\n",
      "XXXX Mashed Potatoes has no verses\n",
      "XXXX Kodokushi has no verses\n",
      "---- From the very bottom of your tailbone Too many words in a line\n",
      "XXXX Gauze has no verses\n",
      "XXXX Sleeper Car has no verses\n",
      "XXXX Attaboy has no verses\n",
      "XXXX Flies has no verses\n",
      "XXXX Side Quest has no verses\n",
      "XXXX Boot Soup has no verses\n",
      "XXXX Fixed and Dilated has no verses\n",
      "XXXX The Church 1 has no verses\n",
      "XXXX All Fall Down has no verses\n",
      "XXXX Sharks and Minnows has no verses\n",
      "XXXX Marble Cake has no verses\n",
      "XXXX Coveralls has no verses\n",
      "XXXX The School has no verses\n",
      "XXXX Jaguar has no verses\n",
      "XXXX The Church 2 has no verses\n",
      "XXXX Chesterfield has no verses\n",
      "XXXX Ash has no verses\n",
      "XXXX New Yule has no verses\n",
      "XXXX Corner Store Reprise has no verses\n",
      "XXXX Raiders has no verses\n",
      "XXXX Riot Riot has no verses\n",
      "XXXX Ogres has no verses\n",
      "XXXX Downstairs has no verses\n",
      "XXXX New Yule Reprise has no verses\n"
     ]
    },
    {
     "name": "stderr",
     "output_type": "stream",
     "text": [
      " 36%|███▌      | 8876/24878 [01:31<02:44, 97.14it/s] "
     ]
    },
    {
     "name": "stdout",
     "output_type": "stream",
     "text": [
      "XXXX Night The City Cried has no verses\n",
      "XXXX Lay Down has no verses\n",
      "XXXX Hungry has no verses\n",
      "XXXX Semi automatic: full rap metal jacket has no verses\n"
     ]
    },
    {
     "name": "stderr",
     "output_type": "stream",
     "text": [
      " 36%|███▌      | 8898/24878 [01:31<02:40, 99.60it/s] "
     ]
    },
    {
     "name": "stdout",
     "output_type": "stream",
     "text": [
      "---- Climate Too many words in a line\n"
     ]
    },
    {
     "name": "stderr",
     "output_type": "stream",
     "text": [
      " 36%|███▌      | 8921/24878 [01:31<02:33, 103.87it/s]"
     ]
    },
    {
     "name": "stdout",
     "output_type": "stream",
     "text": [
      "OOOO PA Kassanova has fi\n",
      "XXXX Uptwon 2019 Hjemmesnekk has no verses\n"
     ]
    },
    {
     "name": "stderr",
     "output_type": "stream",
     "text": [
      " 36%|███▌      | 8943/24878 [01:32<02:43, 97.64it/s] "
     ]
    },
    {
     "name": "stdout",
     "output_type": "stream",
     "text": [
      "---- Flatline Too many words in a line\n",
      "XXXX No Future has no verses\n",
      "---- Best Friend Too many words in a line\n"
     ]
    },
    {
     "name": "stderr",
     "output_type": "stream",
     "text": [
      " 36%|███▌      | 8974/24878 [01:32<02:45, 96.33it/s]"
     ]
    },
    {
     "name": "stdout",
     "output_type": "stream",
     "text": [
      "---- All I Want Too many words in a line\n",
      "---- Fkn’ Science Bro Too many words in a line\n",
      "---- Cranberry Moonwalk Too many words in a line\n"
     ]
    },
    {
     "name": "stderr",
     "output_type": "stream",
     "text": [
      " 36%|███▌      | 9015/24878 [01:32<02:45, 95.70it/s]"
     ]
    },
    {
     "name": "stdout",
     "output_type": "stream",
     "text": [
      "---- Flatline Pt. = Too many words in a line\n",
      "---- H.A.A.R.P. Music Too many words in a line\n",
      "---- Air Bender Too many words in a line\n",
      "---- Uncomfortable Too many words in a line\n"
     ]
    },
    {
     "name": "stderr",
     "output_type": "stream",
     "text": [
      " 36%|███▋      | 9058/24878 [01:33<02:37, 100.25it/s]"
     ]
    },
    {
     "name": "stdout",
     "output_type": "stream",
     "text": [
      "---- PoW WoW Too many words in a line\n",
      "XXXX Back It Up For Bobby has no verses\n"
     ]
    },
    {
     "name": "stderr",
     "output_type": "stream",
     "text": [
      " 36%|███▋      | 9080/24878 [01:33<02:33, 102.74it/s]"
     ]
    },
    {
     "name": "stdout",
     "output_type": "stream",
     "text": [
      "---- Action News Too many words in a line\n",
      "XXXX Fuck the Money has too many verses\n",
      "---- How it is Too many words in a line\n",
      "XXXX Dynomite has no verses\n"
     ]
    },
    {
     "name": "stderr",
     "output_type": "stream",
     "text": [
      " 37%|███▋      | 9138/24878 [01:34<02:25, 108.19it/s]"
     ]
    },
    {
     "name": "stdout",
     "output_type": "stream",
     "text": [
      "OOOO Cuello has es\n",
      "XXXX Sk8 has no verses\n",
      "XXXX Obama Speaks - Fuckemweball has no verses\n",
      "---- Kevin Hart Speaks Too many words in a line\n"
     ]
    },
    {
     "name": "stderr",
     "output_type": "stream",
     "text": [
      " 37%|███▋      | 9160/24878 [01:34<02:39, 98.84it/s] "
     ]
    },
    {
     "name": "stdout",
     "output_type": "stream",
     "text": [
      "XXXX Woman has no verses\n"
     ]
    },
    {
     "name": "stderr",
     "output_type": "stream",
     "text": [
      " 37%|███▋      | 9181/24878 [01:34<02:37, 99.88it/s]"
     ]
    },
    {
     "name": "stdout",
     "output_type": "stream",
     "text": [
      "XXXX Nothing For You has no verses\n",
      "XXXX Mellow Fellow has no verses\n",
      "XXXX DC Young Fly Speaks has no verses\n"
     ]
    },
    {
     "name": "stderr",
     "output_type": "stream",
     "text": [
      " 37%|███▋      | 9204/24878 [01:34<02:40, 97.92it/s] "
     ]
    },
    {
     "name": "stdout",
     "output_type": "stream",
     "text": [
      "XXXX Daddy has no verses\n",
      "XXXX Middle of the Day has no verses\n",
      "XXXX Curtis Snow Speaks has no verses\n",
      "XXXX B Is For B.o.B has no verses\n",
      "---- My Story Too many words in a line\n",
      "---- Sing My Song Too many words in a line\n"
     ]
    },
    {
     "name": "stderr",
     "output_type": "stream",
     "text": [
      "                                                    \r"
     ]
    },
    {
     "name": "stdout",
     "output_type": "stream",
     "text": [
      "XXXX DC Young Fly Speaks 2 has no verses\n",
      "---- I ont Really Too many words in a line\n",
      "XXXX Wolly Bully has no verses\n",
      "XXXX BOB has no verses\n",
      "XXXX I’m in my zone has no verses\n"
     ]
    },
    {
     "name": "stderr",
     "output_type": "stream",
     "text": [
      " 37%|███▋      | 9256/24878 [01:35<02:47, 93.33it/s]"
     ]
    },
    {
     "name": "stdout",
     "output_type": "stream",
     "text": [
      "XXXX Don’t Be Afraid has too many verses\n",
      "XXXX High Life has no verses\n",
      "XXXX Harlem Shuffle has no verses\n",
      "---- Decatur Too many words in a line\n",
      "XXXX Chiefin’ Like A Rasta has no verses\n",
      "XXXX Smart Girl has no verses\n"
     ]
    },
    {
     "name": "stderr",
     "output_type": "stream",
     "text": [
      " 37%|███▋      | 9276/24878 [01:35<02:44, 94.70it/s]"
     ]
    },
    {
     "name": "stdout",
     "output_type": "stream",
     "text": [
      "XXXX Wave has no verses\n",
      "XXXX Wait Your Turn has no verses\n",
      "XXXX 2010 has no verses\n",
      "XXXX Use Your Love has no verses\n",
      "---- Southern Smoke Too many words in a line\n",
      "XXXX Welcome to the Jungle has no verses\n",
      "---- DC Young Fly Speaks 3 Too many words in a line\n"
     ]
    },
    {
     "name": "stderr",
     "output_type": "stream",
     "text": [
      " 37%|███▋      | 9301/24878 [01:35<02:27, 105.68it/s]"
     ]
    },
    {
     "name": "stdout",
     "output_type": "stream",
     "text": [
      "XXXX Mellow fellow - ep version has no verses\n",
      "XXXX .Perfect Symetry has no verses\n",
      "XXXX B.o.B. Checking In has no verses\n",
      "XXXX Bobby Ray Intermission has no verses\n",
      "XXXX Song1 has no verses\n",
      "XXXX God Loves Violence has no verses\n",
      "XXXX Lol has no verses\n",
      "XXXX Duh has no verses\n",
      "XXXX NO has no verses\n",
      "XXXX We Will Prevail has no verses\n",
      "XXXX Rrrrrr has no verses\n",
      "XXXX #Crush has no verses\n",
      "XXXX Blinded By The Lights has too many verses\n"
     ]
    },
    {
     "name": "stderr",
     "output_type": "stream",
     "text": [
      " 38%|███▊      | 9343/24878 [01:36<02:45, 94.13it/s] "
     ]
    },
    {
     "name": "stdout",
     "output_type": "stream",
     "text": [
      "---- You Are Not the Voice in Your Head Too many words in a line\n"
     ]
    },
    {
     "name": "stderr",
     "output_type": "stream",
     "text": [
      "                                                     \r"
     ]
    },
    {
     "name": "stdout",
     "output_type": "stream",
     "text": [
      "XXXX Came In Through The Door has no verses\n",
      "XXXX 4 o’Clock has no verses\n",
      "XXXX Your Song has no verses\n",
      "XXXX Where My Heart Has Been has no verses\n",
      "XXXX He’s Behind You, He’s Got Swine Flu has no verses\n",
      "XXXX Something to Hide has no verses\n",
      "XXXX Move On has no verses\n",
      "XXXX The Morning After The Day Off On One has no verses\n"
     ]
    },
    {
     "name": "stderr",
     "output_type": "stream",
     "text": [
      " 38%|███▊      | 9423/24878 [01:36<02:19, 110.73it/s]"
     ]
    },
    {
     "name": "stdout",
     "output_type": "stream",
     "text": [
      "XXXX Lovelight of My Life has no verses\n",
      "XXXX Prangin’ Out (Pete’s Version) has no verses\n",
      "XXXX David Hassles has no verses\n",
      "XXXX I Love You More (Thank You Like Me) has no verses\n",
      "---- Breakbat Barz Too many words in a line\n",
      "XXXX At the Back of the Line has no verses\n",
      "XXXX When You Wasn’t Famous (Example MC Version) has no verses\n",
      "XXXX I Love My Phone has no verses\n",
      "XXXX Infamy has no verses\n",
      "XXXX Benden has no verses\n",
      "XXXX Yoluna Bak has no verses\n",
      "XXXX Shake Down has no verses\n"
     ]
    },
    {
     "name": "stderr",
     "output_type": "stream",
     "text": [
      " 38%|███▊      | 9435/24878 [01:37<02:52, 89.69it/s] "
     ]
    },
    {
     "name": "stdout",
     "output_type": "stream",
     "text": [
      "---- The Ringer Too many words in a line\n"
     ]
    },
    {
     "name": "stderr",
     "output_type": "stream",
     "text": [
      " 38%|███▊      | 9454/24878 [01:37<03:32, 72.59it/s]"
     ]
    },
    {
     "name": "stdout",
     "output_type": "stream",
     "text": [
      "---- Mockingbird Too many words in a line\n"
     ]
    },
    {
     "name": "stderr",
     "output_type": "stream",
     "text": [
      " 38%|███▊      | 9470/24878 [01:37<04:09, 61.73it/s]"
     ]
    },
    {
     "name": "stdout",
     "output_type": "stream",
     "text": [
      "---- Evil Twin Too many words in a line\n",
      "XXXX Campaign Speech has no verses\n"
     ]
    },
    {
     "name": "stderr",
     "output_type": "stream",
     "text": [
      " 38%|███▊      | 9499/24878 [01:38<04:10, 61.33it/s]"
     ]
    },
    {
     "name": "stdout",
     "output_type": "stream",
     "text": [
      "---- Brainless Too many words in a line\n"
     ]
    },
    {
     "name": "stderr",
     "output_type": "stream",
     "text": [
      " 39%|███▊      | 9579/24878 [01:39<04:16, 59.68it/s]"
     ]
    },
    {
     "name": "stdout",
     "output_type": "stream",
     "text": [
      "---- Yellow Brick Road Too many words in a line\n"
     ]
    },
    {
     "name": "stderr",
     "output_type": "stream",
     "text": [
      " 39%|███▊      | 9620/24878 [01:40<04:10, 60.91it/s]"
     ]
    },
    {
     "name": "stdout",
     "output_type": "stream",
     "text": [
      "---- Encore / Curtains Down Too many words in a line\n",
      "XXXX Quitter (Everlast Diss) has too many verses\n"
     ]
    },
    {
     "name": "stderr",
     "output_type": "stream",
     "text": [
      "                                                    \r"
     ]
    },
    {
     "name": "stdout",
     "output_type": "stream",
     "text": [
      "XXXX Facebook Q&A has no verses\n"
     ]
    },
    {
     "name": "stderr",
     "output_type": "stream",
     "text": [
      " 39%|███▉      | 9672/24878 [01:41<03:36, 70.08it/s]"
     ]
    },
    {
     "name": "stdout",
     "output_type": "stream",
     "text": [
      "---- Ballin’ Uncontrollably Too many words in a line\n",
      "XXXX Rhyme Time With Eminem has no verses\n",
      "XXXX The Equalizer : Soundtrack has no verses\n"
     ]
    },
    {
     "name": "stderr",
     "output_type": "stream",
     "text": [
      " 39%|███▉      | 9690/24878 [01:41<03:24, 74.45it/s]"
     ]
    },
    {
     "name": "stdout",
     "output_type": "stream",
     "text": [
      "XXXX Greg has no verses\n",
      "XXXX 8 Mile Background Music has no verses\n",
      "XXXX Rap City has no verses\n",
      "XXXX Letter to Tupac’s Mother has no verses\n",
      "XXXX Just Rhymin’ with Proof has too many verses\n"
     ]
    },
    {
     "name": "stderr",
     "output_type": "stream",
     "text": [
      " 39%|███▉      | 9711/24878 [01:41<02:58, 85.01it/s]"
     ]
    },
    {
     "name": "stdout",
     "output_type": "stream",
     "text": [
      "XXXX 8 Mile: Lily’s Lullaby has no verses\n",
      "---- 1-833-2GET-REV (REVIVAL Voicemail) Too many words in a line\n",
      "XXXX Hazardous Youth has no verses\n",
      "XXXX My Drug Addiction has no verses\n",
      "XXXX Eminem’s Tattoos has no verses\n",
      "XXXX Pooh Butt Day has too many verses\n",
      "XXXX Baruch College Session has no verses\n"
     ]
    },
    {
     "name": "stderr",
     "output_type": "stream",
     "text": [
      " 39%|███▉      | 9739/24878 [01:41<02:25, 103.78it/s]"
     ]
    },
    {
     "name": "stdout",
     "output_type": "stream",
     "text": [
      "---- Tylenol Island Too many words in a line\n",
      "XXXX Three Headed Monster* has no verses\n",
      "XXXX 12 Days of Diss-Mas has no verses\n",
      "---- 1999 Too many words in a line\n",
      "---- The Monster Explained Too many words in a line\n",
      "XXXX My Fault (Pizza Mix) has too many verses\n",
      "XXXX Rap City 2013 Acapella has no verses\n",
      "---- Bad Meets Evil Original Too many words in a line\n",
      "---- Public Service Announcement (2006) Too many words in a line\n",
      "---- My Conscience Too many words in a line\n",
      "XXXX ’97 Blazer has no verses\n",
      "XXXX Public Service Announcement has no verses\n",
      "XXXX Letter To Detroit has no verses\n"
     ]
    },
    {
     "name": "stderr",
     "output_type": "stream",
     "text": [
      " 39%|███▉      | 9762/24878 [01:41<02:27, 102.39it/s]"
     ]
    },
    {
     "name": "stdout",
     "output_type": "stream",
     "text": [
      "XXXX Cock Massage has no verses\n",
      "XXXX Stuff To Never Rhyme (The Don’ts) has no verses\n",
      "XXXX Berzerk Explained has no verses\n",
      "XXXX Ariel has no verses\n",
      "---- Stolen Power Too many words in a line\n",
      "---- Starting To Look Like An M&M! Too many words in a line\n",
      "XXXX Eminem Music Videos has no verses\n",
      "XXXX Ode To Detroit has no verses\n"
     ]
    },
    {
     "name": "stderr",
     "output_type": "stream",
     "text": [
      " 39%|███▉      | 9788/24878 [01:42<02:13, 112.97it/s]"
     ]
    },
    {
     "name": "stdout",
     "output_type": "stream",
     "text": [
      "XXXX Passin’ out concussions has no verses\n",
      "XXXX Keys To The City has no verses\n",
      "XXXX PhatBeats Prank Call has too many verses\n",
      "XXXX Mystical Diss has no verses\n",
      "XXXX Hot 100 Chart History has no verses\n",
      "XXXX Freak (Türkçe Çeviri) has no verses\n",
      "XXXX Eminem - Get You Mad (Türkçe Çeviri) has no verses\n",
      "---- Rolling Stone Q/A Exclusive 2013 Too many words in a line\n",
      "XXXX Cannon for nick has no verses\n"
     ]
    },
    {
     "name": "stderr",
     "output_type": "stream",
     "text": [
      " 39%|███▉      | 9813/24878 [01:42<02:16, 110.68it/s]"
     ]
    },
    {
     "name": "stdout",
     "output_type": "stream",
     "text": [
      "OOOO Anger Management (Turkish Translation) has tr\n",
      "XXXX #hot16challenge2 has no verses\n",
      "XXXX The ‘N’ Bomb has no verses\n",
      "XXXX Poopity scoopity has no verses\n",
      "OOOO Premonition (PL) has pl\n",
      "---- ’Till I Collapse (Traduzione Italiana) Too many words in a line\n",
      "XXXX NOT KEYS TO THE CITY has no verses\n",
      "---- Eminem - Difficult (MAGYAR FORDÍTÁS) Too many words in a line\n",
      "OOOO Eminem - Hello (Türkçe Çeviri) has tr\n",
      "XXXX Public Service Announcement 2013 has no verses\n",
      "XXXX It’s the real slim shady has no verses\n"
     ]
    },
    {
     "name": "stderr",
     "output_type": "stream",
     "text": [
      " 40%|███▉      | 9844/24878 [01:42<03:02, 82.20it/s] "
     ]
    },
    {
     "name": "stdout",
     "output_type": "stream",
     "text": [
      "XXXX The Genesis has too many verses\n",
      "---- Wrote My Way Out Too many words in a line\n"
     ]
    },
    {
     "name": "stderr",
     "output_type": "stream",
     "text": [
      " 40%|███▉      | 9880/24878 [01:43<03:03, 81.92it/s]"
     ]
    },
    {
     "name": "stdout",
     "output_type": "stream",
     "text": [
      "XXXX Black Girl Lost has too many verses\n"
     ]
    },
    {
     "name": "stderr",
     "output_type": "stream",
     "text": [
      " 40%|████      | 10049/24878 [01:45<02:38, 93.47it/s]"
     ]
    },
    {
     "name": "stdout",
     "output_type": "stream",
     "text": [
      "XXXX Nas’ Tattoos has no verses\n",
      "---- Angels with Dirty Faces Too many words in a line\n",
      "XXXX Power Paper Pussy has no verses\n",
      "XXXX Real Niggas has no verses\n"
     ]
    },
    {
     "name": "stderr",
     "output_type": "stream",
     "text": [
      " 40%|████      | 10069/24878 [01:45<02:43, 90.31it/s]"
     ]
    },
    {
     "name": "stdout",
     "output_type": "stream",
     "text": [
      "---- Everything Is Real Too many words in a line\n",
      "XXXX Desert Storm has no verses\n",
      "XXXX Legendary (Mike Tyson) has no verses\n"
     ]
    },
    {
     "name": "stderr",
     "output_type": "stream",
     "text": [
      " 41%|████      | 10089/24878 [01:45<02:42, 91.13it/s]"
     ]
    },
    {
     "name": "stdout",
     "output_type": "stream",
     "text": [
      "XXXX The Get Down: Episode 1 - Where There Is Ruin, There Is Hope For A Treasure has no verses\n",
      "---- Middle Finger Too many words in a line\n",
      "XXXX The Get Down: Episode 3 - Darkness Is Your Candle has no verses\n",
      "XXXX The Get Down: Episode 2 - Seek Those Who Fan Your Flame has no verses\n",
      "XXXX Open Letter to Young Warriors in Chicago (Sep. 2009) has no verses\n"
     ]
    },
    {
     "name": "stderr",
     "output_type": "stream",
     "text": [
      " 41%|████      | 10119/24878 [01:46<02:44, 89.69it/s]"
     ]
    },
    {
     "name": "stdout",
     "output_type": "stream",
     "text": [
      "XXXX When Thugs die has no verses\n",
      "XXXX Blood, New Version has no verses\n",
      "XXXX Snitch Alibi has no verses\n",
      "---- Be Safe, Be Notorious Too many words in a line\n",
      "XXXX 1 Shot has no verses\n",
      "OOOO The escobar has af\n",
      "XXXX My Book Of Rhymes has no verses\n"
     ]
    },
    {
     "name": "stderr",
     "output_type": "stream",
     "text": [
      " 41%|████      | 10145/24878 [01:46<02:21, 104.29it/s]"
     ]
    },
    {
     "name": "stdout",
     "output_type": "stream",
     "text": [
      "XXXX Hip hop has no verses\n",
      "---- Cops Keep Firing Too many words in a line\n",
      "XXXX Colors has no verses\n",
      "XXXX Must Be Nice has no verses\n",
      "XXXX Why You Hate The Game (Exclusive) has no verses\n",
      "---- “The Price i Pay To See My Son” - Open Letter via Instagram Too many words in a line\n",
      "XXXX Life’s Like A Dice Game has no verses\n",
      "XXXX Too Much For Me has no verses\n",
      "XXXX Salute Me has no verses\n",
      "XXXX Copycat has no verses\n",
      "XXXX Wanna Play has no verses\n",
      "XXXX U wanna be me - soundtrack version has no verses\n",
      "---- Fear Of The Black Man’s Dick Too many words in a line\n",
      "XXXX Fuck Nas (Bonus Track) has no verses\n",
      "XXXX Play On Playa [Clean] has no verses\n",
      "XXXX Everything ft The Dream has no verses\n",
      "XXXX Who Killed It? [Clean] has no verses\n",
      "XXXX NY State of Mind Q-Ball Mix has no verses\n",
      "XXXX Me & You (Dedicated To Destiny) - Explicit Album Version has no verses\n",
      "XXXX Jonesin has no verses\n"
     ]
    },
    {
     "name": "stderr",
     "output_type": "stream",
     "text": [
      " 41%|████      | 10173/24878 [01:46<02:21, 103.90it/s]"
     ]
    },
    {
     "name": "stdout",
     "output_type": "stream",
     "text": [
      "XXXX The 2 has no verses\n",
      "XXXX Comments on Sony/ATV Deal, November 14, 2013 has no verses\n"
     ]
    },
    {
     "name": "stderr",
     "output_type": "stream",
     "text": [
      " 41%|████      | 10196/24878 [01:46<02:32, 96.48it/s] "
     ]
    },
    {
     "name": "stdout",
     "output_type": "stream",
     "text": [
      "XXXX The Heist has too many verses\n",
      "---- Stretch & Bobbito ’95 Pt. I Too many words in a line\n",
      "---- You Know What I’m About Too many words in a line\n",
      "---- I Shoulda Used a Rubba Too many words in a line\n",
      "XXXX The Triboro has too many verses\n",
      "XXXX Stretch & Bobbito ’95 Pt. II has no verses\n",
      "XXXX Doo Wop #5 has no verses\n",
      "XXXX Back Up Off Me has no verses\n",
      "XXXX Still Here has too many verses\n",
      "XXXX New York has no verses\n"
     ]
    },
    {
     "name": "stderr",
     "output_type": "stream",
     "text": [
      " 41%|████      | 10218/24878 [01:47<02:27, 99.21it/s]"
     ]
    },
    {
     "name": "stdout",
     "output_type": "stream",
     "text": [
      "XXXX Hard To Kill has no verses\n",
      "XXXX Stretch & Bobbito ’98 has too many verses\n",
      "XXXX Power Moves has no verses\n",
      "---- Clinic (I Shoulda Used a Rubber) Too many words in a line\n",
      "XXXX Harlem Nights has no verses\n",
      "XXXX Don’t Sleep has too many verses\n"
     ]
    },
    {
     "name": "stderr",
     "output_type": "stream",
     "text": [
      " 41%|████      | 10253/24878 [01:47<02:19, 105.18it/s]"
     ]
    },
    {
     "name": "stdout",
     "output_type": "stream",
     "text": [
      "XXXX Stretch & Bobbito ’92 has no verses\n",
      "XXXX Flamboyant Pt. II has no verses\n",
      "XXXX If You Not Aware has no verses\n",
      "XXXX Fed Up Wit the Bullshit has no verses\n",
      "XXXX Audition has no verses\n",
      "---- Rock N. Wills Audition Too many words in a line\n",
      "XXXX We Got This has too many verses\n",
      "XXXX Accapella 2 (Fall Back) has no verses\n",
      "XXXX My Niggaz - Doo Wop has no verses\n",
      "XXXX In The Game has no verses\n",
      "XXXX Stretch & Bobbito ’93 has no verses\n",
      "XXXX Big L The Phenomenon has no verses\n"
     ]
    },
    {
     "name": "stderr",
     "output_type": "stream",
     "text": [
      " 41%|████▏     | 10274/24878 [01:47<02:36, 93.49it/s] "
     ]
    },
    {
     "name": "stdout",
     "output_type": "stream",
     "text": [
      "---- Hand of the Dead Body Too many words in a line\n",
      "XXXX Now I Feel Ya has no verses\n",
      "XXXX Mary Jane has no verses\n"
     ]
    },
    {
     "name": "stderr",
     "output_type": "stream",
     "text": [
      " 41%|████▏     | 10294/24878 [01:47<02:46, 87.53it/s]"
     ]
    },
    {
     "name": "stdout",
     "output_type": "stream",
     "text": [
      "XXXX Heaven has no verses\n",
      "XXXX 2 Real has no verses\n"
     ]
    },
    {
     "name": "stderr",
     "output_type": "stream",
     "text": [
      " 41%|████▏     | 10313/24878 [01:48<02:45, 87.82it/s]"
     ]
    },
    {
     "name": "stdout",
     "output_type": "stream",
     "text": [
      "XXXX Voices has no verses\n",
      "XXXX Southside has no verses\n",
      "XXXX In and Out has no verses\n",
      "XXXX Win, Lose or Draw has no verses\n",
      "---- Boy Meets Girl Too many words in a line\n"
     ]
    },
    {
     "name": "stderr",
     "output_type": "stream",
     "text": [
      " 42%|████▏     | 10344/24878 [01:48<02:33, 94.98it/s]"
     ]
    },
    {
     "name": "stdout",
     "output_type": "stream",
     "text": [
      "---- Anything Too many words in a line\n",
      "XXXX No Warning has no verses\n",
      "XXXX Sunshine has no verses\n",
      "XXXX The Last of a Dying Breed has no verses\n",
      "XXXX In My Time has no verses\n"
     ]
    },
    {
     "name": "stderr",
     "output_type": "stream",
     "text": [
      " 42%|████▏     | 10364/24878 [01:48<02:38, 91.80it/s]"
     ]
    },
    {
     "name": "stdout",
     "output_type": "stream",
     "text": [
      "XXXX I’m Black has no verses\n"
     ]
    },
    {
     "name": "stderr",
     "output_type": "stream",
     "text": [
      " 42%|████▏     | 10384/24878 [01:48<02:57, 81.48it/s]"
     ]
    },
    {
     "name": "stdout",
     "output_type": "stream",
     "text": [
      "XXXX Real Nigga Blues has no verses\n",
      "XXXX Still That Nigga has no verses\n"
     ]
    },
    {
     "name": "stderr",
     "output_type": "stream",
     "text": [
      " 42%|████▏     | 10412/24878 [01:49<02:46, 86.88it/s]"
     ]
    },
    {
     "name": "stdout",
     "output_type": "stream",
     "text": [
      "XXXX Unexpected has no verses\n",
      "XXXX All Night Long has no verses\n",
      "XXXX Skrilla has no verses\n"
     ]
    },
    {
     "name": "stderr",
     "output_type": "stream",
     "text": [
      " 42%|████▏     | 10431/24878 [01:49<02:39, 90.62it/s]"
     ]
    },
    {
     "name": "stdout",
     "output_type": "stream",
     "text": [
      "XXXX Greed has no verses\n",
      "XXXX People Don’t Believe (AKA Hand Of The Dead Body) has no verses\n",
      "XXXX Betrayal has no verses\n",
      "XXXX 11-09-2000 has no verses\n",
      "OOOO HJB has nl\n",
      "XXXX Untochable has no verses\n",
      "XXXX Invincible has no verses\n"
     ]
    },
    {
     "name": "stderr",
     "output_type": "stream",
     "text": [
      " 42%|████▏     | 10461/24878 [01:49<02:35, 92.61it/s]"
     ]
    },
    {
     "name": "stdout",
     "output_type": "stream",
     "text": [
      "XXXX N 2 Deep has no verses\n",
      "XXXX Problem Solver has no verses\n",
      "XXXX Minute To Pray And A Second To Die (Screwed & Chopped) has no verses\n",
      "XXXX Album has no verses\n",
      "XXXX Are You Happy has no verses\n",
      "---- Ali Bomaye Too many words in a line\n",
      "---- The City Too many words in a line\n"
     ]
    },
    {
     "name": "stderr",
     "output_type": "stream",
     "text": [
      " 42%|████▏     | 10480/24878 [01:50<02:50, 84.24it/s]"
     ]
    },
    {
     "name": "stdout",
     "output_type": "stream",
     "text": [
      "---- Pest Control Too many words in a line\n",
      "XXXX Don’t Shoot has too many verses\n",
      "XXXX My Flag/Da Homies has too many verses\n"
     ]
    },
    {
     "name": "stderr",
     "output_type": "stream",
     "text": [
      " 42%|████▏     | 10498/24878 [01:50<03:07, 76.66it/s]"
     ]
    },
    {
     "name": "stdout",
     "output_type": "stream",
     "text": [
      "XXXX 400 Bars (The Skeemix) has no verses\n",
      "XXXX Mula has too many verses\n"
     ]
    },
    {
     "name": "stderr",
     "output_type": "stream",
     "text": [
      " 42%|████▏     | 10523/24878 [01:50<03:11, 74.81it/s]"
     ]
    },
    {
     "name": "stdout",
     "output_type": "stream",
     "text": [
      "---- The Documentary 2 Too many words in a line\n",
      "---- Standing on Ferraris Too many words in a line\n"
     ]
    },
    {
     "name": "stderr",
     "output_type": "stream",
     "text": [
      " 42%|████▏     | 10542/24878 [01:50<02:58, 80.16it/s]"
     ]
    },
    {
     "name": "stdout",
     "output_type": "stream",
     "text": [
      "---- Last Time You Seen Too many words in a line\n",
      "XXXX Astronaut Pussy/Welcome to California has too many verses\n"
     ]
    },
    {
     "name": "stderr",
     "output_type": "stream",
     "text": [
      " 42%|████▏     | 10567/24878 [01:51<03:11, 74.64it/s]"
     ]
    },
    {
     "name": "stdout",
     "output_type": "stream",
     "text": [
      "---- True Colors / It’s On Too many words in a line\n"
     ]
    },
    {
     "name": "stderr",
     "output_type": "stream",
     "text": [
      " 43%|████▎     | 10601/24878 [01:51<03:01, 78.53it/s]"
     ]
    },
    {
     "name": "stdout",
     "output_type": "stream",
     "text": [
      "---- 100 Bars (The Funeral) Too many words in a line\n",
      "---- Savage Lifestyle Too many words in a line\n",
      "---- New York, New York Too many words in a line\n"
     ]
    },
    {
     "name": "stderr",
     "output_type": "stream",
     "text": [
      " 43%|████▎     | 10628/24878 [01:51<02:57, 80.27it/s]"
     ]
    },
    {
     "name": "stdout",
     "output_type": "stream",
     "text": [
      "---- On One Too many words in a line\n",
      "---- White Soft Porn Too many words in a line\n"
     ]
    },
    {
     "name": "stderr",
     "output_type": "stream",
     "text": [
      " 43%|████▎     | 10664/24878 [01:52<02:52, 82.42it/s]"
     ]
    },
    {
     "name": "stdout",
     "output_type": "stream",
     "text": [
      "XXXX Kim Kardashian* has no verses\n",
      "XXXX I’m So Wavy has no verses\n"
     ]
    },
    {
     "name": "stderr",
     "output_type": "stream",
     "text": [
      " 43%|████▎     | 10683/24878 [01:52<02:41, 87.66it/s]"
     ]
    },
    {
     "name": "stdout",
     "output_type": "stream",
     "text": [
      "---- Heaven 4 A Gangster Too many words in a line\n",
      "XXXX The Drill has no verses\n",
      "---- Cellphone Too many words in a line\n",
      "---- Never Be Friends Too many words in a line\n"
     ]
    },
    {
     "name": "stderr",
     "output_type": "stream",
     "text": [
      " 43%|████▎     | 10704/24878 [01:52<02:37, 90.23it/s]"
     ]
    },
    {
     "name": "stdout",
     "output_type": "stream",
     "text": [
      "---- Street Riders Too many words in a line\n",
      "XXXX Cali Niggaz has too many verses\n"
     ]
    },
    {
     "name": "stderr",
     "output_type": "stream",
     "text": [
      " 43%|████▎     | 10734/24878 [01:53<02:30, 93.74it/s]"
     ]
    },
    {
     "name": "stdout",
     "output_type": "stream",
     "text": [
      "XXXX Hustler’s Dream has no verses\n"
     ]
    },
    {
     "name": "stderr",
     "output_type": "stream",
     "text": [
      " 43%|████▎     | 10755/24878 [01:53<02:28, 94.87it/s]"
     ]
    },
    {
     "name": "stdout",
     "output_type": "stream",
     "text": [
      "XXXX Mr. Potatohead has no verses\n",
      "XXXX American Dream has no verses\n"
     ]
    },
    {
     "name": "stderr",
     "output_type": "stream",
     "text": [
      " 43%|████▎     | 10777/24878 [01:53<02:22, 99.10it/s]"
     ]
    },
    {
     "name": "stdout",
     "output_type": "stream",
     "text": [
      "---- Stop Talkin’ to the Cops Too many words in a line\n",
      "---- Pull Up Too many words in a line\n",
      "XXXX Out of Towner has no verses\n",
      "XXXX The Documentary Album Cover has no verses\n",
      "XXXX My Turn has no verses\n",
      "XXXX Down has no verses\n"
     ]
    },
    {
     "name": "stderr",
     "output_type": "stream",
     "text": [
      " 43%|████▎     | 10818/24878 [01:53<02:33, 91.39it/s]"
     ]
    },
    {
     "name": "stdout",
     "output_type": "stream",
     "text": [
      "XXXX Murda has no verses\n",
      "XXXX I Just Want to Fuck has no verses\n",
      "XXXX Down N Out (Lloyd Banks Diss) has no verses\n",
      "---- Laugh Too many words in a line\n"
     ]
    },
    {
     "name": "stderr",
     "output_type": "stream",
     "text": [
      " 44%|████▎     | 10828/24878 [01:54<02:32, 92.19it/s]"
     ]
    },
    {
     "name": "stdout",
     "output_type": "stream",
     "text": [
      "XXXX Poison Bananas has no verses\n",
      "XXXX New York has no verses\n"
     ]
    },
    {
     "name": "stderr",
     "output_type": "stream",
     "text": [
      " 44%|████▎     | 10858/24878 [01:54<02:32, 91.89it/s]"
     ]
    },
    {
     "name": "stdout",
     "output_type": "stream",
     "text": [
      "XXXX 911 is a Joke has no verses\n",
      "XXXX Sex has no verses\n",
      "---- The Pledge Too many words in a line\n",
      "XXXX Palm Pilot has too many verses\n",
      "XXXX This Is How We Do (Fresh ’83) has no verses\n"
     ]
    },
    {
     "name": "stderr",
     "output_type": "stream",
     "text": [
      " 44%|████▎     | 10877/24878 [01:54<02:42, 86.36it/s]"
     ]
    },
    {
     "name": "stdout",
     "output_type": "stream",
     "text": [
      "---- U Krazy Too many words in a line\n",
      "XXXX Gangsta Shit has no verses\n",
      "XXXX Who got the juice has no verses\n",
      "XXXX Let’s Ride [Explicit] has no verses\n"
     ]
    },
    {
     "name": "stderr",
     "output_type": "stream",
     "text": [
      " 44%|████▍     | 10911/24878 [01:55<02:26, 95.49it/s]"
     ]
    },
    {
     "name": "stdout",
     "output_type": "stream",
     "text": [
      "XXXX Turn Off The Lights has no verses\n",
      "XXXX Red light has no verses\n",
      "---- Can’t Do It Like Me Too many words in a line\n",
      "---- Diamonds Too many words in a line\n",
      "XXXX Power House has too many verses\n",
      "---- Feelin It Too many words in a line\n",
      "XXXX Heaven has no verses\n",
      "XXXX Ace of Spades has no verses\n",
      "XXXX Killa Cali has no verses\n",
      "XXXX Nightmares has no verses\n"
     ]
    },
    {
     "name": "stderr",
     "output_type": "stream",
     "text": [
      " 44%|████▍     | 10932/24878 [01:55<02:36, 89.23it/s]"
     ]
    },
    {
     "name": "stdout",
     "output_type": "stream",
     "text": [
      "XXXX Baggage Claim has no verses\n",
      "XXXX Hustlin’ has no verses\n",
      "XXXX Real Niggas Stand Up has no verses\n"
     ]
    },
    {
     "name": "stderr",
     "output_type": "stream",
     "text": [
      "                                                     \r"
     ]
    },
    {
     "name": "stdout",
     "output_type": "stream",
     "text": [
      "XXXX Ghost Writer has no verses\n",
      "XXXX We On has no verses\n",
      "XXXX Our Turn has no verses\n",
      "XXXX Ride With Me has no verses\n",
      "XXXX I Am has no verses\n",
      "XXXX Ghost Rider has no verses\n"
     ]
    },
    {
     "name": "stderr",
     "output_type": "stream",
     "text": [
      " 44%|████▍     | 10973/24878 [01:55<02:39, 87.38it/s]"
     ]
    },
    {
     "name": "stdout",
     "output_type": "stream",
     "text": [
      "XXXX Pussy Money Weed has no verses\n",
      "XXXX I Got A Million On It (Yukmouth Diss) has no verses\n",
      "XXXX Enemy has no verses\n",
      "XXXX Walkin’ In The Rain has no verses\n",
      "XXXX It’s Ok (One Blood) has no verses\n",
      "XXXX Quiet has no verses\n",
      "XXXX Philly Mega Mix has too many verses\n"
     ]
    },
    {
     "name": "stderr",
     "output_type": "stream",
     "text": [
      " 44%|████▍     | 10994/24878 [01:55<02:28, 93.34it/s]"
     ]
    },
    {
     "name": "stdout",
     "output_type": "stream",
     "text": [
      "XXXX 100 Barz and Gunnin’ has no verses\n",
      "XXXX Can’t Figure It Out has no verses\n",
      "XXXX That’s Presidents has no verses\n",
      "XXXX Fresh 83' has no verses\n",
      "XXXX Get’em has no verses\n",
      "XXXX It’s The game has no verses\n",
      "XXXX The Best Revenge has no verses\n",
      "XXXX Bleek Is... has no verses\n",
      "---- Don’t Cha Too many words in a line\n",
      "XXXX On Fire has no verses\n",
      "---- Cellphone ft. Dubb Too many words in a line\n"
     ]
    },
    {
     "name": "stderr",
     "output_type": "stream",
     "text": [
      " 44%|████▍     | 11014/24878 [01:56<02:27, 93.86it/s]"
     ]
    },
    {
     "name": "stdout",
     "output_type": "stream",
     "text": [
      "XXXX Dead Bodies has no verses\n",
      "XXXX Invisible Felon has no verses\n",
      "XXXX Gettin’ American Money Easy has no verses\n",
      "XXXX Why You Hate has no verses\n",
      "XXXX Everywhere has no verses\n",
      "XXXX Red Rockin (feat. Germ Ghee) has no verses\n",
      "XXXX Twist It has no verses\n",
      "XXXX My B*tch has no verses\n",
      "XXXX Soft Rhodes has no verses\n",
      "XXXX Wouldn’t Get Far [Clean] has no verses\n"
     ]
    },
    {
     "name": "stderr",
     "output_type": "stream",
     "text": [
      " 44%|████▍     | 11049/24878 [01:56<02:10, 105.57it/s]"
     ]
    },
    {
     "name": "stdout",
     "output_type": "stream",
     "text": [
      "XXXX Never Personal has no verses\n",
      "XXXX Welcome To My Hood has no verses\n",
      "XXXX I’m From The Ghetto has no verses\n",
      "XXXX Won’t Ever Stop has no verses\n",
      "XXXX Where you from (feat. fabolous) has no verses\n",
      "XXXX Kiss Your Ass Goodbye has no verses\n",
      "XXXX Beach Boy has no verses\n",
      "XXXX Get Ya Money Right has no verses\n",
      "OOOO You’s a Fuck Nigga has tl\n",
      "XXXX Cop killa has no verses\n",
      "XXXX We Will Survive has no verses\n",
      "XXXX Died Too Soon has no verses\n",
      "XXXX Hate (feat. young buck & dj haze) has no verses\n",
      "XXXX Confessions Of A Desperate Man has no verses\n"
     ]
    },
    {
     "name": "stderr",
     "output_type": "stream",
     "text": [
      " 45%|████▍     | 11073/24878 [01:56<02:03, 111.85it/s]"
     ]
    },
    {
     "name": "stdout",
     "output_type": "stream",
     "text": [
      "XXXX Dem boyz has no verses\n",
      "---- Killin’ it Too many words in a line\n",
      "XXXX Or nah - dirty version has no verses\n",
      "XXXX Ryda (Clean Version) has no verses\n",
      "XXXX It must be has no verses\n",
      "XXXX Lookin At You [Explicit] has no verses\n",
      "XXXX Carton of milk has no verses\n",
      "XXXX Bad Intentions has no verses\n",
      "XXXX Heart Breaker has no verses\n",
      "XXXX Switchlanes has no verses\n",
      "XXXX Worldwide has no verses\n",
      "XXXX Drama has no verses\n",
      "XXXX Neighborhood Supa Starz has no verses\n"
     ]
    },
    {
     "name": "stderr",
     "output_type": "stream",
     "text": [
      " 45%|████▍     | 11086/24878 [01:56<02:01, 113.97it/s]"
     ]
    },
    {
     "name": "stdout",
     "output_type": "stream",
     "text": [
      "XXXX Must be me has no verses\n",
      "XXXX Justo Faison Tribute has no verses\n",
      "XXXX Real n***** stand up has no verses\n",
      "XXXX Stunt 187 has no verses\n",
      "XXXX We Run L.a has no verses\n",
      "XXXX Show Is Over has no verses\n",
      "XXXX Doubt has no verses\n",
      "XXXX We do it big has no verses\n",
      "XXXX On Bail has no verses\n",
      "XXXX Scream On ’Em [Clean] has no verses\n",
      "XXXX Married To has no verses\n",
      "XXXX Ashed To Ashes has no verses\n",
      "XXXX Get’em has no verses\n",
      "XXXX Soon You’ll Get Better has no verses\n",
      "XXXX Lookin’ At You [Clean] has no verses\n",
      "XXXX Soi Cầu MB – Soi Cầu Miền Bắc – Soi Cầu XSMB Tại OneBox63.Club has no verses\n",
      "XXXX King of The Game has no verses\n",
      "XXXX And You For Me has no verses\n",
      "XXXX I Make Haters Hate me Even More has no verses\n",
      "XXXX Who the Illest - 1654641 has no verses\n",
      "XXXX When Shit Get Thick - 1157005 has no verses\n"
     ]
    },
    {
     "name": "stderr",
     "output_type": "stream",
     "text": [
      " 45%|████▍     | 11117/24878 [01:57<01:53, 121.65it/s]"
     ]
    },
    {
     "name": "stdout",
     "output_type": "stream",
     "text": [
      "XXXX Gifts has no verses\n",
      "XXXX Started from the bottom has no verses\n",
      "XXXX Gobble gpkjdva has no verses\n",
      "XXXX I can’t believe it! My new videogame, Polish Blast, is available now!!! has no verses\n",
      "XXXX Reset has no verses\n",
      "XXXX Sùi Mào Gà Giai Đoạn Đầu có NGỨA không? has no verses\n",
      "XXXX The outcome has no verses\n",
      "---- The Bitch in Yoo Too many words in a line\n"
     ]
    },
    {
     "name": "stderr",
     "output_type": "stream",
     "text": [
      " 45%|████▍     | 11142/24878 [01:57<02:12, 103.61it/s]"
     ]
    },
    {
     "name": "stdout",
     "output_type": "stream",
     "text": [
      "---- The 6th Sense Too many words in a line\n",
      "---- Black America Again Too many words in a line\n",
      "XXXX Southside has too many verses\n"
     ]
    },
    {
     "name": "stderr",
     "output_type": "stream",
     "text": [
      " 45%|████▍     | 11163/24878 [01:57<02:31, 90.53it/s] "
     ]
    },
    {
     "name": "stdout",
     "output_type": "stream",
     "text": [
      "---- A Song for Assata Too many words in a line\n",
      "---- The Neighborhood Too many words in a line\n",
      "XXXX Let It Lie has too many verses\n"
     ]
    },
    {
     "name": "stderr",
     "output_type": "stream",
     "text": [
      " 45%|████▍     | 11191/24878 [01:57<02:40, 85.16it/s]"
     ]
    },
    {
     "name": "stdout",
     "output_type": "stream",
     "text": [
      "---- Rewind That Too many words in a line\n",
      "---- WAR Too many words in a line\n",
      "XXXX (Lately) I’ve Been Thinking has no verses\n"
     ]
    },
    {
     "name": "stderr",
     "output_type": "stream",
     "text": [
      " 45%|████▌     | 11210/24878 [01:58<02:36, 87.06it/s]"
     ]
    },
    {
     "name": "stdout",
     "output_type": "stream",
     "text": [
      "---- Little Chicago Boy Too many words in a line\n",
      "XXXX Speak My Piece has too many verses\n",
      "XXXX A Film Called (Pimp) has too many verses\n",
      "XXXX Sum Shit I Wrote has no verses\n"
     ]
    },
    {
     "name": "stderr",
     "output_type": "stream",
     "text": [
      " 45%|████▌     | 11228/24878 [01:58<02:38, 86.34it/s]"
     ]
    },
    {
     "name": "stdout",
     "output_type": "stream",
     "text": [
      "XXXX Orange Pineapple Juice has no verses\n",
      "XXXX Breaker 1/9 has no verses\n"
     ]
    },
    {
     "name": "stderr",
     "output_type": "stream",
     "text": [
      " 45%|████▌     | 11257/24878 [01:58<02:38, 85.96it/s]"
     ]
    },
    {
     "name": "stdout",
     "output_type": "stream",
     "text": [
      "XXXX My City has no verses\n",
      "XXXX Pop’s Rap has no verses\n",
      "XXXX Belly Breathe has no verses\n",
      "---- Another Wasted Nite With... Too many words in a line\n"
     ]
    },
    {
     "name": "stderr",
     "output_type": "stream",
     "text": [
      " 45%|████▌     | 11289/24878 [01:58<02:22, 95.65it/s]"
     ]
    },
    {
     "name": "stdout",
     "output_type": "stream",
     "text": [
      "XXXX God Is Freedom has no verses\n",
      "XXXX Like They Used to Say has too many verses\n",
      "---- LUV (Excerpt) Too many words in a line\n",
      "XXXX Blows to the Temple has no verses\n",
      "XXXX Two Scoops of Raisins has too many verses\n",
      "---- High Expectations Too many words in a line\n",
      "XXXX The Light (Heartbeats) has no verses\n",
      "XXXX Just in the Nick of Rhyme has no verses\n",
      "XXXX Puppy Chow has no verses\n",
      "XXXX Pop’s Rap Part 2 / Fatherhood has no verses\n",
      "XXXX Time Travelin’ Reprise has no verses\n",
      "XXXX So Cool has no verses\n",
      "XXXX No Sell Out has no verses\n"
     ]
    },
    {
     "name": "stderr",
     "output_type": "stream",
     "text": [
      " 45%|████▌     | 11312/24878 [01:59<02:14, 101.07it/s]"
     ]
    },
    {
     "name": "stdout",
     "output_type": "stream",
     "text": [
      "XXXX Ferris Wheel has no verses\n",
      "XXXX WMOE has no verses\n",
      "XXXX Pitchin’ Pennies has no verses\n",
      "XXXX No Defense has no verses\n",
      "XXXX The Bitch in Yoo (Original) has no verses\n",
      "XXXX The Corner (LP) has no verses\n",
      "XXXX Never Give Up - 1699628 has no verses\n",
      "XXXX The Sun God has no verses\n",
      "XXXX The Remedy has no verses\n",
      "XXXX Never Give Up has no verses\n",
      "XXXX The Corner (Last Poet reprise) has no verses\n"
     ]
    },
    {
     "name": "stderr",
     "output_type": "stream",
     "text": [
      " 46%|████▌     | 11327/24878 [01:59<02:06, 107.37it/s]"
     ]
    },
    {
     "name": "stdout",
     "output_type": "stream",
     "text": [
      "XXXX Hey joe has no verses\n",
      "XXXX The People (LP version) has no verses\n",
      "XXXX All Along the Watchtower has no verses\n",
      "XXXX That Life has no verses\n",
      "XXXX The Light (One World: Together At Home) has no verses\n",
      "XXXX The Corner (LP a cappella) has no verses\n"
     ]
    },
    {
     "name": "stderr",
     "output_type": "stream",
     "text": [
      " 46%|████▌     | 11357/24878 [01:59<02:45, 81.72it/s] "
     ]
    },
    {
     "name": "stdout",
     "output_type": "stream",
     "text": [
      "XXXX I Luv It has no verses\n"
     ]
    },
    {
     "name": "stderr",
     "output_type": "stream",
     "text": [
      " 46%|████▌     | 11386/24878 [02:00<02:42, 83.24it/s]"
     ]
    },
    {
     "name": "stdout",
     "output_type": "stream",
     "text": [
      "XXXX I’m Back has no verses\n",
      "---- Just Win Too many words in a line\n"
     ]
    },
    {
     "name": "stderr",
     "output_type": "stream",
     "text": [
      " 46%|████▌     | 11423/24878 [02:00<02:31, 88.63it/s]"
     ]
    },
    {
     "name": "stdout",
     "output_type": "stream",
     "text": [
      "XXXX Bury Me a G has too many verses\n",
      "---- G-Wagon Too many words in a line\n"
     ]
    },
    {
     "name": "stderr",
     "output_type": "stream",
     "text": [
      " 46%|████▌     | 11453/24878 [02:00<02:22, 94.11it/s]"
     ]
    },
    {
     "name": "stdout",
     "output_type": "stream",
     "text": [
      "XXXX What You Say has no verses\n",
      "XXXX Back Then has no verses\n"
     ]
    },
    {
     "name": "stderr",
     "output_type": "stream",
     "text": [
      " 46%|████▌     | 11494/24878 [02:01<02:20, 95.57it/s]"
     ]
    },
    {
     "name": "stdout",
     "output_type": "stream",
     "text": [
      "---- In the Air Too many words in a line\n",
      "---- Count It Up Too many words in a line\n",
      "XXXX Hood Politics has no verses\n"
     ]
    },
    {
     "name": "stderr",
     "output_type": "stream",
     "text": [
      " 46%|████▋     | 11527/24878 [02:01<02:12, 100.75it/s]"
     ]
    },
    {
     "name": "stdout",
     "output_type": "stream",
     "text": [
      "XXXX Trappin’ Ain’t Dead has no verses\n",
      "---- Sittin Low Too many words in a line\n",
      "---- Bandana Too many words in a line\n"
     ]
    },
    {
     "name": "stderr",
     "output_type": "stream",
     "text": [
      " 46%|████▋     | 11560/24878 [02:01<02:12, 100.37it/s]"
     ]
    },
    {
     "name": "stdout",
     "output_type": "stream",
     "text": [
      "XXXX I Remember has no verses\n",
      "XXXX Trap Or Die 2 has no verses\n",
      "XXXX Grey Goose has no verses\n",
      "XXXX Camaro has no verses\n",
      "XXXX Money has no verses\n"
     ]
    },
    {
     "name": "stderr",
     "output_type": "stream",
     "text": [
      " 47%|████▋     | 11583/24878 [02:02<02:06, 104.90it/s]"
     ]
    },
    {
     "name": "stdout",
     "output_type": "stream",
     "text": [
      "XXXX Lean Wit It has no verses\n",
      "XXXX Black Dreams has no verses\n",
      "---- I got this Too many words in a line\n",
      "XXXX Showtime (Bonus Track) has no verses\n",
      "XXXX Win Win has no verses\n",
      "XXXX I’m Rich Bitch has no verses\n",
      "XXXX Turn My Scale On has no verses\n"
     ]
    },
    {
     "name": "stderr",
     "output_type": "stream",
     "text": [
      "                                                      \r"
     ]
    },
    {
     "name": "stdout",
     "output_type": "stream",
     "text": [
      "XXXX Trap Files has no verses\n",
      "XXXX U Ain’t Perfect has no verses\n",
      "---- Lil Buddy Too many words in a line\n",
      "XXXX Gangsta has no verses\n",
      "XXXX Talk That has no verses\n",
      "XXXX U Know What It Is has no verses\n",
      "XXXX I Do This Shit has no verses\n",
      "XXXX Sunny Days has no verses\n"
     ]
    },
    {
     "name": "stderr",
     "output_type": "stream",
     "text": [
      " 47%|████▋     | 11652/24878 [02:02<02:03, 107.49it/s]"
     ]
    },
    {
     "name": "stdout",
     "output_type": "stream",
     "text": [
      "XXXX I Know U Don’t Love Me has no verses\n",
      "XXXX I’m The Realest has no verses\n",
      "XXXX U.S.D.A. has no verses\n",
      "XXXX GA (Trap Or Die) has no verses\n",
      "XXXX Street nigga has no verses\n",
      "XXXX We luv ya has no verses\n",
      "XXXX The Last Laugh has no verses\n",
      "XXXX Let’s Just Say has no verses\n",
      "XXXX I Got What It Takes has no verses\n",
      "XXXX Drug Dealin’ Muzik has no verses\n",
      "XXXX New money has no verses\n"
     ]
    },
    {
     "name": "stderr",
     "output_type": "stream",
     "text": [
      " 47%|████▋     | 11681/24878 [02:02<01:48, 121.25it/s]"
     ]
    },
    {
     "name": "stdout",
     "output_type": "stream",
     "text": [
      "XXXX What I Do (Just Like That) has no verses\n",
      "XXXX Choppa N Da Paint has no verses\n",
      "---- That Ain’t It (Uhh Uhh) Too many words in a line\n",
      "XXXX I Am Back has no verses\n",
      "XXXX Sittin Low (feat. Scrilla & Freddie Gibbs) has no verses\n",
      "XXXX Stuntin’ Wit My Homies feat. CTE has no verses\n",
      "XXXX After 2 Million Sold has no verses\n",
      "XXXX Usdas the Click has no verses\n",
      "XXXX Translator has no verses\n",
      "XXXX Never Die has no verses\n",
      "XXXX Chuuuch has no verses\n",
      "XXXX Grown ass man has no verses\n",
      "XXXX Then What (Ft. Mannie Fresh) has no verses\n",
      "XXXX Porsche Music has no verses\n",
      "XXXX Spray Somethin has no verses\n",
      "XXXX Stripe club has no verses\n",
      "XXXX Whole thang has no verses\n"
     ]
    },
    {
     "name": "stderr",
     "output_type": "stream",
     "text": [
      " 47%|████▋     | 11710/24878 [02:03<01:43, 127.60it/s]"
     ]
    },
    {
     "name": "stdout",
     "output_type": "stream",
     "text": [
      "XXXX In Da Wall has no verses\n",
      "XXXX Over Here (feat. Bun B) (Bonus Track) has no verses\n",
      "XXXX Shake and Bake has no verses\n",
      "XXXX It’s A Cold World (A Tribute To Trayvon Martin) has no verses\n",
      "XXXX Vacation (album version) has no verses\n",
      "XXXX Make It Home has no verses\n",
      "XXXX Stuntin’ Wit My Homies has no verses\n",
      "XXXX Afghan has no verses\n"
     ]
    },
    {
     "name": "stderr",
     "output_type": "stream",
     "text": [
      " 47%|████▋     | 11735/24878 [02:03<02:07, 102.88it/s]"
     ]
    },
    {
     "name": "stdout",
     "output_type": "stream",
     "text": [
      "XXXX Test has no verses\n"
     ]
    },
    {
     "name": "stderr",
     "output_type": "stream",
     "text": [
      " 47%|████▋     | 11808/24878 [02:04<02:12, 98.40it/s] "
     ]
    },
    {
     "name": "stdout",
     "output_type": "stream",
     "text": [
      "XXXX Two Times has no verses\n",
      "XXXX Yo El Ray has no verses\n"
     ]
    },
    {
     "name": "stderr",
     "output_type": "stream",
     "text": [
      "                                                      \r"
     ]
    },
    {
     "name": "stdout",
     "output_type": "stream",
     "text": [
      "XXXX Three Day Weekend* has no verses\n",
      "XXXX Stupid People has no verses\n",
      "XXXX Look At Me Now has no verses\n",
      "XXXX Bad Things* has no verses\n",
      "XXXX Devilish Women* has no verses\n",
      "XXXX Like You Mean It* has no verses\n",
      "XXXX Drip Bitch* has no verses\n",
      "XXXX VIBE* has no verses\n",
      "XXXX I Know has no verses\n",
      "XXXX Same Shit (Let Me Down)* has no verses\n",
      "XXXX Home Town Hatred has no verses\n",
      "XXXX Lost In The Moment* has no verses\n"
     ]
    },
    {
     "name": "stderr",
     "output_type": "stream",
     "text": [
      " 48%|████▊     | 11849/24878 [02:04<01:51, 116.96it/s]"
     ]
    },
    {
     "name": "stdout",
     "output_type": "stream",
     "text": [
      "XXXX Day 3 Miami has no verses\n",
      "XXXX N.Y.E. (New Year’s Eve) has no verses\n",
      "XXXX Not My Favorite has no verses\n",
      "XXXX Iggy Azalea -  From a House Cleaner to a Famous Rapper has no verses\n",
      "XXXX Cry. has no verses\n",
      "XXXX MS. International has no verses\n",
      "XXXX Nothing Like Me has no verses\n",
      "XXXX Wake Up* has no verses\n",
      "XXXX Scream. has no verses\n",
      "XXXX Laugh has no verses\n",
      "XXXX TBA (feat. Ivorian Doll) has no verses\n",
      "XXXX Make Me Sick has no verses\n",
      "XXXX Powerpuff girls song* has no verses\n",
      "XXXX High Maintenance (Previously PowerPuff) has no verses\n"
     ]
    },
    {
     "name": "stderr",
     "output_type": "stream",
     "text": [
      " 48%|████▊     | 11874/24878 [02:04<02:17, 94.86it/s] "
     ]
    },
    {
     "name": "stdout",
     "output_type": "stream",
     "text": [
      "---- Nuthin’ Too many words in a line\n",
      "---- Fear Too many words in a line\n",
      "---- 8:28 Too many words in a line\n",
      "---- Gangland Too many words in a line\n"
     ]
    },
    {
     "name": "stderr",
     "output_type": "stream",
     "text": [
      " 48%|████▊     | 11905/24878 [02:05<02:21, 91.77it/s]"
     ]
    },
    {
     "name": "stdout",
     "output_type": "stream",
     "text": [
      "---- Always Knew Too many words in a line\n"
     ]
    },
    {
     "name": "stderr",
     "output_type": "stream",
     "text": [
      " 48%|████▊     | 11934/24878 [02:05<02:28, 87.41it/s]"
     ]
    },
    {
     "name": "stdout",
     "output_type": "stream",
     "text": [
      "---- Prayin’ for You Too many words in a line\n",
      "---- Truth Too many words in a line\n",
      "---- Hang On Too many words in a line\n",
      "---- Take Me As I Am Too many words in a line\n",
      "---- Co-Sign Too many words in a line\n"
     ]
    },
    {
     "name": "stderr",
     "output_type": "stream",
     "text": [
      " 48%|████▊     | 11962/24878 [02:05<02:27, 87.82it/s]"
     ]
    },
    {
     "name": "stdout",
     "output_type": "stream",
     "text": [
      "---- Go Hard Too many words in a line\n",
      "XXXX BET Cypher has no verses\n"
     ]
    },
    {
     "name": "stderr",
     "output_type": "stream",
     "text": [
      " 48%|████▊     | 11982/24878 [02:06<02:24, 89.42it/s]"
     ]
    },
    {
     "name": "stdout",
     "output_type": "stream",
     "text": [
      "---- Anger Management Too many words in a line\n",
      "---- I’m a Saint Too many words in a line\n"
     ]
    },
    {
     "name": "stderr",
     "output_type": "stream",
     "text": [
      " 48%|████▊     | 11999/24878 [02:06<03:09, 68.09it/s]"
     ]
    },
    {
     "name": "stdout",
     "output_type": "stream",
     "text": [
      "---- Bun B Speaks Too many words in a line\n",
      "---- Represent Too many words in a line\n"
     ]
    },
    {
     "name": "stderr",
     "output_type": "stream",
     "text": [
      " 48%|████▊     | 12026/24878 [02:06<02:39, 80.81it/s]"
     ]
    },
    {
     "name": "stdout",
     "output_type": "stream",
     "text": [
      "---- We Don’t Too many words in a line\n",
      "---- The King Too many words in a line\n",
      "---- El Shaddai Too many words in a line\n",
      "---- Heaven or Hell Too many words in a line\n"
     ]
    },
    {
     "name": "stderr",
     "output_type": "stream",
     "text": [
      " 48%|████▊     | 12044/24878 [02:06<02:32, 84.41it/s]"
     ]
    },
    {
     "name": "stdout",
     "output_type": "stream",
     "text": [
      "---- Who U Wit Too many words in a line\n",
      "XXXX Wish It Wasn’t True has no verses\n",
      "XXXX Invisible has no verses\n",
      "XXXX Nobody has no verses\n",
      "XXXX Dream has no verses\n",
      "XXXX Finally Free has no verses\n",
      "XXXX Get Low has no verses\n",
      "XXXX Jump has no verses\n",
      "XXXX Propaganda Spittin’ Truth has no verses\n",
      "XXXX Hands High has no verses\n",
      "XXXX Fight On has no verses\n",
      "XXXX It’s Yours has no verses\n"
     ]
    },
    {
     "name": "stderr",
     "output_type": "stream",
     "text": [
      " 49%|████▊     | 12071/24878 [02:07<02:04, 102.67it/s]"
     ]
    },
    {
     "name": "stdout",
     "output_type": "stream",
     "text": [
      "---- Represent (Chopped And Screwed) Too many words in a line\n",
      "XXXX Death has no verses\n",
      "XXXX Seeing My Way has no verses\n",
      "XXXX Life of the Party has no verses\n",
      "XXXX Know Me has no verses\n",
      "XXXX God Bless Y’all has no verses\n",
      "XXXX Welcome to America (ENG 215) has no verses\n",
      "---- No Role Modelz Too many words in a line\n"
     ]
    },
    {
     "name": "stderr",
     "output_type": "stream",
     "text": [
      " 49%|████▊     | 12092/24878 [02:07<02:38, 80.44it/s] "
     ]
    },
    {
     "name": "stdout",
     "output_type": "stream",
     "text": [
      "XXXX 1985 has no verses\n"
     ]
    },
    {
     "name": "stderr",
     "output_type": "stream",
     "text": [
      " 49%|████▊     | 12121/24878 [02:07<02:29, 85.57it/s]"
     ]
    },
    {
     "name": "stdout",
     "output_type": "stream",
     "text": [
      "---- Runaway Too many words in a line\n",
      "---- BRACKETS Too many words in a line\n",
      "---- Lights Please Too many words in a line\n",
      "---- Ville Mentality Too many words in a line\n"
     ]
    },
    {
     "name": "stderr",
     "output_type": "stream",
     "text": [
      " 49%|████▉     | 12139/24878 [02:07<02:35, 82.02it/s]"
     ]
    },
    {
     "name": "stdout",
     "output_type": "stream",
     "text": [
      "---- Note to Self Too many words in a line\n",
      "---- Be Free Too many words in a line\n",
      "---- The Cure Too many words in a line\n"
     ]
    },
    {
     "name": "stderr",
     "output_type": "stream",
     "text": [
      " 49%|████▉     | 12195/24878 [02:08<02:26, 86.35it/s]"
     ]
    },
    {
     "name": "stdout",
     "output_type": "stream",
     "text": [
      "---- See World Too many words in a line\n",
      "---- Dolla and a Dream II Too many words in a line\n",
      "---- Last Call Too many words in a line\n",
      "XXXX Show Me Something has no verses\n"
     ]
    },
    {
     "name": "stderr",
     "output_type": "stream",
     "text": [
      " 49%|████▉     | 12222/24878 [02:08<02:32, 83.22it/s]"
     ]
    },
    {
     "name": "stdout",
     "output_type": "stream",
     "text": [
      "---- Crooked Smile (Original) Too many words in a line\n"
     ]
    },
    {
     "name": "stderr",
     "output_type": "stream",
     "text": [
      " 49%|████▉     | 12259/24878 [02:09<02:26, 86.17it/s]"
     ]
    },
    {
     "name": "stdout",
     "output_type": "stream",
     "text": [
      "XXXX Born Sinner: Album Covers has no verses\n",
      "XXXX Who’s World is This has no verses\n",
      "XXXX Autism Speaks Apology Letter has no verses\n",
      "XXXX 2014 Forest Hills Drive Tour Dates has no verses\n"
     ]
    },
    {
     "name": "stderr",
     "output_type": "stream",
     "text": [
      " 49%|████▉     | 12281/24878 [02:09<02:13, 94.68it/s]"
     ]
    },
    {
     "name": "stdout",
     "output_type": "stream",
     "text": [
      "XXXX Night Rider has no verses\n",
      "---- The Reasons Too many words in a line\n",
      "XXXX Cole World: The Sideline Story Album Cover has no verses\n",
      "---- Intermission Too many words in a line\n",
      "XXXX Reddit AMA has no verses\n",
      "XXXX 1985 (Türkçe Çeviri) has no verses\n",
      "XXXX Dead Presidents III has no verses\n",
      "XXXX Letter For The Fifth Anniversary Of “The Warm Up” has no verses\n",
      "XXXX Test has no verses\n",
      "XXXX Sleep has no verses\n",
      "XXXX Summer Tour Dates 2016 has no verses\n",
      "XXXX The stor has no verses\n",
      "XXXX Flushing has no verses\n",
      "XXXX Untitled has no verses\n"
     ]
    },
    {
     "name": "stderr",
     "output_type": "stream",
     "text": [
      " 50%|████▉     | 12317/24878 [02:09<02:11, 95.48it/s] "
     ]
    },
    {
     "name": "stdout",
     "output_type": "stream",
     "text": [
      "OOOO Ich kenne nichts (das so schön ist wie du) has de\n",
      "---- Fatal Too many words in a line\n"
     ]
    },
    {
     "name": "stderr",
     "output_type": "stream",
     "text": [
      " 50%|████▉     | 12337/24878 [02:10<02:34, 81.08it/s]"
     ]
    },
    {
     "name": "stdout",
     "output_type": "stream",
     "text": [
      "XXXX Build Strong has no verses\n",
      "XXXX Open Letter to Paul Walker has no verses\n",
      "XXXX Bong Bong has too many verses\n"
     ]
    },
    {
     "name": "stderr",
     "output_type": "stream",
     "text": [
      " 50%|████▉     | 12356/24878 [02:10<02:29, 83.54it/s]"
     ]
    },
    {
     "name": "stdout",
     "output_type": "stream",
     "text": [
      "XXXX Fear has no verses\n",
      "XXXX You Can’t Stop Me Now has no verses\n",
      "XXXX Reddit AMA has no verses\n"
     ]
    },
    {
     "name": "stderr",
     "output_type": "stream",
     "text": [
      " 50%|████▉     | 12384/24878 [02:10<02:23, 86.84it/s]"
     ]
    },
    {
     "name": "stdout",
     "output_type": "stream",
     "text": [
      "XXXX Certified samurai has no verses\n",
      "---- Odyssey Too many words in a line\n",
      "XXXX The Chase has no verses\n"
     ]
    },
    {
     "name": "stderr",
     "output_type": "stream",
     "text": [
      " 50%|████▉     | 12403/24878 [02:11<02:29, 83.20it/s]"
     ]
    },
    {
     "name": "stdout",
     "output_type": "stream",
     "text": [
      "XXXX Kill The Noise has no verses\n",
      "XXXX Peace has no verses\n"
     ]
    },
    {
     "name": "stderr",
     "output_type": "stream",
     "text": [
      " 50%|████▉     | 12412/24878 [02:11<02:35, 80.22it/s]"
     ]
    },
    {
     "name": "stdout",
     "output_type": "stream",
     "text": [
      "XXXX Fight for you has no verses\n",
      "XXXX Fan Your Flames has no verses\n"
     ]
    },
    {
     "name": "stderr",
     "output_type": "stream",
     "text": [
      " 50%|█████     | 12439/24878 [02:11<02:37, 79.07it/s]"
     ]
    },
    {
     "name": "stdout",
     "output_type": "stream",
     "text": [
      "XXXX Fight For Equality has no verses\n",
      "XXXX Horror has no verses\n",
      "XXXX No Regrets has no verses\n",
      "XXXX Bite Or Stop Barking has no verses\n",
      "XXXX If Not You has no verses\n",
      "XXXX Drop Off has no verses\n",
      "XXXX . has no verses\n",
      "XXXX Making Moves has no verses\n",
      "XXXX Slow Grind French has no verses\n"
     ]
    },
    {
     "name": "stderr",
     "output_type": "stream",
     "text": [
      " 50%|█████     | 12448/24878 [02:11<03:01, 68.54it/s]"
     ]
    },
    {
     "name": "stdout",
     "output_type": "stream",
     "text": [
      "XXXX Cousins has no verses\n",
      "XXXX Take sword pt. ii has no verses\n",
      "XXXX Samurai Showdown has no verses\n",
      "---- Skrilla Too many words in a line\n",
      "XXXX Cruisin has no verses\n"
     ]
    },
    {
     "name": "stderr",
     "output_type": "stream",
     "text": [
      " 50%|█████     | 12466/24878 [02:11<02:43, 75.77it/s]"
     ]
    },
    {
     "name": "stdout",
     "output_type": "stream",
     "text": [
      "XXXX Afro Samurai Theme (second Movement) has no verses\n",
      "XXXX Bazooka Fight Inst. 1 has no verses\n",
      "XXXX Slow Grind African has no verses\n"
     ]
    },
    {
     "name": "stderr",
     "output_type": "stream",
     "text": [
      " 50%|█████     | 12509/24878 [02:12<02:36, 79.16it/s]"
     ]
    },
    {
     "name": "stdout",
     "output_type": "stream",
     "text": [
      "---- Poison Too many words in a line\n"
     ]
    },
    {
     "name": "stderr",
     "output_type": "stream",
     "text": [
      " 50%|█████     | 12529/24878 [02:12<02:29, 82.66it/s]"
     ]
    },
    {
     "name": "stdout",
     "output_type": "stream",
     "text": [
      "---- Headquarters Too many words in a line\n",
      "---- Dontchu Too many words in a line\n"
     ]
    },
    {
     "name": "stderr",
     "output_type": "stream",
     "text": [
      " 50%|█████     | 12559/24878 [02:12<02:14, 91.74it/s]"
     ]
    },
    {
     "name": "stdout",
     "output_type": "stream",
     "text": [
      "---- How You Want It Too many words in a line\n",
      "XXXX Millionaire Thoughts has no verses\n",
      "XXXX Tell Me When has no verses\n",
      "---- Chinx & Max / Paid For Too many words in a line\n"
     ]
    },
    {
     "name": "stderr",
     "output_type": "stream",
     "text": [
      " 51%|█████     | 12582/24878 [02:13<02:05, 97.79it/s]"
     ]
    },
    {
     "name": "stdout",
     "output_type": "stream",
     "text": [
      "XXXX I’m A Coke Boy has no verses\n"
     ]
    },
    {
     "name": "stderr",
     "output_type": "stream",
     "text": [
      " 51%|█████     | 12615/24878 [02:13<01:56, 105.14it/s]"
     ]
    },
    {
     "name": "stdout",
     "output_type": "stream",
     "text": [
      "---- Molly Too many words in a line\n",
      "XXXX Wit It has no verses\n",
      "XXXX Do For Drugs has no verses\n"
     ]
    },
    {
     "name": "stderr",
     "output_type": "stream",
     "text": [
      " 51%|█████     | 12649/24878 [02:13<01:52, 108.68it/s]"
     ]
    },
    {
     "name": "stdout",
     "output_type": "stream",
     "text": [
      "XXXX Life be a movie has no verses\n",
      "XXXX Take You To The Water has no verses\n",
      "XXXX Dope Man has no verses\n",
      "XXXX I Want You has no verses\n"
     ]
    },
    {
     "name": "stderr",
     "output_type": "stream",
     "text": [
      " 51%|█████     | 12672/24878 [02:14<01:51, 109.86it/s]"
     ]
    },
    {
     "name": "stdout",
     "output_type": "stream",
     "text": [
      "XXXX Top Chef has no verses\n",
      "XXXX Bad B*tch (feat. Jeremih) by French Montana has no verses\n",
      "XXXX Me & U has no verses\n",
      "XXXX Once in a While has no verses\n",
      "XXXX Affirmative Action has no verses\n"
     ]
    },
    {
     "name": "stderr",
     "output_type": "stream",
     "text": [
      "                                                      \r"
     ]
    },
    {
     "name": "stdout",
     "output_type": "stream",
     "text": [
      "XXXX Hold on Flex* has no verses\n",
      "XXXX You & me has no verses\n",
      "XXXX Hammer Long has no verses\n",
      "XXXX That work has no verses\n",
      "XXXX Money & power has no verses\n",
      "XXXX Hell on Earth 2K has no verses\n",
      "XXXX Roll With Me has no verses\n",
      "XXXX Stick up boys has no verses\n",
      "XXXX Sending My Love has no verses\n",
      "XXXX Devil Want My Soul has no verses\n",
      "XXXX We on has no verses\n",
      "---- Wave Gods (Original) Too many words in a line\n",
      "XXXX Return of da mac (bonus track) has no verses\n",
      "XXXX Crack da Top has no verses\n",
      "XXXX So Special has no verses\n",
      "XXXX Dirty Money has no verses\n",
      "XXXX Killaz theme has no verses\n"
     ]
    },
    {
     "name": "stderr",
     "output_type": "stream",
     "text": [
      " 51%|█████     | 12728/24878 [02:14<01:39, 122.27it/s]"
     ]
    },
    {
     "name": "stdout",
     "output_type": "stream",
     "text": [
      "XXXX Always on has no verses\n",
      "---- Headquaters Too many words in a line\n",
      "XXXX Not Ready has no verses\n",
      "XXXX Wow has no verses\n",
      "XXXX Self Made has no verses\n",
      "XXXX Hatin On A Youngin has no verses\n",
      "XXXX Friends has no verses\n",
      "XXXX Treat Em Right has no verses\n",
      "XXXX Body Fire has no verses\n",
      "XXXX Nirvana has no verses\n",
      "XXXX Wave Blues has no verses\n"
     ]
    },
    {
     "name": "stderr",
     "output_type": "stream",
     "text": [
      " 51%|█████▏    | 12755/24878 [02:14<01:40, 120.93it/s]"
     ]
    },
    {
     "name": "stdout",
     "output_type": "stream",
     "text": [
      "XXXX Money Man has no verses\n",
      "XXXX Get a bag* has no verses\n",
      "XXXX The finals has no verses\n",
      "XXXX Sanctuary Pt. 3 has no verses\n",
      "XXXX Clap has no verses\n",
      "XXXX Y’all don’t hear me has no verses\n",
      "XXXX Whatcha want has no verses\n",
      "XXXX Santa Claus* has no verses\n",
      "XXXX A Fresh Shot has no verses\n",
      "XXXX Back of tha benz has no verses\n",
      "XXXX Burry Me A G has no verses\n",
      "OOOO Plane tickets has ca\n",
      "XXXX Nothin Like the Rest has no verses\n",
      "XXXX That’s a lie has no verses\n",
      "XXXX If i know* has no verses\n"
     ]
    },
    {
     "name": "stderr",
     "output_type": "stream",
     "text": [
      " 51%|█████▏    | 12781/24878 [02:14<01:44, 116.00it/s]"
     ]
    },
    {
     "name": "stdout",
     "output_type": "stream",
     "text": [
      "XXXX Weed & Drinks FAKE has no verses\n",
      "XXXX Ghetto Boy has no verses\n",
      "XXXX Hannah Monatanna has no verses\n",
      "XXXX ICY has no verses\n",
      "XXXX The final Chapter has no verses\n",
      "XXXX That Money Up has no verses\n",
      "XXXX .Lock In has no verses\n",
      "XXXX Miley has no verses\n",
      "XXXX CB5mixtape* has no verses\n",
      "XXXX We Rollin has no verses\n",
      "XXXX Schmoney has no verses\n",
      "XXXX Mo Murda has no verses\n",
      "XXXX Still Movin has no verses\n",
      "XXXX Wave Thang has no verses\n"
     ]
    },
    {
     "name": "stderr",
     "output_type": "stream",
     "text": [
      " 51%|█████▏    | 12793/24878 [02:15<01:53, 106.60it/s]"
     ]
    },
    {
     "name": "stdout",
     "output_type": "stream",
     "text": [
      "XXXX Far the worry from last night has no verses\n",
      "XXXX My Brother* has no verses\n",
      "XXXX Yo has no verses\n"
     ]
    },
    {
     "name": "stderr",
     "output_type": "stream",
     "text": [
      " 52%|█████▏    | 12841/24878 [02:15<02:40, 74.99it/s] "
     ]
    },
    {
     "name": "stdout",
     "output_type": "stream",
     "text": [
      "XXXX The Ill Mind of Koopa has no verses\n",
      "XXXX I Think I’m In Love has no verses\n",
      "XXXX Ridin’ (feat. Krayzie Bone) has no verses\n",
      "XXXX Roll Call Reloaded has too many verses\n"
     ]
    },
    {
     "name": "stderr",
     "output_type": "stream",
     "text": [
      " 52%|█████▏    | 12868/24878 [02:16<02:33, 78.46it/s]"
     ]
    },
    {
     "name": "stdout",
     "output_type": "stream",
     "text": [
      "---- All Mine Too many words in a line\n",
      "XXXX True Religion has no verses\n",
      "---- I Think I Love You Too many words in a line\n",
      "XXXX Roll Call Reloaded (Fire Drill) has too many verses\n"
     ]
    },
    {
     "name": "stderr",
     "output_type": "stream",
     "text": [
      " 52%|█████▏    | 12886/24878 [02:16<02:32, 78.56it/s]"
     ]
    },
    {
     "name": "stdout",
     "output_type": "stream",
     "text": [
      "XXXX Gucci & Fendi has no verses\n"
     ]
    },
    {
     "name": "stderr",
     "output_type": "stream",
     "text": [
      " 52%|█████▏    | 12912/24878 [02:16<02:28, 80.69it/s]"
     ]
    },
    {
     "name": "stdout",
     "output_type": "stream",
     "text": [
      "---- Make A Movie Too many words in a line\n",
      "---- Come Back to the Streets Too many words in a line\n",
      "XXXX I’m Reloaded has no verses\n"
     ]
    },
    {
     "name": "stderr",
     "output_type": "stream",
     "text": [
      " 52%|█████▏    | 12921/24878 [02:16<02:26, 81.58it/s]"
     ]
    },
    {
     "name": "stdout",
     "output_type": "stream",
     "text": [
      "XXXX It’s Just Pain has no verses\n",
      "---- We’ll Make It Too many words in a line\n"
     ]
    },
    {
     "name": "stderr",
     "output_type": "stream",
     "text": [
      " 52%|█████▏    | 12946/24878 [02:17<02:49, 70.50it/s]"
     ]
    },
    {
     "name": "stdout",
     "output_type": "stream",
     "text": [
      "XXXX Running Laps has no verses\n",
      "XXXX Turn My Swag On has no verses\n"
     ]
    },
    {
     "name": "stderr",
     "output_type": "stream",
     "text": [
      " 52%|█████▏    | 12962/24878 [02:17<02:41, 73.88it/s]"
     ]
    },
    {
     "name": "stdout",
     "output_type": "stream",
     "text": [
      "XXXX Turn It Up (feat. Lil’ Flip) has no verses\n",
      "---- Best She Ever Had Too many words in a line\n",
      "---- U Ain’t Gotta Go Home Too many words in a line\n"
     ]
    },
    {
     "name": "stderr",
     "output_type": "stream",
     "text": [
      " 52%|█████▏    | 12987/24878 [02:17<02:38, 74.99it/s]"
     ]
    },
    {
     "name": "stdout",
     "output_type": "stream",
     "text": [
      "---- Hip Hop Warning Too many words in a line\n",
      "XXXX You Gotta Love Me has no verses\n",
      "XXXX Panky Rang has too many verses\n"
     ]
    },
    {
     "name": "stderr",
     "output_type": "stream",
     "text": [
      " 52%|█████▏    | 13021/24878 [02:18<02:28, 79.71it/s]"
     ]
    },
    {
     "name": "stdout",
     "output_type": "stream",
     "text": [
      "XXXX Judge Judy has no verses\n",
      "XXXX Hip hop police - main has no verses\n",
      "XXXX Mixtape Murder has no verses\n",
      "XXXX Fire Drill has no verses\n"
     ]
    },
    {
     "name": "stderr",
     "output_type": "stream",
     "text": [
      " 52%|█████▏    | 13040/24878 [02:18<02:28, 79.69it/s]"
     ]
    },
    {
     "name": "stdout",
     "output_type": "stream",
     "text": [
      "XXXX Roll Wit Me has no verses\n",
      "XXXX True (feat. Lil Flip & Paul Wall) has no verses\n",
      "XXXX Switch Styles Reloaded has no verses\n",
      "---- Price of Failure Too many words in a line\n",
      "XXXX Shyne On has no verses\n",
      "XXXX I’m Focused has no verses\n",
      "XXXX Hate in Your Eyes has no verses\n"
     ]
    },
    {
     "name": "stderr",
     "output_type": "stream",
     "text": [
      " 52%|█████▏    | 13058/24878 [02:18<03:03, 64.40it/s]"
     ]
    },
    {
     "name": "stdout",
     "output_type": "stream",
     "text": [
      "XXXX Famous has too many verses\n",
      "XXXX Nothing Else to Say has no verses\n",
      "XXXX Popped Up Open has no verses\n"
     ]
    },
    {
     "name": "stderr",
     "output_type": "stream",
     "text": [
      " 53%|█████▎    | 13083/24878 [02:18<02:50, 69.18it/s]"
     ]
    },
    {
     "name": "stdout",
     "output_type": "stream",
     "text": [
      "XXXX Relax has no verses\n",
      "XXXX Ridin’ (feat. Krayzie Bone) (album version) has no verses\n",
      "XXXX Roll Call Reloaded (feat. Everybody) has too many verses\n"
     ]
    },
    {
     "name": "stderr",
     "output_type": "stream",
     "text": [
      " 53%|█████▎    | 13083/24878 [02:18<02:50, 69.18it/s]"
     ]
    },
    {
     "name": "stdout",
     "output_type": "stream",
     "text": [
      "XXXX Stay Screwed N Chopped has no verses\n"
     ]
    },
    {
     "name": "stderr",
     "output_type": "stream",
     "text": [
      " 53%|█████▎    | 13112/24878 [02:19<03:20, 58.80it/s]"
     ]
    },
    {
     "name": "stdout",
     "output_type": "stream",
     "text": [
      "XXXX Won’t Let You Down [Extended Texas Version] has too many verses\n",
      "XXXX Welcome To The Hood (Freemix) has no verses\n",
      "XXXX Houston Got A Problem has no verses\n",
      "XXXX No Complaints has no verses\n"
     ]
    },
    {
     "name": "stderr",
     "output_type": "stream",
     "text": [
      " 53%|█████▎    | 13129/24878 [02:19<02:53, 67.78it/s]"
     ]
    },
    {
     "name": "stdout",
     "output_type": "stream",
     "text": [
      "XXXX King Me has no verses\n",
      "XXXX Triangle Formation has no verses\n",
      "XXXX That’s You has no verses\n",
      "XXXX Used To Love Rap has no verses\n",
      "XXXX Show Me The Money has no verses\n"
     ]
    },
    {
     "name": "stderr",
     "output_type": "stream",
     "text": [
      " 53%|█████▎    | 13147/24878 [02:19<02:37, 74.67it/s]"
     ]
    },
    {
     "name": "stdout",
     "output_type": "stream",
     "text": [
      "XXXX Get Low has no verses\n",
      "XXXX All Black has no verses\n",
      "XXXX Pimp Talk has no verses\n",
      "---- Swagga Like Koop (Duplicate) Too many words in a line\n",
      "XXXX Already Dead has no verses\n",
      "XXXX Trouble has no verses\n",
      "XXXX Livin’ Better Now has no verses\n",
      "XXXX Gettin On My Nerves has no verses\n"
     ]
    },
    {
     "name": "stderr",
     "output_type": "stream",
     "text": [
      " 53%|█████▎    | 13171/24878 [02:20<02:09, 90.62it/s]"
     ]
    },
    {
     "name": "stdout",
     "output_type": "stream",
     "text": [
      "XXXX Feels Good has no verses\n",
      "XXXX Ran Out Of Auto-Tune has no verses\n",
      "XXXX From the South has no verses\n",
      "XXXX Everybody Hates A Snitch has no verses\n",
      "XXXX Used to Love Rap (Chopped & Screwed) has no verses\n",
      "XXXX Realest Nigga in It has no verses\n",
      "XXXX Turn It Up (Explicit Version) has no verses\n",
      "XXXX F***in’ with Cars has no verses\n",
      "XXXX Salute Your General has no verses\n"
     ]
    },
    {
     "name": "stderr",
     "output_type": "stream",
     "text": [
      " 53%|█████▎    | 13202/24878 [02:20<01:59, 97.35it/s]"
     ]
    },
    {
     "name": "stdout",
     "output_type": "stream",
     "text": [
      "XXXX Answer Machine has no verses\n",
      "XXXX The One To Hate has no verses\n",
      "XXXX Think About It has no verses\n",
      "XXXX Clap (feat. Paul Wall) has no verses\n",
      "XXXX Venom on the Way has no verses\n",
      "XXXX You Gon Learn has no verses\n",
      "XXXX Houston Up High has no verses\n",
      "XXXX In These Streets (Chopped & Screwed) has no verses\n"
     ]
    },
    {
     "name": "stderr",
     "output_type": "stream",
     "text": [
      " 53%|█████▎    | 13223/24878 [02:20<02:07, 91.43it/s]"
     ]
    },
    {
     "name": "stdout",
     "output_type": "stream",
     "text": [
      "XXXX Tru has no verses\n",
      "XXXX Here I Am has no verses\n",
      "XXXX Erom Seximeerf has no verses\n",
      "XXXX Nothin has no verses\n",
      "XXXX Trouble (Chopped & Screwed) has no verses\n",
      "XXXX Dot.Com has no verses\n"
     ]
    },
    {
     "name": "stderr",
     "output_type": "stream",
     "text": [
      " 54%|█████▎    | 13313/24878 [02:21<01:47, 107.45it/s]"
     ]
    },
    {
     "name": "stdout",
     "output_type": "stream",
     "text": [
      "---- Edge of the Earth / Post Mortem Boredom Too many words in a line\n",
      "---- Handle With Care Too many words in a line\n",
      "XXXX New York City Rage Fest has no verses\n"
     ]
    },
    {
     "name": "stderr",
     "output_type": "stream",
     "text": [
      " 54%|█████▎    | 13340/24878 [02:21<01:38, 116.61it/s]"
     ]
    },
    {
     "name": "stdout",
     "output_type": "stream",
     "text": [
      "---- Man in the Night Too many words in a line\n",
      "OOOO Copernicus Landing has id\n",
      "XXXX Return of the Moon Man (Original Score) has no verses\n",
      "XXXX The Flight Of The Moon Man has no verses\n",
      "XXXX Destination: Mother Moon has no verses\n",
      "---- Goodbye Too many words in a line\n",
      "---- Red Sabbath Too many words in a line\n"
     ]
    },
    {
     "name": "stderr",
     "output_type": "stream",
     "text": [
      " 54%|█████▎    | 13367/24878 [02:22<01:34, 121.77it/s]"
     ]
    },
    {
     "name": "stdout",
     "output_type": "stream",
     "text": [
      "XXXX Darkness Be Rising has no verses\n",
      "XXXX Day ‘n’ Nite (main) has no verses\n",
      "XXXX Call Me Moon Man has no verses\n",
      "XXXX The Ruler and the Killer has no verses\n",
      "XXXX Hi, I’m Scott (TEDx Talk) has no verses\n",
      "---- JFKPSA Too many words in a line\n",
      "XXXX Did You Get It has no verses\n"
     ]
    },
    {
     "name": "stderr",
     "output_type": "stream",
     "text": [
      " 54%|█████▍    | 13393/24878 [02:22<01:38, 116.35it/s]"
     ]
    },
    {
     "name": "stdout",
     "output_type": "stream",
     "text": [
      "XXXX Response To Kendrick Lamar has no verses\n",
      "XXXX Pimpin’ has no verses\n",
      "XXXX London Girls has no verses\n",
      "XXXX Bet You Know* has no verses\n",
      "---- Drake Diss, “Money, Cash, Hoes Needs to be Deaded” [Arsenio Hall Appearance] Too many words in a line\n",
      "XXXX Twitter Rant (September 2016) has no verses\n"
     ]
    },
    {
     "name": "stderr",
     "output_type": "stream",
     "text": [
      " 54%|█████▍    | 13417/24878 [02:22<01:46, 107.50it/s]"
     ]
    },
    {
     "name": "stdout",
     "output_type": "stream",
     "text": [
      "XXXX Day 38 has no verses\n",
      "XXXX Twitter Note (2015) has no verses\n",
      "XXXX Entergalactic has no verses\n",
      "XXXX I Get It In has no verses\n",
      "XXXX Champions has no verses\n",
      "XXXX Make Her Say (Nadastrom 88 dub) has no verses\n",
      "XXXX Twitter Note 3 (2015) has no verses\n",
      "XXXX Twitter Note 2 (2015) has no verses\n"
     ]
    },
    {
     "name": "stderr",
     "output_type": "stream",
     "text": [
      " 54%|█████▍    | 13428/24878 [02:22<01:55, 98.91it/s] "
     ]
    },
    {
     "name": "stdout",
     "output_type": "stream",
     "text": [
      "---- I Want the Love Too many words in a line\n",
      "---- Workin Too many words in a line\n",
      "XXXX Come With Me has no verses\n"
     ]
    },
    {
     "name": "stderr",
     "output_type": "stream",
     "text": [
      " 54%|█████▍    | 13449/24878 [02:22<02:03, 92.21it/s]"
     ]
    },
    {
     "name": "stdout",
     "output_type": "stream",
     "text": [
      "XXXX Happily Ever After has no verses\n",
      "XXXX Do You Know? has no verses\n"
     ]
    },
    {
     "name": "stderr",
     "output_type": "stream",
     "text": [
      " 54%|█████▍    | 13470/24878 [02:23<02:02, 93.47it/s]"
     ]
    },
    {
     "name": "stdout",
     "output_type": "stream",
     "text": [
      "---- Friends Too many words in a line\n",
      "XXXX Victory 2004 has too many verses\n",
      "XXXX Diddy has no verses\n",
      "XXXX Thought You Said has too many verses\n"
     ]
    },
    {
     "name": "stderr",
     "output_type": "stream",
     "text": [
      " 54%|█████▍    | 13490/24878 [02:23<02:01, 93.98it/s]"
     ]
    },
    {
     "name": "stdout",
     "output_type": "stream",
     "text": [
      "XXXX No Way Out has no verses\n",
      "---- Uptown Too many words in a line\n",
      "---- Cocaine (I Cant Feel My Face) Too many words in a line\n",
      "XXXX Pain (Forever) has no verses\n",
      "XXXX Shake Ya Tailfeather, Nelly has no verses\n"
     ]
    },
    {
     "name": "stderr",
     "output_type": "stream",
     "text": [
      " 54%|█████▍    | 13510/24878 [02:23<02:09, 87.52it/s]"
     ]
    },
    {
     "name": "stdout",
     "output_type": "stream",
     "text": [
      "OOOO PE 2000 (Spanish Version) has es\n",
      "XXXX Tell Me feat. Christina Aguilera - Amended has no verses\n",
      "XXXX Shake ya tailfeather - nelly, p. diddy, murphy lee has no verses\n",
      "XXXX Friend has no verses\n",
      "XXXX Tell Me (DJ Frank Lamboy club mix) has no verses\n",
      "XXXX P.E. 200 has no verses\n",
      "XXXX On Revolt TV, Time-Warner Deal has no verses\n"
     ]
    },
    {
     "name": "stderr",
     "output_type": "stream",
     "text": [
      " 54%|█████▍    | 13519/24878 [02:23<02:45, 68.74it/s]"
     ]
    },
    {
     "name": "stdout",
     "output_type": "stream",
     "text": [
      "XXXX Can’t Nobody Hold Me Down (feat. Mase) (club mix) has no verses\n",
      "XXXX Can’t Believe has no verses\n",
      "XXXX Diddy Rock feat. Timbaland, Twista & Shawnna has no verses\n",
      "XXXX Tell Me (Mr Mig club mix) has no verses\n",
      "XXXX Tell Me (Pull extended mix) has no verses\n",
      "XXXX Tell Me (DFA club mix - W/Out Diddy) has no verses\n",
      "XXXX Tell Me (DFA club mix) has no verses\n"
     ]
    },
    {
     "name": "stderr",
     "output_type": "stream",
     "text": [
      " 54%|█████▍    | 13550/24878 [02:24<02:10, 86.89it/s]"
     ]
    },
    {
     "name": "stdout",
     "output_type": "stream",
     "text": [
      "---- I Love You Too many words in a line\n",
      "XXXX Stop That Train has no verses\n",
      "XXXX Yo Vanilla has no verses\n",
      "XXXX Life is a Fantasy has no verses\n"
     ]
    },
    {
     "name": "stderr",
     "output_type": "stream",
     "text": [
      " 55%|█████▍    | 13571/24878 [02:24<02:00, 94.13it/s]"
     ]
    },
    {
     "name": "stdout",
     "output_type": "stream",
     "text": [
      "XXXX Baby Got Back has no verses\n",
      "XXXX Dancin’ has no verses\n",
      "XXXX Juice to Get Loose Boy has no verses\n",
      "XXXX Bounce has no verses\n"
     ]
    },
    {
     "name": "stderr",
     "output_type": "stream",
     "text": [
      " 55%|█████▍    | 13597/24878 [02:24<01:44, 107.77it/s]"
     ]
    },
    {
     "name": "stdout",
     "output_type": "stream",
     "text": [
      "XXXX Rollin’ In My 5.0 has no verses\n",
      "XXXX Ice Ice Baby (New Romantic mix) has no verses\n",
      "XXXX A.D.D. has no verses\n",
      "XXXX You Gots To Chill has no verses\n",
      "XXXX Buffalo Soldier has no verses\n",
      "XXXX Fight the Power has no verses\n",
      "XXXX I Like It has no verses\n",
      "XXXX I Got It Made has no verses\n",
      "XXXX Impossible Mission has no verses\n"
     ]
    },
    {
     "name": "stderr",
     "output_type": "stream",
     "text": [
      " 55%|█████▍    | 13625/24878 [02:24<01:42, 109.62it/s]"
     ]
    },
    {
     "name": "stdout",
     "output_type": "stream",
     "text": [
      "XXXX Valley of Tears has no verses\n",
      "XXXX Ice Ice Baby (Rock Hero mix) has no verses\n",
      "XXXX Crash and Burn has no verses\n",
      "XXXX Vampiro has no verses\n",
      "XXXX So gay sex has no verses\n",
      "XXXX Ecstasy has no verses\n",
      "XXXX MC & Slasher has no verses\n",
      "XXXX Anthropology 101 has no verses\n",
      "XXXX Ice Ice Baby (Miami Drop Mix) has no verses\n",
      "XXXX Vanilla ice and the icettes has no verses\n",
      "XXXX B has no verses\n",
      "XXXX Down By The River has no verses\n",
      "OOOO Sup has es\n",
      "XXXX Crazy has no verses\n",
      "XXXX Change has no verses\n",
      "XXXX Bdsa has no verses\n"
     ]
    },
    {
     "name": "stderr",
     "output_type": "stream",
     "text": [
      " 55%|█████▍    | 13646/24878 [02:24<01:29, 125.12it/s]"
     ]
    },
    {
     "name": "stdout",
     "output_type": "stream",
     "text": [
      "XXXX S has no verses\n",
      "XXXX Pe has no verses\n",
      "XXXX No has no verses\n",
      "XXXX Re has no verses\n",
      "XXXX F has no verses\n",
      "XXXX Chro has no verses\n",
      "XXXX Evk has no verses\n",
      "XXXX Cadillac Ninjaz has no verses\n",
      "OOOO U has so\n",
      "XXXX Chan has no verses\n",
      "XXXX Gro has no verses\n",
      "XXXX Satisfaction (Studio Version) has no verses\n"
     ]
    },
    {
     "name": "stderr",
     "output_type": "stream",
     "text": [
      " 55%|█████▍    | 13672/24878 [02:25<01:58, 94.26it/s] "
     ]
    },
    {
     "name": "stdout",
     "output_type": "stream",
     "text": [
      "---- Heat Too many words in a line\n",
      "---- Major Distribution Too many words in a line\n"
     ]
    },
    {
     "name": "stderr",
     "output_type": "stream",
     "text": [
      " 55%|█████▌    | 13724/24878 [02:25<02:06, 88.12it/s]"
     ]
    },
    {
     "name": "stdout",
     "output_type": "stream",
     "text": [
      "---- Body Bags Too many words in a line\n",
      "XXXX Fuck You has too many verses\n",
      "OOOO Nigga Nigga has tl\n"
     ]
    },
    {
     "name": "stderr",
     "output_type": "stream",
     "text": [
      " 55%|█████▌    | 13755/24878 [02:26<01:58, 93.77it/s]"
     ]
    },
    {
     "name": "stdout",
     "output_type": "stream",
     "text": [
      "XXXX Tupac Shakur - Rolling Stone Entry has no verses\n",
      "XXXX Officer Ricky (Go Head, Try Me) has no verses\n",
      "---- You Should Be Dead Too many words in a line\n"
     ]
    },
    {
     "name": "stderr",
     "output_type": "stream",
     "text": [
      "                                                     \r"
     ]
    },
    {
     "name": "stdout",
     "output_type": "stream",
     "text": [
      "XXXX That’s What’s Up has no verses\n",
      "---- Body On It Too many words in a line"
     ]
    },
    {
     "name": "stderr",
     "output_type": "stream",
     "text": [
      " 56%|█████▌    | 13858/24878 [02:27<01:50, 99.37it/s]"
     ]
    },
    {
     "name": "stdout",
     "output_type": "stream",
     "text": [
      "\n",
      "---- Baby Get On Your Knees Too many words in a line\n",
      "---- These Niggas Aint Hood Too many words in a line\n",
      "XXXX Be My Bitch has too many verses\n",
      "---- What Up Gangsta Pt 2 Too many words in a line\n"
     ]
    },
    {
     "name": "stderr",
     "output_type": "stream",
     "text": [
      " 56%|█████▌    | 13881/24878 [02:27<01:48, 101.04it/s]"
     ]
    },
    {
     "name": "stdout",
     "output_type": "stream",
     "text": [
      "XXXX Clue/50 has no verses\n",
      "XXXX U Should Be Here has too many verses\n"
     ]
    },
    {
     "name": "stderr",
     "output_type": "stream",
     "text": [
      " 56%|█████▌    | 13937/24878 [02:27<01:44, 104.69it/s]"
     ]
    },
    {
     "name": "stdout",
     "output_type": "stream",
     "text": [
      "---- 50 For President Too many words in a line\n",
      "XXXX Call Me has too many verses\n"
     ]
    },
    {
     "name": "stderr",
     "output_type": "stream",
     "text": [
      " 56%|█████▌    | 13959/24878 [02:28<01:46, 102.26it/s]"
     ]
    },
    {
     "name": "stdout",
     "output_type": "stream",
     "text": [
      "XXXX 50 Cent’s Tattoos has no verses\n",
      "OOOO Você Só Pensa Na Grana has pt\n",
      "---- I Run NY Too many words in a line\n",
      "XXXX (Pray 4) My Downfall has no verses\n"
     ]
    },
    {
     "name": "stderr",
     "output_type": "stream",
     "text": [
      " 56%|█████▌    | 13984/24878 [02:28<01:37, 111.44it/s]"
     ]
    },
    {
     "name": "stdout",
     "output_type": "stream",
     "text": [
      "---- Mind Sex Too many words in a line\n",
      "XXXX Get Ya Boy has no verses\n",
      "XXXX The Enforcer has no verses\n",
      "---- It Is What It Is Too many words in a line\n",
      "XXXX Reddit AMA has no verses\n",
      "XXXX In Da Club ( Türkçe Versiyon) has no verses\n",
      "XXXX Before I Self Destruct - Thank You’s has no verses\n"
     ]
    },
    {
     "name": "stderr",
     "output_type": "stream",
     "text": [
      " 56%|█████▋    | 14008/24878 [02:28<01:40, 108.48it/s]"
     ]
    },
    {
     "name": "stdout",
     "output_type": "stream",
     "text": [
      "XXXX Leaving Interscope has no verses\n",
      "XXXX Seen Too Much has no verses\n",
      "OOOO HolyRepre$ent has sk\n",
      "OOOO Heat Türkçe Çeviri has tr\n",
      "XXXX Signs To Independent Label Caroline/Capitol has no verses\n",
      "XXXX Baby By Me (A Cappella)* has no verses\n"
     ]
    },
    {
     "name": "stderr",
     "output_type": "stream",
     "text": [
      " 56%|█████▋    | 14030/24878 [02:28<01:49, 99.41it/s] "
     ]
    },
    {
     "name": "stdout",
     "output_type": "stream",
     "text": [
      "---- Rusty Too many words in a line\n",
      "---- Goblin Too many words in a line\n",
      "XXXX A BOY IS A GUN* has too many verses\n",
      "---- Jamba Too many words in a line\n",
      "---- Radicals Too many words in a line\n"
     ]
    },
    {
     "name": "stderr",
     "output_type": "stream",
     "text": [
      " 57%|█████▋    | 14072/24878 [02:29<01:54, 94.35it/s]"
     ]
    },
    {
     "name": "stdout",
     "output_type": "stream",
     "text": [
      "---- Wolf Too many words in a line\n",
      "---- Lone Too many words in a line\n",
      "---- EXACTLY WHAT YOU RUN FROM YOU END UP CHASING Too many words in a line\n",
      "---- BUFFALO Too many words in a line\n",
      "---- 2SEATER Too many words in a line\n"
     ]
    },
    {
     "name": "stderr",
     "output_type": "stream",
     "text": [
      " 57%|█████▋    | 14095/24878 [02:29<01:46, 100.79it/s]"
     ]
    },
    {
     "name": "stdout",
     "output_type": "stream",
     "text": [
      "---- Sometimes... Too many words in a line\n",
      "XXXX Enjoy Right Now, Today has no verses\n",
      "---- BOYFRIEND Too many words in a line\n",
      "---- FUCK IT Too many words in a line\n"
     ]
    },
    {
     "name": "stderr",
     "output_type": "stream",
     "text": [
      "                                                      "
     ]
    },
    {
     "name": "stdout",
     "output_type": "stream",
     "text": [
      "XXXX AU79 has no verses\n"
     ]
    },
    {
     "name": "stderr",
     "output_type": "stream",
     "text": [
      " 57%|█████▋    | 14157/24878 [02:30<01:29, 119.17it/s]"
     ]
    },
    {
     "name": "stdout",
     "output_type": "stream",
     "text": [
      "XXXX Untitled 63 has no verses\n",
      "XXXX Fuck Santa has no verses\n",
      "---- FLOWER BOY: a conversation Too many words in a line\n",
      "XXXX Whoville has no verses\n",
      "XXXX Greatest Day of My Life has no verses\n",
      "XXXX Ugly Girls has no verses\n",
      "---- ThisNiggaAintFunnyAtAll Too many words in a line\n",
      "XXXX Tricolor has no verses\n",
      "XXXX BANANA* has no verses\n"
     ]
    },
    {
     "name": "stderr",
     "output_type": "stream",
     "text": [
      "                                                      \r"
     ]
    },
    {
     "name": "stdout",
     "output_type": "stream",
     "text": [
      "---- Yonkers [Music Video] Too many words in a line\n",
      "XXXX Cindy Lou’s Wish has no verses\n",
      "XXXX Cherry Bomb: The Documentary has too many verses\n",
      "XXXX I Dream has no verses\n",
      "XXXX FAWN has no verses\n",
      "XXXX Air Balloon has no verses\n",
      "OOOO Boredom (Türkçe Çeviri) has tr\n",
      "XXXX Tyler, The Creator For The Greenbox has no verses\n",
      "XXXX SPRINT has no verses\n",
      "XXXX Tyler, The Creator’s Instagram Tribute To Pharrell’s In My Mind has no verses\n",
      "XXXX Waffles has no verses\n",
      "OOOO Bastard (Kazakh Translation) has sk\n",
      "XXXX HIKING* has no verses\n",
      "XXXX Serena has no verses\n",
      "XXXX Cherry Bomb April Tour Dates (2015) has no verses\n",
      "XXXX Sorry... has no verses\n",
      "XXXX Ace has no verses\n",
      "XXXX Annie has no verses"
     ]
    },
    {
     "name": "stderr",
     "output_type": "stream",
     "text": [
      " 57%|█████▋    | 14213/24878 [02:30<01:36, 110.67it/s]"
     ]
    },
    {
     "name": "stdout",
     "output_type": "stream",
     "text": [
      "\n",
      "XXXX Pancakes has no verses\n",
      "XXXX Tyler The Creator’s SXSW Arrest Warrant has no verses\n",
      "XXXX In My Mind 10 Years Anniversary Letter has no verses\n",
      "XXXX Houdini’s Guide To Inteligen has no verses\n",
      "XXXX Timberland has no verses\n",
      "OOOO Pancakes/Promo has id\n",
      "XXXX Happy Birthday Bitch! has no verses\n",
      "XXXX Sarah (Instumental) has no verses\n"
     ]
    },
    {
     "name": "stderr",
     "output_type": "stream",
     "text": [
      " 57%|█████▋    | 14236/24878 [02:30<02:00, 88.43it/s] "
     ]
    },
    {
     "name": "stdout",
     "output_type": "stream",
     "text": [
      "XXXX Peace of Paper/Cup of Jayzus has no verses\n"
     ]
    },
    {
     "name": "stderr",
     "output_type": "stream",
     "text": [
      " 58%|█████▊    | 14305/24878 [02:31<01:59, 88.85it/s]"
     ]
    },
    {
     "name": "stdout",
     "output_type": "stream",
     "text": [
      "OOOO Drogas has es\n",
      "---- Mazinger Too many words in a line\n",
      "---- Valleys Too many words in a line\n"
     ]
    },
    {
     "name": "stderr",
     "output_type": "stream",
     "text": [
      " 58%|█████▊    | 14325/24878 [02:31<01:57, 90.01it/s]"
     ]
    },
    {
     "name": "stdout",
     "output_type": "stream",
     "text": [
      "XXXX DETAILED EXPLANATION OF LUPE FIASCO’S TETSUO & YOUTH has no verses\n",
      "---- In Too many words in a line\n",
      "XXXX Summer has no verses\n"
     ]
    },
    {
     "name": "stderr",
     "output_type": "stream",
     "text": [
      " 58%|█████▊    | 14364/24878 [02:32<01:56, 90.39it/s]"
     ]
    },
    {
     "name": "stdout",
     "output_type": "stream",
     "text": [
      "XXXX Fall has no verses\n",
      "XXXX Winter has no verses\n"
     ]
    },
    {
     "name": "stderr",
     "output_type": "stream",
     "text": [
      " 58%|█████▊    | 14386/24878 [02:32<01:47, 97.32it/s]"
     ]
    },
    {
     "name": "stdout",
     "output_type": "stream",
     "text": [
      "XXXX Jedi Mind Tricks has no verses\n",
      "XXXX Thank You has no verses\n",
      "XXXX Bound Exhibit has no verses\n",
      "XXXX Fountain OF Youth has no verses\n",
      "XXXX Spring has no verses\n"
     ]
    },
    {
     "name": "stderr",
     "output_type": "stream",
     "text": [
      " 58%|█████▊    | 14410/24878 [02:32<01:39, 105.05it/s]"
     ]
    },
    {
     "name": "stdout",
     "output_type": "stream",
     "text": [
      "XXXX Game Time has no verses\n",
      "XXXX Philosophy Sunday has too many verses\n",
      "XXXX We on has too many verses\n",
      "XXXX A Bathing Harry has no verses\n",
      "XXXX The One has no verses\n",
      "---- Teriyaki Joe: Neo-Harlem Detective (Chapter One: Grits) Too many words in a line\n"
     ]
    },
    {
     "name": "stderr",
     "output_type": "stream",
     "text": [
      " 58%|█████▊    | 14435/24878 [02:32<01:33, 111.43it/s]"
     ]
    },
    {
     "name": "stdout",
     "output_type": "stream",
     "text": [
      "XXXX Heat Under the Baby Seat has no verses\n",
      "XXXX Clean (Mic Check) has no verses\n",
      "XXXX Things We Must Do for Others has no verses\n",
      "---- All While Doing A Rubik’s Cube One-Handed Too many words in a line\n",
      "XXXX Lasers Manifesto has no verses\n",
      "XXXX R.I.P. Gil Scott-Heron has no verses\n",
      "XXXX Cold World has no verses\n"
     ]
    },
    {
     "name": "stderr",
     "output_type": "stream",
     "text": [
      " 58%|█████▊    | 14459/24878 [02:33<01:34, 110.21it/s]"
     ]
    },
    {
     "name": "stdout",
     "output_type": "stream",
     "text": [
      "XXXX Cold Out has no verses\n",
      "XXXX Proper has no verses\n",
      "---- Marty McFly Too many words in a line\n",
      "XXXX Philosophy Sunday (Free Speech) has too many verses\n",
      "XXXX Lupe responds to battling Jay Electronica has no verses\n",
      "XXXX Hater Hop has no verses\n",
      "XXXX City Wings (Lupe’s Verse) has no verses\n",
      "XXXX Tetsuo & Youth Season Breakdown has no verses\n",
      "---- Teriyaki Joe: Neo-Harlem Detective (Chapter Three: Gravy) Too many words in a line\n"
     ]
    },
    {
     "name": "stderr",
     "output_type": "stream",
     "text": [
      " 58%|█████▊    | 14486/24878 [02:33<01:27, 118.11it/s]"
     ]
    },
    {
     "name": "stdout",
     "output_type": "stream",
     "text": [
      "---- Teriyaki Joe: Neo-Harlem Detective (Chapter Two: Coffee) Too many words in a line\n",
      "---- Fire (Unreleased) Too many words in a line\n",
      "XXXX DETAILED EXPLANATION OF TETSUO & YOUTH (LAST 1/4) has no verses\n",
      "XXXX Tilted Pt. 3 has no verses\n",
      "XXXX Bars Dedicated to DL Hughley has no verses\n",
      "XXXX Philosophy Sunday (Uomo Mangiato Tigre) has no verses\n",
      "XXXX The After Life has no verses\n",
      "XXXX FNF Goin Up has no verses\n",
      "---- Teriyaki Joe: Neo-Harlem Detective (Chapter Five: Gumbo) Too many words in a line\n",
      "---- Teriyaki Joe: Neo-Harlem Detective (Chapter Four: Pie) Too many words in a line\n",
      "---- Teriyaki Joe: Neo-Harlem Detective (Chapter Six: Dressing) Too many words in a line\n",
      "XXXX Air China has no verses\n",
      "XXXX LupeFiascoStore.com has no verses\n",
      "XXXX FNF Army Invades has no verses\n",
      "XXXX Dear White Supremacy has no verses\n",
      "XXXX Moneyman has no verses\n",
      "XXXX Street Stories has no verses\n"
     ]
    },
    {
     "name": "stderr",
     "output_type": "stream",
     "text": [
      "                                                      \r"
     ]
    },
    {
     "name": "stdout",
     "output_type": "stream",
     "text": [
      "XXXX Lupe Fiasco’s Take on Drake v. Meek Mill has no verses\n",
      "---- Steady Mobbin’ Too many words in a line\n",
      "XXXX Rap Review of 4:44 has no verses\n",
      "XXXX You My has no verses\n",
      "XXXX Fuck Kid Cudi (Twitter Fan Dialogue) has no verses\n",
      "XXXX Life, Death & Love From San Fransisco has no verses\n",
      "XXXX U don’t know has no verses\n",
      "---- Lupe the Gorilla Too many words in a line\n",
      "XXXX Doors Are at 6 has no verses\n"
     ]
    },
    {
     "name": "stderr",
     "output_type": "stream",
     "text": [
      " 58%|█████▊    | 14531/24878 [02:33<01:21, 127.01it/s]"
     ]
    },
    {
     "name": "stdout",
     "output_type": "stream",
     "text": [
      "XXXX The Police: A Letter has no verses\n",
      "XXXX Rodney, Lehman Bros Profited From Slavery & Other Tales has too many verses\n",
      "XXXX Iron Maiden has too many verses\n",
      "---- The Champ Too many words in a line\n"
     ]
    },
    {
     "name": "stderr",
     "output_type": "stream",
     "text": [
      " 59%|█████▊    | 14567/24878 [02:34<01:39, 103.42it/s]"
     ]
    },
    {
     "name": "stdout",
     "output_type": "stream",
     "text": [
      "---- Run Too many words in a line\n",
      "---- Malcolm Too many words in a line\n",
      "XXXX 9 Milli Bros. has too many verses\n",
      "---- Beware of the Stare Too many words in a line\n"
     ]
    },
    {
     "name": "stderr",
     "output_type": "stream",
     "text": [
      " 59%|█████▉    | 14620/24878 [02:34<01:42, 99.96it/s] "
     ]
    },
    {
     "name": "stdout",
     "output_type": "stream",
     "text": [
      "XXXX Shakey Dog Starring Lolita has too many verses\n",
      "XXXX The Forest has no verses\n",
      "---- Iron’s Theme - Intermission Too many words in a line\n",
      "XXXX The Hilton has no verses\n",
      "---- Double Cross Too many words in a line\n"
     ]
    },
    {
     "name": "stderr",
     "output_type": "stream",
     "text": [
      " 59%|█████▉    | 14651/24878 [02:34<01:48, 93.86it/s]"
     ]
    },
    {
     "name": "stdout",
     "output_type": "stream",
     "text": [
      "XXXX The Prayer has no verses\n",
      "XXXX Iron’s Theme - Conclusion has no verses\n"
     ]
    },
    {
     "name": "stderr",
     "output_type": "stream",
     "text": [
      " 59%|█████▉    | 14672/24878 [02:35<01:46, 95.88it/s]"
     ]
    },
    {
     "name": "stdout",
     "output_type": "stream",
     "text": [
      "---- Call My Name Too many words in a line\n",
      "XXXX I Love You For All Seasons has no verses\n"
     ]
    },
    {
     "name": "stderr",
     "output_type": "stream",
     "text": [
      " 59%|█████▉    | 14713/24878 [02:35<01:41, 99.68it/s]"
     ]
    },
    {
     "name": "stdout",
     "output_type": "stream",
     "text": [
      "---- Youngstown Heist Too many words in a line\n",
      "XXXX Jealousy has no verses\n",
      "XXXX Fast Life has no verses\n"
     ]
    },
    {
     "name": "stderr",
     "output_type": "stream",
     "text": [
      " 59%|█████▉    | 14750/24878 [02:35<01:31, 110.14it/s]"
     ]
    },
    {
     "name": "stdout",
     "output_type": "stream",
     "text": [
      "XXXX Stand Up has no verses\n",
      "XXXX On My Knees has no verses\n",
      "XXXX Girls Callin’ has too many verses\n",
      "XXXX Tony/Montana has no verses\n",
      "XXXX The Mask has no verses\n",
      "XXXX Bad Mouth Kid has no verses\n",
      "XXXX The rise of the ghostface killah (feat. masta killa & killa sin) has no verses\n"
     ]
    },
    {
     "name": "stderr",
     "output_type": "stream",
     "text": [
      " 59%|█████▉    | 14763/24878 [02:35<01:29, 112.74it/s]"
     ]
    },
    {
     "name": "stdout",
     "output_type": "stream",
     "text": [
      "XXXX Pieces to the puzzle (feat. az) has no verses\n",
      "XXXX Rise of the Ghostface Killah (Cuts by DJ Mekalek) has no verses\n",
      "XXXX Sucks for them has no verses\n",
      "XXXX . has no verses\n",
      "XXXX ANY WAY has no verses\n"
     ]
    },
    {
     "name": "stderr",
     "output_type": "stream",
     "text": [
      " 59%|█████▉    | 14796/24878 [02:36<01:45, 95.44it/s] "
     ]
    },
    {
     "name": "stdout",
     "output_type": "stream",
     "text": [
      "---- Gihad Too many words in a line\n",
      "---- Ason Jones Too many words in a line\n"
     ]
    },
    {
     "name": "stderr",
     "output_type": "stream",
     "text": [
      " 60%|█████▉    | 14817/24878 [02:36<01:42, 98.04it/s]"
     ]
    },
    {
     "name": "stdout",
     "output_type": "stream",
     "text": [
      "---- Sonny’s Missing Too many words in a line\n",
      "---- Return of the North Star Too many words in a line\n",
      "---- Canal Street Too many words in a line\n"
     ]
    },
    {
     "name": "stderr",
     "output_type": "stream",
     "text": [
      " 60%|█████▉    | 14850/24878 [02:36<01:39, 100.95it/s]"
     ]
    },
    {
     "name": "stdout",
     "output_type": "stream",
     "text": [
      "---- Baggin’ Crack Too many words in a line\n",
      "XXXX Zonder mij has no verses\n"
     ]
    },
    {
     "name": "stderr",
     "output_type": "stream",
     "text": [
      " 60%|█████▉    | 14883/24878 [02:37<01:39, 100.35it/s]"
     ]
    },
    {
     "name": "stdout",
     "output_type": "stream",
     "text": [
      "XXXX Wishing On A Star has no verses\n",
      "XXXX When I See You has no verses\n"
     ]
    },
    {
     "name": "stderr",
     "output_type": "stream",
     "text": [
      " 60%|█████▉    | 14906/24878 [02:37<01:37, 102.38it/s]"
     ]
    },
    {
     "name": "stdout",
     "output_type": "stream",
     "text": [
      "XXXX Goodfellas has no verses\n",
      "XXXX Cuttin’ it Up has too many verses\n",
      "XXXX Nasty Immigrants has no verses\n"
     ]
    },
    {
     "name": "stderr",
     "output_type": "stream",
     "text": [
      " 60%|██████    | 14951/24878 [02:37<01:33, 106.67it/s]"
     ]
    },
    {
     "name": "stdout",
     "output_type": "stream",
     "text": [
      "XXXX Give Me Your Love has no verses\n",
      "XXXX Footprints of Osama has no verses\n"
     ]
    },
    {
     "name": "stderr",
     "output_type": "stream",
     "text": [
      " 60%|██████    | 14975/24878 [02:38<01:29, 110.32it/s]"
     ]
    },
    {
     "name": "stdout",
     "output_type": "stream",
     "text": [
      "XXXX Wake Up has no verses\n",
      "XXXX I’m A Boss has no verses\n",
      "XXXX The Watch has too many verses\n",
      "XXXX Chocolate Salty Balls (P.S. I Love You) has no verses\n"
     ]
    },
    {
     "name": "stderr",
     "output_type": "stream",
     "text": [
      " 60%|██████    | 15001/24878 [02:38<01:23, 118.10it/s]"
     ]
    },
    {
     "name": "stdout",
     "output_type": "stream",
     "text": [
      "XXXX Shark Niggas (Biters) - Raekwon has no verses\n",
      "XXXX Double Dragon has too many verses\n",
      "XXXX Striving For Perfection - Raekwon has no verses\n",
      "XXXX Pioneers has no verses\n",
      "XXXX Dirty Water has no verses\n",
      "XXXX Ghetto Boy has no verses\n",
      "XXXX Heavyweights has no verses\n",
      "XXXX Abaleya kopala has no verses\n"
     ]
    },
    {
     "name": "stderr",
     "output_type": "stream",
     "text": [
      " 60%|██████    | 15041/24878 [02:38<01:34, 104.34it/s]"
     ]
    },
    {
     "name": "stdout",
     "output_type": "stream",
     "text": [
      "---- Method Man Too many words in a line\n",
      "XXXX Wu-Tang: 7th Chamber has too many verses\n",
      "XXXX Can It Be All So Simple / Intermission has too many verses\n",
      "---- Gravel Pit Too many words in a line\n",
      "XXXX Impossible has too many verses\n",
      "XXXX Ruckus in B Minor has too many verses\n"
     ]
    },
    {
     "name": "stderr",
     "output_type": "stream",
     "text": [
      " 61%|██████    | 15072/24878 [02:39<01:48, 90.18it/s] "
     ]
    },
    {
     "name": "stdout",
     "output_type": "stream",
     "text": [
      "---- Frozen Too many words in a line\n",
      "---- Rivers of Blood Too many words in a line\n",
      "XXXX Little Ghetto Boys has too many verses\n",
      "XXXX Enter the Wu-Tang (36 Chambers) [Artwork] has no verses\n",
      "XXXX Life Changes has too many verses\n",
      "---- Necklace Too many words in a line\n"
     ]
    },
    {
     "name": "stderr",
     "output_type": "stream",
     "text": [
      " 61%|██████    | 15102/24878 [02:39<01:46, 91.64it/s]"
     ]
    },
    {
     "name": "stdout",
     "output_type": "stream",
     "text": [
      "---- Felt Too many words in a line\n",
      "---- Never Let Go Too many words in a line\n"
     ]
    },
    {
     "name": "stderr",
     "output_type": "stream",
     "text": [
      " 61%|██████    | 15132/24878 [02:39<01:46, 91.24it/s]"
     ]
    },
    {
     "name": "stdout",
     "output_type": "stream",
     "text": [
      "---- Triumph (Video Version) Too many words in a line\n",
      "XXXX Stick Me for My Riches has too many verses\n",
      "XXXX Wu-Tang Logo has no verses\n"
     ]
    },
    {
     "name": "stderr",
     "output_type": "stream",
     "text": [
      " 61%|██████    | 15162/24878 [02:40<01:45, 92.35it/s]"
     ]
    },
    {
     "name": "stdout",
     "output_type": "stream",
     "text": [
      "XXXX Let Me At Them has no verses\n",
      "XXXX Iron Flag Album Cover has no verses\n",
      "XXXX Fragments has no verses\n",
      "XXXX Laced Cheeba (feat. Ghostface, Sean Price, & Trife Diesel) has no verses\n"
     ]
    },
    {
     "name": "stderr",
     "output_type": "stream",
     "text": [
      " 61%|██████    | 15214/24878 [02:40<01:40, 96.04it/s]"
     ]
    },
    {
     "name": "stdout",
     "output_type": "stream",
     "text": [
      "---- Through the Wire Too many words in a line\n",
      "XXXX Last Call has too many verses\n"
     ]
    },
    {
     "name": "stderr",
     "output_type": "stream",
     "text": [
      " 61%|██████▏   | 15254/24878 [02:40<01:41, 94.64it/s]"
     ]
    },
    {
     "name": "stdout",
     "output_type": "stream",
     "text": [
      "XXXX The New Workout Plan has too many verses\n"
     ]
    },
    {
     "name": "stderr",
     "output_type": "stream",
     "text": [
      " 61%|██████▏   | 15287/24878 [02:41<01:34, 101.31it/s]"
     ]
    },
    {
     "name": "stdout",
     "output_type": "stream",
     "text": [
      "---- Graduation Day Too many words in a line\n",
      "---- I Feel Like That Too many words in a line\n",
      "XXXX DONDA (2012) has no verses\n"
     ]
    },
    {
     "name": "stderr",
     "output_type": "stream",
     "text": [
      " 62%|██████▏   | 15319/24878 [02:41<01:41, 93.91it/s] "
     ]
    },
    {
     "name": "stdout",
     "output_type": "stream",
     "text": [
      "XXXX 2013 Yeezus Tour Dates has no verses\n",
      "XXXX Workout Plan has too many verses\n",
      "---- On the 2009 VMAs (2) Too many words in a line\n"
     ]
    },
    {
     "name": "stderr",
     "output_type": "stream",
     "text": [
      " 62%|██████▏   | 15355/24878 [02:42<01:28, 107.09it/s]"
     ]
    },
    {
     "name": "stdout",
     "output_type": "stream",
     "text": [
      "XXXX Throw Some D’s has no verses\n",
      "XXXX On Pusha-T has no verses\n",
      "XXXX On Wiz Khalifa has no verses\n",
      "XXXX Yeezus Listening Party Speech has no verses\n",
      "---- 18 Years Too many words in a line\n",
      "XXXX On Jimmy Kimmel has no verses\n",
      "XXXX Bed Yeezy Season 5 has too many verses\n",
      "---- On Truthfulness Too many words in a line\n"
     ]
    },
    {
     "name": "stderr",
     "output_type": "stream",
     "text": [
      " 62%|██████▏   | 15383/24878 [02:42<01:20, 117.68it/s]"
     ]
    },
    {
     "name": "stdout",
     "output_type": "stream",
     "text": [
      "XXXX On Bonnaroo Music Festival has no verses\n",
      "---- Oxford Lecture Too many words in a line\n",
      "XXXX Bitter Sweet has no verses\n",
      "XXXX One I Love has no verses\n",
      "XXXX Kanye on the Bound 2 Video has no verses\n",
      "---- Kanye West & Taylor Swift’s ‘Famous’ Lyric Phone Conversation Too many words in a line\n",
      "XXXX Speech at Harvard Graduate School of Design has no verses\n",
      "---- On the 2009 VMAs Too many words in a line\n",
      "---- 47th Annual Grammy Speech Too many words in a line\n",
      "XXXX 2014 Yeezus Tour Dates has no verses\n",
      "XXXX On Being a Celebrity has no verses\n",
      "XXXX On Business People and Corporations has no verses\n",
      "XXXX Kanye West - 47th Grammy: Best Rap Album Acceptance Speech has no verses\n"
     ]
    },
    {
     "name": "stderr",
     "output_type": "stream",
     "text": [
      " 62%|██████▏   | 15420/24878 [02:42<01:21, 116.02it/s]"
     ]
    },
    {
     "name": "stdout",
     "output_type": "stream",
     "text": [
      "---- On Dreaming and Success Too many words in a line\n",
      "---- On Kid Cudi Too many words in a line\n",
      "XXXX Self Conscious (Poetry Style) has no verses\n",
      "XXXX I Am Not Here has no verses\n",
      "XXXX On The College Dropout’s 10-Year Anniversary has no verses\n",
      "XXXX “Only One” Single Art has no verses\n",
      "XXXX Break the Simulation (Philosophy Book) has no verses\n",
      "XXXX Black Vietnam has no verses\n"
     ]
    },
    {
     "name": "stderr",
     "output_type": "stream",
     "text": [
      " 62%|██████▏   | 15445/24878 [02:42<01:20, 116.67it/s]"
     ]
    },
    {
     "name": "stdout",
     "output_type": "stream",
     "text": [
      "---- On Politics Too many words in a line\n",
      "---- On Voting for Trump Too many words in a line\n",
      "---- Dragon 🐉 energy [April 25, 2018] Too many words in a line\n",
      "---- On Creative Frustration Too many words in a line\n",
      "XXXX On Obama: “I’m Past That” has no verses\n",
      "XXXX I’m a New Man has no verses\n",
      "---- Slavery Was a Choice Pt. 1 [May 1, 2018] Too many words in a line\n",
      "XXXX Arguements has no verses\n"
     ]
    },
    {
     "name": "stderr",
     "output_type": "stream",
     "text": [
      " 62%|██████▏   | 15470/24878 [02:42<01:21, 115.99it/s]"
     ]
    },
    {
     "name": "stdout",
     "output_type": "stream",
     "text": [
      "---- On Genius and Fashion Too many words in a line\n",
      "---- On Hurricane Katrina Too many words in a line\n",
      "XXXX Backstage SNL Rant has no verses\n",
      "XXXX Sierra Canyon has no verses\n",
      "XXXX Ego has no verses\n",
      "XXXX Overreact has no verses\n",
      "XXXX American Psycho (Short Film) has no verses\n",
      "XXXX Yeezus iTunes Art has no verses\n"
     ]
    },
    {
     "name": "stderr",
     "output_type": "stream",
     "text": [
      " 62%|██████▏   | 15501/24878 [02:43<01:12, 128.98it/s]"
     ]
    },
    {
     "name": "stdout",
     "output_type": "stream",
     "text": [
      "XXXX 2015 BET Honors Visionary Award Acceptance Speech has no verses\n",
      "XXXX Ever Since has no verses\n",
      "---- On Achievement and Creativity Too many words in a line\n",
      "OOOO Get Off Me has tl\n",
      "---- We Don’t Care (Reprise) Too many words in a line\n",
      "XXXX In God’s Country has no verses\n",
      "---- Soulful Too many words in a line\n",
      "XXXX The Good, The Bad, The Ugly (Exclusive) has no verses\n",
      "XXXX On MediaTakeout has no verses\n",
      "XXXX Twitter Poetry has no verses\n",
      "XXXX Love Is The New Money has no verses\n",
      "XXXX Superman has no verses\n",
      "---- On Michael Jordan Too many words in a line\n"
     ]
    },
    {
     "name": "stderr",
     "output_type": "stream",
     "text": [
      " 62%|██████▏   | 15531/24878 [02:43<01:08, 136.21it/s]"
     ]
    },
    {
     "name": "stdout",
     "output_type": "stream",
     "text": [
      "XXXX On Deadmau5 has no verses\n",
      "XXXX Charitable Work has no verses\n",
      "XXXX Praise God has no verses\n",
      "XXXX On the Grammys (2) has no verses\n",
      "XXXX On the Grammys has no verses\n",
      "XXXX On Saint Paul and Personal Debt has no verses\n",
      "XXXX God’s Country has no verses\n",
      "XXXX Diamonds has no verses\n",
      "XXXX Lord We Need You has no verses\n",
      "XXXX Slow Jamz (Still Tippin’ Blend) has no verses\n",
      "XXXX Self Conscious (spoken word version) has no verses\n",
      "XXXX Chain Heavy (HW Version) has no verses\n",
      "XXXX Dr. Kanye West Honorary Doctorate Speech has no verses\n",
      "XXXX Our King has no verses\n",
      "XXXX The Ellen Show: On Having More Kids has no verses\n",
      "XXXX Trend is always late [April 18, 2018] has no verses\n",
      "XXXX Welcome To My Life has no verses\n",
      "---- On Paparazzi, Celebrities, and Activists Too many words in a line\n",
      "XXXX I Am Not Home has no verses\n",
      "XXXX On Rich People has no verses\n"
     ]
    },
    {
     "name": "stderr",
     "output_type": "stream",
     "text": [
      " 63%|██████▎   | 15563/24878 [02:43<01:03, 146.66it/s]"
     ]
    },
    {
     "name": "stdout",
     "output_type": "stream",
     "text": [
      "XXXX Stay on Em (Precious) has no verses\n",
      "XXXX Kanye West’s Grammy Honors has no verses\n",
      "XXXX Slavery Was a Choice Pt. 2 [May 1, 2018] has no verses\n",
      "XXXX Remove Worry [April 29, 2018] has no verses\n",
      "XXXX Touch It has no verses\n",
      "---- Harvard Design Speech Too many words in a line\n",
      "XXXX Ghetto Child has no verses\n",
      "XXXX On Taylor Swift and Artistry has no verses\n",
      "---- Where U Should Be Too many words in a line\n",
      "XXXX Kanye West Talks Fashion and Surprise Concerts in Paris has no verses\n",
      "XXXX This Is The Glory has no verses\n",
      "XXXX Ray Choppa has no verses\n",
      "XXXX The Making of “Ye Vs The People” has too many verses\n",
      "XXXX Blood on the Leaves - VMA Performance 2013 has no verses\n",
      "XXXX Through the Wire (Dead Presidents Blend) has no verses\n",
      "XXXX Behind the Scenes with GQ has no verses\n"
     ]
    },
    {
     "name": "stderr",
     "output_type": "stream",
     "text": [
      " 63%|██████▎   | 15598/24878 [02:43<01:01, 149.98it/s]"
     ]
    },
    {
     "name": "stdout",
     "output_type": "stream",
     "text": [
      "XXXX Doing Fine (Freshman Adjuistments) has no verses\n",
      "XXXX Better Than I’ve Ever Been has no verses\n",
      "XXXX On Bob Ezrin has no verses\n",
      "XXXX Love Everyone has no verses\n",
      "XXXX New Slaves--Annotation Project has no verses\n",
      "XXXX Whole Life has no verses\n",
      "---- Sacramento Rant [Full Transcript] Too many words in a line\n",
      "XXXX Dont Get 2 Excited has no verses\n",
      "XXXX On Meeting with Donald Trump has no verses\n",
      "XXXX Life Of The Party (Bonus Track) has no verses\n",
      "XXXX The Daily’s Fashion Los Angeles Awards Speech has no verses\n",
      "XXXX Tell The Vision has no verses\n",
      "XXXX Problem (Yeezus Throwaway) has no verses\n",
      "XXXX Look at your phone as tool [May 21, 2018] has no verses\n",
      "XXXX Give without pride (I killed my ego) [June 14, 2018] has no verses\n"
     ]
    },
    {
     "name": "stderr",
     "output_type": "stream",
     "text": [
      " 63%|██████▎   | 15629/24878 [02:44<01:06, 139.12it/s]"
     ]
    },
    {
     "name": "stdout",
     "output_type": "stream",
     "text": [
      "---- Concert Rant on 2016 election, Beyonce, Jay-Z Too many words in a line\n",
      "XXXX On Fern Mallis has no verses\n",
      "XXXX . has no verses\n",
      "XXXX My Eyes / Good Ass Job has no verses\n",
      "---- Flashing Lights (Mick Boogie Mix) Too many words in a line\n",
      "XXXX Holding Me Back (HW Version) has no verses\n",
      "XXXX Stircrazy has no verses\n",
      "---- Drop Dead Gorgeous (Revised) Too many words in a line\n",
      "XXXX SNL Closing Speech has no verses\n",
      "XXXX Us Placers has no verses\n",
      "XXXX I Still Got It has no verses\n",
      "XXXX Presidential Campaign Rally Speech South Carolina July 2020 has too many verses\n",
      "XXXX Hurricane (V5/DONDA: WITH CHILD Version) has no verses\n",
      "XXXX Turbo has no verses\n",
      "XXXX Heavy Hitters (One Love Blend) has no verses\n"
     ]
    },
    {
     "name": "stderr",
     "output_type": "stream",
     "text": [
      " 63%|██████▎   | 15662/24878 [02:44<01:02, 148.10it/s]"
     ]
    },
    {
     "name": "stdout",
     "output_type": "stream",
     "text": [
      "XXXX Eternal Rest has no verses\n",
      "XXXX Poem Dedicated to Martin Luther King Jr. has no verses\n",
      "XXXX R U Ready? has no verses\n",
      "XXXX A Good Woman has no verses\n",
      "XXXX One Day has no verses\n",
      "XXXX Always Been The Same has no verses\n",
      "XXXX Use This Gospel (Dre Mix) has no verses\n",
      "XXXX I Know God Breathed on This has no verses\n",
      "XXXX Strapped Steph Curry has no verses\n",
      "XXXX Lovely has no verses\n",
      "---- Kanye West monologue at the White House Too many words in a line\n",
      "XXXX Timbaland Session 5 has no verses\n",
      "XXXX Rolling Stone Cover 2/25/2016 has no verses\n",
      "XXXX All Falls Down- Creative Writing has no verses\n",
      "XXXX This Business has no verses\n",
      "XXXX Bring It Back has no verses\n",
      "XXXX Make History has no verses\n",
      "XXXX Stand Up has no verses\n",
      "XXXX The Pain has no verses\n",
      "XXXX Jesus Walks- Creative Writing has no verses\n",
      "XXXX Get Up has no verses\n",
      "XXXX Stay Up has no verses\n",
      "XXXX Beat has no verses\n",
      "OOOO Don’t Go has so\n",
      "XXXX I Want You has no verses\n",
      "XXXX Nothin Gotta Stop has no verses\n"
     ]
    },
    {
     "name": "stderr",
     "output_type": "stream",
     "text": [
      " 63%|██████▎   | 15682/24878 [02:44<00:57, 159.97it/s]"
     ]
    },
    {
     "name": "stdout",
     "output_type": "stream",
     "text": [
      "XXXX The real kanye has no verses\n",
      "XXXX Lets Fly Away has no verses\n",
      "XXXX This Ma Shit has no verses\n",
      "XXXX He Got Everything has no verses\n",
      "XXXX Change The Game has no verses\n",
      "XXXX Ima Star has no verses\n",
      "XXXX Through the Wire- Creative Writing has no verses\n",
      "XXXX You Know has no verses\n",
      "XXXX Don’t Jump (Solo Version) has no verses\n",
      "XXXX Cop That has no verses\n",
      "---- SAIC Commencement Lecture Too many words in a line\n",
      "XXXX Eternal Life has no verses\n",
      "XXXX The Best IS has no verses\n",
      "XXXX I’m In Here has no verses\n",
      "XXXX It Goes Like This has no verses\n",
      "XXXX U That Type has no verses\n",
      "XXXX Pro Nails has no verses\n",
      "XXXX Statement on Beck Winning AOTY has no verses\n",
      "XXXX Temptation has no verses\n",
      "XXXX Sky Mirror has no verses\n",
      "XXXX Untitled Royce Da 5'9 Collaboration* has no verses\n",
      "XXXX I Feel Teriffic has no verses\n",
      "XXXX Lord I Need You Around Me has no verses\n"
     ]
    },
    {
     "name": "stderr",
     "output_type": "stream",
     "text": [
      " 63%|██████▎   | 15715/24878 [02:44<01:16, 120.09it/s]"
     ]
    },
    {
     "name": "stdout",
     "output_type": "stream",
     "text": [
      "---- Pound Cake / Paris Morton Music 2 Too many words in a line\n",
      "---- How Bout Now Too many words in a line\n"
     ]
    },
    {
     "name": "stderr",
     "output_type": "stream",
     "text": [
      " 63%|██████▎   | 15754/24878 [02:45<01:25, 106.27it/s]"
     ]
    },
    {
     "name": "stdout",
     "output_type": "stream",
     "text": [
      "---- Look What You’ve Done Too many words in a line\n",
      "---- Tuscan Leather Too many words in a line\n"
     ]
    },
    {
     "name": "stderr",
     "output_type": "stream",
     "text": [
      " 64%|██████▎   | 15819/24878 [02:45<01:35, 94.63it/s] "
     ]
    },
    {
     "name": "stdout",
     "output_type": "stream",
     "text": [
      "---- Lose You Too many words in a line\n",
      "---- Can’t Have Everything Too many words in a line\n"
     ]
    },
    {
     "name": "stderr",
     "output_type": "stream",
     "text": [
      " 64%|██████▎   | 15852/24878 [02:46<01:29, 100.90it/s]"
     ]
    },
    {
     "name": "stdout",
     "output_type": "stream",
     "text": [
      "XXXX Glow has too many verses\n",
      "---- Successful Too many words in a line\n",
      "---- Peak Too many words in a line\n",
      "---- Heat of the Moment Too many words in a line\n",
      "---- After Dark Too many words in a line\n"
     ]
    },
    {
     "name": "stderr",
     "output_type": "stream",
     "text": [
      " 64%|██████▍   | 15896/24878 [02:46<01:30, 99.48it/s] "
     ]
    },
    {
     "name": "stdout",
     "output_type": "stream",
     "text": [
      "---- Still Fly Too many words in a line\n",
      "XXXX What If I Kissed You has no verses\n",
      "XXXX Thank You Letter has no verses\n"
     ]
    },
    {
     "name": "stderr",
     "output_type": "stream",
     "text": [
      " 64%|██████▍   | 15919/24878 [02:46<01:26, 103.02it/s]"
     ]
    },
    {
     "name": "stdout",
     "output_type": "stream",
     "text": [
      "---- Fire in the Booth Too many words in a line\n",
      "---- Would You Love Me Too many words in a line\n"
     ]
    },
    {
     "name": "stderr",
     "output_type": "stream",
     "text": [
      " 64%|██████▍   | 15941/24878 [02:47<01:28, 100.54it/s]"
     ]
    },
    {
     "name": "stdout",
     "output_type": "stream",
     "text": [
      "XXXX Good Night and Good Luck has no verses\n",
      "XXXX More Life [Note] has no verses\n",
      "XXXX Thank You Note to 40 has no verses\n",
      "---- Lie To Me Too many words in a line\n",
      "XXXX Take You Down has no verses\n",
      "XXXX Sex Tonight has no verses\n"
     ]
    },
    {
     "name": "stderr",
     "output_type": "stream",
     "text": [
      " 64%|██████▍   | 15964/24878 [02:47<01:28, 101.25it/s]"
     ]
    },
    {
     "name": "stdout",
     "output_type": "stream",
     "text": [
      "XXXX Slow It Down has no verses\n",
      "XXXX Asthma Team has no verses\n",
      "XXXX Come Real has no verses\n",
      "XXXX Comments on Macklemore’s Post-Grammy Text has no verses\n",
      "XXXX Thrill Is Gone has no verses\n"
     ]
    },
    {
     "name": "stderr",
     "output_type": "stream",
     "text": [
      " 64%|██████▍   | 16000/24878 [02:47<01:20, 109.70it/s]"
     ]
    },
    {
     "name": "stdout",
     "output_type": "stream",
     "text": [
      "XXXX Say Something has no verses\n",
      "---- Please Forgive Me Too many words in a line\n",
      "---- Jungle (Video) Too many words in a line\n"
     ]
    },
    {
     "name": "stderr",
     "output_type": "stream",
     "text": [
      " 64%|██████▍   | 16027/24878 [02:47<01:13, 119.89it/s]"
     ]
    },
    {
     "name": "stdout",
     "output_type": "stream",
     "text": [
      "XXXX The Usual has no verses\n",
      "XXXX Pianist Hands has no verses\n",
      "XXXX Runaway Girl has no verses\n",
      "---- Fallen Too many words in a line\n",
      "XXXX Drake’s Tattoos has no verses\n",
      "XXXX Apology for Autism Line has no verses\n",
      "---- Exposed (Voyce Diss) Too many words in a line\n",
      "XXXX Invented Sex has no verses\n",
      "XXXX Tough Day at the Office [Rolling Stone Apology] has no verses\n",
      "XXXX 2011 Juno Awards In Toronto has no verses\n",
      "XXXX Get Like Me has no verses\n"
     ]
    },
    {
     "name": "stderr",
     "output_type": "stream",
     "text": [
      " 65%|██████▍   | 16053/24878 [02:47<01:15, 117.34it/s]"
     ]
    },
    {
     "name": "stdout",
     "output_type": "stream",
     "text": [
      "---- Overdose Too many words in a line\n",
      "XXXX Alton Sterling Statement has no verses\n",
      "XXXX Hozh has no verses\n",
      "---- Drake’s Voice Mail Box #1 Too many words in a line\n",
      "XXXX Superstar has no verses\n",
      "XXXX Bad Breed has no verses\n",
      "XXXX New Album Titled ‘Views From The 6’ has no verses\n",
      "XXXX Night Off has no verses\n",
      "XXXX Milk has no verses\n",
      "XXXX Unfortunate* has no verses\n",
      "---- Drake’s Voice Mail Box #3 Too many words in a line\n",
      "XXXX Blackface Response has no verses\n",
      "XXXX Seriously Now has no verses\n",
      "---- Drake Speaks Too many words in a line\n",
      "XXXX ESPYs Conference Call has no verses\n",
      "---- Take Your Girl Too many words in a line\n"
     ]
    },
    {
     "name": "stderr",
     "output_type": "stream",
     "text": [
      " 65%|██████▍   | 16081/24878 [02:48<01:11, 123.79it/s]"
     ]
    },
    {
     "name": "stdout",
     "output_type": "stream",
     "text": [
      "XXXX Never ’Bout Us has no verses\n",
      "XXXX I’ll Brand It* has no verses\n",
      "XXXX Untitled DaBaby Collaboration* has no verses\n",
      "XXXX Tweets With T. Boone Pickens has no verses\n",
      "XXXX Statement on Wireless has no verses\n",
      "OOOO Pure Evil* has tr\n",
      "XXXX Minnesota Excellence has no verses\n",
      "XXXX Lube Land has no verses\n",
      "XXXX Using Me has no verses\n",
      "XXXX Rape has no verses\n",
      "XXXX Cool* has no verses\n",
      "XXXX Legendary Shit prod NFF has no verses\n",
      "XXXX Dementia has no verses\n",
      "XXXX Love From a Distance has no verses\n",
      "XXXX Living Single theme song has no verses\n"
     ]
    },
    {
     "name": "stderr",
     "output_type": "stream",
     "text": [
      " 65%|██████▍   | 16106/24878 [02:48<01:20, 109.50it/s]"
     ]
    },
    {
     "name": "stdout",
     "output_type": "stream",
     "text": [
      "XXXX Fix Me, Jesus has no verses\n",
      "XXXX He’s Everything has no verses\n",
      "XXXX Dance for Me has no verses\n",
      "XXXX Poor Unfortunate Souls has too many verses\n"
     ]
    },
    {
     "name": "stderr",
     "output_type": "stream",
     "text": [
      " 65%|██████▍   | 16130/24878 [02:48<01:19, 110.16it/s]"
     ]
    },
    {
     "name": "stdout",
     "output_type": "stream",
     "text": [
      "XXXX Latifah’s Law has no verses\n",
      "XXXX Go Head has no verses\n",
      "XXXX Mercy, Mercy, Mercy has no verses\n",
      "XXXX California Dreamin’ has no verses\n",
      "XXXX I Know Where You’ve Been has no verses\n",
      "XXXX Hello Stranger has no verses\n",
      "XXXX Hard Times has no verses\n",
      "XXXX Court Is in Session has no verses\n",
      "XXXX Queen of Royal Badness has no verses\n",
      "XXXX Cell Block Tango has no verses\n"
     ]
    },
    {
     "name": "stderr",
     "output_type": "stream",
     "text": [
      "                                                      \r"
     ]
    },
    {
     "name": "stdout",
     "output_type": "stream",
     "text": [
      "XXXX I Don’t Know has no verses\n",
      "XXXX Simply Beautiful has no verses\n",
      "XXXX Georgia Rose has no verses\n",
      "XXXX People has no verses\n",
      "XXXX Baby Get Lost has no verses\n",
      "XXXX Don’t Cry Baby has no verses\n",
      "XXXX Poetry Man has no verses\n",
      "XXXX I Put A Spell On You has no verses\n",
      "XXXX Oh Happy Day has no verses\n",
      "XXXX Fast Car has no verses\n",
      "XXXX I’m Not In Love has no verses\n",
      "XXXX Lush Life has no verses\n",
      "XXXX No/Yes has no verses\n",
      "XXXX I Want a Little Sugar in My Bowl has no verses\n",
      "XXXX Close Your Eyes has no verses\n",
      "XXXX The Lady Is a Tramp has no verses\n",
      "XXXX Moody’s Mood For Love has no verses\n",
      "XXXX Goin’ Out Of My Head has no verses\n",
      "XXXX If I Had You has no verses\n",
      "XXXX Trav’lin’ Light has no verses\n",
      "XXXX Gone Away has no verses\n",
      "XXXX Not enough has no verses\n",
      "XXXX What Love Has Joined Together has no verses\n",
      "XXXX I Love Being Here with You has no verses\n",
      "XXXX Walk the Dinosaur has no verses\n",
      "XXXX Corcovado (quiet nights of quiet stars) has no verses\n"
     ]
    },
    {
     "name": "stderr",
     "output_type": "stream",
     "text": [
      "                                                      \r"
     ]
    },
    {
     "name": "stdout",
     "output_type": "stream",
     "text": [
      "XXXX Be Anything (But Be Mine) has no verses\n",
      "XXXX If You Don’t Know has no verses\n",
      "XXXX Take me away(with you) has no verses\n",
      "---- No Rest for the Wicked Too many words in a line"
     ]
    },
    {
     "name": "stderr",
     "output_type": "stream",
     "text": [
      " 65%|██████▌   | 16208/24878 [02:49<01:20, 107.56it/s]"
     ]
    },
    {
     "name": "stdout",
     "output_type": "stream",
     "text": [
      "\n",
      "---- Throw Your Set in the Air Too many words in a line\n",
      "XXXX Cock the Hammer has no verses\n",
      "OOOO Tequila Sunrise - Spanish Version has es\n",
      "OOOO Yo Quiero Fumar Mota has es\n",
      "XXXX 3 Lil’ Putos has no verses\n",
      "OOOO Tres Equis has es\n"
     ]
    },
    {
     "name": "stderr",
     "output_type": "stream",
     "text": [
      " 65%|██████▌   | 16233/24878 [02:49<01:18, 110.52it/s]"
     ]
    },
    {
     "name": "stdout",
     "output_type": "stream",
     "text": [
      "---- Strictly Hip-Hop Too many words in a line\n",
      "---- Make a Move Too many words in a line\n",
      "XXXX Hit ’em High has no verses\n",
      "XXXX Tequila (Tequila Sunrise) has no verses\n",
      "XXXX Can’t Get the Best of Me has no verses\n",
      "XXXX Legalize It has no verses\n",
      "OOOO Siempre Peligroso has es\n",
      "XXXX Latin Thugs has no verses\n",
      "OOOO No Entiendes La Onda (How I Could Just Kill A Man) has es\n"
     ]
    },
    {
     "name": "stderr",
     "output_type": "stream",
     "text": [
      " 65%|██████▌   | 16256/24878 [02:49<01:31, 94.19it/s] "
     ]
    },
    {
     "name": "stdout",
     "output_type": "stream",
     "text": [
      "OOOO Marijuana Locos has es\n",
      "XXXX What Go Around Come Around, Kid has no verses\n",
      "XXXX Muggs is Dead has no verses\n",
      "XXXX Break ’Em Off Some has no verses\n"
     ]
    },
    {
     "name": "stderr",
     "output_type": "stream",
     "text": [
      " 65%|██████▌   | 16287/24878 [02:50<01:32, 92.98it/s]"
     ]
    },
    {
     "name": "stdout",
     "output_type": "stream",
     "text": [
      "OOOO Loco In El Coco has es\n",
      "OOOO Yo Quiero Fumar (I Wanna Get High) has es\n",
      "XXXX Psycobetabuckdown has too many verses\n",
      "XXXX I Want To Get High has no verses\n",
      "OOOO Loco En El Coco (Insane In the Brain) has es\n",
      "OOOO Dr. Dedoverde has es\n",
      "OOOO Loco En El Coco has es\n",
      "XXXX Pass the Dutch has no verses\n",
      "OOOO Ilusiones has es\n"
     ]
    },
    {
     "name": "stderr",
     "output_type": "stream",
     "text": [
      " 66%|██████▌   | 16309/24878 [02:50<01:30, 94.55it/s]"
     ]
    },
    {
     "name": "stdout",
     "output_type": "stream",
     "text": [
      "OOOO Lowrider (Spanish Version) has es\n",
      "XXXX The Funky Cypress Hill Shit has too many verses\n",
      "XXXX Ultraviolet Dreams has no verses\n",
      "XXXX When the Sh-- Goes Down has no verses\n",
      "OOOO Marijuano Locos has es\n",
      "XXXX What U Want From Me has no verses\n"
     ]
    },
    {
     "name": "stderr",
     "output_type": "stream",
     "text": [
      " 66%|██████▌   | 16329/24878 [02:50<01:33, 91.46it/s]"
     ]
    },
    {
     "name": "stdout",
     "output_type": "stream",
     "text": [
      "OOOO Muévete has es\n",
      "XXXX Latino Lingo (Latin Lingo) has no verses\n",
      "OOOO Tu No Ajaunta has es\n",
      "OOOO Something For The Blunted has sk\n",
      "XXXX Can You Handle This has no verses\n",
      "XXXX Case Closed has no verses\n",
      "XXXX Marijuano Locos (Stoned Raiders) has no verses\n",
      "XXXX Real Thing has no verses\n"
     ]
    },
    {
     "name": "stderr",
     "output_type": "stream",
     "text": [
      " 66%|██████▌   | 16352/24878 [02:50<01:25, 100.28it/s]"
     ]
    },
    {
     "name": "stdout",
     "output_type": "stream",
     "text": [
      "XXXX LSD (Interval) has no verses\n",
      "XXXX Satao (Interval) has no verses\n",
      "OOOO Puercos has es\n",
      "XXXX Dr. Dedoverde (Dr. Greenthumb) has no verses\n",
      "XXXX (Rock) Superstar - Explicit LP Version has no verses\n",
      "XXXX Hits From The Bong (T-Ray’s Mix) has no verses\n",
      "XXXX Intellectual Dons has no verses\n",
      "XXXX Holy Mountain (Interval) has no verses\n",
      "XXXX Illusions (Harpsichord mix) has no verses\n",
      "XXXX Puercos (Pigs) has no verses\n"
     ]
    },
    {
     "name": "stderr",
     "output_type": "stream",
     "text": [
      " 66%|██████▌   | 16377/24878 [02:51<01:17, 110.29it/s]"
     ]
    },
    {
     "name": "stdout",
     "output_type": "stream",
     "text": [
      "XXXX Latin Thugs (Reggaeton mix) has no verses\n",
      "XXXX Bong Hit has no verses\n",
      "XXXX Weed Man (Bonus Track) has no verses\n",
      "XXXX Marijuana Locos [Spanish] by Cypress Hill has no verses\n",
      "XXXX Jack You Back has no verses\n",
      "XXXX Catastrophe has no verses\n",
      "XXXX Clash of the Titans / Dust has no verses\n",
      "OOOO No Pierdo Nada (Nothin’ To Lose) has es\n",
      "XXXX Lil Putos has no verses\n",
      "XXXX Dr. Greenthumb - Explicit LP Version has no verses\n",
      "XXXX Dead Man Tell No Tales has no verses\n",
      "XXXX Trouble - Explicit LP Version has no verses\n"
     ]
    },
    {
     "name": "stderr",
     "output_type": "stream",
     "text": [
      " 66%|██████▌   | 16410/24878 [02:51<01:06, 127.03it/s]"
     ]
    },
    {
     "name": "stdout",
     "output_type": "stream",
     "text": [
      "XXXX Battle of 2001 has no verses\n",
      "OOOO Ilusiones (illusions) has es\n",
      "XXXX The Funny Cypress Hill Shit has no verses\n",
      "XXXX The Phunky Feel One has no verses\n",
      "XXXX What’s Your Number? (Explicit album version) has no verses\n",
      "XXXX Number Seven has no verses\n",
      "XXXX (Goin’ All Out) Nothing To Lose has no verses\n",
      "XXXX Eulogy has no verses\n",
      "XXXX Killa Hill has no verses\n",
      "XXXX Throw Your Set in the Air (album version) has no verses\n",
      "OOOO No Pierdo Nada has es\n",
      "XXXX Smuggler’s blues - japanese bonus track has no verses\n",
      "XXXX How I Could Just Kill a Man (The Killer mix / dirty version) has no verses\n",
      "XXXX Champions has no verses\n",
      "XXXX Elephants On Acid has no verses\n",
      "XXXX Pigs (clean vocal) has no verses\n",
      "XXXX Get Higher has no verses\n",
      "XXXX Real Estate (LP version) has no verses\n",
      "XXXX Tequila Sunrise (clean LP version) has no verses\n",
      "XXXX Can U Handle This has no verses\n",
      "XXXX Psychodelic Vision (Explicit) has no verses\n",
      "XXXX Hand on the Pump (LP version) has no verses\n",
      "OOOO Muevete (Make a Move has es\n",
      "XXXX Another Victory (LP version) has no verses\n",
      "XXXX Hand on the Pump (extended mix) has no verses\n",
      "XXXX Boom Biddy Bye Bye (LP version) has no verses\n",
      "XXXX Latin Lingo (Prince Paul Mix) has no verses\n",
      "XXXX Latin Lingo (Blackout mix) has no verses\n",
      "XXXX Champions (clean version) has no verses\n",
      "XXXX What’s Your Number? (Explicit a cappella) has no verses\n",
      "XXXX Dr. Greenthumb (LP version) has no verses\n",
      "XXXX The Phuncky Feel One (LP version) has no verses\n"
     ]
    },
    {
     "name": "stderr",
     "output_type": "stream",
     "text": [
      " 66%|██████▌   | 16428/24878 [02:51<01:01, 137.23it/s]"
     ]
    },
    {
     "name": "stdout",
     "output_type": "stream",
     "text": [
      "XXXX What’s Your Number? (clean album version) has no verses\n",
      "XXXX Tu No Ajaunta (Checkmate) has no verses\n",
      "XXXX Audio X (clean version) has no verses\n",
      "XXXX Jack U Back has no verses\n",
      "XXXX Latin Thugs (clean album version) has no verses\n",
      "XXXX Latin Thugs (dirty a cappella) has no verses\n",
      "XXXX The Phuncky Feel One (extended version) has no verses\n",
      "---- I’ll Hurt You Too many words in a line\n"
     ]
    },
    {
     "name": "stderr",
     "output_type": "stream",
     "text": [
      " 66%|██████▌   | 16467/24878 [02:51<01:28, 95.07it/s] "
     ]
    },
    {
     "name": "stdout",
     "output_type": "stream",
     "text": [
      "---- Holla Too many words in a line\n",
      "XXXX Fastest rap ever (new 2011) has no verses\n"
     ]
    },
    {
     "name": "stderr",
     "output_type": "stream",
     "text": [
      " 66%|██████▋   | 16498/24878 [02:52<01:35, 87.74it/s]"
     ]
    },
    {
     "name": "stdout",
     "output_type": "stream",
     "text": [
      "XXXX Give It to Me has no verses\n",
      "XXXX Still Shining has no verses\n"
     ]
    },
    {
     "name": "stderr",
     "output_type": "stream",
     "text": [
      " 66%|██████▋   | 16536/24878 [02:52<01:34, 88.41it/s]"
     ]
    },
    {
     "name": "stdout",
     "output_type": "stream",
     "text": [
      "XXXX 60 seconds assasin has no verses\n"
     ]
    },
    {
     "name": "stderr",
     "output_type": "stream",
     "text": [
      " 67%|██████▋   | 16565/24878 [02:52<01:31, 90.59it/s]"
     ]
    },
    {
     "name": "stdout",
     "output_type": "stream",
     "text": [
      "XXXX How We Roll has no verses\n",
      "XXXX Truck Volume has no verses\n",
      "XXXX Bounce has no verses\n"
     ]
    },
    {
     "name": "stderr",
     "output_type": "stream",
     "text": [
      " 67%|██████▋   | 16585/24878 [02:53<01:33, 88.92it/s]"
     ]
    },
    {
     "name": "stdout",
     "output_type": "stream",
     "text": [
      "XXXX Flipmode Squad Meets The Conglomerate has no verses\n",
      "XXXX Wine & Go Down has too many verses\n",
      "XXXX We Got What You Want has no verses\n",
      "XXXX Coming Off has no verses\n"
     ]
    },
    {
     "name": "stderr",
     "output_type": "stream",
     "text": [
      " 67%|██████▋   | 16614/24878 [02:53<01:29, 92.00it/s]"
     ]
    },
    {
     "name": "stdout",
     "output_type": "stream",
     "text": [
      "XXXX I Got Bass has no verses\n",
      "XXXX The Conglomerate has no verses\n"
     ]
    },
    {
     "name": "stderr",
     "output_type": "stream",
     "text": [
      " 67%|██████▋   | 16634/24878 [02:53<01:32, 89.29it/s]"
     ]
    },
    {
     "name": "stdout",
     "output_type": "stream",
     "text": [
      "XXXX For the nasty has no verses\n",
      "XXXX Fuckin’ Problems has no verses\n",
      "XXXX Put Your Hands Where My Eyes Could See by Busta Rhymes has no verses\n"
     ]
    },
    {
     "name": "stderr",
     "output_type": "stream",
     "text": [
      " 67%|██████▋   | 16657/24878 [02:54<01:24, 97.86it/s]"
     ]
    },
    {
     "name": "stdout",
     "output_type": "stream",
     "text": [
      "XXXX Arab money - dirty has no verses\n",
      "XXXX No Worries has no verses\n",
      "XXXX Blown has no verses\n",
      "XXXX Cannon* has no verses\n",
      "XXXX Fright Night has no verses\n",
      "XXXX All Gold Everything has no verses\n",
      "OOOO Calm Down(Persian Translation) has cy\n",
      "XXXX The End Of The World has no verses\n",
      "XXXX Go n get it has no verses\n",
      "XXXX Adorn has no verses\n",
      "XXXX Rock Cocaine has no verses\n",
      "XXXX Put Your Hands Where My Eyes Could See (Human Action Network mix) has no verses\n",
      "XXXX I Know Yall Mad has no verses\n",
      "XXXX Light Up A Fire has no verses\n",
      "XXXX C’mon All My Niggaz, C’mon All My Bitches has no verses\n",
      "XXXX Shit Done Got Real (feat. Ace Hood & Yelawolf) has no verses\n",
      "XXXX Hail Mary has no verses\n",
      "XXXX La La (feat. Tity Boy) has no verses\n"
     ]
    },
    {
     "name": "stderr",
     "output_type": "stream",
     "text": [
      " 67%|██████▋   | 16692/24878 [02:54<01:07, 121.41it/s]"
     ]
    },
    {
     "name": "stdout",
     "output_type": "stream",
     "text": [
      "XXXX You Ain’t F***in’ Wit Me has no verses\n",
      "XXXX My Type Of Party has no verses\n",
      "XXXX Gimme some more - amended version has no verses\n",
      "XXXX Elevator Music has no verses\n",
      "XXXX Fireworkz (feat. ti, big sean & tyrese) has no verses\n",
      "XXXX Freak Show has no verses\n",
      "XXXX Cash Money / Young Mula has no verses\n",
      "XXXX You Dont Want None has no verses\n",
      "XXXX Hustler’s anthem 09 - dirty has no verses\n",
      "XXXX Turnt up (feat. lil twist) has no verses\n",
      "XXXX Takin’ What’s Mine has no verses\n",
      "XXXX What The F*** You Want!! has no verses\n",
      "XXXX Light Your Ass on Fire (club mix) has no verses\n",
      "XXXX Just Chill has no verses\n",
      "XXXX Hot sh** makin’ ya bounce has no verses\n",
      "XXXX What You Know About It has no verses\n",
      "XXXX Turn It Up [Clean Version] has no verses\n",
      "XXXX Pardon My Ways has no verses\n",
      "XXXX Lay ’Em To Rest has no verses\n",
      "XXXX We still stand ( sos for haiti ) has no verses\n",
      "XXXX Suicide Bounce has no verses\n",
      "XXXX Best That Ever Did It has no verses\n",
      "XXXX A** on your shoulders has no verses\n",
      "XXXX It’s a Party (LP version - clean feat. Zhane) has no verses\n",
      "XXXX Ill Vibe (LP version clean) has no verses\n"
     ]
    },
    {
     "name": "stderr",
     "output_type": "stream",
     "text": [
      " 67%|██████▋   | 16724/24878 [02:54<01:06, 123.14it/s]"
     ]
    },
    {
     "name": "stdout",
     "output_type": "stream",
     "text": [
      "XXXX Things We Be Doin’ For Money has no verses\n",
      "XXXX High has no verses\n",
      "XXXX The whole world lookin’ at me [clean version] has no verses\n",
      "XXXX Rhymes Galore (clean version) has no verses\n",
      "XXXX How We Do It Over Here (Album Version (Explicit)) has no verses\n",
      "XXXX Wife in law - alternate album version has no verses\n",
      "XXXX How We Do It Over Here (LP version) has too many verses\n",
      "XXXX Things We Be Doin’ For Money, Pt. 1 has no verses\n",
      "---- Tilt Too many words in a line\n",
      "XXXX Track 16 has no verses\n",
      "XXXX Back to the house has no verses\n"
     ]
    },
    {
     "name": "stderr",
     "output_type": "stream",
     "text": [
      " 67%|██████▋   | 16737/24878 [02:54<01:16, 106.23it/s]"
     ]
    },
    {
     "name": "stdout",
     "output_type": "stream",
     "text": [
      "XXXX Red Cup has too many verses\n",
      "XXXX Bitch has too many verses\n"
     ]
    },
    {
     "name": "stderr",
     "output_type": "stream",
     "text": [
      " 67%|██████▋   | 16771/24878 [02:54<01:27, 92.67it/s] "
     ]
    },
    {
     "name": "stdout",
     "output_type": "stream",
     "text": [
      "---- The Art of Story Tellin’ Too many words in a line\n"
     ]
    },
    {
     "name": "stderr",
     "output_type": "stream",
     "text": [
      " 68%|██████▊   | 16811/24878 [02:55<01:25, 94.50it/s]"
     ]
    },
    {
     "name": "stdout",
     "output_type": "stream",
     "text": [
      "XXXX Lieutenant Roast a Botch has too many verses\n",
      "XXXX Wasted has no verses\n",
      "XXXX Chip in Da Phone has no verses\n",
      "XXXX Scorpio has no verses\n"
     ]
    },
    {
     "name": "stderr",
     "output_type": "stream",
     "text": [
      " 68%|██████▊   | 16841/24878 [02:55<01:28, 91.12it/s]"
     ]
    },
    {
     "name": "stdout",
     "output_type": "stream",
     "text": [
      "XXXX Come On has no verses\n",
      "XXXX 40 Water has no verses\n",
      "XXXX Mack Minister has no verses\n",
      "XXXX Ballin’ Outta Control has too many verses\n"
     ]
    },
    {
     "name": "stderr",
     "output_type": "stream",
     "text": [
      " 68%|██████▊   | 16872/24878 [02:56<01:26, 93.01it/s]"
     ]
    },
    {
     "name": "stdout",
     "output_type": "stream",
     "text": [
      "XXXX Bootsee has no verses\n",
      "XXXX Dey Ain’t No has no verses\n",
      "XXXX Flashin’ has no verses\n",
      "XXXX Just Fuckin has too many verses\n"
     ]
    },
    {
     "name": "stderr",
     "output_type": "stream",
     "text": [
      " 68%|██████▊   | 16903/24878 [02:56<01:24, 94.16it/s]"
     ]
    },
    {
     "name": "stdout",
     "output_type": "stream",
     "text": [
      "---- Mr. Flamboyant 2K11 Too many words in a line\n",
      "XXXX It’s On has too many verses\n",
      "XXXX Trump Change has no verses\n"
     ]
    },
    {
     "name": "stderr",
     "output_type": "stream",
     "text": [
      " 68%|██████▊   | 16943/24878 [02:56<01:25, 92.74it/s]"
     ]
    },
    {
     "name": "stdout",
     "output_type": "stream",
     "text": [
      "XXXX Earl That’s Yo’ Life has too many verses\n",
      "---- Paint The Picture Too many words in a line\n",
      "---- Rep Yo City Too many words in a line\n"
     ]
    },
    {
     "name": "stderr",
     "output_type": "stream",
     "text": [
      " 68%|██████▊   | 16984/24878 [02:57<01:28, 89.15it/s]"
     ]
    },
    {
     "name": "stdout",
     "output_type": "stream",
     "text": [
      "---- Don’t Shoot the Messenger Too many words in a line\n"
     ]
    },
    {
     "name": "stderr",
     "output_type": "stream",
     "text": [
      " 68%|██████▊   | 17013/24878 [02:57<01:26, 91.07it/s]"
     ]
    },
    {
     "name": "stdout",
     "output_type": "stream",
     "text": [
      "XXXX One More Gen has no verses\n",
      "XXXX Pablo has no verses\n",
      "XXXX Smebbin’ has no verses\n"
     ]
    },
    {
     "name": "stderr",
     "output_type": "stream",
     "text": [
      " 69%|██████▊   | 17044/24878 [02:57<01:22, 95.02it/s]"
     ]
    },
    {
     "name": "stdout",
     "output_type": "stream",
     "text": [
      "---- What You Smokin’ On Too many words in a line\n",
      "XXXX Nigga Shit has too many verses\n",
      "---- Born in the Struggle Too many words in a line\n",
      "XXXX Money Scheme has too many verses\n",
      "XXXX Give Me Love has no verses\n",
      "---- The End Too many words in a line\n",
      "XXXX Yay Deep has no verses\n",
      "XXXX Serious has no verses\n"
     ]
    },
    {
     "name": "stderr",
     "output_type": "stream",
     "text": [
      " 69%|██████▊   | 17074/24878 [02:58<01:25, 91.54it/s]"
     ]
    },
    {
     "name": "stdout",
     "output_type": "stream",
     "text": [
      "XXXX Every Year has no verses\n",
      "XXXX Outta Bounds has no verses\n"
     ]
    },
    {
     "name": "stderr",
     "output_type": "stream",
     "text": [
      " 69%|██████▊   | 17094/24878 [02:58<01:23, 93.13it/s]"
     ]
    },
    {
     "name": "stdout",
     "output_type": "stream",
     "text": [
      "XXXX Lace Me Up has too many verses\n",
      "---- Lightweight Jammin’ Too many words in a line\n",
      "---- Let Him Have It Too many words in a line\n",
      "XXXX Fuckin’ They Nose has too many verses\n"
     ]
    },
    {
     "name": "stderr",
     "output_type": "stream",
     "text": [
      " 69%|██████▉   | 17114/24878 [02:58<01:27, 89.04it/s]"
     ]
    },
    {
     "name": "stdout",
     "output_type": "stream",
     "text": [
      "XXXX I Like What You Do to Me has too many verses\n",
      "XXXX Doin’ Dirt Bad has no verses\n"
     ]
    },
    {
     "name": "stderr",
     "output_type": "stream",
     "text": [
      " 69%|██████▉   | 17135/24878 [02:58<01:22, 93.75it/s]"
     ]
    },
    {
     "name": "stdout",
     "output_type": "stream",
     "text": [
      "XXXX Ripped has no verses\n",
      "---- This Shit Hard Too many words in a line\n",
      "XXXX Clown Wit It has no verses\n",
      "XXXX Gargoyle  Serenade has no verses\n"
     ]
    },
    {
     "name": "stderr",
     "output_type": "stream",
     "text": [
      " 69%|██████▉   | 17165/24878 [02:59<01:32, 83.00it/s]"
     ]
    },
    {
     "name": "stdout",
     "output_type": "stream",
     "text": [
      "XXXX Rapper’s Ball (clean) has no verses\n",
      "---- Get Loose Too many words in a line\n"
     ]
    },
    {
     "name": "stderr",
     "output_type": "stream",
     "text": [
      " 69%|██████▉   | 17185/24878 [02:59<01:30, 85.05it/s]"
     ]
    },
    {
     "name": "stdout",
     "output_type": "stream",
     "text": [
      "XXXX Dirty Deeds has no verses\n",
      "XXXX The Pack Attack has no verses\n",
      "XXXX Born In It has no verses\n",
      "XXXX Go Girl has no verses\n"
     ]
    },
    {
     "name": "stderr",
     "output_type": "stream",
     "text": [
      " 69%|██████▉   | 17213/24878 [02:59<01:34, 81.31it/s]"
     ]
    },
    {
     "name": "stdout",
     "output_type": "stream",
     "text": [
      "XXXX Brownie Points has too many verses\n",
      "XXXX Takin’ Em Back has no verses\n"
     ]
    },
    {
     "name": "stderr",
     "output_type": "stream",
     "text": [
      " 69%|██████▉   | 17223/24878 [03:00<01:29, 85.43it/s]"
     ]
    },
    {
     "name": "stdout",
     "output_type": "stream",
     "text": [
      "XXXX Tanji has no verses\n",
      "---- Movin’ Organized Business (M.O.B.) Too many words in a line\n",
      "XXXX Just F***in has too many verses\n"
     ]
    },
    {
     "name": "stderr",
     "output_type": "stream",
     "text": [
      " 69%|██████▉   | 17248/24878 [03:00<01:41, 75.04it/s]"
     ]
    },
    {
     "name": "stdout",
     "output_type": "stream",
     "text": [
      "XXXX Do you remember? - feat. kurupt & battlecat has no verses\n",
      "XXXX Rappers’ Ball [LP Version] has no verses\n"
     ]
    },
    {
     "name": "stderr",
     "output_type": "stream",
     "text": [
      " 70%|██████▉   | 17294/24878 [03:00<01:27, 86.86it/s]"
     ]
    },
    {
     "name": "stdout",
     "output_type": "stream",
     "text": [
      "XXXX We Run N.Y. has too many verses\n",
      "XXXX Rockafella (R.I.P.) has no verses\n",
      "XXXX Well All Rite Cha has too many verses\n"
     ]
    },
    {
     "name": "stderr",
     "output_type": "stream",
     "text": [
      " 70%|██████▉   | 17327/24878 [03:01<01:19, 94.65it/s]"
     ]
    },
    {
     "name": "stdout",
     "output_type": "stream",
     "text": [
      "XXXX Brick City Mashin’! has no verses\n",
      "XXXX Jersey Yo! has no verses\n",
      "XXXX Slide and Rock On has too many verses\n",
      "XXXX D.O.G.S. has no verses\n",
      "XXXX I Don’t Kare has no verses\n"
     ]
    },
    {
     "name": "stderr",
     "output_type": "stream",
     "text": [
      " 70%|██████▉   | 17348/24878 [03:01<01:18, 96.01it/s]"
     ]
    },
    {
     "name": "stdout",
     "output_type": "stream",
     "text": [
      "OOOO Zugga has hr\n",
      "---- News Break Too many words in a line\n",
      "XXXX Diggy Doc has no verses\n",
      "XXXX Funky Uncles has no verses\n",
      "XXXX Welcome 2 da Bricks has no verses\n"
     ]
    },
    {
     "name": "stderr",
     "output_type": "stream",
     "text": [
      " 70%|██████▉   | 17371/24878 [03:01<01:17, 97.13it/s] "
     ]
    },
    {
     "name": "stdout",
     "output_type": "stream",
     "text": [
      "XXXX Psycho Dub has no verses\n"
     ]
    },
    {
     "name": "stderr",
     "output_type": "stream",
     "text": [
      " 70%|██████▉   | 17394/24878 [03:01<01:17, 96.67it/s] "
     ]
    },
    {
     "name": "stdout",
     "output_type": "stream",
     "text": [
      "XXXX Muh-Fucka has no verses\n",
      "XXXX Beet Drop has no verses\n"
     ]
    },
    {
     "name": "stderr",
     "output_type": "stream",
     "text": [
      " 70%|██████▉   | 17414/24878 [03:02<01:23, 89.12it/s]"
     ]
    },
    {
     "name": "stdout",
     "output_type": "stream",
     "text": [
      "XXXX Down Wit Us has no verses\n",
      "XXXX Funkorama (Funk Doctor mix) has no verses\n",
      "XXXX The Art Of Rap has no verses\n",
      "XXXX B.M.I.A has no verses\n",
      "XXXX Oh My has no verses\n"
     ]
    },
    {
     "name": "stderr",
     "output_type": "stream",
     "text": [
      " 70%|███████   | 17438/24878 [03:02<01:17, 95.75it/s]"
     ]
    },
    {
     "name": "stdout",
     "output_type": "stream",
     "text": [
      "XXXX Fly has no verses\n",
      "XXXX The Christian Song has no verses\n",
      "XXXX We Got da Satellite Van! has no verses\n",
      "XXXX Come And Get It has no verses\n",
      "XXXX Jerry Swinger Stickup has no verses\n",
      "XXXX Muh-F+++a has no verses\n",
      "XXXX Coc Back (dirty) has no verses\n",
      "XXXX Laser has no verses\n",
      "XXXX Coc Back (clean) has no verses\n"
     ]
    },
    {
     "name": "stderr",
     "output_type": "stream",
     "text": [
      " 70%|███████   | 17469/24878 [03:02<01:19, 93.10it/s]"
     ]
    },
    {
     "name": "stdout",
     "output_type": "stream",
     "text": [
      "---- A Message from Yasiin Bey [via Kanye West] Too many words in a line\n",
      "XXXX No Hay Nada Más has no verses\n",
      "XXXX The Rape Over has no verses\n",
      "XXXX Kalifornia has no verses\n"
     ]
    },
    {
     "name": "stderr",
     "output_type": "stream",
     "text": [
      " 70%|███████   | 17490/24878 [03:03<01:17, 95.71it/s]"
     ]
    },
    {
     "name": "stdout",
     "output_type": "stream",
     "text": [
      "XXXX May-December has no verses\n",
      "XXXX Pretty Dancer has no verses\n",
      "XXXX Travellin’ Man has no verses\n"
     ]
    },
    {
     "name": "stderr",
     "output_type": "stream",
     "text": [
      " 70%|███████   | 17524/24878 [03:03<01:11, 103.27it/s]"
     ]
    },
    {
     "name": "stdout",
     "output_type": "stream",
     "text": [
      "XXXX An Open Letter From Mos Def has no verses\n",
      "XXXX Murder of a Teenage Life has no verses\n",
      "XXXX War has no verses\n",
      "XXXX Blue Black Jack has no verses\n",
      "XXXX Bey has no verses\n",
      "XXXX Sun, Moon, Stars has no verses\n",
      "XXXX Mathematics (dirty) has no verses\n",
      "XXXX There Is a Way has no verses\n"
     ]
    },
    {
     "name": "stderr",
     "output_type": "stream",
     "text": [
      " 70%|███████   | 17535/24878 [03:03<01:18, 93.73it/s] "
     ]
    },
    {
     "name": "stdout",
     "output_type": "stream",
     "text": [
      "---- All Praise Due Too many words in a line\n",
      "XXXX Freaky Black Greetings has no verses\n",
      "XXXX Perfect Timing has no verses\n",
      "XXXX White Drapes has no verses\n",
      "XXXX Invisible Game has no verses\n"
     ]
    },
    {
     "name": "stderr",
     "output_type": "stream",
     "text": [
      " 71%|███████   | 17556/24878 [03:03<01:17, 95.05it/s]"
     ]
    },
    {
     "name": "stdout",
     "output_type": "stream",
     "text": [
      "XXXX Brown Sugar has no verses\n",
      "XXXX Quiet Dog has no verses\n",
      "XXXX Very Well has no verses\n",
      "XXXX Dream Study has no verses\n",
      "XXXX Brown Sugar (Raw) has no verses\n",
      "XXXX Beauty In The Dark (Groove With You) has no verses\n",
      "XXXX No Particular Place to Go has no verses\n",
      "XXXX One Four Love Pt. 1 has too many verses\n",
      "XXXX Oh no - (best of decade i version) has no verses\n",
      "XXXX Nadine has no verses\n",
      "XXXX Hurricane has no verses\n",
      "XXXX Hemp has no verses\n",
      "XXXX Come On has no verses\n",
      "XXXX Jam on It (main mix) has no verses\n",
      "XXXX Ms. Fat Booty - (best of decade I version) has no verses\n",
      "XXXX Mathematics (a cappella) has no verses\n",
      "XXXX HYMN has no verses\n"
     ]
    },
    {
     "name": "stderr",
     "output_type": "stream",
     "text": [
      " 71%|███████   | 17589/24878 [03:03<01:01, 119.35it/s]"
     ]
    },
    {
     "name": "stdout",
     "output_type": "stream",
     "text": [
      "XXXX Bright As The Stars has no verses\n",
      "XXXX Destination Love has no verses\n",
      "XXXX If You Can Huh! You Can Hear (original version) has no verses\n",
      "XXXX Mathematics (12\" mix) has no verses\n",
      "XXXX Promised Land has no verses\n",
      "XXXX Waves has no verses\n",
      "XXXX BINGWA has no verses\n",
      "XXXX Day Trippers has no verses\n",
      "XXXX PGK-A has no verses\n",
      "XXXX Can U C The Pride In The Panther (Female Version) has no verses\n",
      "XXXX FOMO has no verses\n",
      "XXXX Caldonia has no verses\n",
      "XXXX I’ve Committed Murder has no verses\n",
      "XXXX Universal Magnetic - (best of decade I version) has no verses\n",
      "XXXX Jam on It (Extra Super extended disco mix) has no verses\n",
      "OOOO There Is a Way (LP version) has fr\n",
      "XXXX Turnt has no verses\n"
     ]
    },
    {
     "name": "stderr",
     "output_type": "stream",
     "text": [
      " 71%|███████   | 17635/24878 [03:04<01:22, 88.12it/s] "
     ]
    },
    {
     "name": "stdout",
     "output_type": "stream",
     "text": [
      "XXXX The I.N.C. Ride has no verses\n",
      "XXXX I Like Dat has too many verses\n"
     ]
    },
    {
     "name": "stderr",
     "output_type": "stream",
     "text": [
      " 71%|███████   | 17663/24878 [03:04<01:26, 83.58it/s]"
     ]
    },
    {
     "name": "stdout",
     "output_type": "stream",
     "text": [
      "XXXX Music Man has no verses\n",
      "---- I Refuse Too many words in a line\n",
      "---- The B-Side Too many words in a line\n",
      "XXXX Take A Look Around has no verses\n",
      "XXXX Jack B. Nimble has no verses\n"
     ]
    },
    {
     "name": "stderr",
     "output_type": "stream",
     "text": [
      " 71%|███████   | 17681/24878 [03:04<01:26, 82.80it/s]"
     ]
    },
    {
     "name": "stdout",
     "output_type": "stream",
     "text": [
      "---- The Other Side of Town Too many words in a line\n",
      "XXXX Letter to the Better has no verses\n"
     ]
    },
    {
     "name": "stderr",
     "output_type": "stream",
     "text": [
      " 71%|███████   | 17703/24878 [03:05<01:19, 90.31it/s]"
     ]
    },
    {
     "name": "stdout",
     "output_type": "stream",
     "text": [
      "XXXX Ain’t U Da Masta has no verses\n",
      "XXXX Goodbye Lisa has too many verses\n",
      "XXXX Movin’ On has no verses\n",
      "XXXX Maybe Next Time has no verses\n",
      "XXXX NY Confidential has no verses\n"
     ]
    },
    {
     "name": "stderr",
     "output_type": "stream",
     "text": [
      " 71%|███████▏  | 17726/24878 [03:05<01:16, 93.12it/s]"
     ]
    },
    {
     "name": "stdout",
     "output_type": "stream",
     "text": [
      "XXXX Maintain has no verses\n",
      "XXXX N.F.L. (Not For Long) has no verses\n",
      "XXXX Outtakes has no verses\n",
      "XXXX Watching The Game has no verses\n",
      "XXXX Classroom has no verses\n",
      "XXXX The Outcome has no verses\n",
      "XXXX Store Frontin’ has no verses\n"
     ]
    },
    {
     "name": "stderr",
     "output_type": "stream",
     "text": [
      " 71%|███████▏  | 17754/24878 [03:05<01:27, 81.55it/s]"
     ]
    },
    {
     "name": "stdout",
     "output_type": "stream",
     "text": [
      "---- Pussycat Too many words in a line\n"
     ]
    },
    {
     "name": "stderr",
     "output_type": "stream",
     "text": [
      " 72%|███████▏  | 17796/24878 [03:06<01:14, 95.15it/s]"
     ]
    },
    {
     "name": "stdout",
     "output_type": "stream",
     "text": [
      "XXXX Joy has too many verses\n",
      "XXXX Shake Your Pom Pom has no verses\n",
      "XXXX You Don’t Know has too many verses\n"
     ]
    },
    {
     "name": "stderr",
     "output_type": "stream",
     "text": [
      " 72%|███████▏  | 17829/24878 [03:06<01:09, 101.44it/s]"
     ]
    },
    {
     "name": "stdout",
     "output_type": "stream",
     "text": [
      "---- Don’t Be Cruel Too many words in a line\n",
      "XXXX Pass The Dutch has no verses\n",
      "XXXX Hurt Sumthin has no verses\n",
      "XXXX P***ycat has no verses\n",
      "XXXX Who You Gonna Call has no verses\n",
      "XXXX Big Spender has no verses\n",
      "XXXX For My People has no verses\n",
      "XXXX Don’t Be Coming (In My Face) has no verses\n"
     ]
    },
    {
     "name": "stderr",
     "output_type": "stream",
     "text": [
      " 72%|███████▏  | 17859/24878 [03:06<01:00, 116.65it/s]"
     ]
    },
    {
     "name": "stdout",
     "output_type": "stream",
     "text": [
      "XXXX Lick Shots - Original has no verses\n",
      "XXXX Drop the Bomb has no verses\n",
      "XXXX Wake Up - Amended feat. Jay-Z has no verses\n",
      "XXXX Shake that has no verses\n",
      "XXXX Watcha Gonna Do has no verses\n",
      "XXXX Izzy izzy ahh - amended version has no verses\n",
      "XXXX Swat Dat Fly has no verses\n",
      "XXXX One Minute Man f/Trina has no verses\n",
      "XXXX 9th Inning - With Timbaland has no verses\n",
      "XXXX Ex has no verses\n",
      "XXXX Pass That Dutch - Respect M.E. Version has no verses\n",
      "XXXX Take Away (album version) has no verses\n",
      "XXXX You Don’t Know Me has no verses\n"
     ]
    },
    {
     "name": "stderr",
     "output_type": "stream",
     "text": [
      " 72%|███████▏  | 17886/24878 [03:06<01:00, 115.45it/s]"
     ]
    },
    {
     "name": "stdout",
     "output_type": "stream",
     "text": [
      "XXXX Hottest In The Game has no verses\n",
      "XXXX To Zion has too many verses\n"
     ]
    },
    {
     "name": "stderr",
     "output_type": "stream",
     "text": [
      " 72%|███████▏  | 17913/24878 [03:07<01:00, 115.01it/s]"
     ]
    },
    {
     "name": "stdout",
     "output_type": "stream",
     "text": [
      "XXXX Motives and Thoughts has no verses\n",
      "XXXX Black Rage has no verses\n",
      "---- I’ve Got Life Too many words in a line\n",
      "XXXX Killing Me Softly has no verses\n",
      "XXXX Just Like Water has no verses\n",
      "XXXX Doo Wop (That Thing) (Gordon’s dub) has no verses\n",
      "XXXX Open Tumblr Letter on Racism has no verses\n",
      "XXXX Lose Myself has no verses\n",
      "XXXX Freedom Time has no verses\n",
      "XXXX Tumblr Post has no verses\n"
     ]
    },
    {
     "name": "stderr",
     "output_type": "stream",
     "text": [
      " 72%|███████▏  | 17941/24878 [03:07<00:55, 124.74it/s]"
     ]
    },
    {
     "name": "stdout",
     "output_type": "stream",
     "text": [
      "XXXX Nothing Even Matters (Feat D’Angelo) has no verses\n",
      "XXXX War In The Mind has no verses\n",
      "---- Conform To Love Too many words in a line\n",
      "XXXX #LetterOfRecognition has no verses\n",
      "XXXX Wild Is the Wind has no verses\n",
      "OOOO Ne Me Quitte Pas has fr\n",
      "XXXX African Mailman has no verses\n",
      "XXXX Little Drummer Boy has no verses\n",
      "XXXX Thank You Letter has no verses\n",
      "XXXX Response to Accusations on “Neurotic Society” has no verses\n"
     ]
    },
    {
     "name": "stderr",
     "output_type": "stream",
     "text": [
      " 72%|███████▏  | 17991/24878 [03:07<01:00, 113.79it/s]"
     ]
    },
    {
     "name": "stdout",
     "output_type": "stream",
     "text": [
      "XXXX Noodles Pt. 1 has too many verses\n",
      "XXXX Born Chamber has no verses\n",
      "XXXX Nehanda and Cream has too many verses\n",
      "XXXX Part 2 has no verses\n",
      "XXXX Silverbacks (dirty) has no verses\n",
      "XXXX Love Spell (Unreleased O.G. mix) has no verses\n"
     ]
    },
    {
     "name": "stderr",
     "output_type": "stream",
     "text": [
      " 72%|███████▏  | 18014/24878 [03:08<01:11, 95.73it/s] "
     ]
    },
    {
     "name": "stdout",
     "output_type": "stream",
     "text": [
      "---- How’s It Goin’ Down Too many words in a line\n"
     ]
    },
    {
     "name": "stderr",
     "output_type": "stream",
     "text": [
      " 72%|███████▏  | 18034/24878 [03:08<01:17, 88.57it/s]"
     ]
    },
    {
     "name": "stdout",
     "output_type": "stream",
     "text": [
      "XXXX The Rain has no verses\n",
      "XXXX A ’Yo Kato has no verses\n",
      "XXXX Prayer III has no verses\n"
     ]
    },
    {
     "name": "stderr",
     "output_type": "stream",
     "text": [
      " 73%|███████▎  | 18065/24878 [03:08<01:11, 94.77it/s]"
     ]
    },
    {
     "name": "stdout",
     "output_type": "stream",
     "text": [
      "XXXX Party Up has no verses\n",
      "---- The Professional Too many words in a line\n",
      "XXXX The Prayer V has no verses\n",
      "XXXX Don’t Gotta Go Home has too many verses\n"
     ]
    },
    {
     "name": "stderr",
     "output_type": "stream",
     "text": [
      " 73%|███████▎  | 18086/24878 [03:08<01:13, 92.35it/s]"
     ]
    },
    {
     "name": "stdout",
     "output_type": "stream",
     "text": [
      "XXXX It’s Dark And Hell Is Hot has no verses\n",
      "XXXX Shit Don’t Change has too many verses\n",
      "XXXX Catz Don’t Know has no verses\n"
     ]
    },
    {
     "name": "stderr",
     "output_type": "stream",
     "text": [
      "                                                     "
     ]
    },
    {
     "name": "stdout",
     "output_type": "stream",
     "text": [
      "XXXX It’s On has no verses\n",
      "XXXX School Street has no verses\n",
      "---- On Fighting George Zimmerman Too many words in a line\n",
      "XXXX The Prayer IV has no verses\n",
      "---- Solider Too many words in a line\n"
     ]
    },
    {
     "name": "stderr",
     "output_type": "stream",
     "text": [
      " 73%|███████▎  | 18130/24878 [03:09<01:11, 94.34it/s]"
     ]
    },
    {
     "name": "stdout",
     "output_type": "stream",
     "text": [
      "XXXX Bad Guys (Shoopac Mix) has no verses\n"
     ]
    },
    {
     "name": "stderr",
     "output_type": "stream",
     "text": [
      " 73%|███████▎  | 18152/24878 [03:09<01:08, 98.73it/s]"
     ]
    },
    {
     "name": "stdout",
     "output_type": "stream",
     "text": [
      "XXXX It’ll Be Alright has no verses\n",
      "---- Spellbound Too many words in a line\n",
      "XXXX Up In Here has no verses\n",
      "XXXX What You Want has no verses\n",
      "XXXX Go To Sleep has no verses\n"
     ]
    },
    {
     "name": "stderr",
     "output_type": "stream",
     "text": [
      " 73%|███████▎  | 18179/24878 [03:09<00:59, 112.56it/s]"
     ]
    },
    {
     "name": "stdout",
     "output_type": "stream",
     "text": [
      "XXXX 56 Bars has no verses\n",
      "XXXX It’s A Problem has no verses\n",
      "XXXX Put Em Up has no verses\n",
      "XXXX Tell Me How U Feelin’ has no verses\n",
      "XXXX Ghetto Life has no verses\n",
      "XXXX Scenario 2000 has no verses\n",
      "XXXX Down Bottom has no verses\n",
      "XXXX Mary J. Blige Diss has no verses\n",
      "XXXX One More Night has no verses\n",
      "XXXX Give ’Em What They Want has no verses\n",
      "XXXX Let Me Be Your Angel has no verses\n",
      "XXXX No Love For Me has no verses\n",
      "XXXX Murdergram has no verses\n",
      "XXXX King Thing has no verses\n",
      "XXXX Baby Mother has no verses\n"
     ]
    },
    {
     "name": "stderr",
     "output_type": "stream",
     "text": [
      " 73%|███████▎  | 18208/24878 [03:10<00:53, 123.65it/s]"
     ]
    },
    {
     "name": "stdout",
     "output_type": "stream",
     "text": [
      "XXXX Right Or Wrong has no verses\n",
      "XXXX Gonna Get Mine has no verses\n",
      "XXXX Bug Out has no verses\n",
      "XXXX I’m Gonna Win has no verses\n",
      "XXXX No Sunshine (Album Version) has no verses\n",
      "XXXX I Got Your Back has no verses\n",
      "XXXX I’m Gonna Start This has no verses\n",
      "XXXX X Goin’ Give It To Ya has no verses\n",
      "XXXX Frankenstein has no verses\n",
      "XXXX Make A Move (Original) has no verses\n",
      "XXXX Fallin’ has no verses\n",
      "XXXX Sleep Til I’m Dead has no verses\n",
      "XXXX Against The Grain has no verses\n",
      "XXXX We Right Here Dirty has no verses\n",
      "XXXX Solid has no verses\n",
      "XXXX Bad Boy has no verses\n",
      "XXXX Ruff Ryders has no verses\n",
      "XXXX Born Loser (Original) has no verses\n"
     ]
    },
    {
     "name": "stderr",
     "output_type": "stream",
     "text": [
      " 73%|███████▎  | 18235/24878 [03:10<00:53, 123.37it/s]"
     ]
    },
    {
     "name": "stdout",
     "output_type": "stream",
     "text": [
      "XXXX ATF (Open The Door) has no verses\n",
      "XXXX A ’Yo Kato has no verses\n",
      "XXXX Fuckin’ With D has no verses\n",
      "XXXX Party Up (Up In Here) - Album Version (Explicit) (Source) has no verses\n",
      "XXXX It’s A War has no verses\n",
      "XXXX Any MC has no verses\n",
      "XXXX Spellbound (The Original) has no verses\n",
      "XXXX Un-Hunh! has no verses\n",
      "XXXX Deeper & Deeper has no verses\n",
      "XXXX Nothin’ Move But The Money has no verses\n",
      "XXXX What You Want (The 24th Letter) has no verses\n",
      "XXXX I Run Shit Here has no verses\n",
      "XXXX We In Here - Dirty Version has no verses\n",
      "XXXX It Ain’t My Fault has no verses\n",
      "XXXX Untouchable Feat. Sheek, Syleena Johnson, Infa-Red has no verses\n",
      "XXXX Edge Of Da Night has no verses\n",
      "XXXX Let Me Fly (Clark Washington Mix) has no verses\n"
     ]
    },
    {
     "name": "stderr",
     "output_type": "stream",
     "text": [
      " 73%|███████▎  | 18261/24878 [03:10<00:58, 113.93it/s]"
     ]
    },
    {
     "name": "stdout",
     "output_type": "stream",
     "text": [
      "XXXX You Don’t Hear Me Though has no verses\n",
      "XXXX N*&&@$ done started something has no verses\n",
      "XXXX U aint $$$tt has no verses\n",
      "XXXX U Could Be Blind has no verses\n",
      "XXXX Party Up (Up in Here) [Re-Recorded] has no verses\n",
      "XXXX Party Up (Up in Here) [Re-Recorded] [Remastered] has no verses\n",
      "XXXX Get it on the floor (ca$h mob mix) has no verses\n",
      "XXXX Give ’em what they want - dirty album version has no verses\n",
      "XXXX I run shit - dirty album version has no verses\n"
     ]
    },
    {
     "name": "stderr",
     "output_type": "stream",
     "text": [
      " 74%|███████▎  | 18305/24878 [03:10<01:07, 97.75it/s] "
     ]
    },
    {
     "name": "stdout",
     "output_type": "stream",
     "text": [
      "XXXX For All My Niggaz & Bitches has too many verses\n",
      "XXXX Chronic Break has no verses\n",
      "XXXX House Party has too many verses\n"
     ]
    },
    {
     "name": "stderr",
     "output_type": "stream",
     "text": [
      " 74%|███████▎  | 18325/24878 [03:11<01:12, 90.34it/s]"
     ]
    },
    {
     "name": "stdout",
     "output_type": "stream",
     "text": [
      "---- One Blood, One Cuzz Too many words in a line\n",
      "XXXX Wet has no verses\n",
      "XXXX Reasons Snoop Is Voting Obama has no verses\n"
     ]
    },
    {
     "name": "stderr",
     "output_type": "stream",
     "text": [
      " 74%|███████▍  | 18356/24878 [03:11<01:08, 94.83it/s]"
     ]
    },
    {
     "name": "stdout",
     "output_type": "stream",
     "text": [
      "XXXX Who Am I has no verses\n",
      "XXXX On TDE: “They’re Not Death Row” has no verses\n",
      "XXXX Doggystyle [Comic] has no verses\n",
      "---- So Misinformed Too many words in a line\n"
     ]
    },
    {
     "name": "stderr",
     "output_type": "stream",
     "text": [
      " 74%|███████▍  | 18376/24878 [03:11<01:09, 93.74it/s]"
     ]
    },
    {
     "name": "stdout",
     "output_type": "stream",
     "text": [
      "XXXX Bad 4 Me has no verses\n"
     ]
    },
    {
     "name": "stderr",
     "output_type": "stream",
     "text": [
      " 74%|███████▍  | 18437/24878 [03:12<01:10, 91.97it/s]"
     ]
    },
    {
     "name": "stdout",
     "output_type": "stream",
     "text": [
      "XXXX Stacey Adams has no verses\n",
      "---- Still Here Too many words in a line\n"
     ]
    },
    {
     "name": "stderr",
     "output_type": "stream",
     "text": [
      " 74%|███████▍  | 18457/24878 [03:12<01:09, 92.29it/s]"
     ]
    },
    {
     "name": "stdout",
     "output_type": "stream",
     "text": [
      "---- Big Mouth Too many words in a line\n",
      "---- Light It Up Too many words in a line\n",
      "XXXX We Just Wanna Party With You has too many verses\n"
     ]
    },
    {
     "name": "stderr",
     "output_type": "stream",
     "text": [
      " 74%|███████▍  | 18490/24878 [03:12<01:04, 99.62it/s]"
     ]
    },
    {
     "name": "stdout",
     "output_type": "stream",
     "text": [
      "XXXX Special has too many verses\n",
      "XXXX Fuck What They Say has no verses\n",
      "XXXX Trust Me has too many verses\n",
      "---- Good Foot Too many words in a line\n"
     ]
    },
    {
     "name": "stderr",
     "output_type": "stream",
     "text": [
      " 74%|███████▍  | 18511/24878 [03:13<01:06, 95.40it/s]"
     ]
    },
    {
     "name": "stdout",
     "output_type": "stream",
     "text": [
      "---- Late Nights Too many words in a line\n"
     ]
    },
    {
     "name": "stderr",
     "output_type": "stream",
     "text": [
      " 74%|███████▍  | 18532/24878 [03:13<01:04, 99.01it/s]"
     ]
    },
    {
     "name": "stdout",
     "output_type": "stream",
     "text": [
      "XXXX Head Doctor has no verses\n",
      "XXXX Bitches Ain’t Shit has no verses\n",
      "XXXX Dogg’s Turismo 3 has no verses\n",
      "XXXX Issues has no verses\n",
      "XXXX Ain’t No Fun ( If the Homie’s Can’t Have None) { Cassette Version } has no verses\n"
     ]
    },
    {
     "name": "stderr",
     "output_type": "stream",
     "text": [
      " 75%|███████▍  | 18552/24878 [03:13<01:08, 92.76it/s]"
     ]
    },
    {
     "name": "stdout",
     "output_type": "stream",
     "text": [
      "---- Feel About Snoop Too many words in a line\n"
     ]
    },
    {
     "name": "stderr",
     "output_type": "stream",
     "text": [
      " 75%|███████▍  | 18572/24878 [03:13<01:08, 92.33it/s]"
     ]
    },
    {
     "name": "stdout",
     "output_type": "stream",
     "text": [
      "XXXX Ride 4 Me has no verses\n",
      "XXXX I Can’t Swim has no verses\n"
     ]
    },
    {
     "name": "stderr",
     "output_type": "stream",
     "text": [
      " 75%|███████▍  | 18592/24878 [03:14<01:17, 81.17it/s]"
     ]
    },
    {
     "name": "stdout",
     "output_type": "stream",
     "text": [
      "XXXX Fly has no verses\n",
      "XXXX Conversations has too many verses\n",
      "XXXX Back Up Off Me has too many verses\n",
      "XXXX Snitches has too many verses\n",
      "---- Crip or Die Too many words in a line\n"
     ]
    },
    {
     "name": "stderr",
     "output_type": "stream",
     "text": [
      " 75%|███████▍  | 18611/24878 [03:14<01:23, 75.37it/s]"
     ]
    },
    {
     "name": "stdout",
     "output_type": "stream",
     "text": [
      "XXXX C-Walkin has no verses\n",
      "XXXX No Thang On Me has no verses\n",
      "---- U Name It (Holiday Anthem) Too many words in a line\n",
      "XXXX Cali-California has no verses\n"
     ]
    },
    {
     "name": "stderr",
     "output_type": "stream",
     "text": [
      " 75%|███████▍  | 18632/24878 [03:14<01:12, 85.91it/s]"
     ]
    },
    {
     "name": "stdout",
     "output_type": "stream",
     "text": [
      "---- Don Doggy Too many words in a line\n",
      "XXXX Get The Money has no verses\n",
      "XXXX We Will Rock You has no verses\n"
     ]
    },
    {
     "name": "stderr",
     "output_type": "stream",
     "text": [
      " 75%|███████▌  | 18665/24878 [03:14<01:06, 92.84it/s]"
     ]
    },
    {
     "name": "stdout",
     "output_type": "stream",
     "text": [
      "XXXX Traffic Jam has no verses\n",
      "XXXX Buss’n Rocks has no verses\n",
      "XXXX Talk to God has no verses\n",
      "XXXX Smokin’ On has no verses\n",
      "XXXX California has no verses\n",
      "XXXX Freaky Tales has no verses\n",
      "XXXX The Cure has no verses\n"
     ]
    },
    {
     "name": "stderr",
     "output_type": "stream",
     "text": [
      " 75%|███████▌  | 18687/24878 [03:15<01:01, 100.98it/s]"
     ]
    },
    {
     "name": "stdout",
     "output_type": "stream",
     "text": [
      "XXXX Hooked has no verses\n",
      "XXXX Doh’ Doh’ has no verses\n",
      "---- Because I’m Black Too many words in a line\n",
      "XXXX Show You How a Gangsta Do has no verses\n",
      "XXXX Peer Pressure has no verses\n",
      "XXXX You Betta Ask Somebody has no verses\n",
      "XXXX Hoop Dreams (He Got Game) has no verses\n",
      "XXXX Eastside has too many verses\n",
      "XXXX Pimp Slap has no verses\n",
      "XXXX On Time has no verses\n"
     ]
    },
    {
     "name": "stderr",
     "output_type": "stream",
     "text": [
      " 75%|███████▌  | 18713/24878 [03:15<00:57, 106.89it/s]"
     ]
    },
    {
     "name": "stdout",
     "output_type": "stream",
     "text": [
      "XXXX Fresh like me has no verses\n",
      "XXXX 1st We Blaze It Up has no verses\n",
      "XXXX Snoop Dogg Millionaire has no verses\n",
      "XXXX What’s Your Pleasure has no verses\n",
      "XXXX That’s my work has no verses\n"
     ]
    },
    {
     "name": "stderr",
     "output_type": "stream",
     "text": [
      " 75%|███████▌  | 18738/24878 [03:15<00:58, 104.80it/s]"
     ]
    },
    {
     "name": "stdout",
     "output_type": "stream",
     "text": [
      "XXXX Too Black has no verses\n",
      "XXXX Change Gone Come has no verses\n",
      "XXXX Crown has no verses\n",
      "XXXX Sad But True has no verses\n",
      "XXXX Sensual Seduction (clean) has no verses\n"
     ]
    },
    {
     "name": "stderr",
     "output_type": "stream",
     "text": [
      " 75%|███████▌  | 18773/24878 [03:15<00:56, 107.37it/s]"
     ]
    },
    {
     "name": "stdout",
     "output_type": "stream",
     "text": [
      "XXXX Me and My Doggs has no verses\n",
      "XXXX Panties Off has no verses\n",
      "XXXX Be Like No One (WWE 2K18 Trailer) has no verses\n",
      "XXXX Malice n Wonderland - Thank You’s has no verses\n",
      "XXXX No more games has no verses\n",
      "XXXX The Game has no verses\n"
     ]
    },
    {
     "name": "stderr",
     "output_type": "stream",
     "text": [
      " 76%|███████▌  | 18796/24878 [03:16<00:55, 108.99it/s]"
     ]
    },
    {
     "name": "stdout",
     "output_type": "stream",
     "text": [
      "XXXX Who Got Some Gangstas? (feat. Tha Dogg Pound & Lil’ Style 7 Young) has no verses\n",
      "XXXX **** What They Say has no verses\n",
      "XXXX Soul Food has no verses\n",
      "XXXX Let It Rain has no verses\n",
      "XXXX My F**n House has no verses\n",
      "XXXX Tha Dogg In Me has no verses\n",
      "XXXX Ain’t No Love has no verses\n",
      "XXXX Out The Moon has no verses\n"
     ]
    },
    {
     "name": "stderr",
     "output_type": "stream",
     "text": [
      " 76%|███████▌  | 18819/24878 [03:16<00:56, 106.82it/s]"
     ]
    },
    {
     "name": "stdout",
     "output_type": "stream",
     "text": [
      "XXXX Come Up To My Room & Fucc has no verses\n",
      "XXXX It’s Getting Harder has no verses\n",
      "XXXX Pay Ya Dues - Snoop Dogg G-Mix has no verses\n",
      "XXXX Life has no verses\n",
      "XXXX U know what i’m throwin up has no verses\n",
      "XXXX Ridaman has no verses\n",
      "XXXX California Gurls (feat. Snoop Dogg) [Passion Pit Main Mix] has no verses\n"
     ]
    },
    {
     "name": "stderr",
     "output_type": "stream",
     "text": [
      " 76%|███████▌  | 18844/24878 [03:16<00:53, 112.51it/s]"
     ]
    },
    {
     "name": "stdout",
     "output_type": "stream",
     "text": [
      "XXXX Think About It [Clean] has no verses\n",
      "---- Words From Snoop (Spoken Word) Too many words in a line\n",
      "XXXX From Tha Chuuurch To Da Palace has no verses\n",
      "XXXX Hardest Man in Town has no verses\n",
      "---- Fuck Donald Trump Bitch (Marshawn Lynch Stream of Consciousness) Too many words in a line\n",
      "XXXX New Jackson has no verses\n",
      "XXXX WFTV Millionaire has no verses\n",
      "XXXX I Wanna Rock (Travis Barker G-Mix) has no verses\n",
      "XXXX California Gurls (feat. Snoop Dogg) [MSTRKRFT Main Mix] has no verses\n",
      "OOOO İmagine (Türkçe çeviri) has tr\n"
     ]
    },
    {
     "name": "stderr",
     "output_type": "stream",
     "text": [
      " 76%|███████▌  | 18867/24878 [03:16<01:02, 95.94it/s] "
     ]
    },
    {
     "name": "stdout",
     "output_type": "stream",
     "text": [
      "XXXX Dinner In Bed has no verses\n",
      "XXXX Sound-Alike has no verses\n",
      "XXXX Walk Away has no verses\n",
      "---- Deep Water Too many words in a line\n"
     ]
    },
    {
     "name": "stderr",
     "output_type": "stream",
     "text": [
      " 76%|███████▌  | 18887/24878 [03:17<01:03, 93.75it/s]"
     ]
    },
    {
     "name": "stdout",
     "output_type": "stream",
     "text": [
      "---- The Message Too many words in a line\n",
      "---- All in a Day’s Work Too many words in a line\n",
      "---- Bitch Niggaz Too many words in a line\n",
      "---- Loose Cannons Too many words in a line\n",
      "XXXX The Day the Niggaz Took Over has too many verses\n"
     ]
    },
    {
     "name": "stderr",
     "output_type": "stream",
     "text": [
      " 76%|███████▌  | 18907/24878 [03:17<01:04, 92.56it/s]"
     ]
    },
    {
     "name": "stdout",
     "output_type": "stream",
     "text": [
      "---- Rat-Tat-Tat-Tat Too many words in a line\n",
      "XXXX Love Letter has no verses\n"
     ]
    },
    {
     "name": "stderr",
     "output_type": "stream",
     "text": [
      " 76%|███████▌  | 18930/24878 [03:17<00:58, 102.01it/s]"
     ]
    },
    {
     "name": "stdout",
     "output_type": "stream",
     "text": [
      "XXXX The Car Bomb has too many verses\n",
      "XXXX On the Boulevard has too many verses\n",
      "XXXX Letter to Nicole Threatt has no verses\n",
      "XXXX Still D.R.E. (Rukmix) has too many verses\n",
      "---- It’s You I Adore (Sunshine) Too many words in a line\n",
      "XXXX Deez Nuuuts has no verses\n"
     ]
    },
    {
     "name": "stderr",
     "output_type": "stream",
     "text": [
      " 76%|███████▌  | 18968/24878 [03:17<00:53, 110.84it/s]"
     ]
    },
    {
     "name": "stdout",
     "output_type": "stream",
     "text": [
      "XXXX Life As An Outlaw has no verses\n",
      "XXXX Turn off the lights has no verses\n",
      "XXXX Bridgette has no verses\n",
      "XXXX Still D.R.E. (LP Version) has no verses\n",
      "XXXX Put It On Me has no verses\n",
      "XXXX Hell Yeah has no verses\n",
      "---- Mr. Officer Too many words in a line\n",
      "XXXX Doctor’s Office has no verses\n",
      "XXXX F*ck Wit Dre Day (And Everybody’s Celebratin’) has no verses\n"
     ]
    },
    {
     "name": "stderr",
     "output_type": "stream",
     "text": [
      " 76%|███████▋  | 18993/24878 [03:18<00:52, 111.45it/s]"
     ]
    },
    {
     "name": "stdout",
     "output_type": "stream",
     "text": [
      "XXXX Good Things (Chrysler 300 Commercial) has no verses\n",
      "OOOO Dr Dre ft. Hittman Big Egos Türkçe çeviri (Turkish Translate) has tr\n",
      "XXXX Funky chicken has no verses\n",
      "XXXX Can’t Stop the Flow (Coors Light Commercial) has no verses\n",
      "XXXX World Class has no verses\n",
      "XXXX Listen to the gang bang story has no verses\n",
      "XXXX Been There Done That (LP version) has no verses\n",
      "XXXX T has no verses\n",
      "XXXX Top 10 MC`s of all time :P? has no verses\n",
      "XXXX He’s Bionic has no verses\n",
      "OOOO Dr Dre Let me Ride Türkçe Çeviri (Turkish Translate) has tr\n",
      "XXXX Dre has no verses\n"
     ]
    },
    {
     "name": "stderr",
     "output_type": "stream",
     "text": [
      " 76%|███████▋  | 19016/24878 [03:18<00:58, 99.57it/s] "
     ]
    },
    {
     "name": "stdout",
     "output_type": "stream",
     "text": [
      "OOOO El Taxi has es\n",
      "OOOO The Anthem has es\n"
     ]
    },
    {
     "name": "stderr",
     "output_type": "stream",
     "text": [
      " 77%|███████▋  | 19037/24878 [03:18<01:08, 85.76it/s]"
     ]
    },
    {
     "name": "stdout",
     "output_type": "stream",
     "text": [
      "OOOO Echa Pa’lla (Manos Pa’rriba) (English Version) has es\n",
      "OOOO Como Yo Le Doy has es\n",
      "OOOO Chi Chi Bon Bon has it\n",
      "OOOO Baddest Girl In Town has es\n"
     ]
    },
    {
     "name": "stderr",
     "output_type": "stream",
     "text": [
      " 77%|███████▋  | 19058/24878 [03:18<01:03, 91.19it/s]"
     ]
    },
    {
     "name": "stdout",
     "output_type": "stream",
     "text": [
      "XXXX Muévelo Loca Boom Boom has no verses\n",
      "XXXX Bon, Bon has no verses\n",
      "OOOO Mala has es\n",
      "OOOO Haciendo Ruido has es\n"
     ]
    },
    {
     "name": "stderr",
     "output_type": "stream",
     "text": [
      " 77%|███████▋  | 19077/24878 [03:19<01:14, 77.79it/s]"
     ]
    },
    {
     "name": "stdout",
     "output_type": "stream",
     "text": [
      "OOOO Piensas (Dile la Verdad) has es\n",
      "OOOO Maldito Alcohol has es\n",
      "OOOO Mami Mami has es\n",
      "OOOO Echa Pa’lla (Manos Pa’rriba) has es\n",
      "OOOO Blanco has es\n"
     ]
    },
    {
     "name": "stderr",
     "output_type": "stream",
     "text": [
      " 77%|███████▋  | 19104/24878 [03:19<01:12, 79.46it/s]"
     ]
    },
    {
     "name": "stdout",
     "output_type": "stream",
     "text": [
      "XXXX Watagatapitusberry has no verses\n",
      "OOOO Hoy Se Bebe has es\n",
      "XXXX Girls has too many verses\n",
      "OOOO Krazy (Spanish Version) has es\n",
      "OOOO Cantare has es\n",
      "XXXX Shake has no verses\n",
      "OOOO Yo Quiero (Si Tu Te Enamoras) has es\n",
      "XXXX Blanco (The Spanish Version) has no verses\n"
     ]
    },
    {
     "name": "stderr",
     "output_type": "stream",
     "text": [
      " 77%|███████▋  | 19128/24878 [03:19<01:01, 92.87it/s]"
     ]
    },
    {
     "name": "stdout",
     "output_type": "stream",
     "text": [
      "OOOO Mucho Booty has es\n",
      "XXXX You Slip, She Grip has no verses\n",
      "XXXX Africa has no verses\n",
      "XXXX I Know You Want Me (Calle Ocho) (More English extended) has no verses\n",
      "XXXX Culo (Miami Mix) has no verses\n",
      "XXXX Back in Time (From ”Men in Black III”) has no verses\n",
      "XXXX Bojangles has no verses\n"
     ]
    },
    {
     "name": "stderr",
     "output_type": "stream",
     "text": [
      " 77%|███████▋  | 19138/24878 [03:19<01:04, 88.73it/s]"
     ]
    },
    {
     "name": "stdout",
     "output_type": "stream",
     "text": [
      "OOOO Happy Mamá Day has es\n",
      "XXXX Miami Shit has no verses\n",
      "OOOO Que Lo Que has es\n",
      "XXXX Bon Bon (We No Speak Americano) has no verses\n",
      "XXXX Pass at Me has no verses\n",
      "XXXX Melting Pot has no verses\n",
      "OOOO No Se Lleva Nada has es\n",
      "OOOO No Puedo Más has es\n"
     ]
    },
    {
     "name": "stderr",
     "output_type": "stream",
     "text": [
      " 77%|███████▋  | 19157/24878 [03:20<01:08, 83.85it/s]"
     ]
    },
    {
     "name": "stdout",
     "output_type": "stream",
     "text": [
      "OOOO Tu cuerpo has es\n",
      "OOOO El Party has es\n",
      "OOOO Se La Ví has es\n",
      "XXXX Ay Chico has no verses\n",
      "XXXX Dance With Me (feat. Pitbull) has no verses\n"
     ]
    },
    {
     "name": "stderr",
     "output_type": "stream",
     "text": [
      " 77%|███████▋  | 19176/24878 [03:20<01:06, 85.93it/s]"
     ]
    },
    {
     "name": "stdout",
     "output_type": "stream",
     "text": [
      "OOOO Guantanamera has es\n",
      "OOOO Que Tu Sabes D’eso has es\n",
      "XXXX Come See Me has no verses\n",
      "XXXX Oye Baby has no verses\n",
      "OOOO Vida 23 has es\n",
      "XXXX Dukey Love has no verses\n",
      "XXXX Hey You Girl has no verses\n",
      "OOOO Ocupado has es\n",
      "OOOO Preguntale has es\n",
      "XXXX Tell Me has no verses\n",
      "XXXX Pause - zumba mix has no verses\n",
      "XXXX Krazy (Clean Version) has no verses\n",
      "XXXX Un Poquito has no verses\n"
     ]
    },
    {
     "name": "stderr",
     "output_type": "stream",
     "text": [
      " 77%|███████▋  | 19204/24878 [03:20<00:54, 104.96it/s]"
     ]
    },
    {
     "name": "stdout",
     "output_type": "stream",
     "text": [
      "XXXX La Reina De Blanco has no verses\n",
      "XXXX Bon bon (panamericano) has no verses\n",
      "OOOO Mujeres has es\n",
      "XXXX Descarada (Dance) has no verses\n",
      "XXXX Take You Home has no verses\n",
      "XXXX Se Acabo has no verses\n",
      "XXXX Get Up/Levantate has no verses\n",
      "XXXX Gimme A Bottle has no verses\n",
      "XXXX Feel this moment - kassiano club mix has no verses\n",
      "XXXX Heart Beat Love has no verses\n",
      "XXXX Esta Noche (DJ Antoine vs. Mad Mark & Clubzound Mix) has no verses\n",
      "XXXX Amorosa has no verses\n",
      "XXXX Voodoo has no verses\n",
      "XXXX Give Me Everything (Jump Smokers Club Mix) has no verses\n",
      "XXXX Orgullo has no verses\n",
      "XXXX All 4 Sale has no verses\n",
      "XXXX I Know You Want Me (Calle Ocho) (Extended Mix) has no verses\n",
      "XXXX Noche No Termina has no verses\n",
      "XXXX I Know You Want Me [Calle Ocho] - Extended has no verses\n",
      "XXXX Vacaciones has no verses\n",
      "XXXX Miami S*** has no verses\n",
      "XXXX Bon Bon (Extended) has no verses\n",
      "XXXX Who Runs This Shit has no verses\n",
      "XXXX Rah Rah has no verses\n"
     ]
    },
    {
     "name": "stderr",
     "output_type": "stream",
     "text": [
      " 77%|███████▋  | 19233/24878 [03:20<00:51, 110.39it/s]"
     ]
    },
    {
     "name": "stdout",
     "output_type": "stream",
     "text": [
      "XXXX Tell Me (Main) has no verses\n",
      "OOOO Guantanamera (She’s Hot) has es\n",
      "XXXX Ridin’ It Raw has no verses\n",
      "XXXX Give Me Everything (Marc Kinchen MK Dub Mix) has no verses\n",
      "XXXX Here They Come has no verses\n",
      "XXXX Bon Bon (We No Speak Americano) - Extended has no verses\n",
      "XXXX It Must Be Nice has no verses\n",
      "XXXX Mil Amor has no verses\n",
      "XXXX Semtex has too many verses\n"
     ]
    },
    {
     "name": "stderr",
     "output_type": "stream",
     "text": [
      " 77%|███████▋  | 19279/24878 [03:21<00:54, 101.97it/s]"
     ]
    },
    {
     "name": "stdout",
     "output_type": "stream",
     "text": [
      "XXXX Birthday has no verses\n"
     ]
    },
    {
     "name": "stderr",
     "output_type": "stream",
     "text": [
      " 78%|███████▊  | 19301/24878 [03:21<00:57, 96.94it/s] "
     ]
    },
    {
     "name": "stdout",
     "output_type": "stream",
     "text": [
      "XXXX Hey Jasmin has no verses\n",
      "XXXX Freaking Out has no verses\n"
     ]
    },
    {
     "name": "stderr",
     "output_type": "stream",
     "text": [
      " 78%|███████▊  | 19332/24878 [03:21<00:57, 96.53it/s]"
     ]
    },
    {
     "name": "stdout",
     "output_type": "stream",
     "text": [
      "---- Yayo Too many words in a line\n",
      "XXXX Make a Wish has no verses\n",
      "XXXX Let It Burn has no verses\n",
      "XXXX Laser Light Show has no verses\n",
      "XXXX Where The Bread has no verses\n"
     ]
    },
    {
     "name": "stderr",
     "output_type": "stream",
     "text": [
      " 78%|███████▊  | 19362/24878 [03:22<01:04, 85.62it/s]"
     ]
    },
    {
     "name": "stdout",
     "output_type": "stream",
     "text": [
      "XXXX Badaboom has no verses\n",
      "---- Coming 2 America Too many words in a line\n",
      "XXXX Llama Mama has no verses\n",
      "XXXX Freaky Thangs has too many verses\n"
     ]
    },
    {
     "name": "stderr",
     "output_type": "stream",
     "text": [
      " 78%|███████▊  | 19427/24878 [03:22<01:06, 81.40it/s]"
     ]
    },
    {
     "name": "stdout",
     "output_type": "stream",
     "text": [
      "XXXX Get the Fuck Back has too many verses\n",
      "XXXX Cold Outside has no verses\n"
     ]
    },
    {
     "name": "stderr",
     "output_type": "stream",
     "text": [
      " 78%|███████▊  | 19457/24878 [03:23<01:01, 88.31it/s]"
     ]
    },
    {
     "name": "stdout",
     "output_type": "stream",
     "text": [
      "---- Hopeless Too many words in a line\n",
      "XXXX Feelin’ So Sexy has too many verses\n",
      "XXXX Spur of the Moment has too many verses\n",
      "XXXX 1st & 10 has too many verses\n"
     ]
    },
    {
     "name": "stderr",
     "output_type": "stream",
     "text": [
      " 78%|███████▊  | 19496/24878 [03:23<00:59, 89.81it/s]"
     ]
    },
    {
     "name": "stdout",
     "output_type": "stream",
     "text": [
      "XXXX Saturday has too many verses\n",
      "XXXX John Madden 2000 Theme has no verses\n",
      "XXXX Move Circulation has no verses\n",
      "XXXX All the Way Turned Up (Ludamix) has no verses\n"
     ]
    },
    {
     "name": "stderr",
     "output_type": "stream",
     "text": [
      " 78%|███████▊  | 19517/24878 [03:23<00:59, 90.62it/s]"
     ]
    },
    {
     "name": "stdout",
     "output_type": "stream",
     "text": [
      "XXXX Conjure Commercial has no verses\n",
      "XXXX Can You Buy That has no verses\n",
      "XXXX Everybody Wit Me has no verses\n",
      "XXXX Ends has no verses\n"
     ]
    },
    {
     "name": "stderr",
     "output_type": "stream",
     "text": [
      " 79%|███████▊  | 19537/24878 [03:24<00:57, 93.61it/s]"
     ]
    },
    {
     "name": "stdout",
     "output_type": "stream",
     "text": [
      "XXXX Eminem diss has no verses\n",
      "XXXX Saving Grace (Theme) has no verses\n",
      "XXXX Babylon Feeling has no verses\n",
      "XXXX Angel has no verses\n",
      "XXXX Blinded by the Sun has no verses\n",
      "XXXX Only Love Can Break Your Heart has no verses\n",
      "XXXX Money (Dollar Bill) has no verses\n",
      "XXXX Saving Grace has no verses\n",
      "XXXX Sad Girl has no verses\n",
      "XXXX Sixty-Five Roses has no verses\n",
      "XXXX Get Down has no verses\n"
     ]
    },
    {
     "name": "stderr",
     "output_type": "stream",
     "text": [
      " 79%|███████▊  | 19574/24878 [03:24<00:42, 125.30it/s]"
     ]
    },
    {
     "name": "stdout",
     "output_type": "stream",
     "text": [
      "XXXX This Kind of Lonely has no verses\n",
      "XXXX Painkillers has no verses\n",
      "XXXX Smokin & Drinkin has no verses\n",
      "XXXX Sleepin’ Alone has no verses\n",
      "XXXX Little Miss America has no verses\n",
      "XXXX I’ll Be There for You has no verses\n",
      "XXXX What It’s Like [Explicit Version] has no verses\n",
      "XXXX God Wanna has no verses\n",
      "XXXX Put Your Lights on has no verses\n",
      "XXXX Long At All has no verses\n",
      "XXXX Soul Music has no verses\n",
      "XXXX Gone for Good has no verses\n",
      "XXXX Black Coffee has no verses\n",
      "XXXX 7 Years has no verses\n",
      "XXXX Pain has no verses\n",
      "XXXX Friend has no verses\n",
      "XXXX Today has no verses\n",
      "XXXX Friday the 13th has no verses\n",
      "XXXX Graves to Dig has no verses\n",
      "XXXX Stay has no verses\n",
      "XXXX Love for Real has no verses\n",
      "XXXX Ticking Away has no verses\n",
      "XXXX 2 Pieces of Drama has no verses\n",
      "XXXX Maybe has no verses\n",
      "XXXX Death Comes Callin’ has no verses\n",
      "XXXX The Letter has no verses\n",
      "XXXX The Rain has no verses\n",
      "XXXX We’re All Gonna Die has no verses\n",
      "XXXX Anyone has no verses\n",
      "XXXX One and the Same has no verses\n",
      "XXXX Weakness has no verses\n",
      "XXXX Everyone Respects the Gun has no verses\n",
      "XXXX Long Time has no verses\n",
      "XXXX Dirty has no verses\n",
      "XXXX Final Trumpet has no verses\n",
      "XXXX Funky Beat has no verses\n",
      "XXXX Hot to Death has no verses\n",
      "XXXX My House has no verses\n",
      "XXXX Folsom Prison Blues has no verses\n",
      "XXXX Whitey has no verses\n",
      "XXXX Tired has no verses\n",
      "XXXX Deadly Assassins has no verses\n"
     ]
    },
    {
     "name": "stderr",
     "output_type": "stream",
     "text": [
      " 79%|███████▉  | 19615/24878 [03:24<00:39, 132.87it/s]"
     ]
    },
    {
     "name": "stdout",
     "output_type": "stream",
     "text": [
      "XXXX Even God Don’t Know has no verses\n",
      "XXXX The Warning has no verses\n",
      "XXXX On the Edge has no verses\n",
      "XXXX The Greatest has no verses\n",
      "XXXX Naked has no verses\n",
      "XXXX Summer Rain has no verses\n",
      "XXXX Break It Down has no verses\n",
      "XXXX Moneymaker has no verses\n",
      "XXXX The Crown has no verses\n",
      "XXXX Speak No Evil has too many verses\n",
      "XXXX A Change Is Gonna Come has no verses\n",
      "XXXX Die In Yer Arms has no verses\n",
      "XXXX Everyone has no verses\n",
      "XXXX Grandma’s Hand has no verses\n",
      "XXXX Syndication has no verses\n",
      "XXXX Let It Go has no verses\n"
     ]
    },
    {
     "name": "stderr",
     "output_type": "stream",
     "text": [
      " 79%|███████▉  | 19652/24878 [03:24<00:34, 151.88it/s]"
     ]
    },
    {
     "name": "stdout",
     "output_type": "stream",
     "text": [
      "XXXX Some Of Us Pray has no verses\n",
      "XXXX The Ocean has no verses\n",
      "XXXX Shamrocks and Shenanigans has no verses\n",
      "XXXX Money (Dollar Bill, Y’all) has no verses\n",
      "XXXX HeartBeat has no verses\n",
      "XXXX Blues for X’mas has no verses\n",
      "XXXX What is This? has no verses\n",
      "XXXX Babyon Feeling has no verses\n",
      "XXXX Tuesday Mornin’ has no verses\n",
      "XXXX Pass It On has no verses\n",
      "XXXX Tuesday Morning has no verses\n",
      "XXXX 7 Years [Explicit Version] has no verses\n",
      "XXXX Prince Paul has no verses\n",
      "XXXX Get Down [Explicit Version] has no verses\n",
      "XXXX Littel miss america has no verses\n",
      "XXXX Tired [Explicit Version] has no verses\n",
      "XXXX Ends [Amended Version] has no verses\n",
      "XXXX What It’s Like [Amended Version] has no verses\n",
      "XXXX Death Comes Callin’ [Explicit Version] has no verses\n",
      "XXXX Syndication Soldier has no verses\n",
      "XXXX Money [Dollar Bill] [Explicit Version] has no verses\n",
      "XXXX We’re all gonna die - amended version has no verses\n",
      "XXXX Graves to dig - amended version has no verses\n",
      "XXXX Mercy on my soul - amended version has no verses\n",
      "XXXX Get down [amended version] has no verses\n",
      "XXXX Syndication (dub) has no verses\n",
      "XXXX Syndication (LP version) has no verses\n",
      "XXXX Ends [Woodstock 99] has no verses\n",
      "XXXX Syndication (bonus Beats) has no verses\n"
     ]
    },
    {
     "name": "stderr",
     "output_type": "stream",
     "text": [
      "                                                      \r"
     ]
    },
    {
     "name": "stdout",
     "output_type": "stream",
     "text": [
      "---- Better in Tune (With the Infinite) Too many words in a line\n",
      "---- Eternal Sunshine (The Pledge) Too many words in a line\n",
      "---- Dimethyltryptamine Too many words in a line\n",
      "---- Road to Perdition Too many words in a line\n",
      "---- #TBE The Curse Of Mayweather Too many words in a line\n",
      "---- Voodoo Man Too many words in a line\n"
     ]
    },
    {
     "name": "stderr",
     "output_type": "stream",
     "text": [
      " 79%|███████▉  | 19698/24878 [03:25<00:42, 121.18it/s]"
     ]
    },
    {
     "name": "stdout",
     "output_type": "stream",
     "text": [
      "---- Victory Is In My Clutches Too many words in a line\n",
      "---- Abracadabra Too many words in a line\n",
      "---- Jazzmataz (Guru Tribute) Too many words in a line\n",
      "---- A Prayer for Michael Vick and T.I. Too many words in a line\n",
      "---- Call of Duty Too many words in a line\n",
      "---- A Million In The Morning Too many words in a line\n",
      "---- FYI Too many words in a line\n",
      "XXXX Bitches and Drugs has no verses\n",
      "---- …Because He Broke the Rules Too many words in a line\n",
      "---- Extra Extra Too many words in a line\n"
     ]
    },
    {
     "name": "stderr",
     "output_type": "stream",
     "text": [
      " 79%|███████▉  | 19724/24878 [03:25<00:42, 122.34it/s]"
     ]
    },
    {
     "name": "stdout",
     "output_type": "stream",
     "text": [
      "XXXX Googley Eyes has no verses\n",
      "XXXX Departure has no verses\n",
      "XXXX Who’s Gonna Save My Soul has no verses\n",
      "XXXX Candy Man has no verses\n",
      "XXXX Posers has no verses\n",
      "XXXX Extended Control verse (performed in Miami) has no verses\n",
      "---- Glass Everywhere Too many words in a line\n",
      "XXXX Retro Electro has no verses\n",
      "---- Nights of the Roundtable Too many words in a line\n",
      "XXXX 10,000 Lotus Petals has no verses\n",
      "XXXX Defcon 4 has no verses\n",
      "XXXX Eternal Sunshine has no verses\n"
     ]
    },
    {
     "name": "stderr",
     "output_type": "stream",
     "text": [
      " 79%|███████▉  | 19750/24878 [03:25<00:43, 118.57it/s]"
     ]
    },
    {
     "name": "stdout",
     "output_type": "stream",
     "text": [
      "XXXX Colors has no verses\n",
      "XXXX Dimethyltriptamine has no verses\n",
      "XXXX Twitter Q&A has no verses\n",
      "---- The Cauldron Too many words in a line\n",
      "XXXX So What You Sayin’ has no verses\n",
      "XXXX Back To The Future (1.21 Jiggawatts) has no verses\n",
      "XXXX My Uzi Weighs A Ton has no verses\n",
      "XXXX Spark Em Up has no verses\n"
     ]
    },
    {
     "name": "stderr",
     "output_type": "stream",
     "text": [
      " 79%|███████▉  | 19766/24878 [03:25<00:40, 127.33it/s]"
     ]
    },
    {
     "name": "stdout",
     "output_type": "stream",
     "text": [
      "XXXX A Prayer For Michael Vick And T.I. (We Love You Family) has no verses\n",
      "XXXX Googly Eyes has no verses\n",
      "XXXX Twitter Rant has no verses\n",
      "XXXX The Ghost of Christopher Wallace (dirty) has no verses\n",
      "XXXX Forever has no verses\n",
      "XXXX The Ghost of Christopher Wallace (clean) has no verses\n"
     ]
    },
    {
     "name": "stderr",
     "output_type": "stream",
     "text": [
      " 80%|███████▉  | 19792/24878 [03:26<00:51, 99.63it/s] "
     ]
    },
    {
     "name": "stdout",
     "output_type": "stream",
     "text": [
      "XXXX I Get the Job Done has too many verses\n",
      "XXXX Ooh, Aah, Nah-Nah-Nah has no verses\n"
     ]
    },
    {
     "name": "stderr",
     "output_type": "stream",
     "text": [
      " 80%|███████▉  | 19814/24878 [03:26<00:52, 97.04it/s]"
     ]
    },
    {
     "name": "stdout",
     "output_type": "stream",
     "text": [
      "XXXX In the PJ’s has too many verses\n",
      "XXXX It’s Hard Being the Kane has no verses\n",
      "XXXX Entaprizin’ has no verses\n",
      "---- Rest in Peace Too many words in a line\n",
      "XXXX On the Move has no verses\n"
     ]
    },
    {
     "name": "stderr",
     "output_type": "stream",
     "text": [
      " 80%|███████▉  | 19845/24878 [03:26<00:56, 88.73it/s]"
     ]
    },
    {
     "name": "stdout",
     "output_type": "stream",
     "text": [
      "XXXX To Be Your Man has no verses\n",
      "XXXX Terra N Ya Era has no verses\n",
      "XXXX Big Daddy’s Theme has no verses\n",
      "XXXX Brother Man, Brother Man has too many verses\n",
      "XXXX 2 Da Good Tymz has no verses\n"
     ]
    },
    {
     "name": "stderr",
     "output_type": "stream",
     "text": [
      " 80%|███████▉  | 19870/24878 [03:26<00:48, 102.56it/s]"
     ]
    },
    {
     "name": "stdout",
     "output_type": "stream",
     "text": [
      "XXXX Definitely has no verses\n",
      "XXXX The House That Cee Built has no verses\n",
      "XXXX Keep ’Em on the Floor has no verses\n",
      "XXXX 3 Forties and a Bottle of Moet has no verses\n",
      "XXXX Death Sentence has no verses\n",
      "XXXX Unda Presha has no verses\n",
      "XXXX Float has no verses\n",
      "XXXX Uncut, Pure has no verses\n",
      "XXXX Taste Of Chocolate (Exit) has no verses\n",
      "XXXX Enough! has no verses\n",
      "---- Raw Attitude Too many words in a line\n",
      "XXXX Finale has no verses\n",
      "XXXX Bed Stuy Represent has no verses\n"
     ]
    },
    {
     "name": "stderr",
     "output_type": "stream",
     "text": [
      " 80%|███████▉  | 19892/24878 [03:27<00:57, 86.79it/s] "
     ]
    },
    {
     "name": "stdout",
     "output_type": "stream",
     "text": [
      "---- Rosa Parks Too many words in a line\n",
      "---- Slump Too many words in a line\n"
     ]
    },
    {
     "name": "stderr",
     "output_type": "stream",
     "text": [
      " 80%|████████  | 19911/24878 [03:27<01:00, 82.24it/s]"
     ]
    },
    {
     "name": "stdout",
     "output_type": "stream",
     "text": [
      "---- Synthesizer Too many words in a line\n",
      "---- Chonkyfire Too many words in a line\n"
     ]
    },
    {
     "name": "stderr",
     "output_type": "stream",
     "text": [
      " 80%|████████  | 19961/24878 [03:27<00:52, 93.84it/s]"
     ]
    },
    {
     "name": "stdout",
     "output_type": "stream",
     "text": [
      "XXXX 2014 Tour Dates has no verses\n",
      "---- Phobia Too many words in a line\n"
     ]
    },
    {
     "name": "stderr",
     "output_type": "stream",
     "text": [
      " 80%|████████  | 19981/24878 [03:28<00:54, 89.70it/s]"
     ]
    },
    {
     "name": "stdout",
     "output_type": "stream",
     "text": [
      "XXXX Bamboo has no verses\n",
      "---- I’m Bad Too many words in a line\n"
     ]
    },
    {
     "name": "stderr",
     "output_type": "stream",
     "text": [
      " 80%|████████  | 20011/24878 [03:28<00:54, 88.69it/s]"
     ]
    },
    {
     "name": "stdout",
     "output_type": "stream",
     "text": [
      "XXXX Rock the Bells (Original) has no verses\n",
      "XXXX Illegal Search has too many verses\n",
      "---- Hip Hop Too many words in a line\n"
     ]
    },
    {
     "name": "stderr",
     "output_type": "stream",
     "text": [
      " 81%|████████  | 20038/24878 [03:28<00:56, 85.88it/s]"
     ]
    },
    {
     "name": "stdout",
     "output_type": "stream",
     "text": [
      "XXXX All I Have has no verses\n",
      "XXXX Farmers Blvd. (Our Anthem) has too many verses\n",
      "XXXX It Gets No Rougher has no verses\n",
      "XXXX .357 - Break it On Down has no verses\n",
      "XXXX 3 The Hard Way has no verses\n",
      "XXXX 6 Minutes of Pleasure has no verses\n",
      "XXXX You Can’t Dance has no verses\n"
     ]
    },
    {
     "name": "stderr",
     "output_type": "stream",
     "text": [
      " 81%|████████  | 20063/24878 [03:29<00:48, 99.90it/s]"
     ]
    },
    {
     "name": "stdout",
     "output_type": "stream",
     "text": [
      "XXXX Dangerous has no verses\n",
      "XXXX Funkadelic Relic has no verses\n",
      "XXXX I Want You has no verses\n",
      "XXXX Ahh, Let’s Get Ill has too many verses\n",
      "XXXX Doin It (On the Air) has no verses\n",
      "XXXX 1-900-LL Cool J has no verses\n",
      "XXXX Two Different Worlds has no verses\n",
      "XXXX Luv You Better has no verses\n",
      "XXXX Dear Mallika has no verses\n",
      "XXXX After School has too many verses\n"
     ]
    },
    {
     "name": "stderr",
     "output_type": "stream",
     "text": [
      " 81%|████████  | 20084/24878 [03:29<00:49, 96.12it/s]"
     ]
    },
    {
     "name": "stdout",
     "output_type": "stream",
     "text": [
      "XXXX Truth has no verses\n",
      "XXXX Ill Bomb has no verses\n",
      "XXXX LL Cool J - NCIS (No Crew Is Superior) has no verses\n",
      "XXXX Why Do You Think They Call it Dope? has no verses\n"
     ]
    },
    {
     "name": "stderr",
     "output_type": "stream",
     "text": [
      " 81%|████████  | 20105/24878 [03:29<00:50, 95.18it/s]"
     ]
    },
    {
     "name": "stdout",
     "output_type": "stream",
     "text": [
      "XXXX Baby (feat. The-Dream) has no verses\n",
      "XXXX I Make My Own Rules has no verses\n",
      "XXXX One Shot at Love has no verses\n"
     ]
    },
    {
     "name": "stderr",
     "output_type": "stream",
     "text": [
      " 81%|████████  | 20125/24878 [03:29<00:52, 90.56it/s]"
     ]
    },
    {
     "name": "stdout",
     "output_type": "stream",
     "text": [
      "XXXX Starsky & Hutch has no verses\n",
      "XXXX I Need Love (Full Length version) has no verses\n"
     ]
    },
    {
     "name": "stderr",
     "output_type": "stream",
     "text": [
      " 81%|████████  | 20147/24878 [03:29<00:49, 95.86it/s]"
     ]
    },
    {
     "name": "stdout",
     "output_type": "stream",
     "text": [
      "XXXX Jealous has no verses\n",
      "XXXX On The Ill Tip has no verses\n",
      "XXXX (NFA) No Frontin Allowed has no verses\n",
      "XXXX Straight From Queens has no verses\n",
      "XXXX A Little Somethin’ has no verses\n",
      "XXXX Bath Salt has no verses\n"
     ]
    },
    {
     "name": "stderr",
     "output_type": "stream",
     "text": [
      " 81%|████████  | 20170/24878 [03:30<00:47, 99.96it/s]"
     ]
    },
    {
     "name": "stdout",
     "output_type": "stream",
     "text": [
      "XXXX Doin It (LP version) has no verses\n",
      "XXXX Strictly Business has no verses\n",
      "XXXX Change Your Ways has no verses\n",
      "XXXX Something About You (Love the World) has no verses\n",
      "XXXX New Love has no verses\n",
      "XXXX Closer has no verses\n"
     ]
    },
    {
     "name": "stderr",
     "output_type": "stream",
     "text": [
      " 81%|████████  | 20201/24878 [03:30<00:51, 90.24it/s]"
     ]
    },
    {
     "name": "stdout",
     "output_type": "stream",
     "text": [
      "XXXX Rock the Bells (12\" version) has no verses\n",
      "XXXX Simon has no verses\n",
      "XXXX We will has no verses\n",
      "XXXX Indian Girl - An Adult Story has no verses\n"
     ]
    },
    {
     "name": "stderr",
     "output_type": "stream",
     "text": [
      " 81%|████████▏ | 20222/24878 [03:30<00:51, 90.79it/s]"
     ]
    },
    {
     "name": "stdout",
     "output_type": "stream",
     "text": [
      "XXXX The Ruler’s Back has no verses\n",
      "XXXX Who Rotten ’Em has no verses\n",
      "XXXX Kill Niggaz has no verses\n"
     ]
    },
    {
     "name": "stderr",
     "output_type": "stream",
     "text": [
      " 81%|████████▏ | 20244/24878 [03:30<00:47, 98.51it/s]"
     ]
    },
    {
     "name": "stdout",
     "output_type": "stream",
     "text": [
      "XXXX All Alone (No One to Be With) has no verses\n",
      "XXXX Can’t Dance to a Track That Ain’t Got No Soul has no verses\n",
      "XXXX Women Lose Weight has no verses\n",
      "---- Top Cat Too many words in a line\n"
     ]
    },
    {
     "name": "stderr",
     "output_type": "stream",
     "text": [
      " 81%|████████▏ | 20267/24878 [03:31<00:43, 105.16it/s]"
     ]
    },
    {
     "name": "stdout",
     "output_type": "stream",
     "text": [
      "XXXX Bond has no verses\n",
      "XXXX Let’s All Get Down has no verses\n",
      "XXXX Midas Touch has no verses\n",
      "XXXX Two Way Street has no verses\n",
      "XXXX Halloween has no verses\n",
      "XXXX No Limit has no verses\n",
      "XXXX Feels Like (Nutty Professor) has no verses\n",
      "XXXX Notorious feat. Cole has no verses\n"
     ]
    },
    {
     "name": "stderr",
     "output_type": "stream",
     "text": [
      " 82%|████████▏ | 20289/24878 [03:31<00:46, 98.26it/s] "
     ]
    },
    {
     "name": "stdout",
     "output_type": "stream",
     "text": [
      "---- Hell’s Wind Staff / Killah Hills 10304 Too many words in a line\n",
      "---- Investigative Reports Too many words in a line\n",
      "XXXX Science Genius 12.12.12 Speech has no verses\n"
     ]
    },
    {
     "name": "stderr",
     "output_type": "stream",
     "text": [
      " 82%|████████▏ | 20311/24878 [03:31<00:44, 101.54it/s]"
     ]
    },
    {
     "name": "stdout",
     "output_type": "stream",
     "text": [
      "XXXX Fam (Members Only) has too many verses\n",
      "XXXX Paper Plate has no verses\n",
      "XXXX Life of a Drug Dealer has no verses\n"
     ]
    },
    {
     "name": "stderr",
     "output_type": "stream",
     "text": [
      " 82%|████████▏ | 20344/24878 [03:31<00:45, 98.98it/s] "
     ]
    },
    {
     "name": "stdout",
     "output_type": "stream",
     "text": [
      "XXXX Chasing Dreams has too many verses\n",
      "XXXX Drama has no verses\n",
      "XXXX Intermission (Drive In Movie) has no verses\n",
      "---- Gangsta Rap Made Me Do It Too many words in a line\n"
     ]
    },
    {
     "name": "stderr",
     "output_type": "stream",
     "text": [
      " 82%|████████▏ | 20374/24878 [03:32<00:46, 96.25it/s]"
     ]
    },
    {
     "name": "stdout",
     "output_type": "stream",
     "text": [
      "---- AmeriKKKa’s Most Wanted Too many words in a line\n",
      "---- Steady Mobbin’ Too many words in a line\n",
      "XXXX A Bird in the Hand has no verses\n",
      "---- My Summer Vacation Too many words in a line\n",
      "XXXX Givin’ Up the Nappy Dug Out has too many verses\n",
      "---- True to the Game Too many words in a line\n",
      "XXXX A Gangsta’s Fairytale has too many verses\n"
     ]
    },
    {
     "name": "stderr",
     "output_type": "stream",
     "text": [
      " 82%|████████▏ | 20394/24878 [03:32<00:48, 93.32it/s]"
     ]
    },
    {
     "name": "stdout",
     "output_type": "stream",
     "text": [
      "---- Endangered Species (Tales from the Darkside) Too many words in a line\n",
      "---- What Can I Do? Too many words in a line\n",
      "---- Cave Bitch Too many words in a line\n",
      "XXXX It’s a Man’s World has too many verses\n"
     ]
    },
    {
     "name": "stderr",
     "output_type": "stream",
     "text": [
      " 82%|████████▏ | 20425/24878 [03:32<00:46, 95.67it/s]"
     ]
    },
    {
     "name": "stdout",
     "output_type": "stream",
     "text": [
      "XXXX Better Off Dead has too many verses\n",
      "XXXX Enemy has no verses\n",
      "XXXX Jack N the Box has no verses\n"
     ]
    },
    {
     "name": "stderr",
     "output_type": "stream",
     "text": [
      " 82%|████████▏ | 20446/24878 [03:33<00:44, 99.83it/s]"
     ]
    },
    {
     "name": "stdout",
     "output_type": "stream",
     "text": [
      "XXXX The Funeral has no verses\n",
      "---- Gangsta’s Fairytale 2 Too many words in a line\n",
      "---- Say Hi To The Bad Guy Too many words in a line\n"
     ]
    },
    {
     "name": "stderr",
     "output_type": "stream",
     "text": [
      " 82%|████████▏ | 20478/24878 [03:33<00:43, 102.03it/s]"
     ]
    },
    {
     "name": "stdout",
     "output_type": "stream",
     "text": [
      "---- I’m Scared (Insert) Too many words in a line\n",
      "---- Integration (Insert) Too many words in a line\n"
     ]
    },
    {
     "name": "stderr",
     "output_type": "stream",
     "text": [
      "                                                      \r"
     ]
    },
    {
     "name": "stdout",
     "output_type": "stream",
     "text": [
      "XXXX The Drive-By has too many verses\n",
      "XXXX 24 Wit’ An L has no verses\n",
      "XXXX The Shot has too many verses\n",
      "XXXX Make It Ruff, Make It Smooth has too many verses"
     ]
    },
    {
     "name": "stderr",
     "output_type": "stream",
     "text": [
      " 82%|████████▏ | 20522/24878 [03:33<00:43, 99.34it/s]"
     ]
    },
    {
     "name": "stdout",
     "output_type": "stream",
     "text": [
      "\n",
      "---- JD’s Gaffilin’, Part 2 Too many words in a line\n",
      "XXXX D’Voidofpopniggafiedmegamix has too many verses\n",
      "XXXX Anybody seen the Popo’s has no verses\n"
     ]
    },
    {
     "name": "stderr",
     "output_type": "stream",
     "text": [
      " 83%|████████▎ | 20544/24878 [03:34<00:42, 102.44it/s]"
     ]
    },
    {
     "name": "stdout",
     "output_type": "stream",
     "text": [
      "XXXX Higher has no verses\n",
      "XXXX Once Upon a Time in the Projects 2 has no verses\n",
      "XXXX Who Are You Lovin has no verses\n",
      "XXXX Heaven has no verses\n",
      "XXXX War & Peace Vol. 1 (The War Disc) has no verses\n",
      "XXXX Get Used To It has no verses\n"
     ]
    },
    {
     "name": "stderr",
     "output_type": "stream",
     "text": [
      " 83%|████████▎ | 20573/24878 [03:34<00:37, 114.67it/s]"
     ]
    },
    {
     "name": "stdout",
     "output_type": "stream",
     "text": [
      "XXXX Pockets Stay Fat-FAKE has no verses\n",
      "XXXX The Looters (Street Version) has too many verses\n",
      "XXXX I do is talk your physician about has no verses\n"
     ]
    },
    {
     "name": "stderr",
     "output_type": "stream",
     "text": [
      " 83%|████████▎ | 20597/24878 [03:34<00:41, 104.32it/s]"
     ]
    },
    {
     "name": "stdout",
     "output_type": "stream",
     "text": [
      "XXXX I Wish I Could Talk To You has too many verses\n",
      "XXXX Numba 1 (Tide Is High) (feat. Keri Hilson) has no verses\n",
      "XXXX Nina has no verses\n",
      "XXXX We Gon Go has no verses\n"
     ]
    },
    {
     "name": "stderr",
     "output_type": "stream",
     "text": [
      " 83%|████████▎ | 20618/24878 [03:34<00:44, 96.16it/s] "
     ]
    },
    {
     "name": "stdout",
     "output_type": "stream",
     "text": [
      "XXXX Ill Eagle Alien has no verses\n",
      "XXXX Going In has no verses\n",
      "XXXX Due Me A Favour has no verses\n",
      "---- Freshie Too many words in a line\n"
     ]
    },
    {
     "name": "stderr",
     "output_type": "stream",
     "text": [
      " 83%|████████▎ | 20650/24878 [03:35<00:44, 94.95it/s]"
     ]
    },
    {
     "name": "stdout",
     "output_type": "stream",
     "text": [
      "XXXX BodyBounce has no verses\n",
      "XXXX Gotta Get It has too many verses\n",
      "XXXX Dangerous - final clean has no verses\n",
      "XXXX King of Da Hill has no verses\n",
      "XXXX Kill Shot has no verses\n",
      "XXXX I’m Goin In has no verses\n"
     ]
    },
    {
     "name": "stderr",
     "output_type": "stream",
     "text": [
      " 83%|████████▎ | 20670/24878 [03:35<00:44, 94.57it/s]"
     ]
    },
    {
     "name": "stdout",
     "output_type": "stream",
     "text": [
      "XXXX Belly Dancer (album) has no verses\n",
      "XXXX Turn It Up has no verses\n"
     ]
    },
    {
     "name": "stderr",
     "output_type": "stream",
     "text": [
      " 83%|████████▎ | 20718/24878 [03:35<00:50, 83.07it/s]"
     ]
    },
    {
     "name": "stdout",
     "output_type": "stream",
     "text": [
      "---- RiRi Too many words in a line\n"
     ]
    },
    {
     "name": "stderr",
     "output_type": "stream",
     "text": [
      " 83%|████████▎ | 20754/24878 [03:36<00:49, 83.56it/s]"
     ]
    },
    {
     "name": "stdout",
     "output_type": "stream",
     "text": [
      "XXXX Thug N 30 has too many verses\n"
     ]
    },
    {
     "name": "stderr",
     "output_type": "stream",
     "text": [
      " 84%|████████▎ | 20819/24878 [03:37<00:47, 85.47it/s]"
     ]
    },
    {
     "name": "stdout",
     "output_type": "stream",
     "text": [
      "---- Ridin Too many words in a line\n"
     ]
    },
    {
     "name": "stderr",
     "output_type": "stream",
     "text": [
      " 84%|████████▍ | 20857/24878 [03:37<00:45, 87.60it/s]"
     ]
    },
    {
     "name": "stdout",
     "output_type": "stream",
     "text": [
      "---- Bread Winners Too many words in a line\n"
     ]
    },
    {
     "name": "stderr",
     "output_type": "stream",
     "text": [
      " 84%|████████▍ | 20949/24878 [03:38<00:41, 93.62it/s]"
     ]
    },
    {
     "name": "stdout",
     "output_type": "stream",
     "text": [
      "---- I Wanna (Drinking Lean Is Amazing) Too many words in a line\n",
      "---- Cry Like This Too many words in a line\n"
     ]
    },
    {
     "name": "stderr",
     "output_type": "stream",
     "text": [
      " 84%|████████▍ | 21021/24878 [03:39<00:41, 93.99it/s]"
     ]
    },
    {
     "name": "stdout",
     "output_type": "stream",
     "text": [
      "XXXX Ammo has no verses\n"
     ]
    },
    {
     "name": "stderr",
     "output_type": "stream",
     "text": [
      " 85%|████████▍ | 21072/24878 [03:39<00:40, 93.56it/s]"
     ]
    },
    {
     "name": "stdout",
     "output_type": "stream",
     "text": [
      "XXXX Heart in a Bag* has no verses\n"
     ]
    },
    {
     "name": "stderr",
     "output_type": "stream",
     "text": [
      " 85%|████████▍ | 21120/24878 [03:40<00:45, 82.12it/s]"
     ]
    },
    {
     "name": "stdout",
     "output_type": "stream",
     "text": [
      "---- Get What You Want Too many words in a line\n"
     ]
    },
    {
     "name": "stderr",
     "output_type": "stream",
     "text": [
      " 85%|████████▌ | 21150/24878 [03:40<00:41, 89.43it/s]"
     ]
    },
    {
     "name": "stdout",
     "output_type": "stream",
     "text": [
      "XXXX Wanna Meet has no verses\n",
      "XXXX Nothing Personal* has no verses\n",
      "XXXX Latest Gucci On My Kids* has no verses\n"
     ]
    },
    {
     "name": "stderr",
     "output_type": "stream",
     "text": [
      " 85%|████████▌ | 21208/24878 [03:41<00:41, 88.04it/s]"
     ]
    },
    {
     "name": "stdout",
     "output_type": "stream",
     "text": [
      "XXXX Home Alone has no verses\n"
     ]
    },
    {
     "name": "stderr",
     "output_type": "stream",
     "text": [
      " 85%|████████▌ | 21238/24878 [03:41<00:40, 90.64it/s]"
     ]
    },
    {
     "name": "stdout",
     "output_type": "stream",
     "text": [
      "XXXX You Aint Never has no verses\n",
      "XXXX Like Ooo (Duplicate Page) has no verses\n"
     ]
    },
    {
     "name": "stderr",
     "output_type": "stream",
     "text": [
      " 85%|████████▌ | 21258/24878 [03:41<00:39, 92.51it/s]"
     ]
    },
    {
     "name": "stdout",
     "output_type": "stream",
     "text": [
      "XXXX From The Trap has no verses\n"
     ]
    },
    {
     "name": "stderr",
     "output_type": "stream",
     "text": [
      " 86%|████████▌ | 21290/24878 [03:42<00:36, 97.42it/s]"
     ]
    },
    {
     "name": "stdout",
     "output_type": "stream",
     "text": [
      "XXXX Reddit AMA has no verses\n",
      "XXXX Bad Bitch With Me* has no verses\n",
      "XXXX Real Love has no verses\n",
      "XXXX Cray Cray has no verses\n"
     ]
    },
    {
     "name": "stderr",
     "output_type": "stream",
     "text": [
      " 86%|████████▌ | 21316/24878 [03:42<00:33, 107.44it/s]"
     ]
    },
    {
     "name": "stdout",
     "output_type": "stream",
     "text": [
      "XXXX On you* has no verses\n",
      "XXXX Streets (Beast Mode) has no verses\n",
      "XXXX Sickness has no verses\n"
     ]
    },
    {
     "name": "stderr",
     "output_type": "stream",
     "text": [
      " 86%|████████▌ | 21341/24878 [03:42<00:30, 115.15it/s]"
     ]
    },
    {
     "name": "stdout",
     "output_type": "stream",
     "text": [
      "XXXX Ice Ice has no verses\n",
      "XXXX At the Spot has no verses\n",
      "XXXX How Many Times Can I Sin has no verses\n",
      "XXXX Far has no verses\n",
      "XXXX King Size has no verses\n",
      "XXXX Million Dollar Lick has no verses\n",
      "XXXX Take It Out On Me* has no verses\n",
      "XXXX Crazy has no verses\n",
      "XXXX Call Me Zaza has no verses\n",
      "XXXX Designer has no verses\n"
     ]
    },
    {
     "name": "stderr",
     "output_type": "stream",
     "text": [
      "                                                      "
     ]
    },
    {
     "name": "stdout",
     "output_type": "stream",
     "text": [
      "XXXX Told You Bout It Every Time has no verses\n",
      "XXXX I Can Tell You has no verses\n",
      "XXXX Young Boy has no verses\n",
      "XXXX Don’t you talk to me has no verses\n",
      "XXXX Chasethemoney has no verses\n",
      "XXXX Ran It Up has no verses\n",
      "XXXX Fresher Than A Mannequin has no verses\n",
      "XXXX Money Hit (Duplicate Page) has no verses\n",
      "XXXX Watch Out has no verses\n",
      "XXXX Evil Spirits has no verses\n",
      "XXXX Tokyo Vanity has no verses\n",
      "XXXX VIR Car Seat has no verses\n",
      "XXXX Hell To The No has no verses\n",
      "XXXX Hoodie has no verses\n",
      "XXXX By The 1000s has no verses\n",
      "XXXX How To Fuck has no verses\n",
      "XXXX What you wanna poo (Unreleased) has no verses\n",
      "XXXX Mixed Flavors has no verses\n",
      "XXXX Rosert has no verses\n",
      "XXXX Toss ur Salad has no verses\n",
      "XXXX Harder Than A Drug has no verses\n",
      "XXXX For The Longest has no verses\n",
      "XXXX Get Up Wid Me has no verses\n"
     ]
    },
    {
     "name": "stderr",
     "output_type": "stream",
     "text": [
      " 86%|████████▌ | 21395/24878 [03:43<00:23, 150.33it/s]"
     ]
    },
    {
     "name": "stdout",
     "output_type": "stream",
     "text": [
      "XXXX Recess has no verses\n",
      "XXXX Spaceship has no verses\n",
      "XXXX Margiella has no verses\n",
      "XXXX Dynasty has no verses\n",
      "XXXX Snack has no verses\n",
      "XXXX Max To Incomp has no verses\n",
      "XXXX Time Out has no verses\n",
      "XXXX Hip Hop Vs. Rap has no verses\n",
      "XXXX Black Cop has no verses\n"
     ]
    },
    {
     "name": "stderr",
     "output_type": "stream",
     "text": [
      " 86%|████████▌ | 21425/24878 [03:43<00:30, 112.45it/s]"
     ]
    },
    {
     "name": "stdout",
     "output_type": "stream",
     "text": [
      "XXXX Hip Hop Knowledge has no verses\n",
      "XXXX 2nd Quarter - Free Throws has no verses\n",
      "XXXX R.E.A.L.I.T.Y. has no verses\n"
     ]
    },
    {
     "name": "stderr",
     "output_type": "stream",
     "text": [
      " 86%|████████▋ | 21462/24878 [03:43<00:31, 106.84it/s]"
     ]
    },
    {
     "name": "stdout",
     "output_type": "stream",
     "text": [
      "XXXX Squash All Beef has no verses\n",
      "---- The Invaders Too many words in a line\n",
      "XXXX I Got Next/Neva Hadda Gun has no verses\n",
      "XXXX Bring It Back has no verses\n",
      "---- You Ain’t Got Time Too many words in a line\n",
      "XXXX Woop! Woop! has no verses\n"
     ]
    },
    {
     "name": "stderr",
     "output_type": "stream",
     "text": [
      " 86%|████████▋ | 21487/24878 [03:43<00:31, 108.42it/s]"
     ]
    },
    {
     "name": "stdout",
     "output_type": "stream",
     "text": [
      "XXXX 1st Quarter - The Commentary has no verses\n",
      "XXXX Over Ya Head has no verses\n",
      "XXXX Good Bye has no verses\n",
      "XXXX Criminal Minded has no verses\n",
      "XXXX We will rock you has no verses\n",
      "XXXX Shutupayouface has no verses\n",
      "XXXX Why has too many verses\n",
      "XXXX Just to Prove a Point has no verses\n"
     ]
    },
    {
     "name": "stderr",
     "output_type": "stream",
     "text": [
      " 87%|████████▋ | 21523/24878 [03:44<00:31, 107.15it/s]"
     ]
    },
    {
     "name": "stdout",
     "output_type": "stream",
     "text": [
      "XXXX Blitzen Raps has no verses\n",
      "XXXX You Like Me has no verses\n",
      "XXXX Don’t Ever Stop has no verses\n",
      "XXXX I’m On the Mic has no verses\n",
      "XXXX Down the Charts has no verses\n"
     ]
    },
    {
     "name": "stderr",
     "output_type": "stream",
     "text": [
      " 87%|████████▋ | 21547/24878 [03:44<00:30, 109.15it/s]"
     ]
    },
    {
     "name": "stdout",
     "output_type": "stream",
     "text": [
      "XXXX South Bronx 2002 has too many verses\n",
      "XXXX Only One has no verses\n",
      "XXXX I Will Make It has too many verses\n",
      "XXXX Hip Hop Is One has no verses\n",
      "XXXX Break the Chain has no verses\n"
     ]
    },
    {
     "name": "stderr",
     "output_type": "stream",
     "text": [
      " 87%|████████▋ | 21584/24878 [03:44<00:29, 109.86it/s]"
     ]
    },
    {
     "name": "stdout",
     "output_type": "stream",
     "text": [
      "XXXX Survivin’ has too many verses\n",
      "XXXX High School Rock has no verses\n",
      "XXXX Never forget has no verses\n",
      "XXXX 3rd Quarter - The Commentary has no verses\n",
      "XXXX Halftime has no verses\n"
     ]
    },
    {
     "name": "stderr",
     "output_type": "stream",
     "text": [
      " 87%|████████▋ | 21610/24878 [03:45<00:28, 114.59it/s]"
     ]
    },
    {
     "name": "stdout",
     "output_type": "stream",
     "text": [
      "XXXX Power has no verses\n",
      "XXXX 4th Quarter - Free Throws has no verses\n",
      "XXXX Temple Tactics has no verses\n",
      "XXXX I’m Still No. 1 has no verses\n",
      "XXXX They Are Taking Your Time has no verses\n"
     ]
    },
    {
     "name": "stderr",
     "output_type": "stream",
     "text": [
      " 87%|████████▋ | 21636/24878 [03:45<00:28, 112.72it/s]"
     ]
    },
    {
     "name": "stdout",
     "output_type": "stream",
     "text": [
      "XXXX G. Simone Speaks has no verses\n",
      "XXXX Perhaps She’ll Die (Livin a Lie) has no verses\n",
      "XXXX Plan Up Your Family has no verses\n",
      "XXXX WordPerfect has no verses\n",
      "XXXX Perhaps She’ll Die has no verses\n",
      "XXXX Preserve the Kulture has no verses\n",
      "XXXX T’Cha & The Student has no verses\n",
      "XXXX Dance Like It Don’t Matter has no verses\n"
     ]
    },
    {
     "name": "stderr",
     "output_type": "stream",
     "text": [
      " 87%|████████▋ | 21672/24878 [03:45<00:27, 115.45it/s]"
     ]
    },
    {
     "name": "stdout",
     "output_type": "stream",
     "text": [
      "XXXX Threw It On the Ground has no verses\n",
      "---- Natalie’s Rap 2.0 Too many words in a line\n"
     ]
    },
    {
     "name": "stderr",
     "output_type": "stream",
     "text": [
      " 87%|████████▋ | 21697/24878 [03:45<00:27, 117.75it/s]"
     ]
    },
    {
     "name": "stdout",
     "output_type": "stream",
     "text": [
      "XXXX We’re Back has too many verses\n",
      "XXXX Spring Break Anthem (Single) has too many verses\n",
      "XXXX Ibitha has no verses\n",
      "XXXX Sick Glenda has no verses\n",
      "XXXX Meet the Crew has no verses\n",
      "XXXX Legalize It has no verses\n",
      "XXXX Trouble On Dookie Island has no verses\n"
     ]
    },
    {
     "name": "stderr",
     "output_type": "stream",
     "text": [
      " 87%|████████▋ | 21738/24878 [03:46<00:24, 127.75it/s]"
     ]
    },
    {
     "name": "stdout",
     "output_type": "stream",
     "text": [
      "XXXX Me Likey Dat has no verses\n",
      "XXXX Owen’s Song has no verses\n",
      "XXXX Mama has too many verses\n",
      "XXXX Maximus has no verses\n",
      "XXXX Hot New Single (Dialogue) has no verses\n",
      "XXXX Trip to Spain (Dialogue) has no verses\n",
      "XXXX Normal Guy has no verses\n",
      "XXXX That’s When You Break has no verses\n",
      "XXXX Reba (Two Worlds Collide) has too many verses\n"
     ]
    },
    {
     "name": "stderr",
     "output_type": "stream",
     "text": [
      " 87%|████████▋ | 21760/24878 [03:46<00:21, 145.35it/s]"
     ]
    },
    {
     "name": "stdout",
     "output_type": "stream",
     "text": [
      "XXXX Awesometown Theme has no verses\n",
      "XXXX I f****d my aunt has no verses\n",
      "XXXX Shrooms has no verses\n",
      "XXXX SPRING BREAK ANTHEM (Music Video Only Version) has no verses\n",
      "XXXX Kill This Music (Dialogue) has no verses\n",
      "XXXX I f****d my aunt - commentary version has no verses\n",
      "XXXX Why Not Me? has too many verses\n",
      "XXXX Where Brooklyn At? has no verses\n",
      "XXXX The Shooting AKA Dear Sister has no verses\n",
      "XXXX 3-Way (The Golden Rule) - Commentary Version has no verses\n",
      "XXXX Hugs - commentary version has no verses\n",
      "XXXX The 100th Digital Short has no verses\n",
      "XXXX The compliments - commentary version has no verses\n",
      "XXXX Go kindergarten - commentary version has no verses\n",
      "XXXX My Pants has no verses\n",
      "XXXX We’re On Stage has no verses\n",
      "XXXX I’m a hustler (song?) - commentary version has no verses\n"
     ]
    },
    {
     "name": "stderr",
     "output_type": "stream",
     "text": [
      "                                                      "
     ]
    },
    {
     "name": "stdout",
     "output_type": "stream",
     "text": [
      "---- Because the internet Screenplay - Part 1 Too many words in a line\n"
     ]
    },
    {
     "name": "stderr",
     "output_type": "stream",
     "text": [
      " 88%|████████▊ | 21827/24878 [03:46<00:28, 107.27it/s]"
     ]
    },
    {
     "name": "stdout",
     "output_type": "stream",
     "text": [
      "---- Centipede Too many words in a line\n",
      "XXXX “Clapping for the Wrong Reasons” Screenplay has no verses\n",
      "XXXX Open Letter on Instagram has no verses\n",
      "---- U Don’t Have to Call Too many words in a line\n"
     ]
    },
    {
     "name": "stderr",
     "output_type": "stream",
     "text": [
      " 88%|████████▊ | 21850/24878 [03:47<00:28, 104.45it/s]"
     ]
    },
    {
     "name": "stdout",
     "output_type": "stream",
     "text": [
      "XXXX ​​Dial Up has no verses\n",
      "XXXX The Night Me and Your Mama Met has no verses\n",
      "XXXX Playing Around Before the Party Starts has no verses\n"
     ]
    },
    {
     "name": "stderr",
     "output_type": "stream",
     "text": [
      " 88%|████████▊ | 21872/24878 [03:47<00:29, 103.27it/s]"
     ]
    },
    {
     "name": "stdout",
     "output_type": "stream",
     "text": [
      "XXXX Because the internet Screenplay - Part 2 has too many verses\n"
     ]
    },
    {
     "name": "stderr",
     "output_type": "stream",
     "text": [
      " 88%|████████▊ | 21895/24878 [03:47<00:28, 105.47it/s]"
     ]
    },
    {
     "name": "stdout",
     "output_type": "stream",
     "text": [
      "---- Because the internet Screenplay - Part 3 Too many words in a line\n",
      "---- Because the internet Screenplay - Part 4 Too many words in a line\n",
      "XXXX “ask me words” - bino (notero is here too) has no verses\n",
      "OOOO 0.00 has af\n",
      "---- Because the internet Screenplay - Part 5 Too many words in a line\n",
      "XXXX Because the Internet Album Cover has no verses\n",
      "XXXX The Deep Web Tour Dates has no verses\n",
      "XXXX My Outfit has no verses\n",
      "XXXX New Prince (Crown on the Ground) has no verses\n",
      "XXXX Yes has no verses\n",
      "XXXX “childish gambino is a white rapper” has no verses\n"
     ]
    },
    {
     "name": "stderr",
     "output_type": "stream",
     "text": [
      " 88%|████████▊ | 21934/24878 [03:47<00:27, 108.56it/s]"
     ]
    },
    {
     "name": "stdout",
     "output_type": "stream",
     "text": [
      "XXXX The Real has no verses\n",
      "XXXX I Can Hear Your Feet (Sunrise) has no verses\n",
      "XXXX Because The Internet Movie Poster has no verses\n",
      "XXXX The Switch has no verses\n",
      "XXXX Get It (Tightrope) has no verses\n"
     ]
    },
    {
     "name": "stderr",
     "output_type": "stream",
     "text": [
      " 88%|████████▊ | 21959/24878 [03:48<00:26, 110.67it/s]"
     ]
    },
    {
     "name": "stdout",
     "output_type": "stream",
     "text": [
      "XXXX @thegoldmolar has no verses\n",
      "XXXX For the Fans (Warm Heart of Africa) has no verses\n",
      "---- The Awesome Too many words in a line\n",
      "XXXX Time (Guava Island Version) has no verses\n",
      "OOOO Red’s Cargo has it\n",
      "XXXX Get Like Me has no verses\n"
     ]
    },
    {
     "name": "stderr",
     "output_type": "stream",
     "text": [
      " 88%|████████▊ | 21985/24878 [03:48<00:25, 112.98it/s]"
     ]
    },
    {
     "name": "stdout",
     "output_type": "stream",
     "text": [
      "---- The Deep Web Tour Blog - Part 1 Too many words in a line\n",
      "XXXX @Hello_Pity_ has no verses\n",
      "XXXX @djtwercules has no verses\n",
      "---- I’m So Official Too many words in a line\n",
      "XXXX Bitch Look At Me Now (Two Weeks) has no verses\n",
      "---- The Deep Web Too many words in a line\n",
      "---- Burban In The Booth Too many words in a line\n",
      "XXXX It Doesn’t Matter has no verses\n",
      "XXXX Childish Gambino Music Videos has no verses\n",
      "XXXX Feels Like Summer (Music Video) has no verses\n",
      "XXXX The Real (Infinity Guitars) has no verses\n"
     ]
    },
    {
     "name": "stderr",
     "output_type": "stream",
     "text": [
      " 88%|████████▊ | 22014/24878 [03:48<00:23, 120.65it/s]"
     ]
    },
    {
     "name": "stdout",
     "output_type": "stream",
     "text": [
      "XXXX Complex Photo Shoot February/March 2014 has no verses\n",
      "XXXX What The F— Are You? (Colouring Of Pigeons) has no verses\n",
      "XXXX Thinking of You has no verses\n",
      "XXXX End of the beginning. has no verses\n",
      "XXXX I Love Clothes (Deadbeat Summer) has no verses\n",
      "XXXX Photos* has no verses\n",
      "XXXX Why do people defend Childish for this but not Lil B has no verses\n",
      "XXXX Payback Ending has no verses\n"
     ]
    },
    {
     "name": "stderr",
     "output_type": "stream",
     "text": [
      " 89%|████████▉ | 22092/24878 [03:49<00:28, 97.72it/s] "
     ]
    },
    {
     "name": "stdout",
     "output_type": "stream",
     "text": [
      "---- Front Door Too many words in a line\n"
     ]
    },
    {
     "name": "stderr",
     "output_type": "stream",
     "text": [
      " 89%|████████▉ | 22125/24878 [03:49<00:28, 97.37it/s] "
     ]
    },
    {
     "name": "stdout",
     "output_type": "stream",
     "text": [
      "XXXX Moncler has no verses\n",
      "OOOO Backpack* has tl\n"
     ]
    },
    {
     "name": "stderr",
     "output_type": "stream",
     "text": [
      " 89%|████████▉ | 22154/24878 [03:49<00:23, 115.44it/s]"
     ]
    },
    {
     "name": "stdout",
     "output_type": "stream",
     "text": [
      "XXXX Fuck My Teacher has no verses\n",
      "XXXX Family* has no verses\n",
      "XXXX Reacher* has no verses\n",
      "XXXX KKK* has no verses\n",
      "XXXX Camouflage* has no verses\n",
      "XXXX Geeking On The Molly has no verses\n",
      "XXXX Scrape The Pot has no verses\n",
      "XXXX THOT! has no verses\n",
      "XXXX I Wish has no verses\n",
      "XXXX Russian Roulette has no verses\n",
      "XXXX On Da Grind has no verses\n",
      "XXXX Poppin Seals has no verses\n",
      "XXXX Call A Shot has no verses\n"
     ]
    },
    {
     "name": "stderr",
     "output_type": "stream",
     "text": [
      " 89%|████████▉ | 22189/24878 [03:50<00:27, 99.19it/s] "
     ]
    },
    {
     "name": "stdout",
     "output_type": "stream",
     "text": [
      "---- Sick & Tired Too many words in a line\n",
      "---- N64 Too many words in a line\n"
     ]
    },
    {
     "name": "stderr",
     "output_type": "stream",
     "text": [
      " 89%|████████▉ | 22222/24878 [03:50<00:26, 98.99it/s]"
     ]
    },
    {
     "name": "stdout",
     "output_type": "stream",
     "text": [
      "---- Narcotics Too many words in a line\n",
      "---- Pure Enough Too many words in a line\n"
     ]
    },
    {
     "name": "stderr",
     "output_type": "stream",
     "text": [
      " 89%|████████▉ | 22255/24878 [03:51<00:26, 99.43it/s]"
     ]
    },
    {
     "name": "stdout",
     "output_type": "stream",
     "text": [
      "XXXX Soulja Boy | ZOULJA 13OY has no verses\n",
      "---- My Nig Too many words in a line\n"
     ]
    },
    {
     "name": "stderr",
     "output_type": "stream",
     "text": [
      " 90%|████████▉ | 22282/24878 [03:51<00:23, 110.89it/s]"
     ]
    },
    {
     "name": "stdout",
     "output_type": "stream",
     "text": [
      "XXXX NEMESIS has no verses\n",
      "XXXX ХОХОЛ has no verses\n",
      "XXXX 1995 Phonk Blvcklvnd Rvdix 66.6 (Rvidxr Klvn) has no verses\n",
      "XXXX Lil Lotto* has no verses\n"
     ]
    },
    {
     "name": "stderr",
     "output_type": "stream",
     "text": [
      " 90%|████████▉ | 22317/24878 [03:51<00:24, 104.47it/s]"
     ]
    },
    {
     "name": "stdout",
     "output_type": "stream",
     "text": [
      "XXXX Skyfall has too many verses\n"
     ]
    },
    {
     "name": "stderr",
     "output_type": "stream",
     "text": [
      " 90%|████████▉ | 22377/24878 [03:52<00:22, 112.99it/s]"
     ]
    },
    {
     "name": "stdout",
     "output_type": "stream",
     "text": [
      "---- Dinosaurus Too many words in a line\n"
     ]
    },
    {
     "name": "stderr",
     "output_type": "stream",
     "text": [
      " 90%|█████████ | 22401/24878 [03:52<00:21, 115.76it/s]"
     ]
    },
    {
     "name": "stdout",
     "output_type": "stream",
     "text": [
      "---- Birds in the Trap [Short Film] Too many words in a line\n",
      "XXXX Rodeo Thank You Letter has no verses\n"
     ]
    },
    {
     "name": "stderr",
     "output_type": "stream",
     "text": [
      " 90%|█████████ | 22429/24878 [03:52<00:19, 124.39it/s]"
     ]
    },
    {
     "name": "stdout",
     "output_type": "stream",
     "text": [
      "XXXX Birds in the Trap Sing McKnight [Thank You Letter] has no verses\n",
      "XXXX Family* has no verses\n",
      "XXXX Rodeo Tour Dates has no verses\n",
      "XXXX BET Cypher 2013 has no verses\n",
      "XXXX Drugs 2* has no verses\n",
      "XXXX Cash* has no verses\n"
     ]
    },
    {
     "name": "stderr",
     "output_type": "stream",
     "text": [
      " 90%|█████████ | 22463/24878 [03:52<00:17, 139.54it/s]"
     ]
    },
    {
     "name": "stdout",
     "output_type": "stream",
     "text": [
      "XXXX Camera Flashes* has no verses\n",
      "XXXX Birds Eye View Tour Dates has no verses\n",
      "XXXX Manhattan* has no verses\n",
      "XXXX Paranoid has no verses\n",
      "XXXX Like Travis* has no verses\n",
      "XXXX Don’t Bother* has no verses\n",
      "XXXX Cactus Trails Escape has no verses\n",
      "XXXX Dark Palace has no verses\n",
      "XXXX Tractory has no verses\n",
      "XXXX THIS GIRL has no verses\n",
      "XXXX YO has no verses\n",
      "XXXX TBA* has no verses\n",
      "XXXX Perfect (leak) has no verses\n",
      "XXXX Super Jack has no verses\n",
      "XXXX UTOPIA has no verses\n",
      "XXXX Houdini (Duplicate) has no verses\n",
      "XXXX Track: ??? has no verses\n",
      "XXXX Sicc mode has no verses\n"
     ]
    },
    {
     "name": "stderr",
     "output_type": "stream",
     "text": [
      " 91%|█████████ | 22529/24878 [03:53<00:22, 103.28it/s]"
     ]
    },
    {
     "name": "stdout",
     "output_type": "stream",
     "text": [
      "---- What Dreams Are Made Of Too many words in a line\n"
     ]
    },
    {
     "name": "stderr",
     "output_type": "stream",
     "text": [
      " 91%|█████████ | 22554/24878 [03:53<00:20, 112.15it/s]"
     ]
    },
    {
     "name": "stdout",
     "output_type": "stream",
     "text": [
      "XXXX Rap Monument has no verses\n",
      "XXXX 2 Good to be T.R.U Tour Dates has no verses\n",
      "XXXX Feelin’ Myself has no verses\n",
      "XXXX Darkest Before Dawn: Short Film (Script) has no verses\n",
      "XXXX I Still Wanna Rock has no verses\n",
      "---- Trouble Too many words in a line\n",
      "XXXX Speakers Going Hammer has no verses\n",
      "XXXX Filling My Self has no verses\n",
      "XXXX Goin’ out has no verses\n",
      "XXXX Untitled has no verses\n",
      "XXXX Mard Piano has no verses\n"
     ]
    },
    {
     "name": "stderr",
     "output_type": "stream",
     "text": [
      " 91%|█████████ | 22647/24878 [03:54<00:23, 94.75it/s] "
     ]
    },
    {
     "name": "stdout",
     "output_type": "stream",
     "text": [
      "XXXX Murda On My Mind has no verses\n"
     ]
    },
    {
     "name": "stderr",
     "output_type": "stream",
     "text": [
      " 91%|█████████ | 22667/24878 [03:54<00:23, 93.60it/s]"
     ]
    },
    {
     "name": "stdout",
     "output_type": "stream",
     "text": [
      "XXXX Crushin’ Feelin’s has no verses\n",
      "XXXX The Wave has no verses\n"
     ]
    },
    {
     "name": "stderr",
     "output_type": "stream",
     "text": [
      " 91%|█████████ | 22689/24878 [03:55<00:21, 100.47it/s]"
     ]
    },
    {
     "name": "stdout",
     "output_type": "stream",
     "text": [
      "XXXX Midwest Malcolm (Inhale) has no verses\n",
      "---- County Bounce Too many words in a line\n",
      "XXXX Something New has no verses\n",
      "---- Ten Packs of Backwoods Too many words in a line\n",
      "XXXX Stray has no verses\n",
      "XXXX On some G shit has no verses\n",
      "---- Murda Dem Too many words in a line\n"
     ]
    },
    {
     "name": "stderr",
     "output_type": "stream",
     "text": [
      " 91%|█████████▏| 22728/24878 [03:55<00:19, 109.64it/s]"
     ]
    },
    {
     "name": "stdout",
     "output_type": "stream",
     "text": [
      "XXXX Higher Learning (Exhale) has no verses\n",
      "XXXX Keep It Pimpin’ has no verses\n",
      "XXXX Mobbin has no verses\n",
      "XXXX Playa has no verses\n",
      "XXXX Born 2 Roll has no verses\n",
      "XXXX The Wrong One has no verses\n",
      "XXXX Close Your Eyes has no verses\n",
      "XXXX This is Freddie has no verses\n",
      "XXXX Caught In A Daze has no verses\n",
      "XXXX Talkin’ Bout You has no verses\n",
      "---- For My N*ggas Too many words in a line\n",
      "XXXX 219 has no verses\n"
     ]
    },
    {
     "name": "stderr",
     "output_type": "stream",
     "text": [
      " 91%|█████████▏| 22752/24878 [03:55<00:19, 107.89it/s]"
     ]
    },
    {
     "name": "stdout",
     "output_type": "stream",
     "text": [
      "XXXX Get Sent Up has no verses\n",
      "---- Things Can Only Get Better Too many words in a line\n",
      "XXXX Scary Gary has no verses\n",
      "XXXX Stay High has no verses\n",
      "XXXX The Revenue has no verses\n",
      "XXXX I’m A G has no verses\n",
      "---- Full Metal Jackit Jump Off Too many words in a line\n",
      "XXXX I wanna do it (feat. sir michael rocks) has no verses\n",
      "XXXX My n*gga (feat. g-wiz, hit, d-edge) has no verses\n"
     ]
    },
    {
     "name": "stderr",
     "output_type": "stream",
     "text": [
      " 92%|█████████▏| 22774/24878 [03:55<00:21, 98.71it/s] "
     ]
    },
    {
     "name": "stdout",
     "output_type": "stream",
     "text": [
      "XXXX Murdergame has no verses\n",
      "XXXX Mike Vick has no verses\n",
      "XXXX Untitled Benny The Butcher Collaboration has no verses\n"
     ]
    },
    {
     "name": "stderr",
     "output_type": "stream",
     "text": [
      " 92%|█████████▏| 22807/24878 [03:56<00:20, 101.17it/s]"
     ]
    },
    {
     "name": "stdout",
     "output_type": "stream",
     "text": [
      "---- Sauce Boyz Too many words in a line\n",
      "XXXX B.O.N has no verses\n",
      "---- Pop Off Too many words in a line\n",
      "---- How I Do Too many words in a line\n",
      "---- Everything Too many words in a line\n",
      "XXXX Automatic* has no verses\n",
      "XXXX Sooner has no verses\n",
      "XXXX End of Time* has no verses\n"
     ]
    },
    {
     "name": "stderr",
     "output_type": "stream",
     "text": [
      " 92%|█████████▏| 22839/24878 [03:56<00:16, 120.24it/s]"
     ]
    },
    {
     "name": "stdout",
     "output_type": "stream",
     "text": [
      "---- Sauce Niggaz Too many words in a line\n",
      "XXXX PAYOLA has no verses\n",
      "XXXX Name it has no verses\n",
      "XXXX Broke has no verses\n",
      "XXXX Won’t change* has no verses\n",
      "XXXX Cardi B’s Tattoos has no verses\n",
      "XXXX Nobody 2 has no verses\n",
      "XXXX Diamonds Our A Girls BFF has no verses\n"
     ]
    },
    {
     "name": "stderr",
     "output_type": "stream",
     "text": [
      " 92%|█████████▏| 22909/24878 [03:56<00:15, 131.04it/s]"
     ]
    },
    {
     "name": "stdout",
     "output_type": "stream",
     "text": [
      "---- ​another song Too many words in a line\n",
      "---- ​give u the moon Too many words in a line\n"
     ]
    },
    {
     "name": "stderr",
     "output_type": "stream",
     "text": [
      " 92%|█████████▏| 23001/24878 [03:57<00:12, 144.41it/s]"
     ]
    },
    {
     "name": "stdout",
     "output_type": "stream",
     "text": [
      "XXXX Bullet has no verses\n",
      "XXXX LIL PEEP has no verses\n",
      "XXXX As The Bridge Burns has no verses\n",
      "XXXX GOO$E ON THE LOO$E has no verses\n",
      "XXXX KINGDOM CYPHER has no verses\n",
      "XXXX Trapped In My Mind has no verses\n",
      "XXXX ZHG has no verses\n",
      "XXXX Unknown* w/ Big E has no verses\n",
      "XXXX Unreleased* has no verses\n",
      "XXXX Just In Case has no verses\n",
      "XXXX “Unknown Title” has no verses\n",
      "XXXX Unknown 2014* has no verses\n",
      "XXXX “Unknown Song” has no verses\n",
      "XXXX Unknown* Prod. Craig Xen has no verses\n"
     ]
    },
    {
     "name": "stderr",
     "output_type": "stream",
     "text": [
      " 93%|█████████▎| 23018/24878 [03:57<00:12, 150.05it/s]"
     ]
    },
    {
     "name": "stdout",
     "output_type": "stream",
     "text": [
      "XXXX Goth queen outake has no verses\n",
      "OOOO Big city blues [Tradução Português] has pt\n",
      "XXXX Swamp theme og breath mints has no verses\n",
      "XXXX A has no verses\n",
      "XXXX One more has no verses\n"
     ]
    },
    {
     "name": "stderr",
     "output_type": "stream",
     "text": [
      " 93%|█████████▎| 23061/24878 [03:58<00:16, 110.66it/s]"
     ]
    },
    {
     "name": "stdout",
     "output_type": "stream",
     "text": [
      "---- Frequency Change Too many words in a line\n",
      "---- LeTrow Too many words in a line\n",
      "---- LeTumbapart1 Too many words in a line\n"
     ]
    },
    {
     "name": "stderr",
     "output_type": "stream",
     "text": [
      " 93%|█████████▎| 23096/24878 [03:58<00:16, 108.38it/s]"
     ]
    },
    {
     "name": "stdout",
     "output_type": "stream",
     "text": [
      "---- Route of Evil Too many words in a line\n",
      "XXXX Untitled Logic Collaboration* has no verses\n",
      "XXXX I Said What I Said has no verses\n",
      "XXXX 2 CHAINS has no verses\n",
      "XXXX Back To Back has no verses\n"
     ]
    },
    {
     "name": "stderr",
     "output_type": "stream",
     "text": [
      " 93%|█████████▎| 23120/24878 [03:58<00:15, 109.95it/s]"
     ]
    },
    {
     "name": "stdout",
     "output_type": "stream",
     "text": [
      "XXXX OVER has no verses\n",
      "XXXX Mecca has no verses\n"
     ]
    },
    {
     "name": "stderr",
     "output_type": "stream",
     "text": [
      " 93%|█████████▎| 23226/24878 [03:59<00:14, 111.07it/s]"
     ]
    },
    {
     "name": "stdout",
     "output_type": "stream",
     "text": [
      "XXXX To be deleted (9) has no verses\n"
     ]
    },
    {
     "name": "stderr",
     "output_type": "stream",
     "text": [
      " 94%|█████████▎| 23272/24878 [04:00<00:15, 107.00it/s]"
     ]
    },
    {
     "name": "stdout",
     "output_type": "stream",
     "text": [
      "---- Fire In The Booth Too many words in a line\n"
     ]
    },
    {
     "name": "stderr",
     "output_type": "stream",
     "text": [
      " 94%|█████████▍| 23479/24878 [04:01<00:12, 115.29it/s]"
     ]
    },
    {
     "name": "stdout",
     "output_type": "stream",
     "text": [
      "---- Issues Too many words in a line\n"
     ]
    },
    {
     "name": "stderr",
     "output_type": "stream",
     "text": [
      " 95%|█████████▍| 23582/24878 [04:02<00:10, 120.35it/s]"
     ]
    },
    {
     "name": "stdout",
     "output_type": "stream",
     "text": [
      "---- Love Cage* Too many words in a line\n"
     ]
    },
    {
     "name": "stderr",
     "output_type": "stream",
     "text": [
      "                                                      \r"
     ]
    },
    {
     "name": "stdout",
     "output_type": "stream",
     "text": [
      "XXXX Scary in person has no verses\n"
     ]
    },
    {
     "name": "stderr",
     "output_type": "stream",
     "text": [
      " 95%|█████████▌| 23644/24878 [04:03<00:10, 112.29it/s]"
     ]
    },
    {
     "name": "stdout",
     "output_type": "stream",
     "text": [
      "XXXX But How* has no verses\n",
      "XXXX Blackout has no verses\n",
      "---- You and I Too many words in a line\n",
      "XXXX Rest In Clips has no verses\n",
      "XXXX Smile to go has no verses\n"
     ]
    },
    {
     "name": "stderr",
     "output_type": "stream",
     "text": [
      " 95%|█████████▌| 23668/24878 [04:03<00:11, 110.00it/s]"
     ]
    },
    {
     "name": "stdout",
     "output_type": "stream",
     "text": [
      "XXXX Deprived* has no verses\n",
      "XXXX Took Her has no verses\n",
      "XXXX Pull Up* has no verses\n"
     ]
    },
    {
     "name": "stderr",
     "output_type": "stream",
     "text": [
      " 95%|█████████▌| 23704/24878 [04:03<00:10, 111.06it/s]"
     ]
    },
    {
     "name": "stdout",
     "output_type": "stream",
     "text": [
      "XXXX Only 4 You 2 has no verses\n",
      "XXXX Spark Me Up has no verses\n",
      "---- Tic Toc Too many words in a line\n",
      "---- Let You Know / On The Low Too many words in a line\n",
      "XXXX Girl troubles has no verses\n"
     ]
    },
    {
     "name": "stderr",
     "output_type": "stream",
     "text": [
      " 95%|█████████▌| 23730/24878 [04:04<00:09, 117.30it/s]"
     ]
    },
    {
     "name": "stdout",
     "output_type": "stream",
     "text": [
      "XXXX Starstruck (Version 5) has no verses\n",
      "XXXX Black And White Clean has no verses\n",
      "XXXX Pillz has no verses\n",
      "XXXX Flawless has no verses\n",
      "XXXX Juice WRLD-Tic Tock has no verses\n",
      "XXXX Ungrateful has no verses\n",
      "XXXX Story has no verses\n",
      "XXXX Dark Thoughts has no verses\n",
      "XXXX Last Call has no verses\n"
     ]
    },
    {
     "name": "stderr",
     "output_type": "stream",
     "text": [
      " 96%|█████████▌| 23760/24878 [04:04<00:08, 129.31it/s]"
     ]
    },
    {
     "name": "stdout",
     "output_type": "stream",
     "text": [
      "XXXX With Them has no verses\n",
      "XXXX Good Days 2.0 has no verses\n",
      "XXXX LLJW Legends never die has no verses\n",
      "XXXX A Message To You has no verses\n",
      "XXXX Yo Bishh has no verses\n",
      "XXXX . has no verses\n",
      "XXXX The Last Goodbye has no verses\n",
      "XXXX Bad to the Bone has no verses\n",
      "XXXX Love Don’t Grow On Trees has no verses\n",
      "XXXX Semi Addict has no verses\n",
      "XXXX Bandit new leak has no verses\n",
      "XXXX You Dont Understand has no verses\n",
      "---- There’s times where I feel alone Too many words in a line\n",
      "XXXX To be deleted (2) has no verses\n"
     ]
    },
    {
     "name": "stderr",
     "output_type": "stream",
     "text": [
      " 96%|█████████▌| 23794/24878 [04:04<00:07, 143.51it/s]"
     ]
    },
    {
     "name": "stdout",
     "output_type": "stream",
     "text": [
      "XXXX Meadow* has no verses\n",
      "XXXX One Take has no verses\n",
      "XXXX Waiting has no verses\n",
      "XXXX Life in the underwrld has no verses\n",
      "XXXX Couple M’s has no verses\n",
      "XXXX Her Friend has no verses\n",
      "XXXX To be deleted (3) has no verses\n",
      "XXXX High Again has no verses\n",
      "XXXX Back Home has no verses\n",
      "XXXX Mental Overload has no verses\n",
      "XXXX DELETE has no verses\n",
      "XXXX They All Talk has no verses\n",
      "XXXX Delete this @genius mods has no verses\n",
      "XXXX Take Off has no verses\n",
      "XXXX Here We Go Again has no verses\n",
      "XXXX No Issue (Solo Version) has no verses\n",
      "XXXX Back On It has no verses\n",
      "XXXX Feel Like a God has no verses\n",
      "XXXX Blind Fold has no verses\n",
      "XXXX Deep In has no verses\n",
      "XXXX Show n Tell has no verses\n",
      "XXXX For Your Life (On the Daily) has no verses\n",
      "XXXX Juice Man has no verses\n",
      "XXXX Looking Orders has no verses\n"
     ]
    },
    {
     "name": "stderr",
     "output_type": "stream",
     "text": [
      " 96%|█████████▌| 23828/24878 [04:04<00:07, 133.03it/s]"
     ]
    },
    {
     "name": "stdout",
     "output_type": "stream",
     "text": [
      "OOOO Juice WRLD - Never Cared(Español) has es\n",
      "OOOO Juice WRLD - Remind Me of The Summer (Traducción al Español) has es\n",
      "XXXX Weed is lovely has no verses\n",
      "XXXX Don’t Trust Them has no verses\n",
      "OOOO BEBE has es\n"
     ]
    },
    {
     "name": "stderr",
     "output_type": "stream",
     "text": [
      " 96%|█████████▌| 23842/24878 [04:04<00:09, 111.18it/s]"
     ]
    },
    {
     "name": "stdout",
     "output_type": "stream",
     "text": [
      "OOOO MALA has es\n",
      "OOOO PUNANI has tl\n",
      "OOOO YAYA has es\n"
     ]
    },
    {
     "name": "stderr",
     "output_type": "stream",
     "text": [
      " 96%|█████████▌| 23880/24878 [04:05<00:08, 111.56it/s]"
     ]
    },
    {
     "name": "stdout",
     "output_type": "stream",
     "text": [
      "OOOO CRIMINAL* has es\n",
      "XXXX Bitch Ima Kill you has no verses\n",
      "XXXX WOO has no verses\n",
      "XXXX RØØM 423 has no verses\n"
     ]
    },
    {
     "name": "stderr",
     "output_type": "stream",
     "text": [
      " 96%|█████████▌| 23905/24878 [04:05<00:09, 105.66it/s]"
     ]
    },
    {
     "name": "stdout",
     "output_type": "stream",
     "text": [
      "XXXX SMØKE HILL DRIVE has no verses\n",
      "---- Daniel Hernandez Statements (2015 Use of a Child in a Sexual Performance case) Too many words in a line\n",
      "XXXX Untitled Tory Lanez collaboration* has no verses\n",
      "OOOO YAYA (Clean) has es\n",
      "XXXX . has no verses\n"
     ]
    },
    {
     "name": "stderr",
     "output_type": "stream",
     "text": [
      " 96%|█████████▌| 23938/24878 [04:05<00:09, 99.19it/s] "
     ]
    },
    {
     "name": "stdout",
     "output_type": "stream",
     "text": [
      "---- Versatile Too many words in a line\n",
      "---- Malcolm X.X.X. Too many words in a line\n",
      "XXXX Snot Thot has no verses\n"
     ]
    },
    {
     "name": "stderr",
     "output_type": "stream",
     "text": [
      " 96%|█████████▋| 23949/24878 [04:05<00:09, 98.07it/s]"
     ]
    },
    {
     "name": "stdout",
     "output_type": "stream",
     "text": [
      "---- Honey Bun Too many words in a line\n",
      "---- Signs Too many words in a line\n",
      "---- Christmas in Miami Too many words in a line\n"
     ]
    },
    {
     "name": "stderr",
     "output_type": "stream",
     "text": [
      " 96%|█████████▋| 24000/24878 [04:06<00:09, 95.96it/s]"
     ]
    },
    {
     "name": "stdout",
     "output_type": "stream",
     "text": [
      "---- Molly Too many words in a line\n",
      "XXXX I Need Love has no verses\n",
      "---- Why They Call You Kodak Too many words in a line\n"
     ]
    },
    {
     "name": "stderr",
     "output_type": "stream",
     "text": [
      " 97%|█████████▋| 24031/24878 [04:06<00:08, 95.69it/s]"
     ]
    },
    {
     "name": "stdout",
     "output_type": "stream",
     "text": [
      "---- Ambition (I’m 14 And Already Thinking About Death) Too many words in a line\n",
      "---- About You Without You Too many words in a line\n"
     ]
    },
    {
     "name": "stderr",
     "output_type": "stream",
     "text": [
      " 97%|█████████▋| 24087/24878 [04:07<00:08, 96.10it/s] "
     ]
    },
    {
     "name": "stdout",
     "output_type": "stream",
     "text": [
      "XXXX Love Of My Life has no verses\n",
      "---- Never Imagine Too many words in a line\n"
     ]
    },
    {
     "name": "stderr",
     "output_type": "stream",
     "text": [
      " 97%|█████████▋| 24120/24878 [04:07<00:07, 101.07it/s]"
     ]
    },
    {
     "name": "stdout",
     "output_type": "stream",
     "text": [
      "XXXX Paper Cha$in Haitian has no verses\n",
      "---- Wet Too many words in a line\n",
      "XXXX Rodeo has no verses\n",
      "XXXX Love and War has no verses\n"
     ]
    },
    {
     "name": "stderr",
     "output_type": "stream",
     "text": [
      " 97%|█████████▋| 24144/24878 [04:07<00:06, 104.89it/s]"
     ]
    },
    {
     "name": "stdout",
     "output_type": "stream",
     "text": [
      "XXXX 10ToesDown Challenge Conditioned has no verses\n",
      "XXXX Stay Solid has no verses\n",
      "XXXX Jail Cell Song (I Don’t Know Where I’m Heading) has no verses\n",
      "XXXX I Go has no verses\n",
      "XXXX No Flocking 2 has no verses\n",
      "XXXX === has no verses\n",
      "XXXX 2020 has no verses\n",
      "XXXX Idk has no verses\n",
      "XXXX Burgerking* has no verses\n"
     ]
    },
    {
     "name": "stderr",
     "output_type": "stream",
     "text": [
      " 97%|█████████▋| 24166/24878 [04:08<00:07, 95.61it/s] "
     ]
    },
    {
     "name": "stdout",
     "output_type": "stream",
     "text": [
      "XXXX Untitled 2 has no verses\n",
      "---- Money Trees Too many words in a line\n",
      "XXXX Sing About Me, I’m Dying of Thirst has too many verses\n"
     ]
    },
    {
     "name": "stderr",
     "output_type": "stream",
     "text": [
      " 97%|█████████▋| 24176/24878 [04:08<00:08, 86.55it/s]"
     ]
    },
    {
     "name": "stdout",
     "output_type": "stream",
     "text": [
      "---- FEAR. Too many words in a line\n",
      "---- The Art of Peer Pressure Too many words in a line\n"
     ]
    },
    {
     "name": "stderr",
     "output_type": "stream",
     "text": [
      " 97%|█████████▋| 24204/24878 [04:08<00:08, 83.86it/s]"
     ]
    },
    {
     "name": "stdout",
     "output_type": "stream",
     "text": [
      "---- Real Too many words in a line\n",
      "---- ​untitled 03 | 05.28.2013. Too many words in a line\n",
      "---- Fuck Your Ethnicity Too many words in a line\n"
     ]
    },
    {
     "name": "stderr",
     "output_type": "stream",
     "text": [
      " 97%|█████████▋| 24222/24878 [04:08<00:07, 83.39it/s]"
     ]
    },
    {
     "name": "stdout",
     "output_type": "stream",
     "text": [
      "---- The Heart Pt. 2 Too many words in a line\n"
     ]
    },
    {
     "name": "stderr",
     "output_type": "stream",
     "text": [
      " 97%|█████████▋| 24251/24878 [04:09<00:07, 86.69it/s]"
     ]
    },
    {
     "name": "stdout",
     "output_type": "stream",
     "text": [
      "---- Chapter Six Too many words in a line\n",
      "---- Dreams Too many words in a line\n"
     ]
    },
    {
     "name": "stderr",
     "output_type": "stream",
     "text": [
      " 98%|█████████▊| 24279/24878 [04:09<00:07, 85.30it/s]"
     ]
    },
    {
     "name": "stdout",
     "output_type": "stream",
     "text": [
      "XXXX A Little Appalled has no verses\n",
      "XXXX Kendrick Lamar’s “i” Lyric Video has no verses\n",
      "XXXX For the Girlfriends has no verses\n"
     ]
    },
    {
     "name": "stderr",
     "output_type": "stream",
     "text": [
      " 98%|█████████▊| 24298/24878 [04:09<00:06, 86.39it/s]"
     ]
    },
    {
     "name": "stdout",
     "output_type": "stream",
     "text": [
      "XXXX Kendrick Lamar: Rapper of the Year - GQ has no verses\n",
      "---- Kurupted Too many words in a line\n",
      "XXXX Play with Fire has no verses\n",
      "XXXX My Mind Drifts has no verses\n"
     ]
    },
    {
     "name": "stderr",
     "output_type": "stream",
     "text": [
      " 98%|█████████▊| 24319/24878 [04:09<00:06, 91.96it/s]"
     ]
    },
    {
     "name": "stdout",
     "output_type": "stream",
     "text": [
      "---- G Code Too many words in a line\n",
      "XXXX Facebook Q&A 1/31/14 has no verses\n"
     ]
    },
    {
     "name": "stderr",
     "output_type": "stream",
     "text": [
      " 98%|█████████▊| 24340/24878 [04:10<00:05, 95.28it/s]"
     ]
    },
    {
     "name": "stdout",
     "output_type": "stream",
     "text": [
      "---- Writer At War: Kendrick Lamar’s XXL Cover Story Too many words in a line\n",
      "XXXX Comments on 2014 Grammys has no verses\n",
      "XXXX Daydreaming has no verses\n",
      "---- Hard Body Too many words in a line\n"
     ]
    },
    {
     "name": "stderr",
     "output_type": "stream",
     "text": [
      "                                                      \r"
     ]
    },
    {
     "name": "stdout",
     "output_type": "stream",
     "text": [
      "---- Respect The Classic Too many words in a line\n",
      "---- Guilty Conscience Too many words in a line\n",
      "XXXX Reebok Presents: I Am has no verses\n",
      "XXXX Lyrics Contest Answers (untitled unmastered.) has no verses\n"
     ]
    },
    {
     "name": "stderr",
     "output_type": "stream",
     "text": [
      " 98%|█████████▊| 24400/24878 [04:10<00:04, 106.84it/s]"
     ]
    },
    {
     "name": "stdout",
     "output_type": "stream",
     "text": [
      "XXXX Best Rap Album Acceptance Speech 2018 Grammys has no verses\n",
      "XXXX The Classic has no verses\n",
      "XXXX Lyrical G has no verses\n",
      "XXXX Where I’m From has no verses\n",
      "XXXX Tribute Letter to Tupac Shakur has no verses\n",
      "OOOO Kendrick Lamar - For Free? (Tradução) has pt\n",
      "XXXX For Me** has no verses\n",
      "XXXX Kendrick Lamar GQ Man of the Year Photo Shoot has no verses\n",
      "XXXX Behind the Walls: A Black Comedy has too many verses\n",
      "OOOO Hol’ Up Türkçe Çeviri has tr\n",
      "XXXX Off the Top has no verses\n"
     ]
    },
    {
     "name": "stderr",
     "output_type": "stream",
     "text": [
      " 98%|█████████▊| 24423/24878 [04:10<00:04, 102.69it/s]"
     ]
    },
    {
     "name": "stdout",
     "output_type": "stream",
     "text": [
      "XXXX Chapter Six Türkçe Çeviri has no verses\n",
      "XXXX Pay It Forward has no verses\n",
      "XXXX In My Feelings has no verses\n",
      "---- FuckWithMeYouKnowIGotIt Too many words in a line\n"
     ]
    },
    {
     "name": "stderr",
     "output_type": "stream",
     "text": [
      " 98%|█████████▊| 24444/24878 [04:11<00:04, 93.18it/s] "
     ]
    },
    {
     "name": "stdout",
     "output_type": "stream",
     "text": [
      "---- Public Service Announcement Too many words in a line\n",
      "---- La Familia Too many words in a line\n"
     ]
    },
    {
     "name": "stderr",
     "output_type": "stream",
     "text": [
      " 98%|█████████▊| 24473/24878 [04:11<00:04, 85.98it/s]"
     ]
    },
    {
     "name": "stdout",
     "output_type": "stream",
     "text": [
      "XXXX Brooklyn’s Finest has too many verses\n",
      "---- 100$ Bill Too many words in a line\n",
      "---- December 4th Too many words in a line\n"
     ]
    },
    {
     "name": "stderr",
     "output_type": "stream",
     "text": [
      " 98%|█████████▊| 24492/24878 [04:11<00:04, 84.84it/s]"
     ]
    },
    {
     "name": "stdout",
     "output_type": "stream",
     "text": [
      "---- Success Too many words in a line\n",
      "---- 22 Two’s Too many words in a line\n",
      "---- Supa Ugly Too many words in a line\n"
     ]
    },
    {
     "name": "stderr",
     "output_type": "stream",
     "text": [
      " 99%|█████████▊| 24547/24878 [04:12<00:03, 82.84it/s]"
     ]
    },
    {
     "name": "stdout",
     "output_type": "stream",
     "text": [
      "XXXX Party Life has too many verses\n"
     ]
    },
    {
     "name": "stderr",
     "output_type": "stream",
     "text": [
      " 99%|█████████▉| 24622/24878 [04:13<00:02, 88.85it/s]"
     ]
    },
    {
     "name": "stdout",
     "output_type": "stream",
     "text": [
      "---- Young Gifted and Black Too many words in a line\n",
      "XXXX Purchases  Basquiat Painting ‘Mecca’ For $4.5M has no verses\n",
      "XXXX Appearance on Real Time with Bill Maher has too many verses\n",
      "XXXX Thoughts on Trayvon Martin, President Obama, Race has too many verses\n"
     ]
    },
    {
     "name": "stderr",
     "output_type": "stream",
     "text": [
      " 99%|█████████▉| 24644/24878 [04:13<00:02, 96.69it/s]"
     ]
    },
    {
     "name": "stdout",
     "output_type": "stream",
     "text": [
      "XXXX Ranking His Own Albums has no verses\n",
      "XXXX Dream. On. has no verses\n",
      "XXXX Statement on Barneys Controversy has no verses\n",
      "XXXX “Run This Town” Lawsuit has no verses\n",
      "XXXX Tweets About New Album and New Rules has no verses\n",
      "XXXX The War on Drugs is an Epic Fail has no verses\n",
      "XXXX Troubles On My Mind has no verses\n",
      "XXXX Stretch and Bobbito Show ’95 has no verses\n",
      "XXXX Paradise has no verses\n",
      "XXXX 22 Days Challenge has no verses\n"
     ]
    },
    {
     "name": "stderr",
     "output_type": "stream",
     "text": [
      " 99%|█████████▉| 24676/24878 [04:13<00:01, 101.08it/s]"
     ]
    },
    {
     "name": "stdout",
     "output_type": "stream",
     "text": [
      "XXXX NBA Finals New Track Premiere Teaser has no verses\n",
      "---- RD20 Too many words in a line\n",
      "XXXX Criminology has no verses\n",
      "XXXX Tweets on Tidal’s Status has no verses\n",
      "XXXX Statement on Racial Profiling Review at Barneys has no verses\n",
      "XXXX On To The Next One [Jay-Z + Swizz Beatz] has no verses\n",
      "XXXX Roc Army has too many verses\n",
      "XXXX Spiritual Statement has no verses\n",
      "XXXX Hyphen Hater has no verses\n",
      "XXXX Jay Z Explains Why He Trademarked His Daughter’s Name has no verses\n",
      "XXXX The Scoreboard (His Top Albums) has no verses\n",
      "XXXX Kill Jay Z (Türkçe Çeviri) has no verses\n",
      "XXXX A Word From Hov has no verses\n",
      "---- A Word from the President Too many words in a line\n",
      "XXXX Murda Murda (feat. Memphis Bleek And Beanie Sigel) has no verses\n",
      "XXXX Middle Child has no verses\n",
      "XXXX The Story of OJ (2017) has no verses\n",
      "XXXX Picasso Baby: A Performance Art Film has no verses\n",
      "XXXX On To The Next One [Jay-Z + Swizz Beatz] - Amended has no verses\n",
      "XXXX The Story of OJ - Ms. Brown Version has no verses\n",
      "XXXX Me-ship has no verses\n"
     ]
    },
    {
     "name": "stderr",
     "output_type": "stream",
     "text": [
      " 99%|█████████▉| 24705/24878 [04:14<00:01, 113.05it/s]"
     ]
    },
    {
     "name": "stdout",
     "output_type": "stream",
     "text": [
      "XXXX The Recipe has no verses\n",
      "XXXX Young Jeezy signs to ROC Nation has no verses\n",
      "XXXX CHARGE IT TO THE GAME* has no verses\n",
      "XXXX Denedim has no verses\n",
      "XXXX Vocab has no verses\n",
      "XXXX E has no verses\n",
      "XXXX Jay Z’s ‘Made In America’ Tour Documentery Trailer Surfaces Online has no verses\n",
      "XXXX Made in America Tour Expansion has no verses\n",
      "XXXX Xx has no verses\n",
      "XXXX Jay Z To Launch His Own Range of Leather Backpacks and More has no verses\n",
      "XXXX Tyui has no verses\n",
      "XXXX Second Statement on Barneys Controversy has no verses\n",
      "XXXX Sùi mào gà có được chữa dứt điểm hay không has no verses\n",
      "XXXX Các loại thuốc chữa bệnh sùi mào gà tận gốc tại nhà has no verses\n",
      "OOOO La maison de cire has fr\n"
     ]
    },
    {
     "name": "stderr",
     "output_type": "stream",
     "text": [
      " 99%|█████████▉| 24740/24878 [04:14<00:01, 101.93it/s]"
     ]
    },
    {
     "name": "stdout",
     "output_type": "stream",
     "text": [
      "---- Judgement Day Too many words in a line\n",
      "XXXX The Rock’s Theme - ‘Know Your Role’ has too many verses\n"
     ]
    },
    {
     "name": "stderr",
     "output_type": "stream",
     "text": [
      "                                                      \r"
     ]
    },
    {
     "name": "stdout",
     "output_type": "stream",
     "text": [
      "XXXX Know Your Role [The Rock Theme] has no verses\n",
      "XXXX The Prequel has no verses\n"
     ]
    },
    {
     "name": "stderr",
     "output_type": "stream",
     "text": [
      "100%|█████████▉| 24802/24878 [04:15<00:00, 97.04it/s]"
     ]
    },
    {
     "name": "stdout",
     "output_type": "stream",
     "text": [
      "XXXX Worldwide has no verses\n",
      "XXXX Retro Godfather has no verses\n",
      "XXXX The What has no verses\n",
      "XXXX Method Man has no verses\n",
      "XXXX Y.O.U. has too many verses\n",
      "XXXX How High has no verses\n"
     ]
    },
    {
     "name": "stderr",
     "output_type": "stream",
     "text": [
      "100%|█████████▉| 24836/24878 [04:15<00:00, 105.89it/s]"
     ]
    },
    {
     "name": "stdout",
     "output_type": "stream",
     "text": [
      "XXXX Half Man Half Amazin’ has too many verses\n",
      "XXXX Rain All Day has no verses\n",
      "---- Commerical Break (Impractical Jokers ”Torture”) Too many words in a line\n",
      "XXXX Soundcheck has no verses\n",
      "XXXX So Staten has no verses\n",
      "XXXX What You Getting Into has no verses\n",
      "XXXX Another Winter has no verses\n",
      "XXXX I’ll Be There For You / You’re All I Need To Get By (Puff Daddy Mix) has no verses\n"
     ]
    },
    {
     "name": "stderr",
     "output_type": "stream",
     "text": [
      "100%|█████████▉| 24861/24878 [04:15<00:00, 112.32it/s]"
     ]
    },
    {
     "name": "stdout",
     "output_type": "stream",
     "text": [
      "XXXX It’s in the Game has no verses\n",
      "XXXX Mrs. International has no verses\n",
      "XXXX Tical Album Cover has no verses\n",
      "XXXX Release Yo’ Delf 2 has no verses\n",
      "XXXX Play 4 keeps has no verses\n",
      "XXXX City Lights has no verses\n",
      "XXXX All That I Need has no verses\n",
      "XXXX No Hooks has no verses\n"
     ]
    },
    {
     "name": "stderr",
     "output_type": "stream",
     "text": [
      "100%|██████████| 24878/24878 [04:15<00:00, 97.29it/s] "
     ]
    },
    {
     "name": "stdout",
     "output_type": "stream",
     "text": [
      "XXXX All I Need (Bad Boy mix) has no verses\n",
      "XXXX Meth V.S. Chef Part II has no verses\n",
      "XXXX Hey Zulu has no verses\n",
      "XXXX How Bout Dat has no verses\n",
      "XXXX All I Need (LP version) has no verses\n",
      "XXXX Konichiwa Bi**ches has no verses\n",
      "XXXX Where’s Method Man? has no verses\n",
      "XXXX Dirty Dancin has no verses\n",
      "0:04:15.717436 for 24878 Song\n"
     ]
    },
    {
     "name": "stderr",
     "output_type": "stream",
     "text": [
      "\n"
     ]
    }
   ],
   "source": [
    "filter_songs('cleaned_verses_no_artists/_LIST', filtered_songs_dir)"
   ]
  },
  {
   "cell_type": "markdown",
   "metadata": {},
   "source": [
    "# Clean verses"
   ]
  },
  {
   "cell_type": "code",
   "execution_count": 1,
   "metadata": {
    "collapsed": true
   },
   "outputs": [],
   "source": [
    "from clean_verses import clean_verses, cleaned_verses_dir"
   ]
  },
  {
   "cell_type": "code",
   "execution_count": 2,
   "metadata": {},
   "outputs": [
    {
     "name": "stderr",
     "output_type": "stream",
     "text": [
      "100%|██████████| 19994/19994 [00:30<00:00, 651.40it/s]"
     ]
    },
    {
     "name": "stdout",
     "output_type": "stream",
     "text": [
      "0:00:30.712193 for 19994 Song\n"
     ]
    },
    {
     "name": "stderr",
     "output_type": "stream",
     "text": [
      "\n"
     ]
    }
   ],
   "source": [
    "clean_verses('filtered_songs/_LIST', cleaned_verses_dir)"
   ]
  },
  {
   "cell_type": "markdown",
   "metadata": {},
   "source": [
    "## Process verse metadata to get artists"
   ]
  },
  {
   "cell_type": "code",
   "execution_count": 3,
   "metadata": {
    "collapsed": true
   },
   "outputs": [],
   "source": [
    "from verse_songs_extract_artists import verse_songs_extract_artists, verse_artists_dir"
   ]
  },
  {
   "cell_type": "code",
   "execution_count": 4,
   "metadata": {},
   "outputs": [
    {
     "name": "stderr",
     "output_type": "stream",
     "text": [
      "100%|██████████| 19994/19994 [00:46<00:00, 429.30it/s]\n"
     ]
    },
    {
     "name": "stdout",
     "output_type": "stream",
     "text": [
      "0:00:46.575429 for 19994 Song\n",
      "Removing duplicates from list verses_with_artists/_ARTISTS_LIST.txt\n",
      "Done removing duplicates\n",
      "Removing duplicates from list verses_with_artists/_RAW_ARTISTS_LIST.txt\n",
      "Done removing duplicates\n"
     ]
    }
   ],
   "source": [
    "verse_songs_extract_artists('filtered_songs/_LIST', verse_artists_dir)"
   ]
  },
  {
   "cell_type": "markdown",
   "metadata": {},
   "source": [
    "#### remove duplicates from list"
   ]
  },
  {
   "cell_type": "code",
   "execution_count": 11,
   "metadata": {
    "collapsed": true
   },
   "outputs": [],
   "source": [
    "from dataset_utils import remove_duplicates_from_list_file, read_list_from_file\n",
    "from verse_songs_extract_artists import artists_list_file"
   ]
  },
  {
   "cell_type": "code",
   "execution_count": 4,
   "metadata": {},
   "outputs": [
    {
     "name": "stdout",
     "output_type": "stream",
     "text": [
      "Removing duplicates from list verses_with_artists/_ARTISTS_LIST.txt\n",
      "Done removing duplicates\n"
     ]
    }
   ],
   "source": [
    "remove_duplicates_from_list_file(verse_artists_dir, artists_list_file)"
   ]
  },
  {
   "cell_type": "code",
   "execution_count": 17,
   "metadata": {
    "collapsed": true
   },
   "outputs": [],
   "source": [
    "import re\n",
    "\n",
    "artists = read_list_from_file(\"{}/{}\".format(verse_artists_dir, artists_list_file))\n",
    "weird_artists = list(filter(lambda s: re.search(r'[^a-zA-Z\\d\\s\\.]',s) is not None, artists))\n"
   ]
  },
  {
   "cell_type": "code",
   "execution_count": 19,
   "metadata": {},
   "outputs": [
    {
     "name": "stdout",
     "output_type": "stream",
     "text": [
      "\"22 two's\"\n",
      "\"billy\"\n",
      "\"can i live\"\n",
      "\"come on in,\" then we went to her house\n",
      "\"dead presidents ii\"\n",
      "\"dear love\" by tragic sense\n",
      "\"dred\"\n",
      "\"five deadly venoms\"\n",
      "\"g. luciano\"\n",
      "\"ho\"\n",
      "\"i've been there\" b. dolan\n",
      "\"jd's gafflin'\"\n",
      "\"magic\" bishop don juan\n",
      "\"politics as usual\"\n",
      "\"shaolin vs. wu-tang\"\n",
      "\"shaolin vs. wu-tang\" sample\n",
      "\"sweet franklin\"\n",
      "\"terry, you can go, but ryan's stayin' awhile\"\n",
      "\"what's goin' on?\" i said\n",
      "\"yo check this out,\" is what he said to me\n",
      "$tupid young\n",
      "'4 assassins' samples\n",
      "'hoes'\n",
      "'invincible shaolin' sample\n",
      "'jeopardy' skit\n",
      "'the godfather' sample\n",
      "'the master' sample\n",
      "'unbeaten 28' sample\n",
      "(talking)\n",
      "(verse 1 repeated)\n",
      "*2\n",
      "*a$ap rocky*\n",
      "*busta rhymes*\n",
      "*chamillionaire*\n",
      "*conner4real*\n",
      "*cube talkin with officer*\n",
      "*dr. tc*\n",
      "*dre*\n",
      "*girl voice*\n",
      "*guy talking*\n",
      "*kendrick lamar*\n",
      "*ll cool j*\n",
      "*quavo*\n",
      "*reggie noble*\n",
      "*sample*\n",
      "*samples*\n",
      "*sung*\n",
      "*swizz beatz\n",
      "//herbalistperito.com/\n",
      "//www.lyricsfreak.com/w/wiz+khalifa/taylor+gang_20902740.html\n",
      "//www.lyricsmode.com/lyrics/w/wiz_khalifa/hello_kitty_on_tha_pill.html\n",
      "/missy\n",
      "08 ?\n",
      "10-12\n",
      "12 o'clock\n",
      "12 o’clock\n",
      "13-14\n",
      "2-d\n",
      "20 ?\n",
      "21 ?\n",
      "29 ?\n",
      "2pac & poppi\n",
      "2pac & ryan d.\n",
      "2pac *repeats until end*\n",
      "2pac - impersonating his father\n",
      "2pac as \"soulja\"\n",
      "2pac talking w/ echoes\n",
      "2pac w/ daz dillinger\n",
      "2pac w/ nutt-so talking in background\n",
      "4-ize\n",
      "4th avenue jones'\n",
      "50 - singing\n",
      "50 cent - singing\n",
      "50 cent's son marquise\n",
      "50 impersonating game's voice\n",
      "50/50 twin\n",
      "60 minutes' ed bradley\n",
      "6ix9ine/sisco\n",
      "7-8\n",
      "?\n",
      "? ;\n",
      "??\n",
      "???\n",
      "?leg?\n",
      "A$AP Rocky\n",
      "E-40\n",
      "JAY-Z\n",
      "KRS-One\n",
      "Royce da 5'9\"\n",
      "Tyler, The Creator\n",
      "U-God\n",
      "Wu-Tang Clan\n",
      "[chorus\n",
      "[dj whoo kid\n",
      "[ghostface killah\n",
      "[hook\n",
      "[outro\n",
      "[q-tip\n",
      "[scarface\n",
      "[snoop dogg\n",
      "[talib\n",
      "[verse 1\n",
      "[verse 3\n",
      "a$ap bari\n",
      "a$ap ferg\n",
      "a$ap nast\n",
      "a$ap rocky\n",
      "a$ap twelvyy\n",
      "a$ap yams\n",
      "a-boogie\n",
      "a-f-r-o\n",
      "a-f-r-o as don corleone\n",
      "a-heh sounds silly don't it?\n",
      "a-trak\n",
      "aaron \"a.b.\" abernathy\n",
      "ab-liva\n",
      "ab-soul\n",
      "al \"t\" mclaran\n",
      "amp;diddy\n",
      "and god damn, homeboy you shoulda see that well\n",
      "and here i am cold fuzzin' like i'm in disgrace\n",
      "and prepare for these stares, iced grills don't ever be scared\n",
      "angelika/stahhr\n",
      "answer meeting #2\n",
      "answering question #6 from question\n",
      "ar-16\n",
      "ar-ab\n",
      "as eazy-e\n",
      "augustus hill on “oz”\n",
      "author of 'the coming of tan'\n",
      "b-legit\n",
      "b-real\n",
      "b-real \"\n",
      "b-real sang reggae style\n",
      "back-voicing\n",
      "bad a$$\n",
      "baker don {inspectah deck}\n",
      "bang 'em smurf\n",
      "bay-c\n",
      "ben l’oncle soul\n",
      "ben-g da prince of soul\n",
      "beyoncé\n",
      "big malcolm \"edi\"\n",
      "biggie/bridge - dmx\n",
      "bo-roc\n",
      "bone thugs-n-harmony\n",
      "both​​​\n",
      "bun b/ chingo bling sample\n",
      "bun-b\n",
      "busta - singing\n",
      "but when i open my eyes, my alarm went off\n",
      "but when she opened the door, i couldn't open my mouth\n",
      "but you always got the other one that's that voice of reason\n",
      "buullllllll!\n",
      "bēkon\n",
      "c-ballin\n",
      "c-bo\n",
      "c-bone\n",
      "c-dog\n",
      "c-mob\n",
      "c-mone\n",
      "c-murder\n",
      "c-note\n",
      "c-rayz walz\n",
      "c-rod\n",
      "c-town\n",
      "c-tru\n",
      "ca$h image\n",
      "ca$h out\n",
      "ca$his\n",
      "cam'ron\n",
      "cap-1\n",
      "capitán pingaloca\n",
      "carlos \"6 july\" broady\n",
      "cause then it's too late, i must say, im trying to stay on earth\n",
      "cee-lo\n",
      "cee-lo goodie\n",
      "cee-lo green\n",
      "cee-lo sample\n",
      "chamillionaire w/ kelis doubling cham's vocals after second line\n",
      "chamillionaire/lil keke\n",
      "chamillionaire}\n",
      "character 1; mr. fantastic;\n",
      "chauncy & nick\n",
      "children's choir\n",
      "chip fu from the fu-schickens\n",
      "chip$ black\n",
      "cho-flo\n",
      "congratulations on the -- cass. welcome home nigga!\n",
      "could you knock him out?\n",
      "curren$y\n",
      "currens$y\n",
      "curtis mayfield \"the makings of you\" sample\n",
      "céu\n",
      "d'angelo\n",
      "d'banj\n",
      "d-day\n",
      "d-edge\n",
      "d-elite\n",
      "d-loc\n",
      "d-locc da chop\n",
      "d-shot\n",
      "da$h\n",
      "da' t.r.u.t.h.\n",
      "daddy-o\n",
      "damian marley - 2x\n",
      "dave chappelle {*dj cutting*}\n",
      "dave rockin' reel\n",
      "destiny's child\n",
      "devin /\n",
      "devonté hynes\n",
      "devonté hynes*\n",
      "diddy * nicole scherzinger\n",
      "diddy-dirty money\n",
      "die in la\"\n",
      "dir-tayyyyy\n",
      "dir-tayyyyyyy\n",
      "dj e-z dick\n",
      "dj ez-dicc\n",
      "dj js-1 scratching\n",
      "dj k-swift\n",
      "dj premier sample {lounge mode}\n",
      "dj-k-swift\n",
      "dmx *singing*\n",
      "dmx - repeat 2x\n",
      "donae'o\n",
      "dooney boy {pinky phat phat}\n",
      "dr. doom; character 2\n",
      "drag-on\n",
      "drake's gr\n",
      "droop-e\n",
      "droop-e/e-40\n",
      "dub-c\n",
      "dustin \"dab\" bowie\n",
      "dustin “dab” bowie\n",
      "døves\n",
      "d’african\n",
      "e-40\n",
      "e-40 2x\n",
      "e-40 x2\n",
      "e-40/b-legit\n",
      "e-a-ski\n",
      "e-money bags\n",
      "e-white\n",
      "e.s.g. {y2 twon}\n",
      "ea$y money\n",
      "easy-wider ft. wiz khalifa\n",
      "eazy-e\n",
      "edi \"big malcolm\"\n",
      "edi-mean\n",
      "el-p\n",
      "elaine \"spanky\" mcfarlane\n",
      "elie seckbach/mikael pietrus\n",
      "elzhi's \"ego\"\n",
      "eminem / joan jett\n",
      "ex-gov\n",
      "except my name is ryan d. and it's beautiful day\n",
      "excerpt from the movie \"baby boy\"\n",
      "excision/tech n9ne\n",
      "eye-kyu\n",
      "fabolous {j.d.}\n",
      "fabolous{girl}\n",
      "facked!\n",
      "faith evans {other person}\n",
      "fam-lay\n",
      "father's children\n",
      "finer than the dilla ice t's album cover\n",
      "first she start, twist me back i really don't know how\n",
      "flesh-n-bone\n",
      "for these nigga's that so broke, that there's no hope for repair\n",
      "force md's\n",
      "freaky d$mg\n",
      "from \"clan in da front\"\n",
      "g-dep\n",
      "g-eazy\n",
      "g-mo skee\n",
      "g-money\n",
      "g-wise * vocoder\n",
      "g-wiz\n",
      "gabriel garzón montano\n",
      "game's daughter\n",
      "genius/gza\n",
      "ghostface killah *during hook*\n",
      "ghostface killah *talking to himself*\n",
      "ghostface killah - over hook\n",
      "ghostface killah - to fade\n",
      "ghostface killah w/ billy stewart samples\n",
      "gianni ca$h\n",
      "gil scott-heron\n",
      "girl - repeat 4x\n",
      "god's servant\n",
      "governor two's\n",
      "grady's wife\n",
      "gudda gudda / lil wayne\n",
      "ha-sizzle\n",
      "harry-o\n",
      "havoc - repeat 2x\n",
      "havoc {mr. eon}\n",
      "he don't love like i love you\n",
      "he don't love you\n",
      "he's not even close\n",
      "hey dj!\n",
      "hi-tek\n",
      "hold up kane!\n",
      "hold up, hold up, hold up, hold up\n",
      "holy bible (kjv) - 2 peter 3\n",
      "holy bible (kjv) - revelation 1\n",
      "holy hip-hop\n",
      "hoodybaby/ *lil wayne*\n",
      "hook w/ chorus\n",
      "hum-v\n",
      "i don't know who cut you, i don't know who robbed you\n",
      "i don't know who stabbed you, i don't know who shot you\n",
      "i don't wanna get explicit, but you know what i mean\n",
      "i got up, rubbed my eyes\n",
      "i mean damn there she was, right in front of my face\n",
      "i mean she was so fine, i can't explain to my brothers\n",
      "i pray to god, he told me \"yo you gotta stay alert to stay alive\"\n",
      "i said, \"baby, don't you worry, cause i think i'm in love. you're the angel of my life, sent from heaven above\"\n",
      "i said, \"cool\"\n",
      "i said, \"damn,\" to myself, as hard as it may seem\n",
      "i said, \"okay,\" he said\n",
      "i said, \"well, here we are. what we can do now?\"\n",
      "i see my homie on the corner, \"what's up, terry t?\"\n",
      "i wanna say what's up to my man moose love\n",
      "i want to say what's up to dawn\n",
      "i want to say what's up to my man atl\n",
      "i want to say what's up to nicola\n",
      "i'll bill\n",
      "i've been thinkin - i've got my reasons\n",
      "i-20\n",
      "iamsu!\n",
      "ice-t\n",
      "ign-ant mc\n",
      "illin' p\n",
      "imagine when i'll be there, beware\n",
      "in-doe\n",
      "inf-black\n",
      "infa-red\n",
      "infamous 2-0\n",
      "inspectah deck *in the background of the hook*\n",
      "inspectah deck - repeat 2x\n",
      "inspectah deck w/ ad-libs\n",
      "inspectah deck {both}\n",
      "invisible woman;\n",
      "irfane khan-acito\n",
      "is this justice you feel was denied?\n",
      "it's alive\n",
      "it's over\n",
      "it's time to say names on my record now\n",
      "it’s america’s plan\n",
      "i’m about to rebel\n",
      "j $tash\n",
      "j cole}\n",
      "j'lynn\n",
      "j-black\n",
      "j-dawg\n",
      "j-doe\n",
      "j-live\n",
      "j-nutty\n",
      "j-ro\n",
      "j-rock\n",
      "j-son\n",
      "j-sweet\n",
      "j-treds\n",
      "j. cole t-boz\n",
      "jaay-z\n",
      "jacki-o\n",
      "james \"stomp down\" bailey\n",
      "janelle monáe\n",
      "javonté\n",
      "jay-z\n",
      "jay-z sample\n",
      "jay-z samples from \"i just wanna love u\"\n",
      "jay-z with pharrell williams\n",
      "jaz-o\n",
      "jaz-o with ​​jay-z​​\n",
      "jhené aiko\n",
      "jigg w/ cube ad libs\n",
      "jo-jo\n",
      "joe - singing #2\n",
      "joey bada$$\n",
      "johnny \"guitar\" watson\n",
      "juno & mac macguff\n",
      "juno movie (2007)\n",
      "k-ci\n",
      "k-dean\n",
      "k-dee\n",
      "k-doe\n",
      "k-dog \"kastro\"\n",
      "k-dogg\n",
      "k-mac\n",
      "k-solo\n",
      "k-trip\n",
      "k-young\n",
      "ka$h\n",
      "kanye w/ choir\n",
      "kanye west {with a-trak}\n",
      "kaveo/e-40\n",
      "ke$ha\n",
      "kenneth \"boobie\" williams\n",
      "keshia chanté\n",
      "key!\n",
      "kid-kid\n",
      "killa kam - cam'ron\n",
      "king just w/ children\n",
      "knoc-turn'al\n",
      "knock-turn'al\n",
      "kold-blooded\n",
      "kool g rap - repeat 2x\n",
      "krs-one\n",
      "krs-one sample\n",
      "kung fu movie sample {masta killa}\n",
      "kung-fu sample\n",
      "kurt russell in \"big trouble in little china\"\n",
      "kurupt {xzibit}\n",
      "kwamé\n",
      "kóbor jános\n",
      "l-boy\n",
      "l-fudge\n",
      "lady gaga {with a-trak}\n",
      "laroo/e-40\n",
      "lee-lonn\n",
      "leila z. braimah-mahamah\n",
      "li'l daddy shane\n",
      "lil jon *with clinton sparks*\n",
      "lil jon; both\n",
      "lil wayne - talking\n",
      "lil wayne / both\n",
      "lil wayne / lil wayne\n",
      "lil' big \"the boss man\"\n",
      "lil' boosie\n",
      "lil' brotha\n",
      "lil' cease\n",
      "lil' chuckee\n",
      "lil' e\n",
      "lil' eazy-e\n",
      "lil' fame\n",
      "lil' fate\n",
      "lil' flip\n",
      "lil' jon\n",
      "lil' kim\n",
      "lil' leak\n",
      "lil' malik\n",
      "lil' matt\n",
      "lil' mo\n",
      "lil' rob\n",
      "lil' scrappy\n",
      "lil' sodi\n",
      "lil' style\n",
      "lil' twist\n",
      "lil' wayne\n",
      "lil'jon\n",
      "lil'mo\n",
      "lil’ durk\n",
      "lil’ ron\n",
      "lil’ wayne\n",
      "lin-manuel mir\n",
      "lin-z\n",
      "livin' tha life\n",
      "ll *swizz*\n",
      "ll cool j w/ jennifer lopez\n",
      "lo-lo\n",
      "lonnie 'pops' lynn\n",
      "lore'l\n",
      "ludacris - chopped\n",
      "ludacris w/ dj premier scratches\n",
      "ludwig göransson\n",
      "lyfe jennings w/ ad-libs\n",
      "m-1\n",
      "ma$e\n",
      "mack-10\n",
      "mackenzie o'guin\n",
      "madeleine l'engle\n",
      "makaveli/outlawz\n",
      "man's voice\n",
      "marc \"nigga\" nilez\n",
      "marsha ambrosious {nas}\n",
      "martina topley-bird\n",
      "masta ace / torae\n",
      "max b's mother\n",
      "mc new york \"2pac\"\n",
      "menace ii society (1993)\n",
      "method man​\n",
      "michel'le\n",
      "mike batt - \"whispering fools\"\n",
      "mike batt - \"zero zero\"\n",
      "mike marshall/e-40\n",
      "missy - singing\n",
      "missy elliott w/ p. diddy doing ad-libs\n",
      "missy- spoken\n",
      "mitchelle'l\n",
      "mm!\n",
      "mos def w/ group emphasizing\n",
      "mr. tibbs {skinnyman} [blade\n",
      "mutah \"napoleon\"\n",
      "myrna \"peaches\" crenshaw\n",
      "mélanie rutherford\n",
      "mø\n",
      "mýa\n",
      "n'dambi\n",
      "n/a\n",
      "na'kel\n",
      "nah nigga i don't know, i don't know who got you\n",
      "nat \"king\" cole sample\n",
      "nate dogg / akon\n",
      "navé monjo\n",
      "ne-yo\n",
      "nipsey hu$$le\n",
      "norah jones/talib kweli\n",
      "now i'm a cool type of fellow, really mellow with her\n",
      "now i'm dreaming to put my mother up in a nice crib\n",
      "nt/dtor\n",
      "nutt-so\n",
      "o'shaughnessy hartley\n",
      "obie trice - talking\n",
      "of kid 'n' play\n",
      "oh!zone\n",
      "ol' dirty bastard\n",
      "ol' dirty bastard over rza \"doodododododo\"ing\n",
      "ol' dirty bastard sample\n",
      "ol’ dirty bastard\n",
      "omar lye-fook\n",
      "omarlye-fook\n",
      "one's the original and one's the sequel\n",
      "only with persistent movements, i removed her clothes\n",
      "oscar #worldpeace\n",
      "overlaps blue raspberry's hook\n",
      "p!nk\n",
      "p-dog\n",
      "p-lo\n",
      "p. dot w/ rza laughing\n",
      "paraphrasing masta ase \"jeep ass niguh\"\n",
      "parliament-funkadelic\n",
      "partner, \"hmm, i think i'll go for a ride\"\n",
      "pastor t.l. barrett / choir\n",
      "paul wall **pitbull**\n",
      "pimp-c\n",
      "pitbull - overlapping\n",
      "polite *over break*\n",
      "polite w/o \"eh yo\" second time\n",
      "pollàri\n",
      "posdnuos/p-pain\n",
      "prince paul/filthy pablo\n",
      "pusha-t\n",
      "pusha-t of clipse\n",
      "pø17\n",
      "q-tip\n",
      "q-unique\n",
      "r-mean\n",
      "r-swift\n",
      "r.a. the rugged man {agallah}\n",
      "r.a. the rugged man {timbo king}\n",
      "raekwon w/ blue raspberry ad-libbing\n",
      "raekwon w/ others\n",
      "raekwon w/ others in background\n",
      "raekwon w/ sample\n",
      "rakeem diggs {rza}\n",
      "rappin 4-tay\n",
      "rappin' 4-tay\n",
      "red-1\n",
      "redmani'm\n",
      "rené\n",
      "repeat \"that's all i do!\" 4x over\n",
      "repeat 2x *sung*\n",
      "repeat 2x - with background singers\n",
      "repeat 2x w/ ad libs\n",
      "repeat 2x {​sung}​\n",
      "rick ro$$\n",
      "robb bank$\n",
      "rollin' down the avenue chillin' my way\n",
      "ron g - echoing at each break\n",
      "royce - having a conversation\n",
      "royce da 5'9\n",
      "royce da 5'9\"\n",
      "royce da 5'9\" claret jai\n",
      "royce da 5'9''\n",
      "royce da 5'9'’\n",
      "royce da 5’9\"\n",
      "royce da 5’9”\n",
      "royce da 5’9″\n",
      "royce das 5'9\"\n",
      "royce's son\n",
      "rza w/ tamika layton moaning\n",
      "rza {rakeem diggs}\n",
      "rza {​ms. roxy}​\n",
      "rza {​​*singing*}​​\n",
      "ré 3000\n",
      "sample *singing*\n",
      "sample - \"heavyweights\" by freestyle fellowship\n",
      "sample courtesy of \"it takes two\"\n",
      "sample courtesy of \"it takes two\" by rob base\n",
      "sample from \"cheers\"\n",
      "sample from \"dance inna new york\" by super cat\n",
      "sample from \"it's a wonderful life\"\n",
      "sample from \"pinky\n",
      "sample from \"the omen\"\n",
      "sample from 2pac's \"to live\n",
      "sample from a live performance of \"the bridge is over\"\n",
      "sample from anita baker's \"you're the best thing yet\"\n",
      "sample from chaka khan's \"move me no mountain\"\n",
      "sample from dee dee bridgewater - \"my lonely room\" with background vocals by a. mike\n",
      "sample from kanye west's \"pinocchio story\"\n",
      "sample from them two's - \"am i a good man\"\n",
      "sample of \"it takes two\" by rob base\n",
      "scarface w/ minor variations until fade\n",
      "scratched w/ minor variations\n",
      "see one ain't never scared to tell you what he believe in\n",
      "sen-dog\n",
      "sha-queen\n",
      "sha-ron prescott\n",
      "shadii of the force md's\n",
      "shaquille o'neal\n",
      "shawn jay/ tity boi\n",
      "she had a beautiful smile, eyes greener than grass\n",
      "she had to get me, had to have me somehow, some way\n",
      "she put her arms around my neck and said, \"i want you now\"\n",
      "she said her name is limay, i didn't know what to say\n",
      "she said she saw me before, and then she knew that day\n",
      "she said, \"make it last, please, and just don't stop\"\n",
      "she said, \"ryan d., as hard as this may seem, i wanna make love to you, you're the man of my dreams\"\n",
      "she says she wanted to talk, so she can know me some more\n",
      "she was already hot, i had began to sweat\n",
      "sheek louch - repeat 2x\n",
      "sir mix-a-lot\n",
      "six-nine\n",
      "sixx-nine\n",
      "ski {masta killa}\n",
      "sky \"pyper\" jordan\n",
      "smif-n-wessun\n",
      "snoop dogg / fabolous\n",
      "snoop dogg {redman}\n",
      "solé\n",
      "sonyaè elise\n",
      "sonyaé\n",
      "sonyaé elise\n",
      "stevie wonder - singer slower with more ad libs\n",
      "suga-t\n",
      "super fine like wine and she couldn't be beat\n",
      "sweet tee - on the smooth\n",
      "swizz beatz - 2x\n",
      "t-bo says first line with snoop\n",
      "t-boz\n",
      "t-fly\n",
      "t-low\n",
      "t-mo\n",
      "t-mo goodie\n",
      "t-nutty\n",
      "t-pain\n",
      "t-pain lil wayne\n",
      "t-shyne\n",
      "t-streets\n",
      "t-streetz\n",
      "t.i. w/ lil jon\n",
      "t.i.{translee}\n",
      "talib kweli *over hook*\n",
      "talking over hook/break until end\n",
      "tameka \"tiny\" harris\n",
      "tanya herron}\n",
      "tee-uk\n",
      "terry said we had to leave, but then she told me to sit\n",
      "tevin campell \"i'm ready\" sample\n",
      "the biggest troll\" at this point\n",
      "the brain\"\n",
      "the db'z\n",
      "the emotions \"i like it\" sample\n",
      "the force md's\n",
      "the genius/gza\n",
      "the kay-gees\n",
      "the night's watch oath\n",
      "the o'jays\n",
      "the oldest computer\" at this point\n",
      "the type of girl that don't recover of a magazine\n",
      "the-dream\n",
      "the-game\n",
      "they breathe air just like you, gotta see clear cause\n",
      "thi'sl\n",
      "thi’sl\n",
      "to anything, many things, anyone\n",
      "to jay-z\n",
      "tony 'scarface' montana 2x\n",
      "tony montana \"scarface\" sample\n",
      "too $hort\n",
      "torae / masta ace\n",
      "travi$ scott\n",
      "travis scott's dad\n",
      "tre' little\n",
      "trinity soundtrack [rza\n",
      "triple c's\n",
      "turf talk - repeat 2x\n",
      "twelve'len\n",
      "ty dolla $ign\n",
      "ty$\n",
      "u$o\n",
      "u-god\n",
      "u-god w/ hook\n",
      "u-god {both}\n",
      "ultra naté\n",
      "victoria monét\n",
      "vinnie paz *stoupe cuts samples to end*\n",
      "vinnie paz w/krs-one sample\n",
      "voiceover \"news anchor\"\n",
      "w/ akon\n",
      "w/ chris brown\n",
      "w/ gwenation\n",
      "w/ harlem boys choir\n",
      "w/ hook\n",
      "w/ obie trice\n",
      "w/ royce da 5'9\"\n",
      "w/ sen dog\n",
      "w/ young jeezy\n",
      "we went outside and had a drink, conversated a bit\n",
      "well try to relax, but gotta be ready to react\n",
      "we’re dying over money\n",
      "when it comes to drama i done seen plenty dawg ain't even 21\n",
      "wife-in-law\n",
      "will-i-am\n",
      "wine-o\n",
      "with the incredible sound (of who?) marvin gaye\n",
      "without a moment's hesitation, we were deep in the groove\n",
      "world's famous supreme team\n",
      "wu-tang clan\n",
      "xzibit - repeat 2x\n",
      "xzibit over 4x of \"nam myoho renge kyo\"\n",
      "y kaufman - kick in the pants\n",
      "y-not da beast\n",
      "ya boy / e-40\n",
      "yah-sin\n",
      "yasiin bey a/k/a mos def\n",
      "yo!\n",
      "yo! i can't hold it back! [it's over\n",
      "yo-yo\n",
      "you hate and disrespect, and i ain't even rich yet\n",
      "you know the way you're st\n",
      "you will see it all, until you ain't breathing dawg\n",
      "young hollywood \"kadafi\"\n",
      "young thug with ty dolla $ign\n",
      "youngboy never broke again>\n",
      "yung-ro\n",
      "yunggoth✰\n",
      "yv/e-40\n",
      "z-ro\n",
      "z-trip\n",
      "zhané\n",
      "zoë kravitz\n",
      "{\"sample\"} ghostface killah\n",
      "{both}\n",
      "{consequence}\n",
      "{dj whoo kid}\n",
      "{killa sin}\n",
      "{leschea}\n",
      "{lord digga}\n",
      "{masta killa}\n",
      "{tech n9ne}\n",
      "{u-god}\n",
      "{y-kim the ill figure}\n",
      "~chamillionaire~\n",
      "~kevin rudolf~\n",
      "¡mayday!\n",
      "​gza​\n"
     ]
    }
   ],
   "source": [
    "for a in weird_artists:\n",
    "    print(a)"
   ]
  },
  {
   "cell_type": "markdown",
   "metadata": {},
   "source": [
    "# Mark Verses"
   ]
  },
  {
   "cell_type": "code",
   "execution_count": 1,
   "metadata": {
    "collapsed": true
   },
   "outputs": [],
   "source": [
    "from mark_verses import mark_verses"
   ]
  },
  {
   "cell_type": "code",
   "execution_count": 2,
   "metadata": {},
   "outputs": [
    {
     "name": "stderr",
     "output_type": "stream",
     "text": [
      "100%|██████████| 19994/19994 [00:19<00:00, 1017.02it/s]"
     ]
    },
    {
     "name": "stdout",
     "output_type": "stream",
     "text": [
      "0:00:19.675197 for 19994 Song\n",
      "Removing duplicates from list marked_verses/_SKIPPED_ARTISTS\n",
      "Done removing duplicates\n"
     ]
    },
    {
     "name": "stderr",
     "output_type": "stream",
     "text": [
      "\n"
     ]
    }
   ],
   "source": [
    "mark_verses('verses_with_artists/_LIST')"
   ]
  },
  {
   "cell_type": "markdown",
   "metadata": {},
   "source": [
    "# Add tokens back"
   ]
  },
  {
   "cell_type": "code",
   "execution_count": 1,
   "metadata": {
    "collapsed": true
   },
   "outputs": [],
   "source": [
    "from fix_tokens import fix_tokens_for_verses, verses_with_tokens"
   ]
  },
  {
   "cell_type": "code",
   "execution_count": 2,
   "metadata": {},
   "outputs": [
    {
     "name": "stderr",
     "output_type": "stream",
     "text": [
      "100%|██████████| 17816/17816 [00:12<00:00, 1428.97it/s]"
     ]
    },
    {
     "name": "stdout",
     "output_type": "stream",
     "text": [
      "0:00:12.481027 for 17816 Song\n"
     ]
    },
    {
     "name": "stderr",
     "output_type": "stream",
     "text": [
      "\n"
     ]
    }
   ],
   "source": [
    "fix_tokens_for_verses('marked_verses/_LIST', verses_with_tokens)"
   ]
  },
  {
   "cell_type": "markdown",
   "metadata": {},
   "source": [
    "# BPE"
   ]
  },
  {
   "cell_type": "code",
   "execution_count": null,
   "metadata": {
    "collapsed": true
   },
   "outputs": [],
   "source": []
  },
  {
   "cell_type": "markdown",
   "metadata": {},
   "source": [
    "# Analyze verses"
   ]
  },
  {
   "cell_type": "code",
   "execution_count": 6,
   "metadata": {
    "collapsed": true
   },
   "outputs": [],
   "source": [
    "from verse_analysis import analyze_verses"
   ]
  },
  {
   "cell_type": "code",
   "execution_count": 15,
   "metadata": {},
   "outputs": [
    {
     "name": "stderr",
     "output_type": "stream",
     "text": [
      "100%|██████████| 1743/1743 [00:00<00:00, 3066.99it/s]\n"
     ]
    }
   ],
   "source": [
    "analyze_verses('test_split.txt', 'bpe_songs')"
   ]
  },
  {
   "cell_type": "markdown",
   "metadata": {},
   "source": [
    "### Stats"
   ]
  },
  {
   "cell_type": "code",
   "execution_count": 8,
   "metadata": {
    "collapsed": true
   },
   "outputs": [],
   "source": [
    "import json\n",
    "from matplotlib import pyplot\n",
    "import pandas as pd"
   ]
  },
  {
   "cell_type": "code",
   "execution_count": 2,
   "metadata": {
    "collapsed": true
   },
   "outputs": [],
   "source": [
    "\n",
    "with open('untracked_data_files/verse_analysis.json') as openfile:\n",
    "    analysis = json.load(openfile)\n"
   ]
  },
  {
   "cell_type": "code",
   "execution_count": 7,
   "metadata": {
    "collapsed": true
   },
   "outputs": [],
   "source": [
    "def get_counts(d):\n",
    "    counts = [int(k) for k in d.keys()]\n",
    "    max_count = max(counts)\n",
    "    x = [i for i in range(0, max_count + 1)]\n",
    "    y = []\n",
    "    for count in counts:\n",
    "        for i in range(0, d[str(count)]['count']):\n",
    "            y.append(count)\n",
    "    return x,y"
   ]
  },
  {
   "cell_type": "code",
   "execution_count": 8,
   "metadata": {},
   "outputs": [
    {
     "data": {
      "text/plain": [
       "Text(0, 0.5, 'num songs')"
      ]
     },
     "execution_count": 8,
     "metadata": {},
     "output_type": "execute_result"
    },
    {
     "data": {
      "image/png": "[encoded data removed]",
      "text/plain": [
       "<Figure size 432x288 with 1 Axes>"
      ]
     },
     "metadata": {
      "needs_background": "light"
     },
     "output_type": "display_data"
    }
   ],
   "source": [
    "x,y = get_counts(analysis['verses'])\n",
    "pyplot.hist(y,bins=x)\n",
    "pyplot.xlabel(\"num verses\")\n",
    "pyplot.ylabel(\"num songs\")"
   ]
  },
  {
   "cell_type": "code",
   "execution_count": 23,
   "metadata": {},
   "outputs": [
    {
     "data": {
      "text/plain": [
       "Text(0, 0.5, 'num verses')"
      ]
     },
     "execution_count": 23,
     "metadata": {},
     "output_type": "execute_result"
    },
    {
     "data": {
      "image/png": "[encoded data removed]",
      "text/plain": [
       "<Figure size 432x288 with 1 Axes>"
      ]
     },
     "metadata": {
      "needs_background": "light"
     },
     "output_type": "display_data"
    }
   ],
   "source": [
    "x,y = get_counts(analysis['lines'])\n",
    "pyplot.hist(y,bins=x)\n",
    "pyplot.xlabel(\"num lines\")\n",
    "pyplot.ylabel(\"num verses\")"
   ]
  },
  {
   "cell_type": "code",
   "execution_count": 24,
   "metadata": {},
   "outputs": [
    {
     "data": {
      "text/plain": [
       "Text(0, 0.5, 'num lines')"
      ]
     },
     "execution_count": 24,
     "metadata": {},
     "output_type": "execute_result"
    },
    {
     "data": {
      "image/png": "[encoded data removed]",
      "text/plain": [
       "<Figure size 432x288 with 1 Axes>"
      ]
     },
     "metadata": {
      "needs_background": "light"
     },
     "output_type": "display_data"
    }
   ],
   "source": [
    "x,y = get_counts(analysis['words'])\n",
    "pyplot.hist(y,bins=x)\n",
    "pyplot.xlabel(\"num words\")\n",
    "pyplot.ylabel(\"num lines\")"
   ]
  },
  {
   "cell_type": "code",
   "execution_count": 11,
   "metadata": {},
   "outputs": [
    {
     "data": {
      "text/plain": [
       "(array([0., 0., 0., ..., 0., 0., 1.]),\n",
       " array([   0,    1,    2, ..., 4167, 4168, 4169]),\n",
       " <a list of 4169 Patch objects>)"
      ]
     },
     "execution_count": 11,
     "metadata": {},
     "output_type": "execute_result"
    },
    {
     "data": {
      "image/png": "[encoded data removed]",
      "text/plain": [
       "<Figure size 432x288 with 1 Axes>"
      ]
     },
     "metadata": {
      "needs_background": "light"
     },
     "output_type": "display_data"
    }
   ],
   "source": [
    "x,y = get_counts(analysis['words_per_verse'])\n",
    "pyplot.hist(y,bins=x)"
   ]
  },
  {
   "cell_type": "markdown",
   "metadata": {},
   "source": [
    "# Artist Analysis"
   ]
  },
  {
   "cell_type": "code",
   "execution_count": 16,
   "metadata": {
    "collapsed": true
   },
   "outputs": [],
   "source": [
    "with open(\"untracked_data_files/artist_analysis.json\") as openfile:\n",
    "    artist_analysis = json.load(openfile)\n",
    "with open(\"untracked_data_files/val_test_artist_analysis.json\") as openfile:\n",
    "    val_artist_analysis = json.load(openfile)\n",
    "with open(\"artist_analysis.json\") as openfile:\n",
    "    test_artist_analysis = json.load(openfile)"
   ]
  },
  {
   "cell_type": "code",
   "execution_count": 17,
   "metadata": {
    "collapsed": true
   },
   "outputs": [],
   "source": [
    "artist_df = pd.DataFrame.from_dict(artist_analysis, orient='index')\n",
    "val_artist_df = pd.DataFrame.from_dict(val_artist_analysis, orient='index')\n",
    "test_artist_df = pd.DataFrame.from_dict(test_artist_analysis, orient='index')"
   ]
  },
  {
   "cell_type": "code",
   "execution_count": 6,
   "metadata": {},
   "outputs": [
    {
     "data": {
      "text/html": [
       "<div>\n",
       "<style scoped>\n",
       "    .dataframe tbody tr th:only-of-type {\n",
       "        vertical-align: middle;\n",
       "    }\n",
       "\n",
       "    .dataframe tbody tr th {\n",
       "        vertical-align: top;\n",
       "    }\n",
       "\n",
       "    .dataframe thead th {\n",
       "        text-align: right;\n",
       "    }\n",
       "</style>\n",
       "<table border=\"1\" class=\"dataframe\">\n",
       "  <thead>\n",
       "    <tr style=\"text-align: right;\">\n",
       "      <th></th>\n",
       "      <th>0</th>\n",
       "      <th>1</th>\n",
       "      <th>2</th>\n",
       "    </tr>\n",
       "  </thead>\n",
       "  <tbody>\n",
       "    <tr>\n",
       "      <th>inspectah deck</th>\n",
       "      <td>91</td>\n",
       "      <td>337</td>\n",
       "      <td>4671</td>\n",
       "    </tr>\n",
       "    <tr>\n",
       "      <th>redman</th>\n",
       "      <td>162</td>\n",
       "      <td>603</td>\n",
       "      <td>8648</td>\n",
       "    </tr>\n",
       "    <tr>\n",
       "      <th>u god</th>\n",
       "      <td>84</td>\n",
       "      <td>282</td>\n",
       "      <td>3728</td>\n",
       "    </tr>\n",
       "    <tr>\n",
       "      <th>masta killa</th>\n",
       "      <td>51</td>\n",
       "      <td>175</td>\n",
       "      <td>2358</td>\n",
       "    </tr>\n",
       "    <tr>\n",
       "      <th>asap rocky</th>\n",
       "      <td>280</td>\n",
       "      <td>871</td>\n",
       "      <td>9649</td>\n",
       "    </tr>\n",
       "    <tr>\n",
       "      <th>...</th>\n",
       "      <td>...</td>\n",
       "      <td>...</td>\n",
       "      <td>...</td>\n",
       "    </tr>\n",
       "    <tr>\n",
       "      <th>everlast</th>\n",
       "      <td>39</td>\n",
       "      <td>134</td>\n",
       "      <td>1740</td>\n",
       "    </tr>\n",
       "    <tr>\n",
       "      <th>juice wrld</th>\n",
       "      <td>637</td>\n",
       "      <td>2204</td>\n",
       "      <td>23740</td>\n",
       "    </tr>\n",
       "    <tr>\n",
       "      <th>cardi b</th>\n",
       "      <td>48</td>\n",
       "      <td>148</td>\n",
       "      <td>1777</td>\n",
       "    </tr>\n",
       "    <tr>\n",
       "      <th>lil peep</th>\n",
       "      <td>159</td>\n",
       "      <td>409</td>\n",
       "      <td>3489</td>\n",
       "    </tr>\n",
       "    <tr>\n",
       "      <th>jid</th>\n",
       "      <td>55</td>\n",
       "      <td>170</td>\n",
       "      <td>2578</td>\n",
       "    </tr>\n",
       "  </tbody>\n",
       "</table>\n",
       "<p>91 rows × 3 columns</p>\n",
       "</div>"
      ],
      "text/plain": [
       "                  0     1      2\n",
       "inspectah deck   91   337   4671\n",
       "redman          162   603   8648\n",
       "u god            84   282   3728\n",
       "masta killa      51   175   2358\n",
       "asap rocky      280   871   9649\n",
       "...             ...   ...    ...\n",
       "everlast         39   134   1740\n",
       "juice wrld      637  2204  23740\n",
       "cardi b          48   148   1777\n",
       "lil peep        159   409   3489\n",
       "jid              55   170   2578\n",
       "\n",
       "[91 rows x 3 columns]"
      ]
     },
     "execution_count": 6,
     "metadata": {},
     "output_type": "execute_result"
    }
   ],
   "source": [
    "artist_df"
   ]
  },
  {
   "cell_type": "code",
   "execution_count": 12,
   "metadata": {},
   "outputs": [
    {
     "data": {
      "image/png": "[encoded data removed]",
      "text/plain": [
       "<Figure size 1080x720 with 1 Axes>"
      ]
     },
     "metadata": {
      "needs_background": "light"
     },
     "output_type": "display_data"
    }
   ],
   "source": [
    "ax = artist_df.sort_values(by=0, ascending=False).plot(kind='bar', y=0, figsize=(15, 10), logy=True)"
   ]
  },
  {
   "cell_type": "code",
   "execution_count": 13,
   "metadata": {},
   "outputs": [
    {
     "data": {
      "text/plain": [
       "<matplotlib.axes._subplots.AxesSubplot at 0x7fb0fe6f90d0>"
      ]
     },
     "execution_count": 13,
     "metadata": {},
     "output_type": "execute_result"
    },
    {
     "data": {
      "image/png": "[encoded data removed]",
      "text/plain": [
       "<Figure size 1080x720 with 1 Axes>"
      ]
     },
     "metadata": {
      "needs_background": "light"
     },
     "output_type": "display_data"
    }
   ],
   "source": [
    "artist_df.sort_values(by=1, ascending=False).plot(kind='bar', y=1, figsize=(15, 10), logy=True)"
   ]
  },
  {
   "cell_type": "code",
   "execution_count": 84,
   "metadata": {},
   "outputs": [
    {
     "name": "stdout",
     "output_type": "stream",
     "text": [
      "Populating the interactive namespace from numpy and matplotlib\n"
     ]
    },
    {
     "data": {
      "text/plain": [
       "[1, 10, 100, 1000, 10000]"
      ]
     },
     "execution_count": 84,
     "metadata": {},
     "output_type": "execute_result"
    },
    {
     "data": {
      "image/png": "[encoded data removed]",
      "text/plain": [
       "<Figure size 1080x720 with 1 Axes>"
      ]
     },
     "metadata": {
      "needs_background": "light"
     },
     "output_type": "display_data"
    }
   ],
   "source": [
    "%pylab inline\n",
    "artist_df_sorted = artist_df.sort_values(by=2, ascending=False)\n",
    "artists_df_top_bot = pd.concat([artist_df_sorted.head(10), artist_df_sorted.tail(10)])\n",
    "ax = artists_df_top_bot.plot(kind='bar', y=2, figsize=(15, 10), logy=True)\n",
    "ax.set_xlabel(\"Artists\", size=30)\n",
    "ax.set_ylabel(\"Num Lines\", size=30)\n",
    "ax.set_yticks([10 ** i for i in range(0, 5)], minor=False)\n",
    "plt.tick_params(axis=\"x\", labelsize=20)\n",
    "plt.tick_params(axis=\"y\", labelsize=20)\n",
    "[a for a in ax.get_yticks()]"
   ]
  },
  {
   "cell_type": "code",
   "execution_count": 4,
   "metadata": {},
   "outputs": [
    {
     "data": {
      "text/plain": [
       "<matplotlib.axes._subplots.AxesSubplot at 0x7fb53749abe0>"
      ]
     },
     "execution_count": 4,
     "metadata": {},
     "output_type": "execute_result"
    },
    {
     "data": {
      "image/png": "[encoded data removed]",
      "text/plain": [
       "<Figure size 1080x720 with 1 Axes>"
      ]
     },
     "metadata": {
      "needs_background": "light"
     },
     "output_type": "display_data"
    }
   ],
   "source": [
    "(val_artist_df[2] / artist_df[2]).plot(kind='bar', y=2, figsize=(15, 10), logy=False)\n"
   ]
  },
  {
   "cell_type": "code",
   "execution_count": 18,
   "metadata": {},
   "outputs": [
    {
     "data": {
      "text/plain": [
       "<matplotlib.axes._subplots.AxesSubplot at 0x7fbb516f8670>"
      ]
     },
     "execution_count": 18,
     "metadata": {},
     "output_type": "execute_result"
    },
    {
     "data": {
      "image/png": "[encoded data removed]",
      "text/plain": [
       "<Figure size 1080x720 with 1 Axes>"
      ]
     },
     "metadata": {
      "needs_background": "light"
     },
     "output_type": "display_data"
    }
   ],
   "source": [
    "(test_artist_df[2] / val_artist_df[2]).plot(kind='bar', y=2, figsize=(15, 10), logy=False)\n"
   ]
  },
  {
   "cell_type": "code",
   "execution_count": 86,
   "metadata": {},
   "outputs": [
    {
     "name": "stdout",
     "output_type": "stream",
     "text": [
      "Lines\n",
      "Total 837213\n",
      "Median 7942.0\n",
      "Mean 9200.142857142857\n",
      "Min 1631\n",
      "Max 47531\n"
     ]
    }
   ],
   "source": [
    "print(\"Lines\")\n",
    "print(\"Total {}\".format(artist_df[2].sum()))\n",
    "print(\"Median {}\".format(artist_df[2].median()))\n",
    "print(\"Mean {}\".format(artist_df[2].mean()))\n",
    "print(\"Min {}\".format(artist_df[2].min()))\n",
    "print(\"Max {}\".format(artist_df[2].max()))\n"
   ]
  },
  {
   "cell_type": "code",
   "execution_count": 16,
   "metadata": {
    "scrolled": true
   },
   "outputs": [
    {
     "name": "stdout",
     "output_type": "stream",
     "text": [
      "Verses\n",
      "Total 61254\n",
      "Median 557.0\n",
      "Min 134\n",
      "Max 3147\n"
     ]
    }
   ],
   "source": [
    "print(\"Verses\")\n",
    "print(\"Total {}\".format(artist_df[1].sum()))\n",
    "print(\"Median {}\".format(artist_df[1].median()))\n",
    "print(\"Min {}\".format(artist_df[1].min()))\n",
    "print(\"Max {}\".format(artist_df[1].max()))"
   ]
  },
  {
   "cell_type": "code",
   "execution_count": 17,
   "metadata": {},
   "outputs": [
    {
     "name": "stdout",
     "output_type": "stream",
     "text": [
      "Songs\n",
      "Total 17816\n",
      "Median 164.0\n",
      "Min 39\n",
      "Max 819\n"
     ]
    }
   ],
   "source": [
    "print(\"Songs\")\n",
    "print(\"Total {}\".format(artist_df[0].sum()))\n",
    "print(\"Median {}\".format(artist_df[0].median()))\n",
    "print(\"Min {}\".format(artist_df[0].min()))\n",
    "print(\"Max {}\".format(artist_df[0].max()))"
   ]
  },
  {
   "cell_type": "code",
   "execution_count": null,
   "metadata": {
    "collapsed": true
   },
   "outputs": [],
   "source": [
    "artist_df"
   ]
  },
  {
   "cell_type": "code",
   "execution_count": 19,
   "metadata": {},
   "outputs": [
    {
     "data": {
      "text/plain": [
       "Index([], dtype='object')"
      ]
     },
     "execution_count": 19,
     "metadata": {},
     "output_type": "execute_result"
    }
   ],
   "source": [
    "artist_df[(artist_df[2] < 1000)].index"
   ]
  },
  {
   "cell_type": "markdown",
   "metadata": {},
   "source": [
    "#### removing artists with too low discography"
   ]
  },
  {
   "cell_type": "code",
   "execution_count": 28,
   "metadata": {
    "collapsed": true
   },
   "outputs": [],
   "source": [
    "# List of artists to remove\n",
    "remove_artists_list = ['redrama', 'az', 'slaughterhouse', 'mos def', 'el p', 'rakim',\n",
    "       'will i am', 'yasiin bey', 'jay electronica', 'young thug', 'paleface']"
   ]
  },
  {
   "cell_type": "code",
   "execution_count": 31,
   "metadata": {
    "collapsed": true
   },
   "outputs": [],
   "source": [
    "for remove_artist in remove_artists_list:\n",
    "    if remove_artist in cleaned_artist_names:\n",
    "        cleaned_artist_names.remove(remove_artist)\n",
    "write_list_to_file(cleaned_artist_names, \"final_artist_list\", \"w\")"
   ]
  },
  {
   "cell_type": "markdown",
   "metadata": {
    "collapsed": true
   },
   "source": [
    "# Character Analysis"
   ]
  },
  {
   "cell_type": "code",
   "execution_count": 1,
   "metadata": {
    "collapsed": true
   },
   "outputs": [],
   "source": [
    "from character_analysis import analyze_characters"
   ]
  },
  {
   "cell_type": "code",
   "execution_count": 2,
   "metadata": {},
   "outputs": [
    {
     "name": "stderr",
     "output_type": "stream",
     "text": [
      "100%|██████████| 17816/17816 [00:48<00:00, 369.45it/s]"
     ]
    },
    {
     "name": "stdout",
     "output_type": "stream",
     "text": [
      "0:00:48.238873 for 17816\n"
     ]
    },
    {
     "name": "stderr",
     "output_type": "stream",
     "text": [
      "\n"
     ]
    }
   ],
   "source": [
    "analyze_characters(\"verses_with_tokens\", \"_LIST\", \"verses\", 'character_stats_tokens')"
   ]
  },
  {
   "cell_type": "code",
   "execution_count": null,
   "metadata": {
    "collapsed": true
   },
   "outputs": [],
   "source": []
  },
  {
   "cell_type": "markdown",
   "metadata": {
    "collapsed": true
   },
   "source": [
    "# Clean artists names"
   ]
  },
  {
   "cell_type": "code",
   "execution_count": 3,
   "metadata": {
    "collapsed": true
   },
   "outputs": [],
   "source": [
    "from dataset_utils import clean_artist_names, read_list_from_file, write_list_to_file"
   ]
  },
  {
   "cell_type": "code",
   "execution_count": 4,
   "metadata": {
    "collapsed": true
   },
   "outputs": [],
   "source": [
    "artists = read_list_from_file('all_artists.csv')\n",
    "artists = [clean_artist_names(artist) for artist in artists]\n",
    "write_list_to_file(artists, \"cleaned_artist_names.txt\", \"w\")"
   ]
  },
  {
   "cell_type": "markdown",
   "metadata": {},
   "source": [
    "# Clean unicode letterings"
   ]
  },
  {
   "cell_type": "code",
   "execution_count": 2,
   "metadata": {
    "collapsed": true
   },
   "outputs": [],
   "source": [
    "import unidecode\n",
    "import json"
   ]
  },
  {
   "cell_type": "code",
   "execution_count": 3,
   "metadata": {},
   "outputs": [
    {
     "name": "stdout",
     "output_type": "stream",
     "text": [
      "ö || o\n",
      "å || a\n",
      "ç || c\n",
      "ñ || n\n",
      "ü || u\n",
      "м || m\n",
      "и || i\n",
      "ш || sh\n",
      "к || k\n",
      "а || a\n",
      "í || i\n",
      "ï || i\n",
      "à || a\n",
      "š || s\n",
      "е || e\n",
      "è || e\n",
      "ğ || g\n",
      "ı || i\n",
      "ş || s\n",
      "æ || ae\n",
      "č || c\n",
      "ß || ss\n",
      "ä || a\n",
      "ō || o\n",
      "ù || u\n",
      "ž || z\n",
      "ć || c\n",
      "ú || u\n",
      "ỹ || y\n",
      "ā || a\n",
      "ʿ || '\n",
      "ã || a\n",
      "ê || e\n",
      "œ || oe\n",
      "ô || o\n",
      "_ || _\n",
      "ا || \n",
      "ل || l\n",
      "ح || H\n",
      "م || m\n",
      "د || d\n",
      "ه || h\n",
      "î || i\n",
      "û || u\n",
      "愛 || Ai \n",
      "し || shi\n",
      "て || te\n",
      "よ || yo\n",
      "私 || Si \n",
      "を || wo\n",
      "抱 || Bao \n",
      "い || i\n",
      "ね || ne\n",
      "ぇ || e\n",
      "側 || Ce \n",
      "に || ni\n",
      "お || o\n",
      "で || de\n",
      "の || no\n",
      "最 || Zui \n",
      "後 || Hou \n",
      "記 || Ji \n",
      "憶 || Yi \n",
      "君 || Jun \n",
      "残 || Can \n",
      "た || ta\n",
      "ò || o\n",
      "â || a\n",
      "ʼ || '\n",
      "ź || z\n",
      "ι || i\n",
      "в || v\n",
      "½ ||  1/2 \n",
      "с || s\n",
      "й || i\n",
      "ő || o\n",
      "ē || e\n",
      "ي || y\n",
      "ع || `\n",
      "ب || b\n",
      "ت || t\n",
      "ش || sh\n",
      "ن || n\n",
      "ز || z\n",
      "ة || @\n",
      "ط || T\n",
      "ر || r\n",
      "أ || '\n",
      "س || s\n",
      "ى || ~\n",
      "و || w\n",
      "ج || j\n",
      "ف || f\n",
      "غ || G\n",
      "ص || S\n",
      "ك || k\n",
      "ق || q\n",
      "خ || kh\n",
      "ń || n\n",
      "ǐ || i\n",
      "ǎ || a\n",
      "抦 || Bing \n",
      "ì || i\n",
      "ṗ || p\n",
      "я || ia\n",
      "ḥ || h\n",
      "ṭ || t\n",
      "ň || n\n",
      "ť || t\n",
      "億 || Yi \n",
      "万 || Mo \n",
      "長 || Chang \n",
      "者 || Zhe \n",
      "少 || Shao \n",
      "年 || Nian \n",
      "倶 || Ju \n",
      "楽 || Le \n",
      "部 || Bu \n",
      "자 || ja\n",
      "기 || gi\n",
      "신 || sin\n",
      "발 || bal\n",
      "끝 || ggeut\n",
      "내 || nae\n",
      "주 || ju\n",
      "는 || neun\n",
      "데 || de\n",
      "돈 || don\n",
      "좀 || jom\n",
      "많 || manh\n",
      "나 || na\n",
      "봐 || bwa\n",
      "스 || seu\n",
      "타 || ta\n",
      "일 || il\n",
      "진 || jin\n",
      "짜 || jja\n",
      "멋 || meos\n",
      "있 || iss\n",
      "다 || da\n",
      "백 || baeg\n",
      "만 || man\n",
      "장 || jang\n",
      "소 || so\n",
      "년 || nyeon\n",
      "들 || deul\n",
      "의 || yi\n",
      "모 || mo\n",
      "임 || im\n"
     ]
    }
   ],
   "source": [
    "with open(\"character_stats_cleaned.json\") as openfile:\n",
    "    stats = json.load(openfile)\n",
    "for key in stats.keys():\n",
    "    print(\"{} || {}\".format(key, unidecode.unidecode(key)))"
   ]
  },
  {
   "cell_type": "markdown",
   "metadata": {},
   "source": [
    "=================================================\n",
    "=================================================\n",
    "=================================================\n",
    "=================================================\n",
    "\n",
    "\n",
    "# Testing stuff\n",
    "\n",
    "\n",
    "=================================================\n",
    "=================================================\n",
    "=================================================\n",
    "================================================="
   ]
  },
  {
   "cell_type": "code",
   "execution_count": 3,
   "metadata": {
    "collapsed": true
   },
   "outputs": [],
   "source": [
    "with open('Lyrics_KendrickLamar.json') as jsonfile:\n",
    "    artist = json.load(jsonfile)\n",
    "    songs = artist[\"songs\"]"
   ]
  },
  {
   "cell_type": "code",
   "execution_count": 17,
   "metadata": {},
   "outputs": [
    {
     "name": "stdout",
     "output_type": "stream",
     "text": [
      "[ { 'api_path': '/artists/4637',\n",
      "    'header_image_url': 'https://images.genius.com/5f7c5b37dd412d8dcfe5318a0f05d167.396x297x1.jpg',\n",
      "    'id': 4637,\n",
      "    'image_url': 'https://images.genius.com/5f7c5b37dd412d8dcfe5318a0f05d167.396x297x1.jpg',\n",
      "    'is_meme_verified': False,\n",
      "    'is_verified': False,\n",
      "    'name': 'MC Eiht',\n",
      "    'url': 'https://genius.com/artists/Mc-eiht'}]\n",
      "[Part I: Produced by Sounwave]\n",
      "\n",
      "[Intro: Kendrick Lamar & ScHoolboy Q]\n",
      "If Pirus and Crips all got along\n",
      "They'd probably gun me down by the end of this song\n",
      "Seem like the whole city go against me\n",
      "Every time I'm in the street, I hear—\n",
      "Yawk! Yawk! Yawk! Yawk!\n",
      "\n",
      "[Chorus: Kendrick Lamar]\n",
      "Man down, where you from, nigga?\n",
      "Fuck who you know—where you from, my nigga?\n",
      "Where your grandma stay, huh, my nigga?\n",
      "This m.A.A.d city I run, my nigga\n",
      "\n",
      "[Verse 1: Kendrick Lamar]\n",
      "Brace yourself, I'll take you on a trip down memory lane\n",
      "This is not a rap on how I'm slingin' crack or move cocaine\n",
      "This is cul-de-sac and plenty Cognac and major pain\n",
      "Not the drill sergeant, but the stress that weighin' on your brain\n",
      "It was me, L Boog, and Yan Yan, YG Lucky ride down Rosecrans\n",
      "It got ugly, wavin' yo' hand out the window – check yourself!\n",
      "Uh, Warriors and Conans, hope euphoria can slow dance\n",
      "With society, the driver seat the first one to get killed\n",
      "Seen a light-skinned nigga with his brains blown out\n",
      "At the same burger stand where *beep* hang out\n",
      "Now this is not a tape recorder sayin' that he did it\n",
      "But ever since that day, I was lookin' at him different\n",
      "That was back when I was nine, Joey packed the nine\n",
      "Pakistan on every porch is fine, we adapt to crime\n",
      "Pack a van with four guns at a time\n",
      "With the sliding door, fuck is up?\n",
      "Fuck you shootin' for if you ain't walkin' up, you fuckin' punk?\n",
      "Pickin' up the fuckin' pump, pickin' off you suckers\n",
      "Suck a dick or die or sucker punch\n",
      "A wall of bullets comin' from AK's, AR's, \"Ayy, y'all—duck!\"\n",
      "That's what Momma said when we was eatin' that free lunch\n",
      "Aw man, goddamn, all hell broke loose\n",
      "You killed my cousin back in '94, fuck yo' truce!\n",
      "Now crawl your head in that noose\n",
      "You wind up dead on the news\n",
      "Ain't no peace treaty, just piecin' BGs up to pre-approve\n",
      "Bodies on top of bodies, IVs on top of IVs\n",
      "Obviously the coroner between the sheets like the Isleys\n",
      "When you hop on that trolley, make sure your color's correct\n",
      "Make sure you're corporate or they'll be callin' your mother collect\n",
      "They say the governor collect all of our taxes, except\n",
      "When we in traffic and tragic happens, that shit ain't no threat\n",
      "You movin' backwards if you suggest that you sleep with a TEC\n",
      "Go buy a chopper and have a doctor on speed dial, I guess\n",
      "M.A.A.d. city\n",
      "\n",
      "[Chorus: Kendrick Lamar]\n",
      "Man down, where you from, nigga?\n",
      "Fuck who you know—where you from, my nigga?\n",
      "Where your grandma stay, huh, my nigga?\n",
      "This m.A.A.d city I run, my nigga\n",
      "\n",
      "[Bridge: Kendrick Lamar & ScHoolboy Q]\n",
      "If Pirus and Crips all got along\n",
      "They'd probably gun me down by the end of this song\n",
      "Seem like the whole city go against me\n",
      "Every time I'm in the street, I hear—\n",
      "Yawk! Yawk! Yawk!—\n",
      "\n",
      "[Part II: Produced by Terrace Martin]\n",
      "\n",
      "[Intro: MC Eiht]\n",
      "Wake yo' punk-ass up!\n",
      "It ain't nothin' but a Compton thang\n",
      "G-yeah, real simple and plain\n",
      "Let me teach you some lessons about the street\n",
      "(Smoke somethin', nigga!)\n",
      "Hood ('Sup, Cuz?)\n",
      "It ain't nothin' but a Compton thang\n",
      "G-yeah, how we do\n",
      "\n",
      "[Verse 2: Kendrick Lamar]\n",
      "Fresh outta school 'cause I was a high school grad'\n",
      "Sleepin' in the living room of my momma's pad\n",
      "Reality struck, I seen the white car crash\n",
      "Hit the light pole, two niggas hopped out on foot and dashed\n",
      "My pops said I needed a job, I thought I believed him\n",
      "Security guard for a month and ended up leavin'\n",
      "In fact, I got fired, 'cause I was inspired by all of my friends\n",
      "To stage a robbery the third Saturday I clocked in\n",
      "Projects tore up, gang signs get thrown up\n",
      "Cocaine laced in marijuana\n",
      "And they wonder why I rarely smoke now\n",
      "Imagine if your first blunt had you foamin' at the mouth\n",
      "I was straight tweakin', the next weekend we broke even\n",
      "I made allegiance that made a promise to see you bleedin'\n",
      "You know the reasons but still will never know my life\n",
      "Kendrick a.k.a. \"Compton's Human Sacrifice\"\n",
      "\n",
      "[Interlude: MC Eiht]\n",
      "G-yeah, cocaine, weed\n",
      "Niggas been mixin' shit since the '80s, loc\n",
      "Sherm sticks, butt-nakeds\n",
      "Dip, make a nigga flip\n",
      "Cluck heads all up and down the block and shit\n",
      "One time's crooked and shit\n",
      "Block a nigga in\n",
      "Alondra, Rosecrans, Bullis, it's Compton\n",
      "\n",
      "[Verse 3: MC Eiht]\n",
      "I'm still in the hood, loc, yeah that's cool\n",
      "Shit, the hood took me under, so I follow the rules\n",
      "But yeah, that's like me, I grew up in the hood where they bang\n",
      "And niggas that rep colors is doin' the same thang\n",
      "Pass it to the left so I can smoke on me\n",
      "A couple drive-bys in the hood lately, shit\n",
      "Couple of IV's with the fuckin' spray-can\n",
      "Shots in the crowd, then everybody ran\n",
      "Crew I'm finna slay, the street life I crave\n",
      "Shots hit the enemy, hearts turn brave\n",
      "Mount up, regulators in the whip\n",
      "Down the boulevard with the pistol grip, yeah\n",
      "Trip, we in the hood still\n",
      "So, loc, grab a strap 'cause yeah, it's so real, yeah\n",
      "Deal with the outcome, a strap in the hand\n",
      "And a bird and ten grand's where a mothafucka stand\n",
      "\n",
      "[Verse 4: Kendrick Lamar]\n",
      "If I told you I killed a nigga at sixteen, would you believe me?\n",
      "Perceive me to be innocent Kendrick you seen in the street\n",
      "With a basketball and some Now and Laters to eat?\n",
      "If I mentioned all of my skeletons, would you jump in the seat?\n",
      "Would you say my intelligence now is great relief?\n",
      "And it's safe to say that our next generation maybe can sleep\n",
      "With dreams of bein' a lawyer or doctor\n",
      "Instead of boy with a chopper that hold the cul-de-sac hostage\n",
      "Kill 'em all if they gossip\n",
      "The Children of the Corn, they vandalizin' the option\n",
      "Of livin' a lie, drown their body with toxins\n",
      "Constantly drinkin' and drive\n",
      "Hit the powder, then watch this flame that arrive in his eye\n",
      "Listen, coward, the concept is aim and then bang it and slide\n",
      "Out that bitch with deposit, a price on his head, the tithes\n",
      "Probably go to the projects, I\n",
      "Live inside the belly of the rough, Compton, USA\n",
      "Made me an Angel on Angel Dust - what?\n",
      "\n",
      "[Scratches]\n",
      "M.A.A.d city\n",
      "Compton\n",
      "\n",
      "[Outro]\n",
      "Nigga, pass Dot the bottle, damn!\n",
      "You ain't the one that got fucked up\n",
      "What you holdin' it for?\n",
      "Niggas always actin' unsensitive and shit\n",
      "Nigga, that ain't no word\n",
      "Nigga, shut up!\n",
      "Hey, Dot, you good, my nigga?\n",
      "Don't even trip\n",
      "Just lay back and drink that\n"
     ]
    }
   ],
   "source": [
    "## look at song structure a bit\n",
    "\n",
    "for song in songs:\n",
    "    if len(song['featured_artists']) > 0: \n",
    "        pp.pprint(song['featured_artists'])\n",
    "        print(song['lyrics'])\n",
    "        break"
   ]
  },
  {
   "cell_type": "code",
   "execution_count": 9,
   "metadata": {},
   "outputs": [
    {
     "name": "stdout",
     "output_type": "stream",
     "text": [
      "Các loại thuốc chữa bệnh sùi mào gà tận gốc tại nhà\n",
      "Top medicines for treating genital warts at the top of the house can be bought and used such as: Podophyllin 25 Thailand, ImiquiMod 5, Trichloracetic Acid Dot 80% and accompanying injectable samples, herbal medicines, and oral antibiotics to assist in the examination of genital warts\n",
      "Antibiotics are some drug samples that contain certain substances extracted from microorganisms or fungi that can kill bacteria or inhibit the growth of bacteria in a specific procedure. Not only does it also have an effect on parasites at the molecular level, often an important site for bacteria or a reaction in bacterial growth. Currently, there is no antibiotic that can directly destroy the HPV virus leading to genital warts. Only antibiotics help the body to produce resistance to the development of HPV such as acyclovir, Avir. , the vaccine prevents HPV\n",
      "This resistance-enhancing antibiotic can be found at drug dealers with prices ranging from 100,000 to 130,000 VND per box\n",
      "For genital warts, many people have been found to be cured with podophyllin 25% + imiquimod 5% therapy. Usually, for example, a person who is newly infected with genital warts in the early stages and has good resistance, the procedure to terminate the Podophyllin 25 with oral antibiotics can be completed in a few visits. Like the opposite, if the infection is severe or the HPV virus penetrates deep, even into the bloodstream, long-term treatment is sometimes required for up to 3 years, although it will also disappear\n",
      "About how to cure genital warts, Currently there are 2 main treatment methods: Podophyllin 25 doting in Thailand or laser burning at the hospital .. Not only that, the patient is obligated Note that Now There is no oral medicine to treat genital warts to avoid buying a number of deceptive drug lines\n",
      "Podophyllin 25 Thailand is the best product to treat genital warts in the skin today. However, it is imperative to choose quality addresses with reasonable prices ranging from VND 600,000 to VND 680,000\n",
      "Thuoc chua sui mao ga\n",
      "en\n"
     ]
    }
   ],
   "source": [
    "from dataset_utils import name_to_file_name\n",
    "from langdetect import detect, DetectorFactory, lang_detect_exception\n",
    "DetectorFactory.seed = 0\n",
    "\n",
    "with open(\"RAW_SONGS_DONT_DELETE/{}.json\".format(name_to_file_name('JAY-Z | Các loại thuốc chữa bệnh sùi mào gà tận gốc tại nhà'))) as song_file:\n",
    "    song = json.load(song_file)\n",
    "    lang = detect(song['lyrics'])\n",
    "    print(song['lyrics'])\n",
    "    print(lang)\n"
   ]
  },
  {
   "cell_type": "code",
   "execution_count": null,
   "metadata": {
    "collapsed": true
   },
   "outputs": [],
   "source": []
  },
  {
   "cell_type": "code",
   "execution_count": 71,
   "metadata": {
    "collapsed": true
   },
   "outputs": [],
   "source": [
    "from dataset_utils import remove_duplicates_from_list_file"
   ]
  },
  {
   "cell_type": "code",
   "execution_count": 72,
   "metadata": {},
   "outputs": [
    {
     "name": "stdout",
     "output_type": "stream",
     "text": [
      "Removing duplicates from list ./final_artist_list.txt\n",
      "Done removing duplicates\n"
     ]
    }
   ],
   "source": [
    "remove_duplicates_from_list_file(\".\",\"final_artist_list.txt\")"
   ]
  },
  {
   "cell_type": "code",
   "execution_count": 5,
   "metadata": {
    "collapsed": true
   },
   "outputs": [],
   "source": [
    "from dataset_utils import clean_artist_names, read_list_from_file\n"
   ]
  },
  {
   "cell_type": "code",
   "execution_count": 2,
   "metadata": {
    "collapsed": true
   },
   "outputs": [],
   "source": [
    "artists = read_list_from_file('final_artist_list.txt')\n",
    "for artist in artists:\n",
    "    if artist != clean_artist_names(artist).strip():\n",
    "        print(artist)"
   ]
  },
  {
   "cell_type": "code",
   "execution_count": 6,
   "metadata": {},
   "outputs": [
    {
     "data": {
      "text/plain": [
       "'b o b '"
      ]
     },
     "execution_count": 6,
     "metadata": {},
     "output_type": "execute_result"
    }
   ],
   "source": [
    "clean_artist_names(\"b.ob.\")"
   ]
  },
  {
   "cell_type": "markdown",
   "metadata": {},
   "source": [
    "# Clean personas"
   ]
  },
  {
   "cell_type": "code",
   "execution_count": 1,
   "metadata": {
    "collapsed": true
   },
   "outputs": [],
   "source": [
    "import pandas as pd\n",
    "import math\n",
    "from dataset_utils import clean_artist_names, read_list_from_file, write_list_to_file\n",
    "import pandas as pd\n",
    "import re"
   ]
  },
  {
   "cell_type": "code",
   "execution_count": 80,
   "metadata": {
    "collapsed": true
   },
   "outputs": [],
   "source": [
    "personas = pd.read_csv('persona_raw.csv')"
   ]
  },
  {
   "cell_type": "code",
   "execution_count": 81,
   "metadata": {
    "collapsed": true
   },
   "outputs": [],
   "source": [
    "def clean_column(value):\n",
    "    if pd.isnull(value):\n",
    "        return value\n",
    "    else:\n",
    "        return clean_artist_names(str(value)).strip()\n",
    "    \n",
    "def clean_column_list(value):\n",
    "    if pd.isnull(value):\n",
    "        return value\n",
    "    else:\n",
    "        entries = str(value).split(\",\")\n",
    "        entries = [clean_artist_names(entry).strip() for entry in entries]\n",
    "        return', '.join(entries)"
   ]
  },
  {
   "cell_type": "code",
   "execution_count": 82,
   "metadata": {},
   "outputs": [
    {
     "data": {
      "text/html": [
       "<div>\n",
       "<style scoped>\n",
       "    .dataframe tbody tr th:only-of-type {\n",
       "        vertical-align: middle;\n",
       "    }\n",
       "\n",
       "    .dataframe tbody tr th {\n",
       "        vertical-align: top;\n",
       "    }\n",
       "\n",
       "    .dataframe thead th {\n",
       "        text-align: right;\n",
       "    }\n",
       "</style>\n",
       "<table border=\"1\" class=\"dataframe\">\n",
       "  <thead>\n",
       "    <tr style=\"text-align: right;\">\n",
       "      <th></th>\n",
       "      <th>Artist Name</th>\n",
       "      <th>Real Name</th>\n",
       "      <th>City</th>\n",
       "      <th>Nicknames</th>\n",
       "      <th>Year</th>\n",
       "      <th>Groups</th>\n",
       "      <th>Discography</th>\n",
       "    </tr>\n",
       "  </thead>\n",
       "  <tbody>\n",
       "    <tr>\n",
       "      <th>0</th>\n",
       "      <td>tech n9ne</td>\n",
       "      <td>aaron dontez yates</td>\n",
       "      <td>kansas city</td>\n",
       "      <td>NaN</td>\n",
       "      <td>1991</td>\n",
       "      <td>the regime</td>\n",
       "      <td>enterfear, n9na, planet, the storm, special ef...</td>\n",
       "    </tr>\n",
       "    <tr>\n",
       "      <th>1</th>\n",
       "      <td>mf doom</td>\n",
       "      <td>daniel dumile</td>\n",
       "      <td>new york city</td>\n",
       "      <td>zev love x, king geedorah, king ghidra, viktor...</td>\n",
       "      <td>1988</td>\n",
       "      <td>kmd, gorillaz, monsta island czars, madvillain</td>\n",
       "      <td>born like this, mm food, venomous villain, vau...</td>\n",
       "    </tr>\n",
       "    <tr>\n",
       "      <th>2</th>\n",
       "      <td>elzhi</td>\n",
       "      <td>jason powers</td>\n",
       "      <td>detroit</td>\n",
       "      <td>elzhi</td>\n",
       "      <td>1998</td>\n",
       "      <td>slum village</td>\n",
       "      <td>lead poison, the preface</td>\n",
       "    </tr>\n",
       "    <tr>\n",
       "      <th>3</th>\n",
       "      <td>inspectah deck</td>\n",
       "      <td>jason richard hunter</td>\n",
       "      <td>new york city</td>\n",
       "      <td>rollie fingers, fifth brother, rebel ins</td>\n",
       "      <td>1992</td>\n",
       "      <td>wu tang clan, czarface</td>\n",
       "      <td>cynthias son, manifesto, the resident patient ...</td>\n",
       "    </tr>\n",
       "    <tr>\n",
       "      <th>4</th>\n",
       "      <td>chief keef</td>\n",
       "      <td>keith farrelle cozart</td>\n",
       "      <td>chicago</td>\n",
       "      <td>sosa</td>\n",
       "      <td>2011</td>\n",
       "      <td>glo gang</td>\n",
       "      <td>dedication, bang 3, part 2, bang 3, part 1, fi...</td>\n",
       "    </tr>\n",
       "    <tr>\n",
       "      <th>...</th>\n",
       "      <td>...</td>\n",
       "      <td>...</td>\n",
       "      <td>...</td>\n",
       "      <td>...</td>\n",
       "      <td>...</td>\n",
       "      <td>...</td>\n",
       "      <td>...</td>\n",
       "    </tr>\n",
       "    <tr>\n",
       "      <th>86</th>\n",
       "      <td>u god</td>\n",
       "      <td>lamont jody hawkins</td>\n",
       "      <td>new york city</td>\n",
       "      <td>golden arms, universal god</td>\n",
       "      <td>1991</td>\n",
       "      <td>wu tang clan</td>\n",
       "      <td>golden arms redemption, mr xcitement, dopium, ...</td>\n",
       "    </tr>\n",
       "    <tr>\n",
       "      <th>87</th>\n",
       "      <td>vanilla ice</td>\n",
       "      <td>robert matthew van winkle</td>\n",
       "      <td>miami</td>\n",
       "      <td>NaN</td>\n",
       "      <td>1985</td>\n",
       "      <td>NaN</td>\n",
       "      <td>to the extreme, mind blowin, hard to swallow, ...</td>\n",
       "    </tr>\n",
       "    <tr>\n",
       "      <th>88</th>\n",
       "      <td>vinnie paz</td>\n",
       "      <td>vincenzo luvineri</td>\n",
       "      <td>philadelphia</td>\n",
       "      <td>NaN</td>\n",
       "      <td>1993</td>\n",
       "      <td>army of the pharoahs, heavy metal kings, jedi ...</td>\n",
       "      <td>season of the assassin, god of the serengeti, ...</td>\n",
       "    </tr>\n",
       "    <tr>\n",
       "      <th>89</th>\n",
       "      <td>wiz khalifa</td>\n",
       "      <td>cameron jibril thomaz</td>\n",
       "      <td>pittsburgh</td>\n",
       "      <td>NaN</td>\n",
       "      <td>2005</td>\n",
       "      <td>show and prove, deal or no deal, rolling paper...</td>\n",
       "      <td>NaN</td>\n",
       "    </tr>\n",
       "    <tr>\n",
       "      <th>90</th>\n",
       "      <td>xzibit</td>\n",
       "      <td>alvin nathaniel joiner</td>\n",
       "      <td>los angeles</td>\n",
       "      <td>exhibit a, x to the z, wow alvin</td>\n",
       "      <td>1994</td>\n",
       "      <td>likwit crew, serial killers, strong arm steady</td>\n",
       "      <td>at the speed of life, 40 dayz 40 nightz, restl...</td>\n",
       "    </tr>\n",
       "  </tbody>\n",
       "</table>\n",
       "<p>91 rows × 7 columns</p>\n",
       "</div>"
      ],
      "text/plain": [
       "       Artist Name                  Real Name           City  \\\n",
       "0        tech n9ne         aaron dontez yates    kansas city   \n",
       "1          mf doom              daniel dumile  new york city   \n",
       "2            elzhi               jason powers        detroit   \n",
       "3   inspectah deck       jason richard hunter  new york city   \n",
       "4       chief keef      keith farrelle cozart        chicago   \n",
       "..             ...                        ...            ...   \n",
       "86           u god        lamont jody hawkins  new york city   \n",
       "87     vanilla ice  robert matthew van winkle          miami   \n",
       "88      vinnie paz          vincenzo luvineri   philadelphia   \n",
       "89     wiz khalifa      cameron jibril thomaz     pittsburgh   \n",
       "90          xzibit     alvin nathaniel joiner    los angeles   \n",
       "\n",
       "                                            Nicknames  Year  \\\n",
       "0                                                 NaN  1991   \n",
       "1   zev love x, king geedorah, king ghidra, viktor...  1988   \n",
       "2                                               elzhi  1998   \n",
       "3            rollie fingers, fifth brother, rebel ins  1992   \n",
       "4                                                sosa  2011   \n",
       "..                                                ...   ...   \n",
       "86                         golden arms, universal god  1991   \n",
       "87                                                NaN  1985   \n",
       "88                                                NaN  1993   \n",
       "89                                                NaN  2005   \n",
       "90                   exhibit a, x to the z, wow alvin  1994   \n",
       "\n",
       "                                               Groups  \\\n",
       "0                                          the regime   \n",
       "1      kmd, gorillaz, monsta island czars, madvillain   \n",
       "2                                        slum village   \n",
       "3                              wu tang clan, czarface   \n",
       "4                                            glo gang   \n",
       "..                                                ...   \n",
       "86                                       wu tang clan   \n",
       "87                                                NaN   \n",
       "88  army of the pharoahs, heavy metal kings, jedi ...   \n",
       "89  show and prove, deal or no deal, rolling paper...   \n",
       "90     likwit crew, serial killers, strong arm steady   \n",
       "\n",
       "                                          Discography  \n",
       "0   enterfear, n9na, planet, the storm, special ef...  \n",
       "1   born like this, mm food, venomous villain, vau...  \n",
       "2                            lead poison, the preface  \n",
       "3   cynthias son, manifesto, the resident patient ...  \n",
       "4   dedication, bang 3, part 2, bang 3, part 1, fi...  \n",
       "..                                                ...  \n",
       "86  golden arms redemption, mr xcitement, dopium, ...  \n",
       "87  to the extreme, mind blowin, hard to swallow, ...  \n",
       "88  season of the assassin, god of the serengeti, ...  \n",
       "89                                                NaN  \n",
       "90  at the speed of life, 40 dayz 40 nightz, restl...  \n",
       "\n",
       "[91 rows x 7 columns]"
      ]
     },
     "execution_count": 82,
     "metadata": {},
     "output_type": "execute_result"
    }
   ],
   "source": [
    "personas_clean = personas.applymap(clean_column_list)\n",
    "personas_clean"
   ]
  },
  {
   "cell_type": "code",
   "execution_count": 83,
   "metadata": {
    "collapsed": true
   },
   "outputs": [],
   "source": [
    "personas_clean.to_csv(\"personas_clean.csv\",index=False)"
   ]
  },
  {
   "cell_type": "code",
   "execution_count": 88,
   "metadata": {
    "collapsed": true
   },
   "outputs": [],
   "source": [
    "personas_clean = pd.read_csv('personas_clean.csv')\n",
    "artist_list = read_list_from_file('final_artist_list.txt')"
   ]
  },
  {
   "cell_type": "code",
   "execution_count": 89,
   "metadata": {
    "collapsed": true
   },
   "outputs": [],
   "source": [
    "artist_ids = []\n",
    "for index, row in personas_clean.iterrows():\n",
    "    artist_ids.append(artist_list.index(row['Artist Name']) + 1)"
   ]
  },
  {
   "cell_type": "code",
   "execution_count": 90,
   "metadata": {
    "collapsed": true
   },
   "outputs": [],
   "source": [
    "personas_clean['Artist Id'] = artist_ids"
   ]
  },
  {
   "cell_type": "code",
   "execution_count": 91,
   "metadata": {
    "collapsed": true
   },
   "outputs": [],
   "source": [
    "personas_clean = personas_clean.sort_values(by='Artist Id')\n",
    "personas_clean"
   ]
  },
  {
   "cell_type": "code",
   "execution_count": 100,
   "metadata": {
    "collapsed": true
   },
   "outputs": [],
   "source": [
    "personas_clean.to_csv('personas_clean.csv', index=False)"
   ]
  },
  {
   "cell_type": "code",
   "execution_count": 2,
   "metadata": {
    "collapsed": true
   },
   "outputs": [],
   "source": [
    "with open('personas_sentences_raw.txt') as openfile:\n",
    "    personas_sentences = openfile.read()\n",
    "personas_sentences = re.sub(r',', ' ,', personas_sentences)\n",
    "\n",
    "with open ('personas_sentences_clean.txt', 'w') as openfile:\n",
    "    openfile.write(personas_sentences)"
   ]
  },
  {
   "cell_type": "code",
   "execution_count": 3,
   "metadata": {
    "collapsed": true
   },
   "outputs": [],
   "source": [
    "with open('personas_tags.txt') as openfile:\n",
    "    personas_tags = openfile.read()\n",
    "personas_tags = re.sub(r'<name>', 'N', personas_tags)\n",
    "personas_tags = re.sub(r'<realname>', 'R', personas_tags)\n",
    "personas_tags = re.sub(r'<city>', 'C', personas_tags)\n",
    "personas_tags = re.sub(r'<nicknames>', 'M', personas_tags)\n",
    "personas_tags = re.sub(r'<groups>', 'G', personas_tags)\n",
    "personas_tags = re.sub(r'<albums>', 'A', personas_tags)\n",
    "personas_tags = re.sub(r'<year>', 'Y', personas_tags)\n",
    "personas_tags = re.sub(r'<id>', 'I', personas_tags)\n",
    "personas_tags = re.sub(r',', ' ,', personas_tags)\n",
    "\n",
    "with open ('personas_tags_fixed.txt', 'w') as openfile:\n",
    "    openfile.write(personas_tags)"
   ]
  },
  {
   "cell_type": "code",
   "execution_count": null,
   "metadata": {
    "collapsed": true
   },
   "outputs": [],
   "source": []
  },
  {
   "cell_type": "markdown",
   "metadata": {},
   "source": [
    "# BPE"
   ]
  },
  {
   "cell_type": "markdown",
   "metadata": {},
   "source": [
    "## Input File "
   ]
  },
  {
   "cell_type": "code",
   "execution_count": 1,
   "metadata": {
    "collapsed": true
   },
   "outputs": [],
   "source": [
    "from compile_lyrics_to_one_file import compile_lyrics"
   ]
  },
  {
   "cell_type": "code",
   "execution_count": 2,
   "metadata": {},
   "outputs": [
    {
     "name": "stderr",
     "output_type": "stream",
     "text": [
      "100%|██████████| 17816/17816 [00:05<00:00, 3319.19it/s]\n"
     ]
    }
   ],
   "source": [
    "compile_lyrics('verses_with_tokens/_LIST', 'all_lyrics_raw.txt')"
   ]
  },
  {
   "cell_type": "markdown",
   "metadata": {},
   "source": [
    "## apply to lyrics"
   ]
  },
  {
   "cell_type": "code",
   "execution_count": 1,
   "metadata": {
    "collapsed": true
   },
   "outputs": [],
   "source": [
    "from subword_nmt import apply_bpe"
   ]
  },
  {
   "cell_type": "code",
   "execution_count": 5,
   "metadata": {},
   "outputs": [
    {
     "data": {
      "text/plain": [
       "subword_nmt.apply_bpe.BPE"
      ]
     },
     "execution_count": 5,
     "metadata": {},
     "output_type": "execute_result"
    }
   ],
   "source": [
    "apply_bpe.BPE"
   ]
  },
  {
   "cell_type": "code",
   "execution_count": 2,
   "metadata": {
    "collapsed": true
   },
   "outputs": [],
   "source": [
    "from apply_bpe_to_songs import run_bpe_on_songs, bpe_songs_dir"
   ]
  },
  {
   "cell_type": "code",
   "execution_count": 3,
   "metadata": {
    "scrolled": true
   },
   "outputs": [
    {
     "name": "stderr",
     "output_type": "stream",
     "text": [
      "100%|██████████| 17816/17816 [00:27<00:00, 640.42it/s]"
     ]
    },
    {
     "name": "stdout",
     "output_type": "stream",
     "text": [
      "0:00:27.834715 for 17816 Song\n"
     ]
    },
    {
     "name": "stderr",
     "output_type": "stream",
     "text": [
      "\n"
     ]
    }
   ],
   "source": [
    "run_bpe_on_songs('subword_nmt/bpe_codes_16000.txt', 'verses_with_tokens/_LIST', 'bpe_songs_16000')"
   ]
  },
  {
   "cell_type": "markdown",
   "metadata": {},
   "source": [
    "## revert bpe"
   ]
  },
  {
   "cell_type": "code",
   "execution_count": 10,
   "metadata": {
    "collapsed": true
   },
   "outputs": [],
   "source": [
    "from dataset_utils import revert_bpe, apply_bpe_to_string"
   ]
  },
  {
   "cell_type": "code",
   "execution_count": 5,
   "metadata": {
    "collapsed": true
   },
   "outputs": [],
   "source": [
    "s_bpe = \"S got my joint filled with the real killa L S where i come from my bedroom was real little L S now im mansion status in my apparatus L S when they bring my check i start cabbage pa@@ tchin L S whats cappin captain around the mat relaxin L S when she look down i know thats chain reaction L S i done been through it i got a pain reaction L S introduce me to your nigga i had a lame reaction L S had me all itchin and shit L S i come through on the blitz i had the shoe with the kit L S i got an ink on my body made the drophead do karate L S if i was in a dunk contest i would jump over ferrari L\""
   ]
  },
  {
   "cell_type": "code",
   "execution_count": 6,
   "metadata": {
    "collapsed": true
   },
   "outputs": [],
   "source": [
    "s = \"S got my joint filled with the real killa L S where i come from my bedroom was real little L S now im mansion status in my apparatus L S when they bring my check i start cabbage patchin L S whats cappin captain around the mat relaxin L S when she look down i know thats chain reaction L S i done been through it i got a pain reaction L S introduce me to your nigga i had a lame reaction L S had me all itchin and shit L S i come through on the blitz i had the shoe with the kit L S i got an ink on my body made the drophead do karate L S if i was in a dunk contest i would jump over ferrari L\""
   ]
  },
  {
   "cell_type": "code",
   "execution_count": 8,
   "metadata": {},
   "outputs": [
    {
     "data": {
      "text/plain": [
       "True"
      ]
     },
     "execution_count": 8,
     "metadata": {},
     "output_type": "execute_result"
    }
   ],
   "source": [
    "revert_bpe(s_bpe) == s"
   ]
  },
  {
   "cell_type": "code",
   "execution_count": 12,
   "metadata": {},
   "outputs": [
    {
     "data": {
      "text/plain": [
       "True"
      ]
     },
     "execution_count": 12,
     "metadata": {},
     "output_type": "execute_result"
    }
   ],
   "source": [
    "apply_bpe_to_string(s, codes_file_path=\"subword_nmt/bpe_codes.txt\") == s_bpe"
   ]
  },
  {
   "cell_type": "markdown",
   "metadata": {},
   "source": [
    "## bpe token to int"
   ]
  },
  {
   "cell_type": "markdown",
   "metadata": {},
   "source": []
  },
  {
   "cell_type": "code",
   "execution_count": 13,
   "metadata": {
    "collapsed": true
   },
   "outputs": [],
   "source": [
    "from subword_nmt import learn_bpe"
   ]
  },
  {
   "cell_type": "code",
   "execution_count": null,
   "metadata": {
    "collapsed": true
   },
   "outputs": [],
   "source": []
  },
  {
   "cell_type": "markdown",
   "metadata": {},
   "source": [
    "# train test val split"
   ]
  },
  {
   "cell_type": "code",
   "execution_count": 1,
   "metadata": {
    "collapsed": true
   },
   "outputs": [],
   "source": [
    "from dataset_utils import loop_and_process, name_to_file_name, read_list_from_file, write_list_to_file, remove_duplicates_from_list_file, clean_artist_names, get_bpe_object, apply_bpe_to_string\n",
    "import json\n",
    "import random"
   ]
  },
  {
   "cell_type": "code",
   "execution_count": 2,
   "metadata": {
    "collapsed": true
   },
   "outputs": [],
   "source": [
    "def get_artist_with_songs_list(songs_list):  \n",
    "    artist_to_song_list = {}\n",
    "    for song in songs_list:\n",
    "        artist_name = song.split('|')[0]\n",
    "        if artist_name not in artist_to_song_list:\n",
    "            artist_to_song_list[artist_name] = [song]\n",
    "        else:\n",
    "            artist_to_song_list[artist_name].append(song)\n",
    "    return artist_to_song_list"
   ]
  },
  {
   "cell_type": "code",
   "execution_count": 2,
   "metadata": {
    "collapsed": true
   },
   "outputs": [],
   "source": [
    "songs_list = read_list_from_file('bpe_songs/_LIST')"
   ]
  },
  {
   "cell_type": "code",
   "execution_count": 3,
   "metadata": {
    "collapsed": true
   },
   "outputs": [],
   "source": [
    "test_val = random.sample(songs_list, int(0.2 * len(songs_list)))"
   ]
  },
  {
   "cell_type": "code",
   "execution_count": 5,
   "metadata": {
    "collapsed": true
   },
   "outputs": [],
   "source": [
    "artist_to_song_list = get_artist_with_songs_list(songs_list)\n",
    "val_test = []\n",
    "for artist in artist_to_song_list:\n",
    "    artist_songs_list = artist_to_song_list[artist]\n",
    "    val_test.extend(random.sample(artist_songs_list, int(.2 * len(artist_songs_list))))"
   ]
  },
  {
   "cell_type": "code",
   "execution_count": 6,
   "metadata": {},
   "outputs": [
    {
     "data": {
      "text/plain": [
       "3526"
      ]
     },
     "execution_count": 6,
     "metadata": {},
     "output_type": "execute_result"
    }
   ],
   "source": [
    "len(val_test)"
   ]
  },
  {
   "cell_type": "code",
   "execution_count": 7,
   "metadata": {
    "collapsed": true
   },
   "outputs": [],
   "source": [
    "write_list_to_file(val_test, 'val_test_split.txt', 'w')"
   ]
  },
  {
   "cell_type": "markdown",
   "metadata": {},
   "source": [
    "### get test from test val"
   ]
  },
  {
   "cell_type": "code",
   "execution_count": 12,
   "metadata": {
    "collapsed": true
   },
   "outputs": [],
   "source": [
    "val_test = read_list_from_file('val_test_split.txt')"
   ]
  },
  {
   "cell_type": "code",
   "execution_count": 13,
   "metadata": {
    "collapsed": true
   },
   "outputs": [],
   "source": [
    "val_test_artists_to_song_list = get_artist_with_songs_list(val_test)\n",
    "test = []\n",
    "for artist in val_test_artists_to_song_list:\n",
    "    artist_songs_list = val_test_artists_to_song_list[artist]\n",
    "    test.extend(random.sample(artist_songs_list, int(.5 * len(artist_songs_list))))\n",
    "    \n"
   ]
  },
  {
   "cell_type": "code",
   "execution_count": 14,
   "metadata": {
    "collapsed": true
   },
   "outputs": [],
   "source": [
    "write_list_to_file(test, 'test_split.txt', 'w')"
   ]
  },
  {
   "cell_type": "markdown",
   "metadata": {},
   "source": [
    "## get final lists"
   ]
  },
  {
   "cell_type": "code",
   "execution_count": 21,
   "metadata": {
    "collapsed": true
   },
   "outputs": [],
   "source": [
    "songs_list = read_list_from_file('bpe_songs/_LIST')\n",
    "val_test = read_list_from_file('val_test_split.txt')\n",
    "test = read_list_from_file('test_split.txt')"
   ]
  },
  {
   "cell_type": "code",
   "execution_count": 22,
   "metadata": {
    "collapsed": true
   },
   "outputs": [],
   "source": [
    "for song in val_test:\n",
    "    songs_list.remove(song)\n",
    "write_list_to_file(songs_list, 'train_split.txt', 'w')\n",
    "for song in test:\n",
    "    val_test.remove(song)\n",
    "write_list_to_file(val_test, 'val_split.txt', 'w')"
   ]
  },
  {
   "cell_type": "markdown",
   "metadata": {},
   "source": [
    "# format training examples"
   ]
  },
  {
   "cell_type": "code",
   "execution_count": 23,
   "metadata": {
    "collapsed": true
   },
   "outputs": [],
   "source": [
    "from create_training_files import create_train_file"
   ]
  },
  {
   "cell_type": "code",
   "execution_count": 24,
   "metadata": {},
   "outputs": [
    {
     "name": "stderr",
     "output_type": "stream",
     "text": [
      "100%|██████████| 14290/14290 [00:04<00:00, 3206.48it/s]\n"
     ]
    }
   ],
   "source": [
    "create_train_file('train_split.txt', 'train.json')"
   ]
  },
  {
   "cell_type": "code",
   "execution_count": 25,
   "metadata": {},
   "outputs": [
    {
     "name": "stderr",
     "output_type": "stream",
     "text": [
      "100%|██████████| 1783/1783 [00:00<00:00, 2618.15it/s]\n"
     ]
    }
   ],
   "source": [
    "create_train_file('val_split.txt', 'val.json')"
   ]
  },
  {
   "cell_type": "code",
   "execution_count": 26,
   "metadata": {},
   "outputs": [
    {
     "name": "stderr",
     "output_type": "stream",
     "text": [
      "100%|██████████| 1743/1743 [00:00<00:00, 2550.41it/s]\n"
     ]
    }
   ],
   "source": [
    "create_train_file('test_split.txt', 'test.json')"
   ]
  },
  {
   "cell_type": "markdown",
   "metadata": {},
   "source": [
    "A training example will be `<persona, 'W', previous lines>`, where 'W' (capital W)\n",
    "is our special `<start_song>` token. Tokens must be separated by a single space."
   ]
  },
  {
   "cell_type": "markdown",
   "metadata": {
    "collapsed": true
   },
   "source": [
    "# Persona lengths"
   ]
  },
  {
   "cell_type": "code",
   "execution_count": 8,
   "metadata": {
    "collapsed": true
   },
   "outputs": [],
   "source": [
    "import dataset_utils"
   ]
  },
  {
   "cell_type": "code",
   "execution_count": 9,
   "metadata": {
    "collapsed": true
   },
   "outputs": [],
   "source": [
    "persona_sentences = dataset_utils.read_list_from_file('persona_sentences_bpe.txt')\n",
    "persona_lengths = [len(persona.split(' ')) for persona in persona_sentences]"
   ]
  },
  {
   "cell_type": "code",
   "execution_count": 10,
   "metadata": {},
   "outputs": [
    {
     "data": {
      "text/plain": [
       "151"
      ]
     },
     "execution_count": 10,
     "metadata": {},
     "output_type": "execute_result"
    }
   ],
   "source": [
    "max(persona_lengths)"
   ]
  },
  {
   "cell_type": "code",
   "execution_count": 11,
   "metadata": {
    "collapsed": true
   },
   "outputs": [],
   "source": [
    "persona_tags = dataset_utils.read_list_from_file('persona_tags_bpe.txt')\n",
    "persona_lengths = [len(persona.split(' ')) for persona in persona_tags]"
   ]
  },
  {
   "cell_type": "code",
   "execution_count": 12,
   "metadata": {},
   "outputs": [
    {
     "data": {
      "text/plain": [
       "127"
      ]
     },
     "execution_count": 12,
     "metadata": {},
     "output_type": "execute_result"
    }
   ],
   "source": [
    "max(persona_lengths)"
   ]
  },
  {
   "cell_type": "markdown",
   "metadata": {
    "collapsed": true
   },
   "source": [
    "# Artist Sim Analysis"
   ]
  },
  {
   "cell_type": "code",
   "execution_count": 2,
   "metadata": {},
   "outputs": [
    {
     "data": {
      "text/html": [
       "<div>\n",
       "<style scoped>\n",
       "    .dataframe tbody tr th:only-of-type {\n",
       "        vertical-align: middle;\n",
       "    }\n",
       "\n",
       "    .dataframe tbody tr th {\n",
       "        vertical-align: top;\n",
       "    }\n",
       "\n",
       "    .dataframe thead th {\n",
       "        text-align: right;\n",
       "    }\n",
       "</style>\n",
       "<table border=\"1\" class=\"dataframe\">\n",
       "  <thead>\n",
       "    <tr style=\"text-align: right;\">\n",
       "      <th></th>\n",
       "      <th>0</th>\n",
       "      <th>3</th>\n",
       "      <th>21</th>\n",
       "      <th>24</th>\n",
       "      <th>34</th>\n",
       "      <th>42</th>\n",
       "      <th>44</th>\n",
       "      <th>45</th>\n",
       "      <th>65</th>\n",
       "      <th>84</th>\n",
       "    </tr>\n",
       "  </thead>\n",
       "  <tbody>\n",
       "    <tr>\n",
       "      <th>1</th>\n",
       "      <td>0.400779</td>\n",
       "      <td>0.397974</td>\n",
       "      <td>0.368458</td>\n",
       "      <td>0.392804</td>\n",
       "      <td>0.309404</td>\n",
       "      <td>0.398335</td>\n",
       "      <td>0.348526</td>\n",
       "      <td>0.385975</td>\n",
       "      <td>0.348542</td>\n",
       "      <td>0.370582</td>\n",
       "    </tr>\n",
       "    <tr>\n",
       "      <th>4</th>\n",
       "      <td>0.384402</td>\n",
       "      <td>0.391507</td>\n",
       "      <td>0.367955</td>\n",
       "      <td>0.378612</td>\n",
       "      <td>0.307614</td>\n",
       "      <td>0.393165</td>\n",
       "      <td>0.346452</td>\n",
       "      <td>0.377578</td>\n",
       "      <td>0.348594</td>\n",
       "      <td>0.377512</td>\n",
       "    </tr>\n",
       "    <tr>\n",
       "      <th>22</th>\n",
       "      <td>0.483432</td>\n",
       "      <td>0.494475</td>\n",
       "      <td>0.484338</td>\n",
       "      <td>0.507726</td>\n",
       "      <td>0.452854</td>\n",
       "      <td>0.467712</td>\n",
       "      <td>0.474005</td>\n",
       "      <td>0.497557</td>\n",
       "      <td>0.464640</td>\n",
       "      <td>0.462303</td>\n",
       "    </tr>\n",
       "    <tr>\n",
       "      <th>25</th>\n",
       "      <td>0.506049</td>\n",
       "      <td>0.505546</td>\n",
       "      <td>0.488926</td>\n",
       "      <td>0.532019</td>\n",
       "      <td>0.485213</td>\n",
       "      <td>0.495101</td>\n",
       "      <td>0.490810</td>\n",
       "      <td>0.518072</td>\n",
       "      <td>0.469627</td>\n",
       "      <td>0.481991</td>\n",
       "    </tr>\n",
       "    <tr>\n",
       "      <th>35</th>\n",
       "      <td>0.465275</td>\n",
       "      <td>0.482832</td>\n",
       "      <td>0.475834</td>\n",
       "      <td>0.490084</td>\n",
       "      <td>0.437635</td>\n",
       "      <td>0.447798</td>\n",
       "      <td>0.464406</td>\n",
       "      <td>0.484374</td>\n",
       "      <td>0.454824</td>\n",
       "      <td>0.436268</td>\n",
       "    </tr>\n",
       "    <tr>\n",
       "      <th>43</th>\n",
       "      <td>0.393052</td>\n",
       "      <td>0.403957</td>\n",
       "      <td>0.397155</td>\n",
       "      <td>0.407879</td>\n",
       "      <td>0.356341</td>\n",
       "      <td>0.390999</td>\n",
       "      <td>0.388255</td>\n",
       "      <td>0.410177</td>\n",
       "      <td>0.387561</td>\n",
       "      <td>0.379128</td>\n",
       "    </tr>\n",
       "    <tr>\n",
       "      <th>45</th>\n",
       "      <td>0.458464</td>\n",
       "      <td>0.468076</td>\n",
       "      <td>0.452917</td>\n",
       "      <td>0.473001</td>\n",
       "      <td>0.411357</td>\n",
       "      <td>0.454393</td>\n",
       "      <td>0.447063</td>\n",
       "      <td>0.502293</td>\n",
       "      <td>0.439033</td>\n",
       "      <td>0.430547</td>\n",
       "    </tr>\n",
       "    <tr>\n",
       "      <th>46</th>\n",
       "      <td>0.358137</td>\n",
       "      <td>0.366130</td>\n",
       "      <td>0.356000</td>\n",
       "      <td>0.371136</td>\n",
       "      <td>0.320044</td>\n",
       "      <td>0.362458</td>\n",
       "      <td>0.349519</td>\n",
       "      <td>0.372804</td>\n",
       "      <td>0.347677</td>\n",
       "      <td>0.350191</td>\n",
       "    </tr>\n",
       "    <tr>\n",
       "      <th>66</th>\n",
       "      <td>0.481646</td>\n",
       "      <td>0.487098</td>\n",
       "      <td>0.472401</td>\n",
       "      <td>0.499298</td>\n",
       "      <td>0.460407</td>\n",
       "      <td>0.468562</td>\n",
       "      <td>0.472672</td>\n",
       "      <td>0.498208</td>\n",
       "      <td>0.455557</td>\n",
       "      <td>0.459408</td>\n",
       "    </tr>\n",
       "    <tr>\n",
       "      <th>85</th>\n",
       "      <td>0.412386</td>\n",
       "      <td>0.414200</td>\n",
       "      <td>0.402003</td>\n",
       "      <td>0.427230</td>\n",
       "      <td>0.365375</td>\n",
       "      <td>0.411195</td>\n",
       "      <td>0.388456</td>\n",
       "      <td>0.425418</td>\n",
       "      <td>0.387306</td>\n",
       "      <td>0.379820</td>\n",
       "    </tr>\n",
       "  </tbody>\n",
       "</table>\n",
       "</div>"
      ],
      "text/plain": [
       "           0         3        21        24        34        42        44  \\\n",
       "1   0.400779  0.397974  0.368458  0.392804  0.309404  0.398335  0.348526   \n",
       "4   0.384402  0.391507  0.367955  0.378612  0.307614  0.393165  0.346452   \n",
       "22  0.483432  0.494475  0.484338  0.507726  0.452854  0.467712  0.474005   \n",
       "25  0.506049  0.505546  0.488926  0.532019  0.485213  0.495101  0.490810   \n",
       "35  0.465275  0.482832  0.475834  0.490084  0.437635  0.447798  0.464406   \n",
       "43  0.393052  0.403957  0.397155  0.407879  0.356341  0.390999  0.388255   \n",
       "45  0.458464  0.468076  0.452917  0.473001  0.411357  0.454393  0.447063   \n",
       "46  0.358137  0.366130  0.356000  0.371136  0.320044  0.362458  0.349519   \n",
       "66  0.481646  0.487098  0.472401  0.499298  0.460407  0.468562  0.472672   \n",
       "85  0.412386  0.414200  0.402003  0.427230  0.365375  0.411195  0.388456   \n",
       "\n",
       "          45        65        84  \n",
       "1   0.385975  0.348542  0.370582  \n",
       "4   0.377578  0.348594  0.377512  \n",
       "22  0.497557  0.464640  0.462303  \n",
       "25  0.518072  0.469627  0.481991  \n",
       "35  0.484374  0.454824  0.436268  \n",
       "43  0.410177  0.387561  0.379128  \n",
       "45  0.502293  0.439033  0.430547  \n",
       "46  0.372804  0.347677  0.350191  \n",
       "66  0.498208  0.455557  0.459408  \n",
       "85  0.425418  0.387306  0.379820  "
      ]
     },
     "execution_count": 2,
     "metadata": {},
     "output_type": "execute_result"
    }
   ],
   "source": [
    "sim_matrix = pd.read_csv(\"artist_sim_matrix.csv\")\n",
    "artist_names = ['21 savage', '6ix9ine', 'dr dre', 'earl sweatshirt', 'ice cube', 'kanye west', 'kendrick lamar', 'kid cudi', 'pusha t', 'tyler the creator']\n",
    "artist_indices = [1,4,22,25,35,43,45,46,66,85]\n",
    "artist_indices2 = [i - 1 for i in artist_indices]\n",
    "selected_matrix = sim_matrix.iloc[artist_indices, artist_indices]\n",
    "selected_matrix"
   ]
  },
  {
   "cell_type": "code",
   "execution_count": 3,
   "metadata": {},
   "outputs": [
    {
     "data": {
      "text/html": [
       "<div>\n",
       "<style scoped>\n",
       "    .dataframe tbody tr th:only-of-type {\n",
       "        vertical-align: middle;\n",
       "    }\n",
       "\n",
       "    .dataframe tbody tr th {\n",
       "        vertical-align: top;\n",
       "    }\n",
       "\n",
       "    .dataframe thead th {\n",
       "        text-align: right;\n",
       "    }\n",
       "</style>\n",
       "<table border=\"1\" class=\"dataframe\">\n",
       "  <thead>\n",
       "    <tr style=\"text-align: right;\">\n",
       "      <th></th>\n",
       "      <th>21 savage</th>\n",
       "      <th>6ix9ine</th>\n",
       "      <th>dr dre</th>\n",
       "      <th>earl sweatshirt</th>\n",
       "      <th>ice cube</th>\n",
       "      <th>kanye west</th>\n",
       "      <th>kendrick lamar</th>\n",
       "      <th>kid cudi</th>\n",
       "      <th>pusha t</th>\n",
       "      <th>tyler the creator</th>\n",
       "    </tr>\n",
       "  </thead>\n",
       "  <tbody>\n",
       "    <tr>\n",
       "      <th>21 savage</th>\n",
       "      <td>0.401</td>\n",
       "      <td>0.398</td>\n",
       "      <td>0.368</td>\n",
       "      <td>0.393</td>\n",
       "      <td>0.309</td>\n",
       "      <td>0.398</td>\n",
       "      <td>0.349</td>\n",
       "      <td>0.386</td>\n",
       "      <td>0.349</td>\n",
       "      <td>0.371</td>\n",
       "    </tr>\n",
       "    <tr>\n",
       "      <th>6ix9ine</th>\n",
       "      <td>0.384</td>\n",
       "      <td>0.392</td>\n",
       "      <td>0.368</td>\n",
       "      <td>0.379</td>\n",
       "      <td>0.308</td>\n",
       "      <td>0.393</td>\n",
       "      <td>0.346</td>\n",
       "      <td>0.378</td>\n",
       "      <td>0.349</td>\n",
       "      <td>0.378</td>\n",
       "    </tr>\n",
       "    <tr>\n",
       "      <th>dr dre</th>\n",
       "      <td>0.483</td>\n",
       "      <td>0.494</td>\n",
       "      <td>0.484</td>\n",
       "      <td>0.508</td>\n",
       "      <td>0.453</td>\n",
       "      <td>0.468</td>\n",
       "      <td>0.474</td>\n",
       "      <td>0.498</td>\n",
       "      <td>0.465</td>\n",
       "      <td>0.462</td>\n",
       "    </tr>\n",
       "    <tr>\n",
       "      <th>earl sweatshirt</th>\n",
       "      <td>0.506</td>\n",
       "      <td>0.506</td>\n",
       "      <td>0.489</td>\n",
       "      <td>0.532</td>\n",
       "      <td>0.485</td>\n",
       "      <td>0.495</td>\n",
       "      <td>0.491</td>\n",
       "      <td>0.518</td>\n",
       "      <td>0.470</td>\n",
       "      <td>0.482</td>\n",
       "    </tr>\n",
       "    <tr>\n",
       "      <th>ice cube</th>\n",
       "      <td>0.465</td>\n",
       "      <td>0.483</td>\n",
       "      <td>0.476</td>\n",
       "      <td>0.490</td>\n",
       "      <td>0.438</td>\n",
       "      <td>0.448</td>\n",
       "      <td>0.464</td>\n",
       "      <td>0.484</td>\n",
       "      <td>0.455</td>\n",
       "      <td>0.436</td>\n",
       "    </tr>\n",
       "    <tr>\n",
       "      <th>kanye west</th>\n",
       "      <td>0.393</td>\n",
       "      <td>0.404</td>\n",
       "      <td>0.397</td>\n",
       "      <td>0.408</td>\n",
       "      <td>0.356</td>\n",
       "      <td>0.391</td>\n",
       "      <td>0.388</td>\n",
       "      <td>0.410</td>\n",
       "      <td>0.388</td>\n",
       "      <td>0.379</td>\n",
       "    </tr>\n",
       "    <tr>\n",
       "      <th>kendrick lamar</th>\n",
       "      <td>0.458</td>\n",
       "      <td>0.468</td>\n",
       "      <td>0.453</td>\n",
       "      <td>0.473</td>\n",
       "      <td>0.411</td>\n",
       "      <td>0.454</td>\n",
       "      <td>0.447</td>\n",
       "      <td>0.502</td>\n",
       "      <td>0.439</td>\n",
       "      <td>0.431</td>\n",
       "    </tr>\n",
       "    <tr>\n",
       "      <th>kid cudi</th>\n",
       "      <td>0.358</td>\n",
       "      <td>0.366</td>\n",
       "      <td>0.356</td>\n",
       "      <td>0.371</td>\n",
       "      <td>0.320</td>\n",
       "      <td>0.362</td>\n",
       "      <td>0.350</td>\n",
       "      <td>0.373</td>\n",
       "      <td>0.348</td>\n",
       "      <td>0.350</td>\n",
       "    </tr>\n",
       "    <tr>\n",
       "      <th>pusha t</th>\n",
       "      <td>0.482</td>\n",
       "      <td>0.487</td>\n",
       "      <td>0.472</td>\n",
       "      <td>0.499</td>\n",
       "      <td>0.460</td>\n",
       "      <td>0.469</td>\n",
       "      <td>0.473</td>\n",
       "      <td>0.498</td>\n",
       "      <td>0.456</td>\n",
       "      <td>0.459</td>\n",
       "    </tr>\n",
       "    <tr>\n",
       "      <th>tyler the creator</th>\n",
       "      <td>0.412</td>\n",
       "      <td>0.414</td>\n",
       "      <td>0.402</td>\n",
       "      <td>0.427</td>\n",
       "      <td>0.365</td>\n",
       "      <td>0.411</td>\n",
       "      <td>0.388</td>\n",
       "      <td>0.425</td>\n",
       "      <td>0.387</td>\n",
       "      <td>0.380</td>\n",
       "    </tr>\n",
       "  </tbody>\n",
       "</table>\n",
       "</div>"
      ],
      "text/plain": [
       "                   21 savage  6ix9ine  dr dre  earl sweatshirt  ice cube  \\\n",
       "21 savage              0.401    0.398   0.368            0.393     0.309   \n",
       "6ix9ine                0.384    0.392   0.368            0.379     0.308   \n",
       "dr dre                 0.483    0.494   0.484            0.508     0.453   \n",
       "earl sweatshirt        0.506    0.506   0.489            0.532     0.485   \n",
       "ice cube               0.465    0.483   0.476            0.490     0.438   \n",
       "kanye west             0.393    0.404   0.397            0.408     0.356   \n",
       "kendrick lamar         0.458    0.468   0.453            0.473     0.411   \n",
       "kid cudi               0.358    0.366   0.356            0.371     0.320   \n",
       "pusha t                0.482    0.487   0.472            0.499     0.460   \n",
       "tyler the creator      0.412    0.414   0.402            0.427     0.365   \n",
       "\n",
       "                   kanye west  kendrick lamar  kid cudi  pusha t  \\\n",
       "21 savage               0.398           0.349     0.386    0.349   \n",
       "6ix9ine                 0.393           0.346     0.378    0.349   \n",
       "dr dre                  0.468           0.474     0.498    0.465   \n",
       "earl sweatshirt         0.495           0.491     0.518    0.470   \n",
       "ice cube                0.448           0.464     0.484    0.455   \n",
       "kanye west              0.391           0.388     0.410    0.388   \n",
       "kendrick lamar          0.454           0.447     0.502    0.439   \n",
       "kid cudi                0.362           0.350     0.373    0.348   \n",
       "pusha t                 0.469           0.473     0.498    0.456   \n",
       "tyler the creator       0.411           0.388     0.425    0.387   \n",
       "\n",
       "                   tyler the creator  \n",
       "21 savage                      0.371  \n",
       "6ix9ine                        0.378  \n",
       "dr dre                         0.462  \n",
       "earl sweatshirt                0.482  \n",
       "ice cube                       0.436  \n",
       "kanye west                     0.379  \n",
       "kendrick lamar                 0.431  \n",
       "kid cudi                       0.350  \n",
       "pusha t                        0.459  \n",
       "tyler the creator              0.380  "
      ]
     },
     "execution_count": 3,
     "metadata": {},
     "output_type": "execute_result"
    }
   ],
   "source": [
    "row_rename_dict = {artist_indices[i] : artist_names[i] for i in range(len(artist_names))}\n",
    "column_rename_dict2 = {str(artist_indices2[i]) : artist_names[i] for i in range(len(artist_names))}\n",
    "final_selected_matrix = selected_matrix.rename(index=row_rename_dict, columns=column_rename_dict2)\n",
    "final_selected_matrix = final_selected_matrix.applymap(lambda x: round(x, 3))\n",
    "final_selected_matrix"
   ]
  },
  {
   "cell_type": "code",
   "execution_count": 4,
   "metadata": {},
   "outputs": [
    {
     "data": {
      "text/html": [
       "<style  type=\"text/css\" >\n",
       "    #T_4399ebe0_38e5_11eb_a209_8c8590209df4row0_col0 {\n",
       "            background-color:  yellow;\n",
       "            font-weight:  bold;\n",
       "        }    #T_4399ebe0_38e5_11eb_a209_8c8590209df4row1_col1 {\n",
       "            background-color:  yellow;\n",
       "            : ;\n",
       "        }    #T_4399ebe0_38e5_11eb_a209_8c8590209df4row1_col5 {\n",
       "            : ;\n",
       "            font-weight:  bold;\n",
       "        }    #T_4399ebe0_38e5_11eb_a209_8c8590209df4row2_col2 {\n",
       "            background-color:  yellow;\n",
       "            : ;\n",
       "        }    #T_4399ebe0_38e5_11eb_a209_8c8590209df4row2_col3 {\n",
       "            : ;\n",
       "            font-weight:  bold;\n",
       "        }    #T_4399ebe0_38e5_11eb_a209_8c8590209df4row3_col3 {\n",
       "            background-color:  yellow;\n",
       "            font-weight:  bold;\n",
       "        }    #T_4399ebe0_38e5_11eb_a209_8c8590209df4row4_col3 {\n",
       "            : ;\n",
       "            font-weight:  bold;\n",
       "        }    #T_4399ebe0_38e5_11eb_a209_8c8590209df4row4_col4 {\n",
       "            background-color:  yellow;\n",
       "            : ;\n",
       "        }    #T_4399ebe0_38e5_11eb_a209_8c8590209df4row5_col5 {\n",
       "            background-color:  yellow;\n",
       "            : ;\n",
       "        }    #T_4399ebe0_38e5_11eb_a209_8c8590209df4row5_col7 {\n",
       "            : ;\n",
       "            font-weight:  bold;\n",
       "        }    #T_4399ebe0_38e5_11eb_a209_8c8590209df4row6_col6 {\n",
       "            background-color:  yellow;\n",
       "            : ;\n",
       "        }    #T_4399ebe0_38e5_11eb_a209_8c8590209df4row6_col7 {\n",
       "            : ;\n",
       "            font-weight:  bold;\n",
       "        }    #T_4399ebe0_38e5_11eb_a209_8c8590209df4row7_col7 {\n",
       "            background-color:  yellow;\n",
       "            font-weight:  bold;\n",
       "        }    #T_4399ebe0_38e5_11eb_a209_8c8590209df4row8_col3 {\n",
       "            : ;\n",
       "            font-weight:  bold;\n",
       "        }    #T_4399ebe0_38e5_11eb_a209_8c8590209df4row8_col8 {\n",
       "            background-color:  yellow;\n",
       "            : ;\n",
       "        }    #T_4399ebe0_38e5_11eb_a209_8c8590209df4row9_col3 {\n",
       "            : ;\n",
       "            font-weight:  bold;\n",
       "        }    #T_4399ebe0_38e5_11eb_a209_8c8590209df4row9_col9 {\n",
       "            background-color:  yellow;\n",
       "            : ;\n",
       "        }</style><table id=\"T_4399ebe0_38e5_11eb_a209_8c8590209df4\" ><thead>    <tr>        <th class=\"blank level0\" ></th>        <th class=\"col_heading level0 col0\" >21 savage</th>        <th class=\"col_heading level0 col1\" >6ix9ine</th>        <th class=\"col_heading level0 col2\" >dr dre</th>        <th class=\"col_heading level0 col3\" >earl sweatshirt</th>        <th class=\"col_heading level0 col4\" >ice cube</th>        <th class=\"col_heading level0 col5\" >kanye west</th>        <th class=\"col_heading level0 col6\" >kendrick lamar</th>        <th class=\"col_heading level0 col7\" >kid cudi</th>        <th class=\"col_heading level0 col8\" >pusha t</th>        <th class=\"col_heading level0 col9\" >tyler the creator</th>    </tr></thead><tbody>\n",
       "                <tr>\n",
       "                        <th id=\"T_4399ebe0_38e5_11eb_a209_8c8590209df4level0_row0\" class=\"row_heading level0 row0\" >21 savage</th>\n",
       "                        <td id=\"T_4399ebe0_38e5_11eb_a209_8c8590209df4row0_col0\" class=\"data row0 col0\" >0.401</td>\n",
       "                        <td id=\"T_4399ebe0_38e5_11eb_a209_8c8590209df4row0_col1\" class=\"data row0 col1\" >0.398</td>\n",
       "                        <td id=\"T_4399ebe0_38e5_11eb_a209_8c8590209df4row0_col2\" class=\"data row0 col2\" >0.368</td>\n",
       "                        <td id=\"T_4399ebe0_38e5_11eb_a209_8c8590209df4row0_col3\" class=\"data row0 col3\" >0.393</td>\n",
       "                        <td id=\"T_4399ebe0_38e5_11eb_a209_8c8590209df4row0_col4\" class=\"data row0 col4\" >0.309</td>\n",
       "                        <td id=\"T_4399ebe0_38e5_11eb_a209_8c8590209df4row0_col5\" class=\"data row0 col5\" >0.398</td>\n",
       "                        <td id=\"T_4399ebe0_38e5_11eb_a209_8c8590209df4row0_col6\" class=\"data row0 col6\" >0.349</td>\n",
       "                        <td id=\"T_4399ebe0_38e5_11eb_a209_8c8590209df4row0_col7\" class=\"data row0 col7\" >0.386</td>\n",
       "                        <td id=\"T_4399ebe0_38e5_11eb_a209_8c8590209df4row0_col8\" class=\"data row0 col8\" >0.349</td>\n",
       "                        <td id=\"T_4399ebe0_38e5_11eb_a209_8c8590209df4row0_col9\" class=\"data row0 col9\" >0.371</td>\n",
       "            </tr>\n",
       "            <tr>\n",
       "                        <th id=\"T_4399ebe0_38e5_11eb_a209_8c8590209df4level0_row1\" class=\"row_heading level0 row1\" >6ix9ine</th>\n",
       "                        <td id=\"T_4399ebe0_38e5_11eb_a209_8c8590209df4row1_col0\" class=\"data row1 col0\" >0.384</td>\n",
       "                        <td id=\"T_4399ebe0_38e5_11eb_a209_8c8590209df4row1_col1\" class=\"data row1 col1\" >0.392</td>\n",
       "                        <td id=\"T_4399ebe0_38e5_11eb_a209_8c8590209df4row1_col2\" class=\"data row1 col2\" >0.368</td>\n",
       "                        <td id=\"T_4399ebe0_38e5_11eb_a209_8c8590209df4row1_col3\" class=\"data row1 col3\" >0.379</td>\n",
       "                        <td id=\"T_4399ebe0_38e5_11eb_a209_8c8590209df4row1_col4\" class=\"data row1 col4\" >0.308</td>\n",
       "                        <td id=\"T_4399ebe0_38e5_11eb_a209_8c8590209df4row1_col5\" class=\"data row1 col5\" >0.393</td>\n",
       "                        <td id=\"T_4399ebe0_38e5_11eb_a209_8c8590209df4row1_col6\" class=\"data row1 col6\" >0.346</td>\n",
       "                        <td id=\"T_4399ebe0_38e5_11eb_a209_8c8590209df4row1_col7\" class=\"data row1 col7\" >0.378</td>\n",
       "                        <td id=\"T_4399ebe0_38e5_11eb_a209_8c8590209df4row1_col8\" class=\"data row1 col8\" >0.349</td>\n",
       "                        <td id=\"T_4399ebe0_38e5_11eb_a209_8c8590209df4row1_col9\" class=\"data row1 col9\" >0.378</td>\n",
       "            </tr>\n",
       "            <tr>\n",
       "                        <th id=\"T_4399ebe0_38e5_11eb_a209_8c8590209df4level0_row2\" class=\"row_heading level0 row2\" >dr dre</th>\n",
       "                        <td id=\"T_4399ebe0_38e5_11eb_a209_8c8590209df4row2_col0\" class=\"data row2 col0\" >0.483</td>\n",
       "                        <td id=\"T_4399ebe0_38e5_11eb_a209_8c8590209df4row2_col1\" class=\"data row2 col1\" >0.494</td>\n",
       "                        <td id=\"T_4399ebe0_38e5_11eb_a209_8c8590209df4row2_col2\" class=\"data row2 col2\" >0.484</td>\n",
       "                        <td id=\"T_4399ebe0_38e5_11eb_a209_8c8590209df4row2_col3\" class=\"data row2 col3\" >0.508</td>\n",
       "                        <td id=\"T_4399ebe0_38e5_11eb_a209_8c8590209df4row2_col4\" class=\"data row2 col4\" >0.453</td>\n",
       "                        <td id=\"T_4399ebe0_38e5_11eb_a209_8c8590209df4row2_col5\" class=\"data row2 col5\" >0.468</td>\n",
       "                        <td id=\"T_4399ebe0_38e5_11eb_a209_8c8590209df4row2_col6\" class=\"data row2 col6\" >0.474</td>\n",
       "                        <td id=\"T_4399ebe0_38e5_11eb_a209_8c8590209df4row2_col7\" class=\"data row2 col7\" >0.498</td>\n",
       "                        <td id=\"T_4399ebe0_38e5_11eb_a209_8c8590209df4row2_col8\" class=\"data row2 col8\" >0.465</td>\n",
       "                        <td id=\"T_4399ebe0_38e5_11eb_a209_8c8590209df4row2_col9\" class=\"data row2 col9\" >0.462</td>\n",
       "            </tr>\n",
       "            <tr>\n",
       "                        <th id=\"T_4399ebe0_38e5_11eb_a209_8c8590209df4level0_row3\" class=\"row_heading level0 row3\" >earl sweatshirt</th>\n",
       "                        <td id=\"T_4399ebe0_38e5_11eb_a209_8c8590209df4row3_col0\" class=\"data row3 col0\" >0.506</td>\n",
       "                        <td id=\"T_4399ebe0_38e5_11eb_a209_8c8590209df4row3_col1\" class=\"data row3 col1\" >0.506</td>\n",
       "                        <td id=\"T_4399ebe0_38e5_11eb_a209_8c8590209df4row3_col2\" class=\"data row3 col2\" >0.489</td>\n",
       "                        <td id=\"T_4399ebe0_38e5_11eb_a209_8c8590209df4row3_col3\" class=\"data row3 col3\" >0.532</td>\n",
       "                        <td id=\"T_4399ebe0_38e5_11eb_a209_8c8590209df4row3_col4\" class=\"data row3 col4\" >0.485</td>\n",
       "                        <td id=\"T_4399ebe0_38e5_11eb_a209_8c8590209df4row3_col5\" class=\"data row3 col5\" >0.495</td>\n",
       "                        <td id=\"T_4399ebe0_38e5_11eb_a209_8c8590209df4row3_col6\" class=\"data row3 col6\" >0.491</td>\n",
       "                        <td id=\"T_4399ebe0_38e5_11eb_a209_8c8590209df4row3_col7\" class=\"data row3 col7\" >0.518</td>\n",
       "                        <td id=\"T_4399ebe0_38e5_11eb_a209_8c8590209df4row3_col8\" class=\"data row3 col8\" >0.470</td>\n",
       "                        <td id=\"T_4399ebe0_38e5_11eb_a209_8c8590209df4row3_col9\" class=\"data row3 col9\" >0.482</td>\n",
       "            </tr>\n",
       "            <tr>\n",
       "                        <th id=\"T_4399ebe0_38e5_11eb_a209_8c8590209df4level0_row4\" class=\"row_heading level0 row4\" >ice cube</th>\n",
       "                        <td id=\"T_4399ebe0_38e5_11eb_a209_8c8590209df4row4_col0\" class=\"data row4 col0\" >0.465</td>\n",
       "                        <td id=\"T_4399ebe0_38e5_11eb_a209_8c8590209df4row4_col1\" class=\"data row4 col1\" >0.483</td>\n",
       "                        <td id=\"T_4399ebe0_38e5_11eb_a209_8c8590209df4row4_col2\" class=\"data row4 col2\" >0.476</td>\n",
       "                        <td id=\"T_4399ebe0_38e5_11eb_a209_8c8590209df4row4_col3\" class=\"data row4 col3\" >0.490</td>\n",
       "                        <td id=\"T_4399ebe0_38e5_11eb_a209_8c8590209df4row4_col4\" class=\"data row4 col4\" >0.438</td>\n",
       "                        <td id=\"T_4399ebe0_38e5_11eb_a209_8c8590209df4row4_col5\" class=\"data row4 col5\" >0.448</td>\n",
       "                        <td id=\"T_4399ebe0_38e5_11eb_a209_8c8590209df4row4_col6\" class=\"data row4 col6\" >0.464</td>\n",
       "                        <td id=\"T_4399ebe0_38e5_11eb_a209_8c8590209df4row4_col7\" class=\"data row4 col7\" >0.484</td>\n",
       "                        <td id=\"T_4399ebe0_38e5_11eb_a209_8c8590209df4row4_col8\" class=\"data row4 col8\" >0.455</td>\n",
       "                        <td id=\"T_4399ebe0_38e5_11eb_a209_8c8590209df4row4_col9\" class=\"data row4 col9\" >0.436</td>\n",
       "            </tr>\n",
       "            <tr>\n",
       "                        <th id=\"T_4399ebe0_38e5_11eb_a209_8c8590209df4level0_row5\" class=\"row_heading level0 row5\" >kanye west</th>\n",
       "                        <td id=\"T_4399ebe0_38e5_11eb_a209_8c8590209df4row5_col0\" class=\"data row5 col0\" >0.393</td>\n",
       "                        <td id=\"T_4399ebe0_38e5_11eb_a209_8c8590209df4row5_col1\" class=\"data row5 col1\" >0.404</td>\n",
       "                        <td id=\"T_4399ebe0_38e5_11eb_a209_8c8590209df4row5_col2\" class=\"data row5 col2\" >0.397</td>\n",
       "                        <td id=\"T_4399ebe0_38e5_11eb_a209_8c8590209df4row5_col3\" class=\"data row5 col3\" >0.408</td>\n",
       "                        <td id=\"T_4399ebe0_38e5_11eb_a209_8c8590209df4row5_col4\" class=\"data row5 col4\" >0.356</td>\n",
       "                        <td id=\"T_4399ebe0_38e5_11eb_a209_8c8590209df4row5_col5\" class=\"data row5 col5\" >0.391</td>\n",
       "                        <td id=\"T_4399ebe0_38e5_11eb_a209_8c8590209df4row5_col6\" class=\"data row5 col6\" >0.388</td>\n",
       "                        <td id=\"T_4399ebe0_38e5_11eb_a209_8c8590209df4row5_col7\" class=\"data row5 col7\" >0.410</td>\n",
       "                        <td id=\"T_4399ebe0_38e5_11eb_a209_8c8590209df4row5_col8\" class=\"data row5 col8\" >0.388</td>\n",
       "                        <td id=\"T_4399ebe0_38e5_11eb_a209_8c8590209df4row5_col9\" class=\"data row5 col9\" >0.379</td>\n",
       "            </tr>\n",
       "            <tr>\n",
       "                        <th id=\"T_4399ebe0_38e5_11eb_a209_8c8590209df4level0_row6\" class=\"row_heading level0 row6\" >kendrick lamar</th>\n",
       "                        <td id=\"T_4399ebe0_38e5_11eb_a209_8c8590209df4row6_col0\" class=\"data row6 col0\" >0.458</td>\n",
       "                        <td id=\"T_4399ebe0_38e5_11eb_a209_8c8590209df4row6_col1\" class=\"data row6 col1\" >0.468</td>\n",
       "                        <td id=\"T_4399ebe0_38e5_11eb_a209_8c8590209df4row6_col2\" class=\"data row6 col2\" >0.453</td>\n",
       "                        <td id=\"T_4399ebe0_38e5_11eb_a209_8c8590209df4row6_col3\" class=\"data row6 col3\" >0.473</td>\n",
       "                        <td id=\"T_4399ebe0_38e5_11eb_a209_8c8590209df4row6_col4\" class=\"data row6 col4\" >0.411</td>\n",
       "                        <td id=\"T_4399ebe0_38e5_11eb_a209_8c8590209df4row6_col5\" class=\"data row6 col5\" >0.454</td>\n",
       "                        <td id=\"T_4399ebe0_38e5_11eb_a209_8c8590209df4row6_col6\" class=\"data row6 col6\" >0.447</td>\n",
       "                        <td id=\"T_4399ebe0_38e5_11eb_a209_8c8590209df4row6_col7\" class=\"data row6 col7\" >0.502</td>\n",
       "                        <td id=\"T_4399ebe0_38e5_11eb_a209_8c8590209df4row6_col8\" class=\"data row6 col8\" >0.439</td>\n",
       "                        <td id=\"T_4399ebe0_38e5_11eb_a209_8c8590209df4row6_col9\" class=\"data row6 col9\" >0.431</td>\n",
       "            </tr>\n",
       "            <tr>\n",
       "                        <th id=\"T_4399ebe0_38e5_11eb_a209_8c8590209df4level0_row7\" class=\"row_heading level0 row7\" >kid cudi</th>\n",
       "                        <td id=\"T_4399ebe0_38e5_11eb_a209_8c8590209df4row7_col0\" class=\"data row7 col0\" >0.358</td>\n",
       "                        <td id=\"T_4399ebe0_38e5_11eb_a209_8c8590209df4row7_col1\" class=\"data row7 col1\" >0.366</td>\n",
       "                        <td id=\"T_4399ebe0_38e5_11eb_a209_8c8590209df4row7_col2\" class=\"data row7 col2\" >0.356</td>\n",
       "                        <td id=\"T_4399ebe0_38e5_11eb_a209_8c8590209df4row7_col3\" class=\"data row7 col3\" >0.371</td>\n",
       "                        <td id=\"T_4399ebe0_38e5_11eb_a209_8c8590209df4row7_col4\" class=\"data row7 col4\" >0.320</td>\n",
       "                        <td id=\"T_4399ebe0_38e5_11eb_a209_8c8590209df4row7_col5\" class=\"data row7 col5\" >0.362</td>\n",
       "                        <td id=\"T_4399ebe0_38e5_11eb_a209_8c8590209df4row7_col6\" class=\"data row7 col6\" >0.350</td>\n",
       "                        <td id=\"T_4399ebe0_38e5_11eb_a209_8c8590209df4row7_col7\" class=\"data row7 col7\" >0.373</td>\n",
       "                        <td id=\"T_4399ebe0_38e5_11eb_a209_8c8590209df4row7_col8\" class=\"data row7 col8\" >0.348</td>\n",
       "                        <td id=\"T_4399ebe0_38e5_11eb_a209_8c8590209df4row7_col9\" class=\"data row7 col9\" >0.350</td>\n",
       "            </tr>\n",
       "            <tr>\n",
       "                        <th id=\"T_4399ebe0_38e5_11eb_a209_8c8590209df4level0_row8\" class=\"row_heading level0 row8\" >pusha t</th>\n",
       "                        <td id=\"T_4399ebe0_38e5_11eb_a209_8c8590209df4row8_col0\" class=\"data row8 col0\" >0.482</td>\n",
       "                        <td id=\"T_4399ebe0_38e5_11eb_a209_8c8590209df4row8_col1\" class=\"data row8 col1\" >0.487</td>\n",
       "                        <td id=\"T_4399ebe0_38e5_11eb_a209_8c8590209df4row8_col2\" class=\"data row8 col2\" >0.472</td>\n",
       "                        <td id=\"T_4399ebe0_38e5_11eb_a209_8c8590209df4row8_col3\" class=\"data row8 col3\" >0.499</td>\n",
       "                        <td id=\"T_4399ebe0_38e5_11eb_a209_8c8590209df4row8_col4\" class=\"data row8 col4\" >0.460</td>\n",
       "                        <td id=\"T_4399ebe0_38e5_11eb_a209_8c8590209df4row8_col5\" class=\"data row8 col5\" >0.469</td>\n",
       "                        <td id=\"T_4399ebe0_38e5_11eb_a209_8c8590209df4row8_col6\" class=\"data row8 col6\" >0.473</td>\n",
       "                        <td id=\"T_4399ebe0_38e5_11eb_a209_8c8590209df4row8_col7\" class=\"data row8 col7\" >0.498</td>\n",
       "                        <td id=\"T_4399ebe0_38e5_11eb_a209_8c8590209df4row8_col8\" class=\"data row8 col8\" >0.456</td>\n",
       "                        <td id=\"T_4399ebe0_38e5_11eb_a209_8c8590209df4row8_col9\" class=\"data row8 col9\" >0.459</td>\n",
       "            </tr>\n",
       "            <tr>\n",
       "                        <th id=\"T_4399ebe0_38e5_11eb_a209_8c8590209df4level0_row9\" class=\"row_heading level0 row9\" >tyler the creator</th>\n",
       "                        <td id=\"T_4399ebe0_38e5_11eb_a209_8c8590209df4row9_col0\" class=\"data row9 col0\" >0.412</td>\n",
       "                        <td id=\"T_4399ebe0_38e5_11eb_a209_8c8590209df4row9_col1\" class=\"data row9 col1\" >0.414</td>\n",
       "                        <td id=\"T_4399ebe0_38e5_11eb_a209_8c8590209df4row9_col2\" class=\"data row9 col2\" >0.402</td>\n",
       "                        <td id=\"T_4399ebe0_38e5_11eb_a209_8c8590209df4row9_col3\" class=\"data row9 col3\" >0.427</td>\n",
       "                        <td id=\"T_4399ebe0_38e5_11eb_a209_8c8590209df4row9_col4\" class=\"data row9 col4\" >0.365</td>\n",
       "                        <td id=\"T_4399ebe0_38e5_11eb_a209_8c8590209df4row9_col5\" class=\"data row9 col5\" >0.411</td>\n",
       "                        <td id=\"T_4399ebe0_38e5_11eb_a209_8c8590209df4row9_col6\" class=\"data row9 col6\" >0.388</td>\n",
       "                        <td id=\"T_4399ebe0_38e5_11eb_a209_8c8590209df4row9_col7\" class=\"data row9 col7\" >0.425</td>\n",
       "                        <td id=\"T_4399ebe0_38e5_11eb_a209_8c8590209df4row9_col8\" class=\"data row9 col8\" >0.387</td>\n",
       "                        <td id=\"T_4399ebe0_38e5_11eb_a209_8c8590209df4row9_col9\" class=\"data row9 col9\" >0.380</td>\n",
       "            </tr>\n",
       "    </tbody></table>"
      ],
      "text/plain": [
       "<pandas.io.formats.style.Styler at 0x7ff225481880>"
      ]
     },
     "execution_count": 4,
     "metadata": {},
     "output_type": "execute_result"
    }
   ],
   "source": [
    "def highlight_diag(data, color='yellow'):\n",
    "    '''\n",
    "    highlight the diag values in a DataFrame\n",
    "    '''\n",
    "    attr = 'background-color: {}'.format(color)\n",
    "    # create a new dataframe of the same structure with default style value\n",
    "    df_style = data.replace(data, '')\n",
    "    # fill diagonal with highlight color\n",
    "    np.fill_diagonal(df_style.values, attr)\n",
    "    return df_style\n",
    "\n",
    "def max_bold(row):\n",
    "    max_val = max(row)\n",
    "    return ['font-weight: bold' if v == max_val else '' for v in row]\n",
    "\n",
    "colored_matrix = final_selected_matrix.style.apply(highlight_diag, axis=None)\n",
    "colored_matrix = colored_matrix.apply(max_bold, axis=1)\n",
    "colored_matrix.precision = 3\n",
    "colored_matrix"
   ]
  },
  {
   "cell_type": "code",
   "execution_count": null,
   "metadata": {
    "collapsed": true
   },
   "outputs": [],
   "source": []
  }
 ],
 "metadata": {
  "kernelspec": {
   "display_name": "artist-gen",
   "language": "python",
   "name": "artist-gen"
  },
  "language_info": {
   "codemirror_mode": {
    "name": "ipython",
    "version": 3
   },
   "file_extension": ".py",
   "mimetype": "text/x-python",
   "name": "python",
   "nbconvert_exporter": "python",
   "pygments_lexer": "ipython3",
   "version": "3.8.5"
  }
 },
 "nbformat": 4,
 "nbformat_minor": 2
}
